{
 "cells": [
  {
   "cell_type": "code",
   "execution_count": null,
   "id": "fbfb4592",
   "metadata": {
    "ExecuteTime": {
     "end_time": "2022-10-19T10:33:43.580070Z",
     "start_time": "2022-10-19T10:33:40.111849Z"
    }
   },
   "outputs": [],
   "source": [
    "import logging\n",
    "import os\n",
    "\n",
    "import wiki as w # changed wiki to include '[]'\n",
    "import traceback\n",
    "from tqdm import tqdm\n",
    "print(w.__file__)"
   ]
  },
  {
   "cell_type": "code",
   "execution_count": null,
   "id": "67097dc3",
   "metadata": {
    "ExecuteTime": {
     "end_time": "2022-10-19T10:33:58.494393Z",
     "start_time": "2022-10-19T10:33:58.473353Z"
    }
   },
   "outputs": [],
   "source": [
    "import sys\n",
    "sys.path.append(\"../../imports/\")\n",
    "import saver as sv"
   ]
  },
  {
   "cell_type": "code",
   "execution_count": null,
   "id": "2b4653c1",
   "metadata": {
    "ExecuteTime": {
     "end_time": "2022-10-19T10:34:07.134298Z",
     "start_time": "2022-10-19T10:34:07.131320Z"
    }
   },
   "outputs": [],
   "source": [
    "logging.basicConfig(format='[%(asctime)s] %(message)s', level=logging.INFO)\n",
    "os.makedirs('data/', exist_ok=True)"
   ]
  },
  {
   "cell_type": "code",
   "execution_count": null,
   "id": "d63b45cf",
   "metadata": {
    "ExecuteTime": {
     "end_time": "2022-10-19T10:42:34.824005Z",
     "start_time": "2022-10-19T10:42:32.671995Z"
    }
   },
   "outputs": [],
   "source": [
    "sentences = sv.load('sentences')"
   ]
  },
  {
   "cell_type": "code",
   "execution_count": null,
   "id": "040c48c3",
   "metadata": {},
   "outputs": [],
   "source": []
  }
 ],
 "metadata": {
  "kernelspec": {
   "display_name": "Python 3 (ipykernel)",
   "language": "python",
   "name": "python3"
  },
  "language_info": {
   "codemirror_mode": {
    "name": "ipython",
    "version": 3
   },
   "file_extension": ".py",
   "mimetype": "text/x-python",
   "name": "python",
   "nbconvert_exporter": "python",
   "pygments_lexer": "ipython3",
   "version": "3.8.0"
  }
 },
 "nbformat": 4,
 "nbformat_minor": 5
}
