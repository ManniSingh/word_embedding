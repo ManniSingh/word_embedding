{
 "cells": [
  {
   "cell_type": "code",
   "execution_count": 1,
   "id": "113eb4de",
   "metadata": {
    "ExecuteTime": {
     "end_time": "2022-12-21T10:54:12.622153Z",
     "start_time": "2022-12-21T10:54:11.404884Z"
    }
   },
   "outputs": [],
   "source": [
    "from nltk.corpus import wordnet as wn\n",
    "import nltk\n",
    "from nltk.corpus import stopwords\n",
    "from nltk.stem import WordNetLemmatizer\n",
    "#from nltk.stem import PorterStemmer\n",
    "import re\n",
    "from collections import Counter\n",
    "from tqdm import tqdm\n",
    "import sys\n",
    "sys.path.append(\"../../imports/\")\n",
    "import saver as sv"
   ]
  },
  {
   "cell_type": "code",
   "execution_count": null,
   "id": "8c7737e7",
   "metadata": {
    "ExecuteTime": {
     "end_time": "2022-12-17T05:15:21.568316Z",
     "start_time": "2022-12-17T05:15:19.236325Z"
    }
   },
   "outputs": [],
   "source": [
    "wn.synsets('dog')"
   ]
  },
  {
   "cell_type": "code",
   "execution_count": null,
   "id": "70947c2e",
   "metadata": {
    "ExecuteTime": {
     "end_time": "2022-12-17T05:15:21.578830Z",
     "start_time": "2022-12-17T05:15:21.570812Z"
    }
   },
   "outputs": [],
   "source": [
    "wn.synsets('dog')[0].hyponyms()"
   ]
  },
  {
   "cell_type": "code",
   "execution_count": null,
   "id": "5125b3d3",
   "metadata": {
    "ExecuteTime": {
     "end_time": "2022-12-17T05:15:32.403114Z",
     "start_time": "2022-12-17T05:15:21.580563Z"
    }
   },
   "outputs": [],
   "source": [
    "vocab = list(wn.all_synsets())\n",
    "len(vocab)"
   ]
  },
  {
   "cell_type": "code",
   "execution_count": null,
   "id": "dc95ab3e",
   "metadata": {
    "ExecuteTime": {
     "end_time": "2022-12-17T05:18:43.378250Z",
     "start_time": "2022-12-17T05:18:43.157939Z"
    }
   },
   "outputs": [],
   "source": [
    "vocab_ = set()\n",
    "for ss in vocab:\n",
    "    word = ss.name().split('.')[0]\n",
    "    if '_' in word:\n",
    "        continue\n",
    "    vocab_.add(word)\n",
    "len(vocab_)"
   ]
  },
  {
   "cell_type": "code",
   "execution_count": null,
   "id": "208fd6d3",
   "metadata": {
    "ExecuteTime": {
     "end_time": "2022-11-06T10:07:17.144106Z",
     "start_time": "2022-11-06T10:07:17.140219Z"
    }
   },
   "outputs": [],
   "source": [
    "def get_uniques(input_list):\n",
    "    uniques = set()\n",
    "    for k,v in Counter(input_list).items():\n",
    "        if v>1:\n",
    "            continue\n",
    "        uniques.add(k)\n",
    "    return uniques"
   ]
  },
  {
   "cell_type": "code",
   "execution_count": null,
   "id": "eb242e59",
   "metadata": {
    "ExecuteTime": {
     "end_time": "2022-11-06T10:16:40.413649Z",
     "start_time": "2022-11-06T10:16:29.030275Z"
    }
   },
   "outputs": [],
   "source": [
    "lemmatizer = WordNetLemmatizer()\n",
    "stops = set(stopwords.words('english'))\n",
    "word_desc = dict()\n",
    "for _word in tqdm(vocab_,position=0):\n",
    "    word = lemmatizer.lemmatize(_word)\n",
    "    synsets = wn.synsets(word)\n",
    "    for synset in synsets:\n",
    "        txt = synset.definition().lower()\n",
    "        txt = re.sub(r'\\W+', ' ', txt)\n",
    "        words = [w for w in txt.split()]\n",
    "        hypo = synset.hyponyms()\n",
    "        hypo_words = [ss.name().split('.')[0] for ss in hypo]\n",
    "        hyper = synset.hypernyms()\n",
    "        hyper_words = [ss.name().split('.')[0] for ss in hyper]\n",
    "        onto = hypo_words+hyper_words\n",
    "        words = set([lemmatizer.lemmatize(w) for w in words if w not in stops])\n",
    "        onto = set([lemmatizer.lemmatize(w) for w in onto if w not in stops])\n",
    "        words = set(words)\n",
    "        #add to dict\n",
    "        if word in word_desc:\n",
    "            word_desc[word].append((words,onto))\n",
    "        else:\n",
    "            word_desc[word]=[(words,onto)]"
   ]
  },
  {
   "cell_type": "code",
   "execution_count": null,
   "id": "95f0008c",
   "metadata": {
    "ExecuteTime": {
     "end_time": "2022-11-06T10:18:38.550418Z",
     "start_time": "2022-11-06T10:18:37.972219Z"
    }
   },
   "outputs": [],
   "source": [
    "sv.save(word_desc,\"word_desc\")"
   ]
  },
  {
   "cell_type": "code",
   "execution_count": null,
   "id": "5439b373",
   "metadata": {},
   "outputs": [],
   "source": [
    "word2desc = dict()\n",
    "for k,v in word_desc.items():\n",
    "    word2desc[k] = list()\n",
    "    all_words = [item for sublist in v for item in sublist]\n",
    "    #uniques = get_uniques(all_words)\n",
    "    for words in v:\n",
    "        words = set(words)\n",
    "        #word2desc[k].append(words&uniques)\n",
    "        word2desc[k].append(words)"
   ]
  },
  {
   "cell_type": "code",
   "execution_count": null,
   "id": "4600a52f",
   "metadata": {},
   "outputs": [],
   "source": []
  }
 ],
 "metadata": {
  "kernelspec": {
   "display_name": "Python 3 (ipykernel)",
   "language": "python",
   "name": "python3"
  },
  "language_info": {
   "codemirror_mode": {
    "name": "ipython",
    "version": 3
   },
   "file_extension": ".py",
   "mimetype": "text/x-python",
   "name": "python",
   "nbconvert_exporter": "python",
   "pygments_lexer": "ipython3",
   "version": "3.8.0"
  }
 },
 "nbformat": 4,
 "nbformat_minor": 5
}
