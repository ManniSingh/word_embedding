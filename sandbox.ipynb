{
 "cells": [
  {
   "cell_type": "code",
   "execution_count": 9,
   "id": "c8125612",
   "metadata": {
    "ExecuteTime": {
     "end_time": "2022-10-20T06:36:38.277754Z",
     "start_time": "2022-10-20T06:36:36.961566Z"
    }
   },
   "outputs": [],
   "source": [
    "from gensim.models import KeyedVectors\n",
    "import sys\n",
    "sys.path.append(\"../../imports/\")\n",
    "import saver as sv\n",
    "import numpy as np\n",
    "\n",
    "word2desc = sv.load(\"word2desc\")"
   ]
  },
  {
   "cell_type": "code",
   "execution_count": 4,
   "id": "9c0a417e",
   "metadata": {
    "ExecuteTime": {
     "end_time": "2022-10-20T06:03:38.927497Z",
     "start_time": "2022-10-20T06:01:43.251399Z"
    }
   },
   "outputs": [],
   "source": [
    "w2v = '/home/manni/embs/word2vec-google-news-300.gz'\n",
    "model = KeyedVectors.load_word2vec_format(w2v, binary=True)"
   ]
  },
  {
   "cell_type": "code",
   "execution_count": 5,
   "id": "779fbbf0",
   "metadata": {
    "ExecuteTime": {
     "end_time": "2022-10-20T06:03:38.933866Z",
     "start_time": "2022-10-20T06:03:38.929102Z"
    }
   },
   "outputs": [],
   "source": [
    "def sense_vec(word,model):\n",
    "    '''\n",
    "    Computes average vector from sense description. \n",
    "    Parameters\n",
    "    ----------\n",
    "    word : str\n",
    "        Unicode or utf-8 encoded string.\n",
    "    model : KeyedVectors\n",
    "        gensim KeyedVectors object\n",
    "    Returns\n",
    "    -------\n",
    "    list\n",
    "        List of [Vector,Vector,....].\n",
    "    '''\n",
    "    dim = model.vector_size\n",
    "    v = list()\n",
    "    if word not in word2desc:\n",
    "        return [np.zeros(dim)]\n",
    "    for words in word2desc[word]:\n",
    "        if not words:\n",
    "            continue\n",
    "        _v = list()\n",
    "        for _word in words:\n",
    "            if _word in model.vocab:\n",
    "                _v.append(model.get_vector(_word))\n",
    "        if not _v:\n",
    "            continue\n",
    "        if not _v:\n",
    "            _v = [np.zeros(dim)]\n",
    "        _v = np.sum(_v,axis=0)\n",
    "        v.append(_v)\n",
    "    return v\n"
   ]
  },
  {
   "cell_type": "code",
   "execution_count": 6,
   "id": "96880e7b",
   "metadata": {
    "ExecuteTime": {
     "end_time": "2022-10-20T06:03:38.954950Z",
     "start_time": "2022-10-20T06:03:38.935494Z"
    }
   },
   "outputs": [],
   "source": [
    "def tokenize(tokens,WINDOW,model):\n",
    "    to_replace = dict()\n",
    "    for i,token in enumerate(tokens):\n",
    "        if token in word2desc:\n",
    "            left = tokens[i-WINDOW:i]\n",
    "            right = tokens[i+1:i+WINDOW+1]\n",
    "            context = set(left+right)\n",
    "            svecs = sense_vec(token,model)\n",
    "            maxi = 0\n",
    "            tag = -1 #index in wordsense\n",
    "            for si,v in enumerate(svecs):\n",
    "                for con in context:\n",
    "                    if con == token:\n",
    "                        continue\n",
    "                    _svecs = sense_vec(con,model)\n",
    "                    for sj,_v in enumerate(_svecs):\n",
    "                        if np.sum(_v)==0:\n",
    "                            continue\n",
    "                        sim = model.cosine_similarities(v, [_v])[0]\n",
    "                        if sim>maxi:\n",
    "                            maxi = sim\n",
    "                            tag = si\n",
    "            if tag>=0:\n",
    "                to_replace[i]=token+'#'+str(tag)"
   ]
  },
  {
   "cell_type": "code",
   "execution_count": 7,
   "id": "29072f69",
   "metadata": {
    "ExecuteTime": {
     "end_time": "2022-10-20T06:35:58.893398Z",
     "start_time": "2022-10-20T06:35:58.882849Z"
    }
   },
   "outputs": [],
   "source": [
    "tokens = 'part river where current very fast'\n",
    "tokens = tokens.split()"
   ]
  },
  {
   "cell_type": "code",
   "execution_count": 10,
   "id": "85e76e26",
   "metadata": {
    "ExecuteTime": {
     "end_time": "2022-10-20T06:36:48.756220Z",
     "start_time": "2022-10-20T06:36:42.127466Z"
    }
   },
   "outputs": [
    {
     "name": "stdout",
     "output_type": "stream",
     "text": [
      "81.5 ms ± 974 µs per loop (mean ± std. dev. of 7 runs, 10 loops each)\n"
     ]
    }
   ],
   "source": [
    "%timeit tokenize(tokens,3,model)"
   ]
  },
  {
   "cell_type": "code",
   "execution_count": null,
   "id": "84c289a8",
   "metadata": {},
   "outputs": [],
   "source": []
  }
 ],
 "metadata": {
  "kernelspec": {
   "display_name": "Python 3 (ipykernel)",
   "language": "python",
   "name": "python3"
  },
  "language_info": {
   "codemirror_mode": {
    "name": "ipython",
    "version": 3
   },
   "file_extension": ".py",
   "mimetype": "text/x-python",
   "name": "python",
   "nbconvert_exporter": "python",
   "pygments_lexer": "ipython3",
   "version": "3.8.0"
  }
 },
 "nbformat": 4,
 "nbformat_minor": 5
}
