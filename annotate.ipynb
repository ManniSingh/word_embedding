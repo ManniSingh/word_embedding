{
 "cells": [
  {
   "cell_type": "code",
   "execution_count": null,
   "id": "738ea5d0",
   "metadata": {},
   "outputs": [],
   "source": [
    "WIKIXML = '/mnt/nfs/resdata0/manni/wiki/enwiki-20180920-pages-articles-multistream.xml.bz2'"
   ]
  },
  {
   "cell_type": "code",
   "execution_count": null,
   "id": "6f6e525b",
   "metadata": {},
   "outputs": [],
   "source": [
    "WIKIXML = '/mnt/nfs/resdata0/manni/wiki/enwiki-20200601-pages-articles-multistream1.xml-p1p30303.bz2'"
   ]
  },
  {
   "cell_type": "code",
   "execution_count": null,
   "id": "c9188985",
   "metadata": {},
   "outputs": [],
   "source": [
    "wiki_sentences = w.WikiSentences(WIKIXML, 'en',tokenizer_func='DEP',lower=True,pos=False,loc=False)"
   ]
  },
  {
   "cell_type": "code",
   "execution_count": 1,
   "id": "ceb86fdc",
   "metadata": {},
   "outputs": [
    {
     "name": "stdout",
     "output_type": "stream",
     "text": [
      "Importing word2vec_inner...\n",
      "CYTHON IMPORTED SUCCESSFULLY!! (Normal)\n",
      "cbound : False\n",
      "tbound : False\n"
     ]
    }
   ],
   "source": [
    "import wiki as w\n",
    "import sys\n",
    "sys.path.append(\"../../imports/\")\n",
    "import saver as sv"
   ]
  },
  {
   "cell_type": "code",
   "execution_count": 2,
   "id": "61ae2905",
   "metadata": {},
   "outputs": [],
   "source": [
    "sentences = sv.load(\"wiki_sentences_dep2\")"
   ]
  },
  {
   "cell_type": "code",
   "execution_count": 5,
   "id": "c9c3de4d",
   "metadata": {},
   "outputs": [
    {
     "name": "stdout",
     "output_type": "stream",
     "text": [
      "['anarchism', 'is', 'a', '[', 'political#philosophi', 'philosophy#is', ']', 'that', 'advocates', '[', 'self#govern', 'governed#societi', ']', 'societies', 'based', 'on', 'voluntary', 'institutions', 'these', 'are', 'often', 'described', 'as', '[', 'stateless#societi', 'societies#as', ']', 'although', 'several', 'authors', 'have', 'defined', 'them', 'more', 'specifically', 'as', 'institutions', 'based', 'on', 'non', '[', 'hierarchical#associ', ']', 'or', '[', 'free#hierarch', 'associations#anarch', ']', 'anarchism', 'holds', 'the', '[', 'state#be', ']', 'to', 'be', 'undesirable', 'unnecessary', 'and', 'harmful', 'while', '[', 'opposition#is', 'to#opposit', 'the#state', 'state#to', ']', 'is', 'central', 'anarchism', 'specifically', 'entails', 'opposing', 'authority', 'or', 'hierarchical', 'organisation', 'in', 'the', 'conduct', 'of', 'all', 'human', 'relations', 'anarchism', 'is', 'usually', 'considered', 'a', '[', 'far#left', 'left#ideolog', ']', 'ideology', 'and', 'much', 'of', '[', 'anarchist#econom', 'economics#of', ']', 'and', '[', 'anarchist#reflect', 'legal#philosophi', 'philosophy#anarchist', ']', 'reflects']\n"
     ]
    }
   ],
   "source": [
    "for sent in sentences:\n",
    "    print(sent[:108])\n",
    "    break"
   ]
  },
  {
   "cell_type": "code",
   "execution_count": null,
   "id": "ebc564fc",
   "metadata": {},
   "outputs": [],
   "source": []
  }
 ],
 "metadata": {
  "kernelspec": {
   "display_name": "Python 3",
   "language": "python",
   "name": "python3"
  },
  "language_info": {
   "codemirror_mode": {
    "name": "ipython",
    "version": 3
   },
   "file_extension": ".py",
   "mimetype": "text/x-python",
   "name": "python",
   "nbconvert_exporter": "python",
   "pygments_lexer": "ipython3",
   "version": "3.7.6"
  }
 },
 "nbformat": 4,
 "nbformat_minor": 5
}
