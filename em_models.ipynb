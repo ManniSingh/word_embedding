{
 "cells": [
  {
   "cell_type": "code",
   "execution_count": 1,
   "metadata": {
    "ExecuteTime": {
     "end_time": "2022-03-24T17:37:21.591002Z",
     "start_time": "2022-03-24T17:37:18.737134Z"
    }
   },
   "outputs": [],
   "source": [
    "import logging\n",
    "import os\n",
    "\n",
    "#import wiki_old as w # old wiki\n",
    "import wiki as w # changed wiki to include '[]'\n",
    " \n",
    "#from gensim.models import word2vec # for orignal w2v\n",
    "from localgensim.gensim2.models import word2vec \n",
    "\n",
    "#from gensim.models.fasttext import FastText\n",
    "#from gensim.models.word2vec import Word2Vec # not in use\n",
    "#from localgensim.gensim2.models.word2vec import Word2Vec # not in use\n",
    "\n",
    "from tqdm import tqdm\n",
    "\n",
    "#WIKIXML = '/home/manni/data/wiki/enwiki-20211120-pages-articles-multistream.xml.bz2'\n",
    "WIKIXML = '/home/manni/data/wiki/enwiki-20211120-pages-articles-multistream1.xml-p1p41242.bz2'"
   ]
  },
  {
   "cell_type": "code",
   "execution_count": 2,
   "metadata": {
    "ExecuteTime": {
     "end_time": "2022-03-24T17:37:21.598877Z",
     "start_time": "2022-03-24T17:37:21.593553Z"
    }
   },
   "outputs": [
    {
     "name": "stdout",
     "output_type": "stream",
     "text": [
      "/home/manni/ner-s2s/word_embedding/wiki.py\n",
      "/home/manni/ner-s2s/word_embedding/localgensim/gensim2/models/word2vec.py\n"
     ]
    }
   ],
   "source": [
    "print(w.__file__)\n",
    "print(word2vec.__file__)"
   ]
  },
  {
   "cell_type": "code",
   "execution_count": 3,
   "metadata": {
    "ExecuteTime": {
     "end_time": "2022-03-24T17:37:21.691042Z",
     "start_time": "2022-03-24T17:37:21.602041Z"
    }
   },
   "outputs": [],
   "source": [
    "import sys\n",
    "sys.path.append(\"../../imports/\")\n",
    "import saver as sv"
   ]
  },
  {
   "cell_type": "code",
   "execution_count": 4,
   "metadata": {
    "ExecuteTime": {
     "end_time": "2022-03-24T17:37:21.761115Z",
     "start_time": "2022-03-24T17:37:21.693972Z"
    }
   },
   "outputs": [],
   "source": [
    "logging.basicConfig(format='[%(asctime)s] %(message)s', level=logging.INFO)\n",
    "os.makedirs('data/', exist_ok=True)"
   ]
  },
  {
   "cell_type": "markdown",
   "metadata": {
    "heading_collapsed": true
   },
   "source": [
    "# skip if sentence made"
   ]
  },
  {
   "cell_type": "code",
   "execution_count": 5,
   "metadata": {
    "ExecuteTime": {
     "end_time": "2022-03-24T17:31:43.583553Z",
     "start_time": "2022-03-24T17:31:41.051795Z"
    },
    "hidden": true
   },
   "outputs": [
    {
     "name": "stderr",
     "output_type": "stream",
     "text": [
      "[2022-04-05 11:26:11,497] Parsing wiki corpus Altered...\n",
      "[2022-04-05 11:26:11,499] utils.py line 55, Pattern altered to include [ and ] ...\n",
      "[2022-04-05 11:26:13,523] adding document #0 to Dictionary(0 unique tokens: [])\n",
      "[2022-04-05 11:27:08,776] adding document #10000 to Dictionary(466641 unique tokens: ['[', ']', 'a', 'ability', 'able']...)\n",
      "[2022-04-05 11:27:57,258] adding document #20000 to Dictionary(671865 unique tokens: ['[', ']', 'a', 'ability', 'able']...)\n",
      "[2022-04-05 11:27:59,280] finished iterating over Wikipedia corpus of 20800 documents with 77064242 positions (total 27399 articles, 77105131 positions before pruning articles shorter than 50 words)\n",
      "[2022-04-05 11:27:59,404] built Dictionary(677428 unique tokens: ['[', ']', 'a', 'ability', 'able']...) from 20800 documents (total 77064242 corpus positions)\n"
     ]
    }
   ],
   "source": [
    "# loc = 'num'|'lr'|'ent'\n",
    "# pos = True|False\n",
    "# download latest wiki dump\n",
    "#w.download_wiki_dump('en', WIKIXML)\n",
    "\n",
    "# parse wiki dump\n",
    "wiki_sentences = w.WikiSentences(WIKIXML, 'en',lower=True) # Orignal\n",
    "#wiki_sentences = w.WikiSentences(WIKIXML, 'en',tokenizer_func='EM',lower=True,pos=False,loc=False)\n",
    "#wiki_sentences = w.WikiSentences(WIKIXML, 'en',tokenizer_func='DEP',lower=True,pos=False,loc=False)\n",
    "#wiki_sentences = w.WikiSentences(WIKIXML, 'en',tokenizer_func='UNS',lower=True,pos=False,loc=False)\n",
    "#wiki_sentences = w.WikiSentences(WIKIXML, 'en',tokenizer_func='UNSEM',lower=True,pos=False,loc=False)"
   ]
  },
  {
   "cell_type": "code",
   "execution_count": 6,
   "metadata": {},
   "outputs": [
    {
     "name": "stdout",
     "output_type": "stream",
     "text": [
      "Saved the data\n"
     ]
    }
   ],
   "source": [
    "sv.save(wiki_sentences,\"wiki_sentences_em_sample\")"
   ]
  },
  {
   "cell_type": "code",
   "execution_count": null,
   "metadata": {
    "ExecuteTime": {
     "start_time": "2022-03-07T19:09:34.083Z"
    },
    "hidden": true
   },
   "outputs": [],
   "source": [
    "#sv.save(wiki_sentences,\"wiki_sentences_pos_sample\")\n",
    "#sv.save(wiki_sentences,\"wiki_sentences_pos\")\n",
    "#sv.save(wiki_sentences,\"wiki_sentences_dep\")\n",
    "#sv.save(wiki_sentences,\"wiki_sentences_sp\")\n",
    "#sv.save(wiki_sentences,\"wiki_sentences_sp_loc\")\n",
    "#sv.save(wiki_sentences,\"wiki_sentences_sp_ent\")\n",
    "#sv.save(wiki_sentences,\"wiki_sentences_sp_ent_sample\")\n",
    "#sv.save(wiki_sentences,\"wiki_sentences\") # orignal\n",
    "#sv.save(wiki_sentences,\"wiki_sentences_dep2\")\n",
    "#sv.save(wiki_sentences,\"wiki_sentences_uns\")\n",
    "#sv.save(wiki_sentences,\"wiki_sentences_unsem\")\n",
    "#sv.save(wiki_sentences,\"wiki_sentences_em\")"
   ]
  },
  {
   "cell_type": "markdown",
   "metadata": {
    "heading_collapsed": true
   },
   "source": [
    "# Phrase mining"
   ]
  },
  {
   "cell_type": "code",
   "execution_count": null,
   "metadata": {
    "ExecuteTime": {
     "end_time": "2021-05-29T18:50:46.815932Z",
     "start_time": "2021-05-29T18:50:46.810808Z"
    },
    "hidden": true
   },
   "outputs": [],
   "source": [
    "#from gensim.test.utils import datapath\n",
    "#from gensim.models.phrases import Phrases"
   ]
  },
  {
   "cell_type": "code",
   "execution_count": null,
   "metadata": {
    "ExecuteTime": {
     "end_time": "2021-05-29T22:24:31.858045Z",
     "start_time": "2021-05-29T18:51:21.445049Z"
    },
    "hidden": true
   },
   "outputs": [],
   "source": [
    "#phrases = Phrases(sentences, min_count=100, threshold=1)\n",
    "#frozen_phrases = phrases.freeze()"
   ]
  },
  {
   "cell_type": "code",
   "execution_count": null,
   "metadata": {
    "ExecuteTime": {
     "end_time": "2021-05-30T11:41:54.697897Z",
     "start_time": "2021-05-30T11:41:38.608475Z"
    },
    "hidden": true
   },
   "outputs": [],
   "source": [
    "#sv.save(phrases,\"gensim_phrases\")"
   ]
  },
  {
   "cell_type": "markdown",
   "metadata": {
    "ExecuteTime": {
     "end_time": "2020-03-16T22:06:13.397797Z",
     "start_time": "2020-03-16T22:06:13.394080Z"
    }
   },
   "source": [
    "# Train procedure"
   ]
  },
  {
   "cell_type": "code",
   "execution_count": null,
   "metadata": {
    "ExecuteTime": {
     "end_time": "2022-03-22T15:46:43.606411Z",
     "start_time": "2022-03-22T15:46:42.073211Z"
    }
   },
   "outputs": [],
   "source": [
    "#sentences = sv.load(\"wiki_sentences_no\")\n",
    "#temp_sens are cased!!\n",
    "#sentences = sv.load(\"temp_sens\")\n",
    " \n",
    "#sentences = sv.load(\"wiki_sentences\") #Normal sentences using wiki_old.py\n",
    "\n",
    "#Wiki_Sentences_SP are cased\n",
    "#sentences = sv.load(\"Wiki_Sentences_SP\")\n",
    "\n",
    "#sentences = sv.load(\"wiki_sentences_sp_loc\") #New\n",
    "#sentences = sv.load(\"wiki_sentences_sp\") #New\n",
    "\n",
    "#sentences = sv.load(\"wiki_sentences_pos\") # not to be used\n",
    "#sentences = sv.load(\"Wiki_sentences_pos_sample\")\n",
    "\n",
    "#sentences = sv.load(\"wiki_sentences_sp_ent\") # New\n",
    "#sentences = sv.load(\"wiki_sentences_sp_ent_sample\") # New\n",
    "\n",
    "#sentences = sv.load(\"wiki_sentences_dep\") #New\n",
    "#sentences = sv.load(\"wiki_sentences_dep2\") #New\n",
    "\n",
    "#wiki english sample Cased \n",
    "#sentences = sv.load(\"Wiki_sentences_sp_sample\")\n",
    "#sentences = sv.load(\"wiki_sentences_uns\") #New\n",
    "#sentences = sv.load(\"wiki_sentences_unsem\") #New\n",
    "#sentences = sv.load(\"wiki_sentences_em\") #New"
   ]
  },
  {
   "cell_type": "code",
   "execution_count": 5,
   "metadata": {
    "ExecuteTime": {
     "end_time": "2022-03-24T17:37:25.015997Z",
     "start_time": "2022-03-24T17:37:24.392167Z"
    }
   },
   "outputs": [
    {
     "name": "stdout",
     "output_type": "stream",
     "text": [
      "Minimum length of token: 1\n"
     ]
    }
   ],
   "source": [
    "sentences = sv.load(\"wiki_sentences_em_sample\")\n",
    "#sentences = wiki_sentences\n",
    "print(\"Minimum length of token:\",sentences.wiki.token_min_len)"
   ]
  },
  {
   "cell_type": "code",
   "execution_count": 6,
   "metadata": {
    "ExecuteTime": {
     "start_time": "2022-03-24T17:37:24.619Z"
    }
   },
   "outputs": [
    {
     "name": "stderr",
     "output_type": "stream",
     "text": [
      "[2022-04-05 12:59:19,596] Training model spxM100EMw5\n",
      "[2022-04-05 12:59:19,599] collecting all words and their counts\n",
      "[2022-04-05 12:59:21,992] PROGRESS: at sentence #0, processed 0 words, keeping 0 word types\n",
      "[2022-04-05 12:59:57,024] PROGRESS: at sentence #10000, processed 39879308 words, keeping 466641 word types\n",
      "[2022-04-05 13:00:25,755] PROGRESS: at sentence #20000, processed 75617823 words, keeping 671865 word types\n",
      "[2022-04-05 13:00:26,844] finished iterating over Wikipedia corpus of 20800 documents with 77064242 positions (total 27399 articles, 77105131 positions before pruning articles shorter than 50 words)\n",
      "[2022-04-05 13:00:26,989] collected 677428 word types from a corpus of 77064242 raw words and 20800 sentences\n",
      "[2022-04-05 13:00:26,990] Loading a fresh vocabulary\n",
      "[2022-04-05 13:00:27,572] effective_min_count=100 retains 30236 unique words (4% of original 677428, drops 647192)\n",
      "[2022-04-05 13:00:27,573] effective_min_count=100 leaves 73369570 word corpus (95% of original 77064242, drops 3694672)\n",
      "[2022-04-05 13:00:27,700] deleting the raw counts dictionary of 677428 items\n",
      "[2022-04-05 13:00:27,759] sample=0.001 downsamples 29 most-common words\n",
      "[2022-04-05 13:00:27,760] downsampling leaves estimated 52144262 word corpus (71.1% of prior 73369570)\n",
      "[2022-04-05 13:00:27,836] estimated required memory for 30236 words and 300 dimensions: 87684400 bytes\n",
      "[2022-04-05 13:00:27,837] resetting layer weights\n",
      "[2022-04-05 13:00:33,251] training model with 40 workers on 30236 vocabulary and 300 features, using sg=1 hs=0 sample=0.001 negative=5 window=5\n",
      "[2022-04-05 13:00:38,819] EPOCHs No. 1 - PROGRESS: at 1.00% examples, 221003 words/s, in_qsize 80, out_qsize 0\n",
      "[2022-04-05 13:00:41,008] EPOCHs No. 1 - PROGRESS: at 2.00% examples, 283321 words/s, in_qsize 79, out_qsize 0\n",
      "[2022-04-05 13:00:42,809] EPOCHs No. 1 - PROGRESS: at 3.00% examples, 311792 words/s, in_qsize 79, out_qsize 0\n",
      "[2022-04-05 13:00:44,778] EPOCHs No. 1 - PROGRESS: at 4.00% examples, 340285 words/s, in_qsize 79, out_qsize 0\n",
      "[2022-04-05 13:00:46,972] EPOCHs No. 1 - PROGRESS: at 5.01% examples, 357953 words/s, in_qsize 80, out_qsize 0\n",
      "[2022-04-05 13:00:48,463] EPOCHs No. 1 - PROGRESS: at 6.00% examples, 365142 words/s, in_qsize 79, out_qsize 0\n",
      "[2022-04-05 13:00:50,420] EPOCHs No. 1 - PROGRESS: at 7.00% examples, 371916 words/s, in_qsize 79, out_qsize 0\n",
      "[2022-04-05 13:00:52,677] EPOCHs No. 1 - PROGRESS: at 8.00% examples, 376429 words/s, in_qsize 80, out_qsize 0\n",
      "[2022-04-05 13:00:54,979] EPOCHs No. 1 - PROGRESS: at 9.00% examples, 385339 words/s, in_qsize 79, out_qsize 0\n",
      "[2022-04-05 13:00:57,389] EPOCHs No. 1 - PROGRESS: at 10.01% examples, 389914 words/s, in_qsize 78, out_qsize 0\n",
      "[2022-04-05 13:00:59,485] EPOCHs No. 1 - PROGRESS: at 11.01% examples, 396701 words/s, in_qsize 79, out_qsize 0\n",
      "[2022-04-05 13:01:01,807] EPOCHs No. 1 - PROGRESS: at 12.00% examples, 401156 words/s, in_qsize 78, out_qsize 0\n",
      "[2022-04-05 13:01:04,060] EPOCHs No. 1 - PROGRESS: at 13.00% examples, 407119 words/s, in_qsize 79, out_qsize 0\n",
      "[2022-04-05 13:01:06,039] EPOCHs No. 1 - PROGRESS: at 14.00% examples, 409519 words/s, in_qsize 79, out_qsize 0\n",
      "[2022-04-05 13:01:08,198] EPOCHs No. 1 - PROGRESS: at 15.00% examples, 414134 words/s, in_qsize 79, out_qsize 0\n",
      "[2022-04-05 13:01:10,116] EPOCHs No. 1 - PROGRESS: at 16.00% examples, 416469 words/s, in_qsize 78, out_qsize 0\n",
      "[2022-04-05 13:01:12,104] EPOCHs No. 1 - PROGRESS: at 17.00% examples, 418309 words/s, in_qsize 77, out_qsize 2\n",
      "[2022-04-05 13:01:14,185] EPOCHs No. 1 - PROGRESS: at 18.00% examples, 420087 words/s, in_qsize 80, out_qsize 0\n",
      "[2022-04-05 13:01:16,387] EPOCHs No. 1 - PROGRESS: at 19.00% examples, 423674 words/s, in_qsize 80, out_qsize 1\n",
      "[2022-04-05 13:01:18,446] EPOCHs No. 1 - PROGRESS: at 20.00% examples, 425552 words/s, in_qsize 79, out_qsize 0\n",
      "[2022-04-05 13:01:20,463] EPOCHs No. 1 - PROGRESS: at 21.00% examples, 428298 words/s, in_qsize 79, out_qsize 0\n",
      "[2022-04-05 13:01:22,492] EPOCHs No. 1 - PROGRESS: at 22.00% examples, 430978 words/s, in_qsize 79, out_qsize 0\n",
      "[2022-04-05 13:01:24,454] EPOCHs No. 1 - PROGRESS: at 23.00% examples, 432155 words/s, in_qsize 78, out_qsize 0\n",
      "[2022-04-05 13:01:26,284] EPOCHs No. 1 - PROGRESS: at 24.00% examples, 432276 words/s, in_qsize 80, out_qsize 0\n",
      "[2022-04-05 13:01:28,160] EPOCHs No. 1 - PROGRESS: at 25.00% examples, 434588 words/s, in_qsize 80, out_qsize 0\n",
      "[2022-04-05 13:01:30,448] EPOCHs No. 1 - PROGRESS: at 26.00% examples, 435664 words/s, in_qsize 78, out_qsize 1\n",
      "[2022-04-05 13:01:32,685] EPOCHs No. 1 - PROGRESS: at 27.00% examples, 436590 words/s, in_qsize 79, out_qsize 0\n",
      "[2022-04-05 13:01:34,521] EPOCHs No. 1 - PROGRESS: at 28.00% examples, 438278 words/s, in_qsize 78, out_qsize 1\n",
      "[2022-04-05 13:01:36,586] EPOCHs No. 1 - PROGRESS: at 29.00% examples, 438970 words/s, in_qsize 80, out_qsize 1\n",
      "[2022-04-05 13:01:38,609] EPOCHs No. 1 - PROGRESS: at 30.00% examples, 439766 words/s, in_qsize 80, out_qsize 0\n",
      "[2022-04-05 13:01:41,077] EPOCHs No. 1 - PROGRESS: at 31.02% examples, 440352 words/s, in_qsize 80, out_qsize 0\n",
      "[2022-04-05 13:01:43,460] EPOCHs No. 1 - PROGRESS: at 32.00% examples, 441605 words/s, in_qsize 80, out_qsize 0\n",
      "[2022-04-05 13:01:45,575] EPOCHs No. 1 - PROGRESS: at 33.00% examples, 442930 words/s, in_qsize 80, out_qsize 0\n",
      "[2022-04-05 13:01:47,724] EPOCHs No. 1 - PROGRESS: at 34.00% examples, 443518 words/s, in_qsize 80, out_qsize 0\n",
      "[2022-04-05 13:01:49,682] EPOCHs No. 1 - PROGRESS: at 35.00% examples, 443490 words/s, in_qsize 80, out_qsize 0\n",
      "[2022-04-05 13:01:52,060] EPOCHs No. 1 - PROGRESS: at 36.00% examples, 444574 words/s, in_qsize 80, out_qsize 0\n",
      "[2022-04-05 13:01:54,650] EPOCHs No. 1 - PROGRESS: at 37.00% examples, 445983 words/s, in_qsize 80, out_qsize 0\n",
      "[2022-04-05 13:01:56,739] EPOCHs No. 1 - PROGRESS: at 38.01% examples, 446679 words/s, in_qsize 80, out_qsize 1\n",
      "[2022-04-05 13:01:58,847] EPOCHs No. 1 - PROGRESS: at 39.00% examples, 447978 words/s, in_qsize 80, out_qsize 0\n",
      "[2022-04-05 13:02:00,332] EPOCHs No. 1 - PROGRESS: at 40.00% examples, 448368 words/s, in_qsize 80, out_qsize 2\n",
      "[2022-04-05 13:02:02,168] EPOCHs No. 1 - PROGRESS: at 41.00% examples, 448615 words/s, in_qsize 80, out_qsize 0\n",
      "[2022-04-05 13:02:04,137] EPOCHs No. 1 - PROGRESS: at 42.01% examples, 449510 words/s, in_qsize 79, out_qsize 0\n",
      "[2022-04-05 13:02:06,111] EPOCHs No. 1 - PROGRESS: at 43.00% examples, 449297 words/s, in_qsize 80, out_qsize 1\n",
      "[2022-04-05 13:02:07,979] EPOCHs No. 1 - PROGRESS: at 44.00% examples, 450493 words/s, in_qsize 80, out_qsize 0\n",
      "[2022-04-05 13:02:10,174] EPOCHs No. 1 - PROGRESS: at 45.00% examples, 449840 words/s, in_qsize 79, out_qsize 0\n",
      "[2022-04-05 13:02:12,550] EPOCHs No. 1 - PROGRESS: at 46.02% examples, 451111 words/s, in_qsize 79, out_qsize 0\n",
      "[2022-04-05 13:02:14,687] EPOCHs No. 1 - PROGRESS: at 47.01% examples, 451283 words/s, in_qsize 78, out_qsize 0\n",
      "[2022-04-05 13:02:16,786] EPOCHs No. 1 - PROGRESS: at 48.01% examples, 452097 words/s, in_qsize 79, out_qsize 0\n",
      "[2022-04-05 13:02:18,791] EPOCHs No. 1 - PROGRESS: at 49.02% examples, 452180 words/s, in_qsize 79, out_qsize 0\n",
      "[2022-04-05 13:02:20,761] EPOCHs No. 1 - PROGRESS: at 50.00% examples, 452903 words/s, in_qsize 79, out_qsize 0\n",
      "[2022-04-05 13:02:23,177] EPOCHs No. 1 - PROGRESS: at 51.01% examples, 452907 words/s, in_qsize 79, out_qsize 0\n",
      "[2022-04-05 13:02:25,136] EPOCHs No. 1 - PROGRESS: at 52.01% examples, 453556 words/s, in_qsize 79, out_qsize 0\n",
      "[2022-04-05 13:02:27,426] EPOCHs No. 1 - PROGRESS: at 53.02% examples, 453527 words/s, in_qsize 80, out_qsize 0\n",
      "[2022-04-05 13:02:29,488] EPOCHs No. 1 - PROGRESS: at 54.01% examples, 454564 words/s, in_qsize 79, out_qsize 0\n",
      "[2022-04-05 13:02:31,591] EPOCHs No. 1 - PROGRESS: at 55.01% examples, 454294 words/s, in_qsize 79, out_qsize 0\n",
      "[2022-04-05 13:02:33,476] EPOCHs No. 1 - PROGRESS: at 56.00% examples, 454735 words/s, in_qsize 73, out_qsize 0\n",
      "[2022-04-05 13:02:35,161] EPOCHs No. 1 - PROGRESS: at 57.00% examples, 454549 words/s, in_qsize 79, out_qsize 0\n",
      "[2022-04-05 13:02:36,708] EPOCHs No. 1 - PROGRESS: at 58.01% examples, 455095 words/s, in_qsize 78, out_qsize 1\n",
      "[2022-04-05 13:02:38,578] EPOCHs No. 1 - PROGRESS: at 59.00% examples, 454423 words/s, in_qsize 79, out_qsize 0\n",
      "[2022-04-05 13:02:40,331] EPOCHs No. 1 - PROGRESS: at 60.00% examples, 454432 words/s, in_qsize 78, out_qsize 0\n",
      "[2022-04-05 13:02:42,844] EPOCHs No. 1 - PROGRESS: at 61.01% examples, 455052 words/s, in_qsize 80, out_qsize 0\n",
      "[2022-04-05 13:02:45,201] EPOCHs No. 1 - PROGRESS: at 62.00% examples, 455009 words/s, in_qsize 80, out_qsize 0\n",
      "[2022-04-05 13:02:47,258] EPOCHs No. 1 - PROGRESS: at 63.00% examples, 454940 words/s, in_qsize 79, out_qsize 0\n",
      "[2022-04-05 13:02:49,713] EPOCHs No. 1 - PROGRESS: at 64.00% examples, 455336 words/s, in_qsize 80, out_qsize 1\n",
      "[2022-04-05 13:02:51,446] EPOCHs No. 1 - PROGRESS: at 65.01% examples, 455344 words/s, in_qsize 80, out_qsize 0\n",
      "[2022-04-05 13:02:53,368] EPOCHs No. 1 - PROGRESS: at 66.00% examples, 455583 words/s, in_qsize 80, out_qsize 0\n",
      "[2022-04-05 13:02:55,580] EPOCHs No. 1 - PROGRESS: at 67.00% examples, 455948 words/s, in_qsize 80, out_qsize 2\n",
      "[2022-04-05 13:02:57,804] EPOCHs No. 1 - PROGRESS: at 68.00% examples, 455990 words/s, in_qsize 79, out_qsize 0\n",
      "[2022-04-05 13:02:59,506] EPOCHs No. 1 - PROGRESS: at 69.00% examples, 456838 words/s, in_qsize 79, out_qsize 0\n",
      "[2022-04-05 13:03:02,052] EPOCHs No. 1 - PROGRESS: at 70.01% examples, 456625 words/s, in_qsize 79, out_qsize 0\n",
      "[2022-04-05 13:03:04,265] EPOCHs No. 1 - PROGRESS: at 71.00% examples, 457026 words/s, in_qsize 80, out_qsize 0\n",
      "[2022-04-05 13:03:06,611] EPOCHs No. 1 - PROGRESS: at 72.00% examples, 456806 words/s, in_qsize 79, out_qsize 0\n",
      "[2022-04-05 13:03:08,763] EPOCHs No. 1 - PROGRESS: at 73.00% examples, 457154 words/s, in_qsize 80, out_qsize 0\n",
      "[2022-04-05 13:03:10,766] EPOCHs No. 1 - PROGRESS: at 74.00% examples, 456972 words/s, in_qsize 77, out_qsize 0\n",
      "[2022-04-05 13:03:12,785] EPOCHs No. 1 - PROGRESS: at 75.00% examples, 457831 words/s, in_qsize 74, out_qsize 0\n",
      "[2022-04-05 13:03:15,442] EPOCHs No. 1 - PROGRESS: at 76.00% examples, 458038 words/s, in_qsize 80, out_qsize 0\n",
      "[2022-04-05 13:03:17,335] EPOCHs No. 1 - PROGRESS: at 77.01% examples, 458484 words/s, in_qsize 80, out_qsize 0\n",
      "[2022-04-05 13:03:19,691] EPOCHs No. 1 - PROGRESS: at 78.00% examples, 458306 words/s, in_qsize 79, out_qsize 0\n",
      "[2022-04-05 13:03:22,078] EPOCHs No. 1 - PROGRESS: at 79.00% examples, 458629 words/s, in_qsize 79, out_qsize 0\n",
      "[2022-04-05 13:03:24,494] EPOCHs No. 1 - PROGRESS: at 80.00% examples, 458520 words/s, in_qsize 79, out_qsize 0\n",
      "[2022-04-05 13:03:26,709] EPOCHs No. 1 - PROGRESS: at 81.01% examples, 459593 words/s, in_qsize 76, out_qsize 0\n",
      "[2022-04-05 13:03:28,953] EPOCHs No. 1 - PROGRESS: at 82.00% examples, 460188 words/s, in_qsize 28, out_qsize 0\n",
      "[2022-04-05 13:03:29,994] EPOCHs No. 1 - PROGRESS: at 83.02% examples, 459801 words/s, in_qsize 26, out_qsize 0\n",
      "[2022-04-05 13:03:30,699] EPOCHs No. 1 - PROGRESS: at 84.10% examples, 459379 words/s, in_qsize 43, out_qsize 0\n",
      "[2022-04-05 13:03:31,234] EPOCHs No. 1 - PROGRESS: at 85.04% examples, 458785 words/s, in_qsize 52, out_qsize 0\n",
      "[2022-04-05 13:03:31,675] EPOCHs No. 1 - PROGRESS: at 86.03% examples, 458716 words/s, in_qsize 79, out_qsize 0\n",
      "[2022-04-05 13:03:32,256] EPOCHs No. 1 - PROGRESS: at 87.00% examples, 458570 words/s, in_qsize 80, out_qsize 0\n",
      "[2022-04-05 13:03:33,287] EPOCHs No. 1 - PROGRESS: at 88.01% examples, 458510 words/s, in_qsize 79, out_qsize 0\n",
      "[2022-04-05 13:03:34,823] EPOCHs No. 1 - PROGRESS: at 89.00% examples, 459077 words/s, in_qsize 75, out_qsize 0\n",
      "[2022-04-05 13:03:37,038] EPOCHs No. 1 - PROGRESS: at 90.00% examples, 459033 words/s, in_qsize 79, out_qsize 0\n",
      "[2022-04-05 13:03:38,905] EPOCHs No. 1 - PROGRESS: at 91.00% examples, 459284 words/s, in_qsize 80, out_qsize 0\n",
      "[2022-04-05 13:03:40,756] EPOCHs No. 1 - PROGRESS: at 92.00% examples, 459446 words/s, in_qsize 80, out_qsize 0\n",
      "[2022-04-05 13:03:42,247] EPOCHs No. 1 - PROGRESS: at 93.00% examples, 459350 words/s, in_qsize 77, out_qsize 0\n",
      "[2022-04-05 13:03:43,775] EPOCHs No. 1 - PROGRESS: at 94.00% examples, 459603 words/s, in_qsize 79, out_qsize 0\n",
      "[2022-04-05 13:03:45,242] EPOCHs No. 1 - PROGRESS: at 95.00% examples, 459552 words/s, in_qsize 79, out_qsize 0\n",
      "[2022-04-05 13:03:46,871] EPOCHs No. 1 - PROGRESS: at 96.00% examples, 459502 words/s, in_qsize 79, out_qsize 0\n",
      "[2022-04-05 13:03:47,527] EPOCHs No. 1 - PROGRESS: at 97.00% examples, 459854 words/s, in_qsize 59, out_qsize 0\n",
      "[2022-04-05 13:03:48,116] finished iterating over Wikipedia corpus of 20800 documents with 77064242 positions (total 27399 articles, 77105131 positions before pruning articles shorter than 50 words)\n",
      "[2022-04-05 13:03:48,980] EPOCHs No. 1 - PROGRESS: at 98.03% examples, 460425 words/s, in_qsize 41, out_qsize 1\n",
      "[2022-04-05 13:03:49,040] worker thread finished; awaiting finish of 39 more threads\n",
      "[2022-04-05 13:03:49,056] worker thread finished; awaiting finish of 38 more threads\n",
      "[2022-04-05 13:03:49,079] worker thread finished; awaiting finish of 37 more threads\n",
      "[2022-04-05 13:03:49,108] worker thread finished; awaiting finish of 36 more threads\n",
      "[2022-04-05 13:03:49,136] worker thread finished; awaiting finish of 35 more threads\n",
      "[2022-04-05 13:03:49,180] worker thread finished; awaiting finish of 34 more threads\n",
      "[2022-04-05 13:03:49,195] worker thread finished; awaiting finish of 33 more threads\n",
      "[2022-04-05 13:03:49,221] worker thread finished; awaiting finish of 32 more threads\n",
      "[2022-04-05 13:03:49,243] worker thread finished; awaiting finish of 31 more threads\n",
      "[2022-04-05 13:03:49,282] worker thread finished; awaiting finish of 30 more threads\n",
      "[2022-04-05 13:03:49,310] worker thread finished; awaiting finish of 29 more threads\n",
      "[2022-04-05 13:03:49,316] worker thread finished; awaiting finish of 28 more threads\n",
      "[2022-04-05 13:03:49,336] worker thread finished; awaiting finish of 27 more threads\n",
      "[2022-04-05 13:03:49,351] worker thread finished; awaiting finish of 26 more threads\n",
      "[2022-04-05 13:03:49,408] worker thread finished; awaiting finish of 25 more threads\n",
      "[2022-04-05 13:03:49,422] worker thread finished; awaiting finish of 24 more threads\n",
      "[2022-04-05 13:03:49,447] worker thread finished; awaiting finish of 23 more threads\n",
      "[2022-04-05 13:03:49,465] worker thread finished; awaiting finish of 22 more threads\n",
      "[2022-04-05 13:03:49,479] worker thread finished; awaiting finish of 21 more threads\n",
      "[2022-04-05 13:03:49,487] worker thread finished; awaiting finish of 20 more threads\n",
      "[2022-04-05 13:03:49,549] worker thread finished; awaiting finish of 19 more threads\n",
      "[2022-04-05 13:03:49,567] worker thread finished; awaiting finish of 18 more threads\n",
      "[2022-04-05 13:03:49,574] worker thread finished; awaiting finish of 17 more threads\n",
      "[2022-04-05 13:03:49,614] EPOCHs No. 1 - PROGRESS: at 99.08% examples, 460264 words/s, in_qsize 13, out_qsize 7\n",
      "[2022-04-05 13:03:49,632] worker thread finished; awaiting finish of 16 more threads\n",
      "[2022-04-05 13:03:49,650] worker thread finished; awaiting finish of 15 more threads\n",
      "[2022-04-05 13:03:49,652] worker thread finished; awaiting finish of 14 more threads\n",
      "[2022-04-05 13:03:49,675] worker thread finished; awaiting finish of 13 more threads\n",
      "[2022-04-05 13:03:49,679] worker thread finished; awaiting finish of 12 more threads\n",
      "[2022-04-05 13:03:49,687] worker thread finished; awaiting finish of 11 more threads\n",
      "[2022-04-05 13:03:49,690] worker thread finished; awaiting finish of 10 more threads\n",
      "[2022-04-05 13:03:49,709] worker thread finished; awaiting finish of 9 more threads\n",
      "[2022-04-05 13:03:49,722] worker thread finished; awaiting finish of 8 more threads\n",
      "[2022-04-05 13:03:49,733] worker thread finished; awaiting finish of 7 more threads\n",
      "[2022-04-05 13:03:49,761] worker thread finished; awaiting finish of 6 more threads\n",
      "[2022-04-05 13:03:49,780] worker thread finished; awaiting finish of 5 more threads\n",
      "[2022-04-05 13:03:49,784] worker thread finished; awaiting finish of 4 more threads\n",
      "[2022-04-05 13:03:49,791] worker thread finished; awaiting finish of 3 more threads\n",
      "[2022-04-05 13:03:49,798] worker thread finished; awaiting finish of 2 more threads\n",
      "[2022-04-05 13:03:49,805] worker thread finished; awaiting finish of 1 more threads\n",
      "[2022-04-05 13:03:49,807] EPOCHs No. 1 - PROGRESS: at 100.00% examples, 460625 words/s, in_qsize 0, out_qsize 1\n",
      "[2022-04-05 13:03:49,816] worker thread finished; awaiting finish of 0 more threads\n",
      "[2022-04-05 13:03:49,816] EPOCH - 1 : training on 77064242 raw words (90528977 effective words) took 196.5s, 460603 effective words/s\n",
      "[2022-04-05 13:03:55,863] EPOCHs No. 2 - PROGRESS: at 1.02% examples, 200108 words/s, in_qsize 80, out_qsize 0\n",
      "[2022-04-05 13:03:58,057] EPOCHs No. 2 - PROGRESS: at 2.00% examples, 271477 words/s, in_qsize 79, out_qsize 0\n",
      "[2022-04-05 13:03:59,627] EPOCHs No. 2 - PROGRESS: at 3.00% examples, 301659 words/s, in_qsize 79, out_qsize 0\n",
      "[2022-04-05 13:04:01,603] EPOCHs No. 2 - PROGRESS: at 4.00% examples, 332728 words/s, in_qsize 79, out_qsize 0\n",
      "[2022-04-05 13:04:03,878] EPOCHs No. 2 - PROGRESS: at 5.01% examples, 348509 words/s, in_qsize 80, out_qsize 0\n",
      "[2022-04-05 13:04:05,505] EPOCHs No. 2 - PROGRESS: at 6.01% examples, 354926 words/s, in_qsize 79, out_qsize 0\n",
      "[2022-04-05 13:04:07,328] EPOCHs No. 2 - PROGRESS: at 7.00% examples, 365730 words/s, in_qsize 79, out_qsize 0\n",
      "[2022-04-05 13:04:09,392] EPOCHs No. 2 - PROGRESS: at 8.00% examples, 373000 words/s, in_qsize 80, out_qsize 0\n",
      "[2022-04-05 13:04:11,621] EPOCHs No. 2 - PROGRESS: at 9.01% examples, 383928 words/s, in_qsize 79, out_qsize 0\n",
      "[2022-04-05 13:04:14,205] EPOCHs No. 2 - PROGRESS: at 10.02% examples, 386657 words/s, in_qsize 80, out_qsize 1\n",
      "[2022-04-05 13:04:16,400] EPOCHs No. 2 - PROGRESS: at 11.00% examples, 391810 words/s, in_qsize 80, out_qsize 1\n",
      "[2022-04-05 13:04:18,708] EPOCHs No. 2 - PROGRESS: at 12.00% examples, 395730 words/s, in_qsize 78, out_qsize 0\n",
      "[2022-04-05 13:04:21,124] EPOCHs No. 2 - PROGRESS: at 13.00% examples, 400241 words/s, in_qsize 80, out_qsize 0\n",
      "[2022-04-05 13:04:23,224] EPOCHs No. 2 - PROGRESS: at 14.00% examples, 401873 words/s, in_qsize 80, out_qsize 0\n",
      "[2022-04-05 13:04:25,620] EPOCHs No. 2 - PROGRESS: at 15.01% examples, 404465 words/s, in_qsize 78, out_qsize 1\n",
      "[2022-04-05 13:04:27,501] EPOCHs No. 2 - PROGRESS: at 16.00% examples, 407627 words/s, in_qsize 79, out_qsize 0\n",
      "[2022-04-05 13:04:29,463] EPOCHs No. 2 - PROGRESS: at 17.01% examples, 409394 words/s, in_qsize 80, out_qsize 0\n",
      "[2022-04-05 13:04:31,624] EPOCHs No. 2 - PROGRESS: at 18.01% examples, 411744 words/s, in_qsize 80, out_qsize 1\n",
      "[2022-04-05 13:04:34,008] EPOCHs No. 2 - PROGRESS: at 19.00% examples, 413969 words/s, in_qsize 79, out_qsize 0\n",
      "[2022-04-05 13:04:35,969] EPOCHs No. 2 - PROGRESS: at 20.00% examples, 416465 words/s, in_qsize 79, out_qsize 0\n",
      "[2022-04-05 13:04:38,059] EPOCHs No. 2 - PROGRESS: at 21.03% examples, 419529 words/s, in_qsize 79, out_qsize 0\n",
      "[2022-04-05 13:04:40,257] EPOCHs No. 2 - PROGRESS: at 22.00% examples, 420892 words/s, in_qsize 79, out_qsize 0\n",
      "[2022-04-05 13:04:42,300] EPOCHs No. 2 - PROGRESS: at 23.00% examples, 421764 words/s, in_qsize 79, out_qsize 0\n",
      "[2022-04-05 13:04:43,974] EPOCHs No. 2 - PROGRESS: at 24.01% examples, 423454 words/s, in_qsize 80, out_qsize 0\n",
      "[2022-04-05 13:04:45,843] EPOCHs No. 2 - PROGRESS: at 25.00% examples, 425710 words/s, in_qsize 77, out_qsize 2\n",
      "[2022-04-05 13:04:48,142] EPOCHs No. 2 - PROGRESS: at 26.00% examples, 427553 words/s, in_qsize 79, out_qsize 0\n",
      "[2022-04-05 13:04:50,400] EPOCHs No. 2 - PROGRESS: at 27.00% examples, 428117 words/s, in_qsize 80, out_qsize 1\n",
      "[2022-04-05 13:04:52,245] EPOCHs No. 2 - PROGRESS: at 28.01% examples, 430123 words/s, in_qsize 80, out_qsize 0\n",
      "[2022-04-05 13:04:54,334] EPOCHs No. 2 - PROGRESS: at 29.00% examples, 431067 words/s, in_qsize 78, out_qsize 0\n",
      "[2022-04-05 13:04:56,423] EPOCHs No. 2 - PROGRESS: at 30.00% examples, 431359 words/s, in_qsize 79, out_qsize 0\n",
      "[2022-04-05 13:04:58,891] EPOCHs No. 2 - PROGRESS: at 31.01% examples, 432225 words/s, in_qsize 79, out_qsize 1\n",
      "[2022-04-05 13:05:01,205] EPOCHs No. 2 - PROGRESS: at 32.00% examples, 434153 words/s, in_qsize 80, out_qsize 0\n",
      "[2022-04-05 13:05:03,315] EPOCHs No. 2 - PROGRESS: at 33.00% examples, 435837 words/s, in_qsize 80, out_qsize 0\n",
      "[2022-04-05 13:05:05,387] EPOCHs No. 2 - PROGRESS: at 34.02% examples, 437060 words/s, in_qsize 79, out_qsize 0\n",
      "[2022-04-05 13:05:07,397] EPOCHs No. 2 - PROGRESS: at 35.01% examples, 437292 words/s, in_qsize 79, out_qsize 0\n",
      "[2022-04-05 13:05:09,657] EPOCHs No. 2 - PROGRESS: at 36.00% examples, 438803 words/s, in_qsize 79, out_qsize 0\n",
      "[2022-04-05 13:05:12,209] EPOCHs No. 2 - PROGRESS: at 37.00% examples, 440706 words/s, in_qsize 78, out_qsize 1\n",
      "[2022-04-05 13:05:14,209] EPOCHs No. 2 - PROGRESS: at 38.00% examples, 441636 words/s, in_qsize 80, out_qsize 0\n",
      "[2022-04-05 13:05:16,279] EPOCHs No. 2 - PROGRESS: at 39.00% examples, 443007 words/s, in_qsize 79, out_qsize 0\n",
      "[2022-04-05 13:05:17,994] EPOCHs No. 2 - PROGRESS: at 40.00% examples, 442896 words/s, in_qsize 80, out_qsize 1\n",
      "[2022-04-05 13:05:19,841] EPOCHs No. 2 - PROGRESS: at 41.03% examples, 443195 words/s, in_qsize 80, out_qsize 0\n",
      "[2022-04-05 13:05:21,795] EPOCHs No. 2 - PROGRESS: at 42.01% examples, 444269 words/s, in_qsize 78, out_qsize 0\n",
      "[2022-04-05 13:05:23,724] EPOCHs No. 2 - PROGRESS: at 43.01% examples, 444489 words/s, in_qsize 79, out_qsize 0\n",
      "[2022-04-05 13:05:25,633] EPOCHs No. 2 - PROGRESS: at 44.00% examples, 445258 words/s, in_qsize 78, out_qsize 1\n",
      "[2022-04-05 13:05:27,711] EPOCHs No. 2 - PROGRESS: at 45.01% examples, 445100 words/s, in_qsize 78, out_qsize 1\n",
      "[2022-04-05 13:05:30,047] EPOCHs No. 2 - PROGRESS: at 46.00% examples, 446598 words/s, in_qsize 79, out_qsize 0\n",
      "[2022-04-05 13:05:32,181] EPOCHs No. 2 - PROGRESS: at 47.00% examples, 446981 words/s, in_qsize 80, out_qsize 0\n",
      "[2022-04-05 13:05:34,359] EPOCHs No. 2 - PROGRESS: at 48.00% examples, 447539 words/s, in_qsize 80, out_qsize 1\n",
      "[2022-04-05 13:05:36,417] EPOCHs No. 2 - PROGRESS: at 49.00% examples, 447188 words/s, in_qsize 80, out_qsize 0\n",
      "[2022-04-05 13:05:38,495] EPOCHs No. 2 - PROGRESS: at 50.00% examples, 448207 words/s, in_qsize 79, out_qsize 0\n",
      "[2022-04-05 13:05:40,867] EPOCHs No. 2 - PROGRESS: at 51.00% examples, 448490 words/s, in_qsize 79, out_qsize 0\n",
      "[2022-04-05 13:05:42,760] EPOCHs No. 2 - PROGRESS: at 52.00% examples, 449200 words/s, in_qsize 80, out_qsize 0\n",
      "[2022-04-05 13:05:45,066] EPOCHs No. 2 - PROGRESS: at 53.01% examples, 449088 words/s, in_qsize 79, out_qsize 0\n",
      "[2022-04-05 13:05:47,185] EPOCHs No. 2 - PROGRESS: at 54.00% examples, 450031 words/s, in_qsize 80, out_qsize 1\n",
      "[2022-04-05 13:05:49,231] EPOCHs No. 2 - PROGRESS: at 55.00% examples, 450017 words/s, in_qsize 79, out_qsize 0\n",
      "[2022-04-05 13:05:51,094] EPOCHs No. 2 - PROGRESS: at 56.01% examples, 450681 words/s, in_qsize 72, out_qsize 0\n",
      "[2022-04-05 13:05:52,812] EPOCHs No. 2 - PROGRESS: at 57.00% examples, 450478 words/s, in_qsize 79, out_qsize 0\n",
      "[2022-04-05 13:05:54,377] EPOCHs No. 2 - PROGRESS: at 58.01% examples, 451128 words/s, in_qsize 79, out_qsize 1\n",
      "[2022-04-05 13:05:56,160] EPOCHs No. 2 - PROGRESS: at 59.01% examples, 450911 words/s, in_qsize 80, out_qsize 0\n",
      "[2022-04-05 13:05:57,924] EPOCHs No. 2 - PROGRESS: at 60.00% examples, 450925 words/s, in_qsize 80, out_qsize 0\n",
      "[2022-04-05 13:06:00,347] EPOCHs No. 2 - PROGRESS: at 61.00% examples, 451691 words/s, in_qsize 79, out_qsize 0\n",
      "[2022-04-05 13:06:02,551] EPOCHs No. 2 - PROGRESS: at 62.01% examples, 452155 words/s, in_qsize 79, out_qsize 0\n",
      "[2022-04-05 13:06:04,578] EPOCHs No. 2 - PROGRESS: at 63.00% examples, 452309 words/s, in_qsize 80, out_qsize 0\n",
      "[2022-04-05 13:06:07,009] EPOCHs No. 2 - PROGRESS: at 64.00% examples, 452681 words/s, in_qsize 79, out_qsize 0\n",
      "[2022-04-05 13:06:08,893] EPOCHs No. 2 - PROGRESS: at 65.00% examples, 452371 words/s, in_qsize 79, out_qsize 0\n",
      "[2022-04-05 13:06:10,758] EPOCHs No. 2 - PROGRESS: at 66.00% examples, 452844 words/s, in_qsize 80, out_qsize 0\n",
      "[2022-04-05 13:06:12,961] EPOCHs No. 2 - PROGRESS: at 67.00% examples, 453410 words/s, in_qsize 80, out_qsize 0\n",
      "[2022-04-05 13:06:15,316] EPOCHs No. 2 - PROGRESS: at 68.00% examples, 453356 words/s, in_qsize 78, out_qsize 1\n",
      "[2022-04-05 13:06:16,903] EPOCHs No. 2 - PROGRESS: at 69.00% examples, 454174 words/s, in_qsize 73, out_qsize 0\n",
      "[2022-04-05 13:06:19,437] EPOCHs No. 2 - PROGRESS: at 70.00% examples, 454060 words/s, in_qsize 78, out_qsize 1\n",
      "[2022-04-05 13:06:21,548] EPOCHs No. 2 - PROGRESS: at 71.00% examples, 454787 words/s, in_qsize 79, out_qsize 0\n",
      "[2022-04-05 13:06:23,829] EPOCHs No. 2 - PROGRESS: at 72.00% examples, 454769 words/s, in_qsize 79, out_qsize 0\n",
      "[2022-04-05 13:06:25,918] EPOCHs No. 2 - PROGRESS: at 73.00% examples, 455348 words/s, in_qsize 80, out_qsize 0\n",
      "[2022-04-05 13:06:27,967] EPOCHs No. 2 - PROGRESS: at 74.01% examples, 455013 words/s, in_qsize 79, out_qsize 0\n",
      "[2022-04-05 13:06:29,945] EPOCHs No. 2 - PROGRESS: at 75.00% examples, 456051 words/s, in_qsize 72, out_qsize 1\n",
      "[2022-04-05 13:06:32,499] EPOCHs No. 2 - PROGRESS: at 76.01% examples, 456577 words/s, in_qsize 79, out_qsize 0\n",
      "[2022-04-05 13:06:34,380] EPOCHs No. 2 - PROGRESS: at 77.00% examples, 457135 words/s, in_qsize 80, out_qsize 0\n",
      "[2022-04-05 13:06:36,738] EPOCHs No. 2 - PROGRESS: at 78.00% examples, 457211 words/s, in_qsize 79, out_qsize 0\n",
      "[2022-04-05 13:06:39,057] EPOCHs No. 2 - PROGRESS: at 79.01% examples, 457672 words/s, in_qsize 79, out_qsize 1\n",
      "[2022-04-05 13:06:41,478] EPOCHs No. 2 - PROGRESS: at 80.00% examples, 457446 words/s, in_qsize 79, out_qsize 0\n",
      "[2022-04-05 13:06:43,749] EPOCHs No. 2 - PROGRESS: at 81.00% examples, 458214 words/s, in_qsize 77, out_qsize 1\n",
      "[2022-04-05 13:06:45,992] EPOCHs No. 2 - PROGRESS: at 82.01% examples, 459055 words/s, in_qsize 23, out_qsize 0\n",
      "[2022-04-05 13:06:46,951] EPOCHs No. 2 - PROGRESS: at 83.01% examples, 458716 words/s, in_qsize 20, out_qsize 0\n",
      "[2022-04-05 13:06:47,598] EPOCHs No. 2 - PROGRESS: at 84.10% examples, 458394 words/s, in_qsize 17, out_qsize 1\n",
      "[2022-04-05 13:06:47,860] EPOCHs No. 2 - PROGRESS: at 85.04% examples, 458675 words/s, in_qsize 2, out_qsize 0\n",
      "[2022-04-05 13:06:48,493] EPOCHs No. 2 - PROGRESS: at 86.05% examples, 458169 words/s, in_qsize 50, out_qsize 0\n",
      "[2022-04-05 13:06:49,051] EPOCHs No. 2 - PROGRESS: at 87.07% examples, 458208 words/s, in_qsize 79, out_qsize 0\n",
      "[2022-04-05 13:06:49,885] EPOCHs No. 2 - PROGRESS: at 88.05% examples, 458196 words/s, in_qsize 80, out_qsize 0\n",
      "[2022-04-05 13:06:51,520] EPOCHs No. 2 - PROGRESS: at 89.01% examples, 458846 words/s, in_qsize 73, out_qsize 0\n",
      "[2022-04-05 13:06:53,678] EPOCHs No. 2 - PROGRESS: at 90.00% examples, 458782 words/s, in_qsize 80, out_qsize 0\n",
      "[2022-04-05 13:06:55,351] EPOCHs No. 2 - PROGRESS: at 91.00% examples, 459407 words/s, in_qsize 70, out_qsize 0\n",
      "[2022-04-05 13:06:57,355] EPOCHs No. 2 - PROGRESS: at 92.01% examples, 459406 words/s, in_qsize 78, out_qsize 0\n",
      "[2022-04-05 13:06:58,891] EPOCHs No. 2 - PROGRESS: at 93.02% examples, 459309 words/s, in_qsize 77, out_qsize 2\n",
      "[2022-04-05 13:07:00,276] EPOCHs No. 2 - PROGRESS: at 94.00% examples, 459695 words/s, in_qsize 79, out_qsize 0\n",
      "[2022-04-05 13:07:01,872] EPOCHs No. 2 - PROGRESS: at 95.02% examples, 459649 words/s, in_qsize 80, out_qsize 0\n",
      "[2022-04-05 13:07:03,344] EPOCHs No. 2 - PROGRESS: at 96.01% examples, 459666 words/s, in_qsize 79, out_qsize 0\n",
      "[2022-04-05 13:07:04,104] EPOCHs No. 2 - PROGRESS: at 97.01% examples, 459972 words/s, in_qsize 59, out_qsize 0\n",
      "[2022-04-05 13:07:04,712] finished iterating over Wikipedia corpus of 20800 documents with 77064242 positions (total 27399 articles, 77105131 positions before pruning articles shorter than 50 words)\n",
      "[2022-04-05 13:07:05,534] EPOCHs No. 2 - PROGRESS: at 98.01% examples, 460442 words/s, in_qsize 42, out_qsize 0\n",
      "[2022-04-05 13:07:05,621] worker thread finished; awaiting finish of 39 more threads\n",
      "[2022-04-05 13:07:05,639] worker thread finished; awaiting finish of 38 more threads\n",
      "[2022-04-05 13:07:05,656] worker thread finished; awaiting finish of 37 more threads\n",
      "[2022-04-05 13:07:05,658] worker thread finished; awaiting finish of 36 more threads\n",
      "[2022-04-05 13:07:05,688] worker thread finished; awaiting finish of 35 more threads\n",
      "[2022-04-05 13:07:05,721] worker thread finished; awaiting finish of 34 more threads\n",
      "[2022-04-05 13:07:05,761] worker thread finished; awaiting finish of 33 more threads\n",
      "[2022-04-05 13:07:05,825] worker thread finished; awaiting finish of 32 more threads\n",
      "[2022-04-05 13:07:05,844] worker thread finished; awaiting finish of 31 more threads\n",
      "[2022-04-05 13:07:05,846] worker thread finished; awaiting finish of 30 more threads\n",
      "[2022-04-05 13:07:05,864] worker thread finished; awaiting finish of 29 more threads\n",
      "[2022-04-05 13:07:05,879] worker thread finished; awaiting finish of 28 more threads\n",
      "[2022-04-05 13:07:05,897] worker thread finished; awaiting finish of 27 more threads\n",
      "[2022-04-05 13:07:05,930] worker thread finished; awaiting finish of 26 more threads\n",
      "[2022-04-05 13:07:05,932] worker thread finished; awaiting finish of 25 more threads\n",
      "[2022-04-05 13:07:05,999] worker thread finished; awaiting finish of 24 more threads\n",
      "[2022-04-05 13:07:06,019] worker thread finished; awaiting finish of 23 more threads\n",
      "[2022-04-05 13:07:06,024] worker thread finished; awaiting finish of 22 more threads\n",
      "[2022-04-05 13:07:06,044] worker thread finished; awaiting finish of 21 more threads\n",
      "[2022-04-05 13:07:06,046] worker thread finished; awaiting finish of 20 more threads\n",
      "[2022-04-05 13:07:06,072] worker thread finished; awaiting finish of 19 more threads\n",
      "[2022-04-05 13:07:06,081] worker thread finished; awaiting finish of 18 more threads\n",
      "[2022-04-05 13:07:06,103] worker thread finished; awaiting finish of 17 more threads\n",
      "[2022-04-05 13:07:06,132] worker thread finished; awaiting finish of 16 more threads\n",
      "[2022-04-05 13:07:06,155] worker thread finished; awaiting finish of 15 more threads\n",
      "[2022-04-05 13:07:06,174] EPOCHs No. 2 - PROGRESS: at 99.01% examples, 460369 words/s, in_qsize 14, out_qsize 1\n",
      "[2022-04-05 13:07:06,176] worker thread finished; awaiting finish of 14 more threads\n",
      "[2022-04-05 13:07:06,180] worker thread finished; awaiting finish of 13 more threads\n",
      "[2022-04-05 13:07:06,208] worker thread finished; awaiting finish of 12 more threads\n",
      "[2022-04-05 13:07:06,228] worker thread finished; awaiting finish of 11 more threads\n",
      "[2022-04-05 13:07:06,248] worker thread finished; awaiting finish of 10 more threads\n",
      "[2022-04-05 13:07:06,259] worker thread finished; awaiting finish of 9 more threads\n",
      "[2022-04-05 13:07:06,272] worker thread finished; awaiting finish of 8 more threads\n",
      "[2022-04-05 13:07:06,277] worker thread finished; awaiting finish of 7 more threads\n",
      "[2022-04-05 13:07:06,289] worker thread finished; awaiting finish of 6 more threads\n",
      "[2022-04-05 13:07:06,301] worker thread finished; awaiting finish of 5 more threads\n",
      "[2022-04-05 13:07:06,333] worker thread finished; awaiting finish of 4 more threads\n",
      "[2022-04-05 13:07:06,342] worker thread finished; awaiting finish of 3 more threads\n",
      "[2022-04-05 13:07:06,346] worker thread finished; awaiting finish of 2 more threads\n",
      "[2022-04-05 13:07:06,364] worker thread finished; awaiting finish of 1 more threads\n",
      "[2022-04-05 13:07:06,372] EPOCHs No. 2 - PROGRESS: at 100.00% examples, 460617 words/s, in_qsize 0, out_qsize 1\n",
      "[2022-04-05 13:07:06,373] worker thread finished; awaiting finish of 0 more threads\n",
      "[2022-04-05 13:07:06,373] EPOCH - 2 : training on 77064242 raw words (90527287 effective words) took 196.5s, 460613 effective words/s\n",
      "[2022-04-05 13:07:12,278] EPOCHs No. 3 - PROGRESS: at 1.01% examples, 201854 words/s, in_qsize 78, out_qsize 0\n",
      "[2022-04-05 13:07:14,609] EPOCHs No. 3 - PROGRESS: at 2.03% examples, 269170 words/s, in_qsize 79, out_qsize 0\n",
      "[2022-04-05 13:07:16,242] EPOCHs No. 3 - PROGRESS: at 3.00% examples, 299883 words/s, in_qsize 80, out_qsize 0\n",
      "[2022-04-05 13:07:18,200] EPOCHs No. 3 - PROGRESS: at 4.00% examples, 333516 words/s, in_qsize 80, out_qsize 1\n"
     ]
    }
   ],
   "source": [
    "logging.info('Training model %s', 'spxM100EMw5')\n",
    "#model = word2vec.Word2Vec(sentences, cbound=False, tbound=False, bound_type='lr', window=5, sg=1, hs=0, negative=5, size=300, sample=1e-3, workers=40, iter=5, min_count=100)\n",
    "model = word2vec.Word2Vec(sentences, window=5, sg=1, hs=0, negative=5, size=300, sample=1e-3, workers=40, iter=5, min_count=100)\n",
    "logging.info('Training done.')\n"
   ]
  },
  {
   "cell_type": "code",
   "execution_count": null,
   "metadata": {
    "ExecuteTime": {
     "start_time": "2022-03-22T15:47:00.906Z"
    }
   },
   "outputs": [],
   "source": [
    "#emb_file = '/mnt/nfs/resdata0/manni/wiki/en_wiki_SPX2_mc1_epoch5_300_filtered_sample.txt'\n",
    "#emb_file = '/mnt/nfs/resdata0/manni/wiki/en_wiki_w2v_mc1_epoch5_300_sample.txt'\n",
    "#emb_file = '/mnt/nfs/resdata0/manni/wiki/en_wiki_SPX2R_mc1_epoch5_300_filtered.txt'\n",
    "#emb_file = '/mnt/nfs/resdata0/manni/wiki/en_wiki_spx2w2v_mc1_epoch5_300.txt'\n",
    "#emb_file = '/mnt/nfs/resdata0/manni/wiki/en_wiki_SPX2_mc1_epoch5_300_con1.txt'\n",
    "#emb_file = '/mnt/nfs/resdata0/manni/wiki/en_wiki_SPX2_mc1_epoch5_300_reversed.txt'\n",
    "#emb_file = '/mnt/nfs/resdata0/manni/wiki/en_wiki_SPX2_mc100_epoch5_300_reversed.txt'\n",
    "#emb_file = '/mnt/nfs/resdata0/manni/wiki/en_wiki_SPX2_mc100_epoch5_300_neg10.txt'\n",
    "#emb_file = '/mnt/nfs/resdata0/manni/wiki/en_wiki_SPX2_mc100_epoch5_300_neg10_w3.txt'\n",
    "#emb_file = '/mnt/nfs/resdata0/manni/wiki/en_wiki_SPX2S_mc100_epoch5_300.txt'\n",
    "#emb_file = '/mnt/nfs/resdata0/manni/wiki/en_wiki_SPX2B_mc100_epoch5_300_sub3.txt'\n",
    "#emb_file = '/mnt/nfs/resdata0/manni/wiki/en_wiki_spx2TB_mc100_epoch5_300_LR.txt'\n",
    "#emb_file = '/mnt/nfs/resdata0/manni/wiki/en_wiki_spx2POS_mc100_epoch5_300.txt'\n",
    "#emb_file = '/mnt/nfs/resdata0/manni/wiki/en_wiki_spx2DEP_mc100_epoch5_300.txt'\n",
    "#emb_file = '/mnt/nfs/resdata0/manni/wiki/en_wiki_spx2LRM3_mc100_epoch5_300.txt'\n",
    "#emb_file = '/mnt/nfs/resdata0/manni/wiki/en_wiki_spx2LOC_mc100_epoch5_300.txt'\n",
    "#emb_file = '/mnt/nfs/resdata0/manni/wiki/en_wiki_spx2_mc100_epoch5_300.txt'\n",
    "#emb_file = '/mnt/nfs/resdata0/manni/wiki/en_wiki_spx2_mc100_epoch5_300_w1.txt'\n",
    "#emb_file = '/mnt/nfs/resdata0/manni/wiki/en_wiki_spx2_mc100_epoch5_300_reversed.txt'\n",
    "#emb_file = '/mnt/nfs/resdata0/manni/wiki/en_wiki_spx_mc100_epoch5_300_loc.txt'\n",
    "#emb_file = '/mnt/nfs/resdata0/manni/wiki/en_wiki_w2v_mc100_epoch5_300_w1.txt'\n",
    "#emb_file = '/mnt/nfs/resdata0/manni/wiki/en_wiki_spx2_mc100_epoch5_300_pos.txt'\n",
    "#emb_file = '/mnt/nfs/resdata0/manni/wiki/en_wiki_spx_mc100_epoch5_300_ent_w10.txt'\n",
    "#emb_file = '/mnt/nfs/resdata0/manni/wiki/en_wiki_spx2_mc100_epoch5_300_dep2_w1.txt'\n",
    "#emb_file = '/mnt/nfs/resdata0/manni/wiki/en_wiki_spx2_mc100_epoch5_300_ent_static_w3.txt'\n",
    "#emb_file = '/mnt/nfs/resdata0/manni/wiki/en_wiki_spx2_mc100_epoch5_300_uns.txt'\n",
    "#emb_file = '/mnt/nfs/resdata0/manni/wiki/en_wiki_spx2_mc100_epoch5_300_unsem.txt'\n",
    "emb_file = '/home/manni/embs/en_wiki_spx_mc100_epoch5_300_em.txt'\n",
    "#emb_file = '/mnt/nfs/resdata0/manni/wiki/en_wiki_spx2_mc100_epoch5_300_uns_w1.txt'"
   ]
  },
  {
   "cell_type": "code",
   "execution_count": null,
   "metadata": {
    "ExecuteTime": {
     "start_time": "2022-03-22T15:47:01.825Z"
    }
   },
   "outputs": [],
   "source": [
    "vocab = model.wv.vocab"
   ]
  },
  {
   "cell_type": "code",
   "execution_count": null,
   "metadata": {
    "ExecuteTime": {
     "start_time": "2022-03-22T15:47:02.858Z"
    }
   },
   "outputs": [],
   "source": [
    "len(vocab)"
   ]
  },
  {
   "cell_type": "code",
   "execution_count": null,
   "metadata": {
    "ExecuteTime": {
     "start_time": "2022-03-22T15:47:03.204Z"
    }
   },
   "outputs": [],
   "source": [
    "vocab.pop('[', None)\n",
    "vocab.pop(']', None)\n",
    "len(vocab)"
   ]
  },
  {
   "cell_type": "code",
   "execution_count": null,
   "metadata": {
    "ExecuteTime": {
     "start_time": "2022-03-22T15:47:04.449Z"
    }
   },
   "outputs": [],
   "source": [
    "logging.info('Save trained word vectors')\n",
    "with open(emb_file, 'w', encoding='utf-8') as f:\n",
    "    f.write('%d %d\\n' % (len(vocab), 300))\n",
    "    for word in tqdm(vocab, position=0):\n",
    "        f.write('%s %s\\n' % (word, ' '.join([str(v) for v in model.wv[word]])))\n",
    "logging.info('Done')"
   ]
  },
  {
   "cell_type": "code",
   "execution_count": null,
   "metadata": {},
   "outputs": [],
   "source": []
  },
  {
   "cell_type": "code",
   "execution_count": null,
   "metadata": {},
   "outputs": [],
   "source": []
  },
  {
   "cell_type": "code",
   "execution_count": null,
   "metadata": {},
   "outputs": [],
   "source": []
  }
 ],
 "metadata": {
  "kernelspec": {
   "display_name": "Python 3",
   "language": "python",
   "name": "python3"
  },
  "language_info": {
   "codemirror_mode": {
    "name": "ipython",
    "version": 3
   },
   "file_extension": ".py",
   "mimetype": "text/x-python",
   "name": "python",
   "nbconvert_exporter": "python",
   "pygments_lexer": "ipython3",
   "version": "3.7.6"
  }
 },
 "nbformat": 4,
 "nbformat_minor": 1
}
