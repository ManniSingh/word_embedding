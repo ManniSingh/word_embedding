{
 "cells": [
  {
   "cell_type": "code",
   "execution_count": 1,
   "id": "3455f5f0",
   "metadata": {
    "ExecuteTime": {
     "end_time": "2022-10-18T12:30:10.124263Z",
     "start_time": "2022-10-18T12:30:08.547119Z"
    }
   },
   "outputs": [],
   "source": [
    "import logging\n",
    "import os\n",
    "\n",
    "import wiki as w # changed wiki to include '[]'\n",
    "import traceback\n",
    "from tqdm import tqdm"
   ]
  },
  {
   "cell_type": "code",
   "execution_count": 2,
   "id": "b3b84762",
   "metadata": {
    "ExecuteTime": {
     "end_time": "2022-10-18T12:30:10.130051Z",
     "start_time": "2022-10-18T12:30:10.126408Z"
    }
   },
   "outputs": [
    {
     "name": "stdout",
     "output_type": "stream",
     "text": [
      "/home/manni/ner-s2s/word_embedding/wiki.py\n"
     ]
    }
   ],
   "source": [
    "print(w.__file__)"
   ]
  },
  {
   "cell_type": "code",
   "execution_count": 3,
   "id": "2d64dc04",
   "metadata": {
    "ExecuteTime": {
     "end_time": "2022-10-18T12:30:11.737006Z",
     "start_time": "2022-10-18T12:30:11.733584Z"
    }
   },
   "outputs": [],
   "source": [
    "#WIKIXML = '/home/manni/data/wiki/enwiki-latest-pages-articles-multistream1.xml-p1p41242.bz2'\n",
    "WIKIXML = '/home/manni/data/wiki/en-28102022.bz2'"
   ]
  },
  {
   "cell_type": "code",
   "execution_count": 4,
   "id": "5cda3874",
   "metadata": {
    "ExecuteTime": {
     "end_time": "2022-10-18T12:30:18.296754Z",
     "start_time": "2022-10-18T12:30:18.289371Z"
    }
   },
   "outputs": [],
   "source": [
    "import sys\n",
    "sys.path.append(\"../../imports/\")\n",
    "import saver as sv"
   ]
  },
  {
   "cell_type": "code",
   "execution_count": 5,
   "id": "2cb8e57a",
   "metadata": {
    "ExecuteTime": {
     "end_time": "2022-10-18T12:30:20.001341Z",
     "start_time": "2022-10-18T12:30:19.998137Z"
    }
   },
   "outputs": [],
   "source": [
    "logging.basicConfig(format='[%(asctime)s] %(message)s', level=logging.INFO)\n",
    "os.makedirs('data/', exist_ok=True)"
   ]
  },
  {
   "cell_type": "code",
   "execution_count": null,
   "id": "e7b1a478",
   "metadata": {
    "ExecuteTime": {
     "start_time": "2022-10-18T12:30:35.167Z"
    }
   },
   "outputs": [
    {
     "name": "stderr",
     "output_type": "stream",
     "text": [
      "[2022-10-18 13:30:35,671] Parsing wiki corpus Altered...\n",
      "[2022-10-18 13:30:35,672] utils.py line 55, Pattern altered to include [ and ] ...\n",
      "[2022-10-18 13:30:37,607] adding document #0 to Dictionary(0 unique tokens: [])\n",
      "[2022-10-18 13:31:28,981] adding document #10000 to Dictionary(467797 unique tokens: ['ability', 'able', 'abolish', 'abolition', 'abstentionism']...)\n"
     ]
    }
   ],
   "source": [
    "wiki_sentences = w.WikiSentences(WIKIXML, 'en',lower=True)"
   ]
  },
  {
   "cell_type": "code",
   "execution_count": null,
   "id": "75be26f1",
   "metadata": {
    "ExecuteTime": {
     "start_time": "2022-10-18T12:30:38.929Z"
    }
   },
   "outputs": [],
   "source": [
    "for sent in wiki_sentences:\n",
    "    print(sent[:100])\n",
    "    break"
   ]
  },
  {
   "cell_type": "code",
   "execution_count": null,
   "id": "7aaf82be",
   "metadata": {
    "ExecuteTime": {
     "start_time": "2022-10-18T12:30:45.962Z"
    }
   },
   "outputs": [],
   "source": [
    "sv.save(wiki_sentences,'sentences')"
   ]
  },
  {
   "cell_type": "code",
   "execution_count": null,
   "id": "e4255339",
   "metadata": {
    "ExecuteTime": {
     "start_time": "2022-10-18T12:30:47.882Z"
    }
   },
   "outputs": [],
   "source": [
    "sentences = sv.load('sentences')"
   ]
  },
  {
   "cell_type": "code",
   "execution_count": null,
   "id": "68e7f845",
   "metadata": {
    "ExecuteTime": {
     "start_time": "2022-10-18T12:30:50.378Z"
    }
   },
   "outputs": [],
   "source": [
    "from multiprocessing import Pool\n",
    "import workers\n",
    "from collections import Counter"
   ]
  },
  {
   "cell_type": "code",
   "execution_count": null,
   "id": "2bac7447",
   "metadata": {
    "ExecuteTime": {
     "start_time": "2022-10-18T12:30:51.092Z"
    }
   },
   "outputs": [],
   "source": [
    "WINDOW = 3\n",
    "TOTAL = sentences.wiki.length"
   ]
  },
  {
   "cell_type": "code",
   "execution_count": null,
   "id": "d0a073e4",
   "metadata": {
    "ExecuteTime": {
     "start_time": "2022-10-18T12:30:55.035Z"
    }
   },
   "outputs": [],
   "source": [
    "results = list()\n",
    "if __name__ == \"__main__\":\n",
    "    with Pool(processes=40) as pool:\n",
    "        results = list(pool.apply_async(workers.getTuples, args=(sent,WINDOW)) \\\n",
    "                       for sent in tqdm(sentences,position=0,total=TOTAL))\n",
    "        results = [r.get() for r in results if r.get()]"
   ]
  },
  {
   "cell_type": "code",
   "execution_count": null,
   "id": "207d6432",
   "metadata": {
    "ExecuteTime": {
     "start_time": "2022-10-18T12:30:57.937Z"
    }
   },
   "outputs": [],
   "source": [
    "results = [item for sublist in results for item in sublist]"
   ]
  },
  {
   "cell_type": "code",
   "execution_count": null,
   "id": "a9fba46d",
   "metadata": {
    "ExecuteTime": {
     "start_time": "2022-10-18T12:30:59.280Z"
    }
   },
   "outputs": [],
   "source": [
    "c = Counter(results)\n",
    "sv.save(dict(c),'PairFreqs')"
   ]
  },
  {
   "cell_type": "code",
   "execution_count": null,
   "id": "0412b3fe",
   "metadata": {},
   "outputs": [],
   "source": []
  }
 ],
 "metadata": {
  "kernelspec": {
   "display_name": "Python 3 (ipykernel)",
   "language": "python",
   "name": "python3"
  },
  "language_info": {
   "codemirror_mode": {
    "name": "ipython",
    "version": 3
   },
   "file_extension": ".py",
   "mimetype": "text/x-python",
   "name": "python",
   "nbconvert_exporter": "python",
   "pygments_lexer": "ipython3",
   "version": "3.8.0"
  }
 },
 "nbformat": 4,
 "nbformat_minor": 5
}
