{
 "cells": [
  {
   "cell_type": "code",
   "execution_count": null,
   "id": "2cb03067",
   "metadata": {
    "ExecuteTime": {
     "end_time": "2022-10-18T12:30:10.124263Z",
     "start_time": "2022-10-18T12:30:08.547119Z"
    }
   },
   "outputs": [],
   "source": [
    "import logging\n",
    "import os\n",
    "\n",
    "import wiki as w # changed wiki to include '[]'\n",
    "import traceback\n",
    "from tqdm import tqdm"
   ]
  },
  {
   "cell_type": "code",
   "execution_count": null,
   "id": "5386b268",
   "metadata": {
    "ExecuteTime": {
     "end_time": "2022-10-18T12:30:10.130051Z",
     "start_time": "2022-10-18T12:30:10.126408Z"
    }
   },
   "outputs": [],
   "source": [
    "print(w.__file__)"
   ]
  },
  {
   "cell_type": "code",
   "execution_count": null,
   "id": "7f152da5",
   "metadata": {
    "ExecuteTime": {
     "end_time": "2022-10-18T12:30:11.737006Z",
     "start_time": "2022-10-18T12:30:11.733584Z"
    }
   },
   "outputs": [],
   "source": [
    "#WIKIXML = '/home/manni/data/wiki/enwiki-latest-pages-articles-multistream1.xml-p1p41242.bz2'\n",
    "WIKIXML = '/home/manni/data/wiki/en-28102022.bz2'"
   ]
  },
  {
   "cell_type": "code",
   "execution_count": null,
   "id": "a479cf57",
   "metadata": {
    "ExecuteTime": {
     "end_time": "2022-10-18T12:30:18.296754Z",
     "start_time": "2022-10-18T12:30:18.289371Z"
    }
   },
   "outputs": [],
   "source": [
    "import sys\n",
    "sys.path.append(\"../../imports/\")\n",
    "import saver as sv"
   ]
  },
  {
   "cell_type": "code",
   "execution_count": null,
   "id": "0c8c9da6",
   "metadata": {
    "ExecuteTime": {
     "end_time": "2022-10-18T12:30:20.001341Z",
     "start_time": "2022-10-18T12:30:19.998137Z"
    }
   },
   "outputs": [],
   "source": [
    "logging.basicConfig(format='[%(asctime)s] %(message)s', level=logging.INFO)\n",
    "os.makedirs('data/', exist_ok=True)"
   ]
  },
  {
   "cell_type": "code",
   "execution_count": null,
   "id": "268f9105",
   "metadata": {
    "ExecuteTime": {
     "end_time": "2022-10-18T16:03:14.115276Z",
     "start_time": "2022-10-18T12:30:35.669913Z"
    }
   },
   "outputs": [],
   "source": [
    "wiki_sentences = w.WikiSentences(WIKIXML, 'en',lower=True)"
   ]
  },
  {
   "cell_type": "code",
   "execution_count": null,
   "id": "df2e0767",
   "metadata": {
    "ExecuteTime": {
     "end_time": "2022-10-18T16:03:16.955374Z",
     "start_time": "2022-10-18T16:03:14.118268Z"
    }
   },
   "outputs": [],
   "source": [
    "for sent in wiki_sentences:\n",
    "    print(sent[:100])\n",
    "    break"
   ]
  },
  {
   "cell_type": "code",
   "execution_count": null,
   "id": "9431e892",
   "metadata": {
    "ExecuteTime": {
     "end_time": "2022-10-18T16:03:19.126106Z",
     "start_time": "2022-10-18T16:03:16.957731Z"
    }
   },
   "outputs": [],
   "source": [
    "sv.save(wiki_sentences,'sentences')"
   ]
  },
  {
   "cell_type": "code",
   "execution_count": null,
   "id": "064b68cb",
   "metadata": {
    "ExecuteTime": {
     "end_time": "2022-10-18T16:03:20.516991Z",
     "start_time": "2022-10-18T16:03:19.128737Z"
    }
   },
   "outputs": [],
   "source": [
    "sentences = sv.load('sentences')"
   ]
  },
  {
   "cell_type": "code",
   "execution_count": null,
   "id": "8700bed7",
   "metadata": {
    "ExecuteTime": {
     "end_time": "2022-10-18T16:03:20.531666Z",
     "start_time": "2022-10-18T16:03:20.518422Z"
    }
   },
   "outputs": [],
   "source": [
    "from multiprocessing import Pool\n",
    "import workers\n",
    "from collections import Counter"
   ]
  },
  {
   "cell_type": "code",
   "execution_count": null,
   "id": "dc4cb3e5",
   "metadata": {
    "ExecuteTime": {
     "end_time": "2022-10-18T16:03:20.535601Z",
     "start_time": "2022-10-18T16:03:20.533211Z"
    }
   },
   "outputs": [],
   "source": [
    "WINDOW = 3\n",
    "TOTAL = sentences.wiki.length"
   ]
  },
  {
   "cell_type": "code",
   "execution_count": null,
   "id": "a3433d7e",
   "metadata": {
    "ExecuteTime": {
     "start_time": "2022-10-18T12:30:55.035Z"
    }
   },
   "outputs": [],
   "source": [
    "results = list()\n",
    "if __name__ == \"__main__\":\n",
    "    with Pool(processes=40) as pool:\n",
    "        results = list(pool.apply_async(workers.getTuples, args=(sent,WINDOW)) \\\n",
    "                       for sent in tqdm(sentences,position=0,total=TOTAL))\n",
    "        results = [r.get() for r in results if r.get()]"
   ]
  },
  {
   "cell_type": "code",
   "execution_count": null,
   "id": "10cd333d",
   "metadata": {
    "ExecuteTime": {
     "start_time": "2022-10-18T12:30:57.937Z"
    }
   },
   "outputs": [],
   "source": [
    "results = [item for sublist in results for item in sublist]"
   ]
  },
  {
   "cell_type": "code",
   "execution_count": null,
   "id": "4ed6875b",
   "metadata": {
    "ExecuteTime": {
     "start_time": "2022-10-18T12:30:59.280Z"
    }
   },
   "outputs": [],
   "source": [
    "c = Counter(results)\n",
    "sv.save(dict(c),'PairFreqs')"
   ]
  },
  {
   "cell_type": "code",
   "execution_count": null,
   "id": "825b927f",
   "metadata": {},
   "outputs": [],
   "source": []
  }
 ],
 "metadata": {
  "kernelspec": {
   "display_name": "Python 3 (ipykernel)",
   "language": "python",
   "name": "python3"
  },
  "language_info": {
   "codemirror_mode": {
    "name": "ipython",
    "version": 3
   },
   "file_extension": ".py",
   "mimetype": "text/x-python",
   "name": "python",
   "nbconvert_exporter": "python",
   "pygments_lexer": "ipython3",
   "version": "3.8.0"
  }
 },
 "nbformat": 4,
 "nbformat_minor": 5
}
