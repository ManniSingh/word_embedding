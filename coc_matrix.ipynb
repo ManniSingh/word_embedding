{
 "cells": [
  {
   "cell_type": "code",
   "execution_count": 1,
   "id": "0c6888aa",
   "metadata": {
    "ExecuteTime": {
     "end_time": "2022-11-16T11:24:36.741155Z",
     "start_time": "2022-11-16T11:24:34.792800Z"
    }
   },
   "outputs": [],
   "source": [
    "import logging\n",
    "import os\n",
    "\n",
    "import wiki as w # changed wiki to include '[]'\n",
    "import traceback\n",
    "from tqdm import tqdm\n",
    "import numpy as np\n",
    "from nltk.corpus import wordnet as wn\n",
    "import re\n",
    "from nltk.corpus import stopwords\n",
    "stopwords = stopwords.words('english')\n",
    "from nltk.stem import WordNetLemmatizer\n",
    "  \n",
    "lemmatizer = WordNetLemmatizer()\n",
    "from multiprocessing import Pool\n",
    "import workers"
   ]
  },
  {
   "cell_type": "code",
   "execution_count": 2,
   "id": "51b68a66",
   "metadata": {
    "ExecuteTime": {
     "end_time": "2022-11-16T11:24:36.747336Z",
     "start_time": "2022-11-16T11:24:36.743434Z"
    }
   },
   "outputs": [
    {
     "name": "stdout",
     "output_type": "stream",
     "text": [
      "/home/manni/ner-s2s/word_embedding/wiki.py\n"
     ]
    }
   ],
   "source": [
    "print(w.__file__)"
   ]
  },
  {
   "cell_type": "code",
   "execution_count": 5,
   "id": "282ee596",
   "metadata": {
    "ExecuteTime": {
     "end_time": "2022-11-16T11:24:43.276741Z",
     "start_time": "2022-11-16T11:24:43.274440Z"
    }
   },
   "outputs": [],
   "source": [
    "#WIKIXML = '/home/manni/data/wiki/enwiki-latest-pages-articles-multistream1.xml-p1p41242.bz2'\n",
    "WIKIXML = '/home/manni/data/wiki/enwiki-20221020-pages-articles9.xml-p2936261p4045402.bz2'"
   ]
  },
  {
   "cell_type": "code",
   "execution_count": 3,
   "id": "d6d9550a",
   "metadata": {
    "ExecuteTime": {
     "end_time": "2022-11-16T11:24:38.709023Z",
     "start_time": "2022-11-16T11:24:38.706313Z"
    }
   },
   "outputs": [],
   "source": [
    "import sys\n",
    "sys.path.append(\"../../imports/\")\n",
    "import saver as sv"
   ]
  },
  {
   "cell_type": "code",
   "execution_count": 4,
   "id": "6c8ce247",
   "metadata": {
    "ExecuteTime": {
     "end_time": "2022-11-16T11:24:40.524497Z",
     "start_time": "2022-11-16T11:24:40.520988Z"
    }
   },
   "outputs": [],
   "source": [
    "logging.basicConfig(format='[%(asctime)s] %(message)s', level=logging.INFO)\n",
    "os.makedirs('data/', exist_ok=True)"
   ]
  },
  {
   "cell_type": "markdown",
   "id": "85eedf93",
   "metadata": {
    "heading_collapsed": true
   },
   "source": [
    "## skip if loaded"
   ]
  },
  {
   "cell_type": "code",
   "execution_count": null,
   "id": "e307d888",
   "metadata": {
    "ExecuteTime": {
     "end_time": "2022-11-02T09:47:31.592310Z",
     "start_time": "2022-11-02T09:47:24.612410Z"
    },
    "hidden": true
   },
   "outputs": [],
   "source": [
    "wiki_sentences = w.WikiSentences(WIKIXML, 'en',lower=True)"
   ]
  },
  {
   "cell_type": "code",
   "execution_count": null,
   "id": "786bf096",
   "metadata": {
    "ExecuteTime": {
     "end_time": "2022-11-02T09:47:31.595068Z",
     "start_time": "2022-11-02T09:47:31.595043Z"
    },
    "hidden": true
   },
   "outputs": [],
   "source": [
    "for sent in wiki_sentences:\n",
    "    print(sent[:100])\n",
    "    break"
   ]
  },
  {
   "cell_type": "code",
   "execution_count": null,
   "id": "5d5512af",
   "metadata": {
    "ExecuteTime": {
     "end_time": "2022-11-01T07:02:32.751434Z",
     "start_time": "2022-11-01T07:02:31.574952Z"
    },
    "hidden": true
   },
   "outputs": [],
   "source": [
    "sv.save(wiki_sentences,'sentences_temp')"
   ]
  },
  {
   "cell_type": "markdown",
   "id": "4e33dd79",
   "metadata": {},
   "source": [
    "## load sentences"
   ]
  },
  {
   "cell_type": "code",
   "execution_count": null,
   "id": "ea5bc21a",
   "metadata": {
    "ExecuteTime": {
     "end_time": "2022-11-03T08:05:30.314516Z",
     "start_time": "2022-11-03T08:05:29.256557Z"
    }
   },
   "outputs": [],
   "source": [
    "sentences = sv.load('sentences_temp')"
   ]
  },
  {
   "cell_type": "code",
   "execution_count": null,
   "id": "702fe029",
   "metadata": {
    "ExecuteTime": {
     "end_time": "2022-11-03T08:05:41.515378Z",
     "start_time": "2022-11-03T08:05:41.508585Z"
    }
   },
   "outputs": [],
   "source": [
    "from collections import Counter"
   ]
  },
  {
   "cell_type": "code",
   "execution_count": null,
   "id": "58a25fba",
   "metadata": {
    "ExecuteTime": {
     "end_time": "2022-11-03T08:05:41.687897Z",
     "start_time": "2022-11-03T08:05:41.685559Z"
    }
   },
   "outputs": [],
   "source": [
    "WINDOW = 5\n",
    "TOTAL = sentences.wiki.length"
   ]
  },
  {
   "cell_type": "code",
   "execution_count": null,
   "id": "48fda8d3",
   "metadata": {
    "ExecuteTime": {
     "end_time": "2022-11-01T07:13:56.327034Z",
     "start_time": "2022-11-01T07:13:56.322669Z"
    }
   },
   "outputs": [],
   "source": [
    "#https://gist.github.com/nwjlyons/621fabfc0d4c1119b2ad338f615ce4ef\n",
    "def chunks(generator, chunk_size):\n",
    "    \"\"\"Yield successive chunks from a generator\"\"\"\n",
    "    chunk = []\n",
    "\n",
    "    for item in generator:\n",
    "        if len(chunk) >= chunk_size:\n",
    "            yield chunk\n",
    "            chunk = [item]\n",
    "        else:\n",
    "            chunk.append(item)\n",
    "\n",
    "    if chunk:\n",
    "        yield chunk"
   ]
  },
  {
   "cell_type": "markdown",
   "id": "9775e6d2",
   "metadata": {
    "heading_collapsed": true
   },
   "source": [
    "## tuples"
   ]
  },
  {
   "cell_type": "code",
   "execution_count": null,
   "id": "46054efa",
   "metadata": {
    "ExecuteTime": {
     "end_time": "2022-11-01T07:21:00.640100Z",
     "start_time": "2022-11-01T07:14:00.964575Z"
    },
    "hidden": true
   },
   "outputs": [],
   "source": [
    "results = list()\n",
    "if __name__ == \"__main__\":\n",
    "    with Pool(processes=40) as pool:\n",
    "        results = list(pool.apply_async(workers.getTuples, args=(sent,WINDOW)) \\\n",
    "                       for sent in tqdm(sentences,position=0,total=TOTAL))\n",
    "        results = [r.get() for r in results if r.get()]"
   ]
  },
  {
   "cell_type": "code",
   "execution_count": null,
   "id": "29bb2ab8",
   "metadata": {
    "ExecuteTime": {
     "end_time": "2022-11-01T07:21:24.466828Z",
     "start_time": "2022-11-01T07:21:00.642668Z"
    },
    "hidden": true
   },
   "outputs": [],
   "source": [
    "results = [item for sublist in results for item in sublist]"
   ]
  },
  {
   "cell_type": "code",
   "execution_count": null,
   "id": "fcb4da5f",
   "metadata": {
    "ExecuteTime": {
     "end_time": "2022-11-01T07:28:59.884413Z",
     "start_time": "2022-11-01T07:21:24.469225Z"
    },
    "hidden": true
   },
   "outputs": [],
   "source": [
    "c = Counter(results)\n",
    "sv.save(dict(c),'PairFreqs')"
   ]
  },
  {
   "cell_type": "code",
   "execution_count": null,
   "id": "2befebc8",
   "metadata": {
    "ExecuteTime": {
     "end_time": "2022-11-03T08:40:01.705061Z",
     "start_time": "2022-11-03T08:38:38.006319Z"
    },
    "hidden": true
   },
   "outputs": [],
   "source": [
    "pairfreqs = sv.load('PairFreqs')"
   ]
  },
  {
   "cell_type": "markdown",
   "id": "9b47e1aa",
   "metadata": {
    "heading_collapsed": true
   },
   "source": [
    "## Triples"
   ]
  },
  {
   "cell_type": "code",
   "execution_count": null,
   "id": "98a472be",
   "metadata": {
    "ExecuteTime": {
     "end_time": "2022-11-02T10:39:12.484616Z",
     "start_time": "2022-11-02T10:22:59.773991Z"
    },
    "hidden": true
   },
   "outputs": [],
   "source": [
    "results = list()\n",
    "if __name__ == \"__main__\":\n",
    "    with Pool(processes=40) as pool:\n",
    "        results = list(pool.apply_async(workers.getTriples, args=(sent,WINDOW)) \\\n",
    "                       for sent in tqdm(sentences,position=0,total=TOTAL))\n",
    "        results = [r.get() for r in results if r.get()]\n",
    "        \n",
    "results = [item for sublist in results for item in sublist]\n",
    "c = Counter(results)\n",
    "sv.save(dict(c),'TripleFreqs')"
   ]
  },
  {
   "cell_type": "code",
   "execution_count": null,
   "id": "330406d7",
   "metadata": {
    "ExecuteTime": {
     "end_time": "2022-11-02T10:43:10.534138Z",
     "start_time": "2022-11-02T10:39:12.487486Z"
    },
    "hidden": true
   },
   "outputs": [],
   "source": [
    "triplefreqs = sv.load('TripleFreqs')"
   ]
  },
  {
   "cell_type": "markdown",
   "id": "34d4c42c",
   "metadata": {
    "heading_collapsed": true
   },
   "source": [
    "## Analysis"
   ]
  },
  {
   "cell_type": "code",
   "execution_count": null,
   "id": "baa7e86b",
   "metadata": {
    "ExecuteTime": {
     "end_time": "2022-11-06T10:19:21.775271Z",
     "start_time": "2022-11-06T10:19:21.039456Z"
    },
    "hidden": true
   },
   "outputs": [],
   "source": [
    "word_desc = sv.load('word_desc')"
   ]
  },
  {
   "cell_type": "code",
   "execution_count": null,
   "id": "85b4e348",
   "metadata": {
    "ExecuteTime": {
     "end_time": "2022-11-02T10:43:25.209566Z",
     "start_time": "2022-11-02T10:43:10.536710Z"
    },
    "hidden": true
   },
   "outputs": [],
   "source": [
    "list(triplefreqs.keys())[:10]"
   ]
  },
  {
   "cell_type": "code",
   "execution_count": null,
   "id": "06a89f54",
   "metadata": {
    "ExecuteTime": {
     "end_time": "2022-11-02T09:47:11.341608Z",
     "start_time": "2022-11-02T09:47:11.334583Z"
    },
    "hidden": true
   },
   "outputs": [],
   "source": [
    "list(pairfreqs.keys())[:10]"
   ]
  },
  {
   "cell_type": "code",
   "execution_count": null,
   "id": "791aab3f",
   "metadata": {
    "ExecuteTime": {
     "end_time": "2022-11-01T07:50:10.386820Z",
     "start_time": "2022-11-01T07:50:10.383213Z"
    },
    "hidden": true
   },
   "outputs": [],
   "source": [
    "pairfreqs[('david', 'queensland')]"
   ]
  },
  {
   "cell_type": "code",
   "execution_count": null,
   "id": "c0e01d91",
   "metadata": {
    "ExecuteTime": {
     "end_time": "2022-11-06T09:19:25.023244Z",
     "start_time": "2022-11-06T09:19:25.016674Z"
    },
    "hidden": true
   },
   "outputs": [],
   "source": [
    "def get_pair_score(w1,w2,sentences):\n",
    "    pair = [w1,w2]\n",
    "    pair.sort()\n",
    "    pair = tuple(pair)\n",
    "    score = pairfreqs[pair]\n",
    "    #div = max(get_cfs(w1,sentences),get_cfs(w2,sentences))\n",
    "    return score\n",
    "def _get_triple_score(w1,w2,w3):\n",
    "    pair = [w1,w2,w3]\n",
    "    pair.sort()\n",
    "    pair = tuple(pair)\n",
    "    return triplefreqs[pair]\n",
    "def get_cfs(word,sentences):\n",
    "    if word in sentences.wiki.dictionary.token2id: \n",
    "        id_ = sentences.wiki.dictionary.token2id[word]\n",
    "        return sentences.wiki.dictionary.cfs[id_]\n",
    "    else:\n",
    "        return 0\n",
    "def get_dfs(word,sentences):\n",
    "    if word in sentences.wiki.dictionary.token2id: \n",
    "        id_ = sentences.wiki.dictionary.token2id[word]\n",
    "        return sentences.wiki.dictionary.dfs[id_]\n",
    "    else:\n",
    "        return 0"
   ]
  },
  {
   "cell_type": "code",
   "execution_count": null,
   "id": "a28fdcd2",
   "metadata": {
    "ExecuteTime": {
     "end_time": "2022-11-02T08:52:54.202317Z",
     "start_time": "2022-11-02T08:52:54.198574Z"
    },
    "hidden": true
   },
   "outputs": [],
   "source": [
    "get_cfs('stagg',sentences)"
   ]
  },
  {
   "cell_type": "code",
   "execution_count": null,
   "id": "200ca5f2",
   "metadata": {
    "ExecuteTime": {
     "end_time": "2022-11-04T09:24:28.007293Z",
     "start_time": "2022-11-04T09:24:28.001765Z"
    },
    "hidden": true
   },
   "outputs": [],
   "source": [
    "def get_score(w1,w2,sentences):\n",
    "    cf1 = get_cfs(w1,sentences)\n",
    "    cf2 = get_cfs(w2,sentences)\n",
    "    den = max(cf1,cf2)\n",
    "    try:\n",
    "        num = get_pair_score(w1, w2)\n",
    "    except:\n",
    "        return 0\n",
    "    return num/den\n",
    "def get_triple_score(w1,w2,w3,sentences):\n",
    "    cf1 = get_cfs(w1,sentences)\n",
    "    cf2 = get_cfs(w2,sentences)\n",
    "    cf3 = get_cfs(w3,sentences)\n",
    "    den = max(cf1,cf2,cf3)\n",
    "    num = _get_triple_score(w1, w2, w3)\n",
    "    return num/den"
   ]
  },
  {
   "cell_type": "code",
   "execution_count": null,
   "id": "ddf76bef",
   "metadata": {
    "ExecuteTime": {
     "end_time": "2022-11-02T10:17:41.284476Z",
     "start_time": "2022-11-02T10:17:41.271771Z"
    },
    "hidden": true
   },
   "outputs": [],
   "source": [
    "get_score('river','current',sentences)"
   ]
  },
  {
   "cell_type": "code",
   "execution_count": null,
   "id": "bc4a7205",
   "metadata": {
    "ExecuteTime": {
     "end_time": "2022-11-02T08:52:57.720094Z",
     "start_time": "2022-11-02T08:52:57.716290Z"
    },
    "hidden": true
   },
   "outputs": [],
   "source": [
    "get_score('river','part',sentences)"
   ]
  },
  {
   "cell_type": "code",
   "execution_count": null,
   "id": "fd229a6c",
   "metadata": {
    "ExecuteTime": {
     "end_time": "2022-11-02T08:53:01.580590Z",
     "start_time": "2022-11-02T08:53:01.576925Z"
    },
    "hidden": true
   },
   "outputs": [],
   "source": [
    "get_cfs('river',sentences)"
   ]
  },
  {
   "cell_type": "code",
   "execution_count": null,
   "id": "023ebaf7",
   "metadata": {
    "ExecuteTime": {
     "end_time": "2022-11-02T08:53:02.918203Z",
     "start_time": "2022-11-02T08:53:02.914590Z"
    },
    "hidden": true
   },
   "outputs": [],
   "source": [
    "get_cfs('current',sentences)"
   ]
  },
  {
   "cell_type": "code",
   "execution_count": null,
   "id": "88bced87",
   "metadata": {
    "ExecuteTime": {
     "end_time": "2022-11-02T08:53:04.636163Z",
     "start_time": "2022-11-02T08:53:04.632555Z"
    },
    "hidden": true
   },
   "outputs": [],
   "source": [
    "get_cfs('part',sentences)"
   ]
  },
  {
   "cell_type": "code",
   "execution_count": null,
   "id": "bd88e023",
   "metadata": {
    "ExecuteTime": {
     "end_time": "2022-11-02T08:53:10.109553Z",
     "start_time": "2022-11-02T08:53:10.105992Z"
    },
    "hidden": true
   },
   "outputs": [],
   "source": [
    "get_pair_score('river','current')"
   ]
  },
  {
   "cell_type": "code",
   "execution_count": null,
   "id": "66477ef4",
   "metadata": {
    "ExecuteTime": {
     "end_time": "2022-11-02T08:53:10.774953Z",
     "start_time": "2022-11-02T08:53:10.771376Z"
    },
    "hidden": true
   },
   "outputs": [],
   "source": [
    "get_pair_score('river','part')"
   ]
  },
  {
   "cell_type": "code",
   "execution_count": null,
   "id": "ebf1af79",
   "metadata": {
    "ExecuteTime": {
     "end_time": "2022-11-02T10:18:02.353675Z",
     "start_time": "2022-11-02T10:18:02.350945Z"
    },
    "hidden": true
   },
   "outputs": [],
   "source": [
    "tokens = list(word2desc['rapid'][0])"
   ]
  },
  {
   "cell_type": "code",
   "execution_count": null,
   "id": "60914c58",
   "metadata": {
    "ExecuteTime": {
     "end_time": "2022-11-02T11:58:44.335858Z",
     "start_time": "2022-11-02T11:58:44.326844Z"
    },
    "hidden": true,
    "scrolled": true
   },
   "outputs": [],
   "source": [
    "total = len(tokens)\n",
    "for i in range(total):\n",
    "    for j in range(i+1,total):\n",
    "        a = tokens[i]\n",
    "        b = tokens[j]\n",
    "        try:\n",
    "            print(a,b,get_pair_score(a,b))\n",
    "        except:\n",
    "            print(a,b,0)\n",
    "            continue"
   ]
  },
  {
   "cell_type": "code",
   "execution_count": null,
   "id": "c4c41fa1",
   "metadata": {
    "ExecuteTime": {
     "end_time": "2022-11-02T12:00:03.034068Z",
     "start_time": "2022-11-02T12:00:03.030676Z"
    },
    "hidden": true
   },
   "outputs": [],
   "source": [
    "for token in tokens:\n",
    "    print(token,get_cfs(token,sentences))"
   ]
  },
  {
   "cell_type": "code",
   "execution_count": null,
   "id": "f8665645",
   "metadata": {
    "ExecuteTime": {
     "end_time": "2022-11-02T12:05:42.248761Z",
     "start_time": "2022-11-02T12:05:42.241604Z"
    },
    "hidden": true
   },
   "outputs": [],
   "source": [
    "total = len(tokens)\n",
    "for i in range(total):\n",
    "    for j in range(i+1,total):\n",
    "        a = tokens[i]\n",
    "        b = tokens[j]\n",
    "        try:\n",
    "            print(a,b,get_score(a,b,sentences))\n",
    "        except:\n",
    "            print(a,b,0)\n",
    "            continue"
   ]
  },
  {
   "cell_type": "code",
   "execution_count": null,
   "id": "6c81d16c",
   "metadata": {
    "ExecuteTime": {
     "end_time": "2022-11-02T10:51:12.594197Z",
     "start_time": "2022-11-02T10:51:12.584248Z"
    },
    "hidden": true
   },
   "outputs": [],
   "source": [
    "total = len(tokens)\n",
    "for i in range(total):\n",
    "    for j in range(i+1,total):\n",
    "        for k in range(j+1,total):\n",
    "            a = tokens[i]\n",
    "            b = tokens[j]\n",
    "            c = tokens[k]\n",
    "            print('NOT FOUND:',a,b,c)\n",
    "            try:\n",
    "                print(a,b,c,_get_triple_score(a,b,c))\n",
    "            except:\n",
    "                continue"
   ]
  },
  {
   "cell_type": "code",
   "execution_count": null,
   "id": "c629f517",
   "metadata": {
    "ExecuteTime": {
     "end_time": "2022-11-03T09:25:21.125028Z",
     "start_time": "2022-11-03T09:25:21.122215Z"
    },
    "hidden": true
   },
   "outputs": [],
   "source": [
    "tokens = list(word2desc['rapid'][0])"
   ]
  },
  {
   "cell_type": "code",
   "execution_count": null,
   "id": "5600ade0",
   "metadata": {
    "ExecuteTime": {
     "end_time": "2022-11-02T12:30:18.666497Z",
     "start_time": "2022-11-02T12:30:18.663578Z"
    },
    "hidden": true
   },
   "outputs": [],
   "source": [
    "tokens = list(word2desc['rapid'][1])\n",
    "print(tokens)"
   ]
  },
  {
   "cell_type": "code",
   "execution_count": null,
   "id": "ba227c65",
   "metadata": {
    "ExecuteTime": {
     "end_time": "2022-11-05T05:06:24.142639Z",
     "start_time": "2022-11-05T05:06:24.137652Z"
    },
    "hidden": true
   },
   "outputs": [],
   "source": [
    "def odd_ones(tokens,sentences,verbose=False):\n",
    "    for token in tokens:\n",
    "        num = 0\n",
    "        for _token in tokens: \n",
    "            if token!=_token:\n",
    "                try:\n",
    "                    score = get_pair_score(token,_token,sentences)\n",
    "                    if verbose:\n",
    "                        print(token,_token,score)\n",
    "                    num += score\n",
    "                except:\n",
    "                    if verbose:\n",
    "                        print(token,_token,0)\n",
    "                    continue\n",
    "        den = get_cfs(token,sentences)\n",
    "        if den == 0:\n",
    "            print(token,0)\n",
    "        else:\n",
    "            print(token,num/den)    \n",
    "        print('___________')"
   ]
  },
  {
   "cell_type": "code",
   "execution_count": null,
   "id": "ed94889d",
   "metadata": {
    "ExecuteTime": {
     "end_time": "2022-11-06T09:28:48.280896Z",
     "start_time": "2022-11-06T09:28:48.274336Z"
    },
    "hidden": true
   },
   "outputs": [],
   "source": [
    "def odd_ones(tokens,sentences,verbose=False):\n",
    "    for token in tokens:\n",
    "        num = 0\n",
    "        for _token in tokens: \n",
    "            if token!=_token:\n",
    "                try:\n",
    "                    score = get_pair_score(token,_token,sentences)\n",
    "                    if verbose:\n",
    "                        print(token,_token,score)\n",
    "                    num += score\n",
    "                except:\n",
    "                    if verbose:\n",
    "                        print(token,_token,0)\n",
    "                    continue\n",
    "        den = get_cfs(token,sentences)\n",
    "        if den == 0:\n",
    "            print(token,0)\n",
    "        else:\n",
    "            print(token,num/den)    \n",
    "        print('___________')"
   ]
  },
  {
   "cell_type": "code",
   "execution_count": null,
   "id": "aa5ba777",
   "metadata": {
    "ExecuteTime": {
     "end_time": "2022-11-02T12:30:25.824177Z",
     "start_time": "2022-11-02T12:30:25.813944Z"
    },
    "hidden": true
   },
   "outputs": [],
   "source": [
    "odd_ones(tokens,sentences)"
   ]
  },
  {
   "cell_type": "markdown",
   "id": "2095b846",
   "metadata": {
    "heading_collapsed": true
   },
   "source": [
    "# wordnet exploration"
   ]
  },
  {
   "cell_type": "code",
   "execution_count": null,
   "id": "68378f11",
   "metadata": {
    "ExecuteTime": {
     "end_time": "2022-11-07T04:48:28.186648Z",
     "start_time": "2022-11-07T04:48:28.180821Z"
    },
    "hidden": true
   },
   "outputs": [],
   "source": [
    "wn.synsets('rapid')"
   ]
  },
  {
   "cell_type": "code",
   "execution_count": null,
   "id": "eee95084",
   "metadata": {
    "ExecuteTime": {
     "end_time": "2022-11-07T04:52:32.923892Z",
     "start_time": "2022-11-07T04:52:32.921060Z"
    },
    "hidden": true
   },
   "outputs": [],
   "source": [
    "sense = wn.synsets('rapid')[0]"
   ]
  },
  {
   "cell_type": "code",
   "execution_count": null,
   "id": "0c73a42e",
   "metadata": {
    "ExecuteTime": {
     "end_time": "2022-11-07T04:52:36.068136Z",
     "start_time": "2022-11-07T04:52:36.064274Z"
    },
    "hidden": true
   },
   "outputs": [],
   "source": [
    "[str(lemma.name()) for lemma in sense.lemmas()]"
   ]
  },
  {
   "cell_type": "code",
   "execution_count": null,
   "id": "dbbf834a",
   "metadata": {
    "ExecuteTime": {
     "end_time": "2022-11-09T09:23:35.496692Z",
     "start_time": "2022-11-09T09:23:35.488166Z"
    },
    "hidden": true
   },
   "outputs": [],
   "source": [
    "def display(target):\n",
    "    target_senses = wn.synsets(target)\n",
    "    for target in target_senses:\n",
    "        print(target)\n",
    "        #print(target.lexname())\n",
    "        print([(l.name(),l.synset()) for l in target.lemmas()])\n",
    "        print(target.definition())\n",
    "        print('Hyponyms:',[(lemma.name(),lemma.synset()) for _target in target.hyponyms() for lemma in _target.lemmas()])\n",
    "        print('Hypernyms:',[(lemma.name(),lemma.synset()) for _target in target.hypernyms() for lemma in _target.lemmas()])\n",
    "        print('Holonyms:',target.member_holonyms())\n",
    "        print('Derivation:',[(lemma.name(),lemma.synset()) for lemma in target.lemmas() for lname in lemma.derivationally_related_forms()])\n",
    "        print('Pertainyms:',[(lemma.name(),lemma.synset()) for lemma in target.lemmas() for lname in lemma.pertainyms()])\n",
    "        print('___________')\n",
    "        #print(sen'Derivation:',se.lowest_common_hypernyms(wn.synsets('river')[0]))\n",
    "        "
   ]
  },
  {
   "cell_type": "code",
   "execution_count": null,
   "id": "8ef983cd",
   "metadata": {
    "ExecuteTime": {
     "end_time": "2022-11-09T08:10:59.324587Z",
     "start_time": "2022-11-09T08:10:59.317597Z"
    },
    "hidden": true
   },
   "outputs": [],
   "source": [
    "display('digit')"
   ]
  },
  {
   "cell_type": "code",
   "execution_count": null,
   "id": "31f4f570",
   "metadata": {
    "ExecuteTime": {
     "end_time": "2022-11-07T05:04:36.292593Z",
     "start_time": "2022-11-07T05:04:36.287893Z"
    },
    "hidden": true
   },
   "outputs": [],
   "source": [
    "print(sense.path_similarity(wn.synsets('river')[0]))\n",
    "print(wn.synsets('fast')[3].path_similarity(wn.synsets('rapid')[2]))"
   ]
  },
  {
   "cell_type": "code",
   "execution_count": null,
   "id": "042038a9",
   "metadata": {
    "ExecuteTime": {
     "end_time": "2022-11-08T06:43:31.208301Z",
     "start_time": "2022-11-08T06:43:31.204922Z"
    },
    "hidden": true
   },
   "outputs": [],
   "source": [
    "# dconf\n",
    "target = 'digit'\n",
    "sense_a = ['dactyl', 'finger', 'toe', 'thumb', 'pollex', 'body_part', 'nail', 'minimus', 'tarsier', 'webbed', 'extremity', 'appendage']\n",
    "sense_b = ['figure', 'cardinal_number', 'cardinal', 'integer', 'whole_number', 'numeration_system', 'number_system', 'system_of_numeration', 'large_integer', 'constituent', 'element', 'digital']\n",
    "\n",
    "found_a = ['dactyl','finger', 'minimus', 'toe','extremity', 'appendage', 'member','thumb','pollex']\n",
    "\n"
   ]
  },
  {
   "cell_type": "code",
   "execution_count": null,
   "id": "7ba6cef5",
   "metadata": {
    "hidden": true
   },
   "outputs": [],
   "source": [
    "for word in sense_a:\n",
    "    print(wn.synsets('fast')[3].path_similarity(wn.synsets('rapid')[2]))"
   ]
  },
  {
   "cell_type": "code",
   "execution_count": null,
   "id": "8fc1078a",
   "metadata": {
    "ExecuteTime": {
     "end_time": "2022-11-10T07:18:25.049882Z",
     "start_time": "2022-11-10T07:18:22.666891Z"
    },
    "hidden": true
   },
   "outputs": [],
   "source": [
    "for b in list(wn.all_synsets()):\n",
    "    defi=b.definition()\n",
    "    if 'digit' in defi:\n",
    "        print(a.wup_similarity(b),b,defi)"
   ]
  },
  {
   "cell_type": "code",
   "execution_count": null,
   "id": "430a1c0f",
   "metadata": {
    "ExecuteTime": {
     "end_time": "2022-11-12T04:50:01.255860Z",
     "start_time": "2022-11-12T04:50:01.249765Z"
    },
    "hidden": true
   },
   "outputs": [],
   "source": [
    "a = wn.synset('digit.n.03')\n",
    "a_nodes = [l.synset() for l in a.lemmas()]\n",
    "a_hyper = [l.synset() for h in a.hypernyms() for l in h.lemmas()]\n",
    "a_hypo = [l.synset() for h in a.hyponyms() for l in h.lemmas()]\n",
    "a_nodes = a_nodes+a_hypo+a_hyper\n",
    "hypo = lambda s: s.hyponyms()\n",
    "a_hypo_ = list(a.closure(hypo, depth=3))\n",
    "a_nodes = set(a_nodes+a_hypo_)"
   ]
  },
  {
   "cell_type": "code",
   "execution_count": null,
   "id": "ff4a1294",
   "metadata": {
    "ExecuteTime": {
     "end_time": "2022-11-12T04:50:01.823637Z",
     "start_time": "2022-11-12T04:50:01.819575Z"
    },
    "hidden": true
   },
   "outputs": [],
   "source": [
    "a_nodes"
   ]
  },
  {
   "cell_type": "code",
   "execution_count": null,
   "id": "b5db553c",
   "metadata": {
    "ExecuteTime": {
     "end_time": "2022-11-11T05:12:38.051640Z",
     "start_time": "2022-11-11T05:12:37.130566Z"
    },
    "hidden": true
   },
   "outputs": [],
   "source": [
    "import spacy\n",
    "nlp = spacy.load(\"en_core_web_sm\")"
   ]
  },
  {
   "cell_type": "code",
   "execution_count": null,
   "id": "918818eb",
   "metadata": {
    "ExecuteTime": {
     "end_time": "2022-11-11T09:26:55.231076Z",
     "start_time": "2022-11-11T09:26:49.912652Z"
    },
    "hidden": true
   },
   "outputs": [],
   "source": [
    "bias_words = set()\n",
    "for b in tqdm(list(wn.all_synsets())):\n",
    "    text=b.definition()\n",
    "    if 'digit' not in text:\n",
    "        continue\n",
    "    doc = nlp(text)\n",
    "    candidates = set()\n",
    "    for word in doc:\n",
    "        if word.pos_=='NOUN':\n",
    "            #print(word.text)\n",
    "            synsets = wn.synsets(word.text)\n",
    "            for _b in synsets:\n",
    "                sim=a.wup_similarity(_b)\n",
    "                if sim>0.5:\n",
    "                    if 'digit' not in word.text:\n",
    "                        candidates.add(word.text)\n",
    "    if len(candidates)>0:\n",
    "        #print(b,candidates)\n",
    "        bias_words.add(b)"
   ]
  },
  {
   "cell_type": "code",
   "execution_count": null,
   "id": "627299ec",
   "metadata": {
    "ExecuteTime": {
     "end_time": "2022-11-11T12:22:40.162945Z",
     "start_time": "2022-11-11T12:22:36.271203Z"
    },
    "hidden": true
   },
   "outputs": [],
   "source": [
    "bias_words = set()\n",
    "for b in tqdm(list(wn.all_synsets())):\n",
    "    text=b.definition()\n",
    "    if 'digit' not in text:\n",
    "        continue\n",
    "    doc = nlp(text)\n",
    "    candidates = set()\n",
    "    for word in doc:\n",
    "        if word.pos_=='NOUN':\n",
    "            #print(word.text)\n",
    "            if 'digit' in word.text:\n",
    "                continue\n",
    "            synsets = wn.synsets(word.text)\n",
    "            for _b in synsets:\n",
    "                b_hyper = [l.synset() for h in _b.hypernyms() for l in h.lemmas()]\n",
    "                b_hypo = [l.synset() for h in _b.hyponyms() for l in h.lemmas()]\n",
    "                b_nodes = set(b_hyper+b_hypo)\n",
    "                if len(a_nodes&b_nodes)>0:\n",
    "                    candidates.add(word.text) \n",
    "            #if 'thumb' in word.text:\n",
    "            #    print(candidates)\n",
    "    if len(candidates)>0:\n",
    "        #print(b,candidates)\n",
    "        bias_words.add(b)"
   ]
  },
  {
   "cell_type": "code",
   "execution_count": null,
   "id": "5e74c24e",
   "metadata": {
    "ExecuteTime": {
     "end_time": "2022-11-11T12:22:40.168725Z",
     "start_time": "2022-11-11T12:22:40.164841Z"
    },
    "hidden": true
   },
   "outputs": [],
   "source": [
    "bias_words"
   ]
  },
  {
   "cell_type": "code",
   "execution_count": null,
   "id": "9fa224c4",
   "metadata": {
    "ExecuteTime": {
     "end_time": "2022-11-11T12:25:43.886299Z",
     "start_time": "2022-11-11T12:25:43.883597Z"
    },
    "hidden": true
   },
   "outputs": [],
   "source": [
    "a_nodes.update(bias_words)"
   ]
  },
  {
   "cell_type": "code",
   "execution_count": null,
   "id": "d2cb2a86",
   "metadata": {
    "ExecuteTime": {
     "end_time": "2022-11-12T04:26:20.841112Z",
     "start_time": "2022-11-12T04:26:20.792711Z"
    },
    "hidden": true
   },
   "outputs": [],
   "source": [
    "a_nodes = [lemma.name() for ss in a_nodes for lemma in ss.lemmas()]\n",
    "a_hyper = [l.name() for h in a.hypernyms() for l in h.lemmas()]\n",
    "a_nodes+=a_hyper\n",
    "print(a_nodes)"
   ]
  },
  {
   "cell_type": "code",
   "execution_count": null,
   "id": "5026c813",
   "metadata": {
    "ExecuteTime": {
     "end_time": "2022-11-13T07:13:33.998449Z",
     "start_time": "2022-11-13T07:13:33.988229Z"
    },
    "hidden": true
   },
   "outputs": [],
   "source": [
    "display('able')"
   ]
  },
  {
   "cell_type": "markdown",
   "id": "4a74598a",
   "metadata": {
    "heading_collapsed": true
   },
   "source": [
    "# sentences"
   ]
  },
  {
   "cell_type": "code",
   "execution_count": null,
   "id": "3dfb1e40",
   "metadata": {
    "ExecuteTime": {
     "end_time": "2022-11-03T08:27:29.412825Z",
     "start_time": "2022-11-03T08:27:29.408664Z"
    },
    "hidden": true
   },
   "outputs": [],
   "source": [
    "def get_sent(word,sentences):\n",
    "    terms = list()\n",
    "    for sent in sentences:\n",
    "        if word in sent: \n",
    "            for i,term in enumerate(sent):\n",
    "                if term==word:\n",
    "                    return(sent[i-5:i+6])"
   ]
  },
  {
   "cell_type": "code",
   "execution_count": null,
   "id": "c9e6e073",
   "metadata": {
    "ExecuteTime": {
     "end_time": "2022-11-03T08:32:02.000364Z",
     "start_time": "2022-11-03T08:32:00.926880Z"
    },
    "hidden": true
   },
   "outputs": [],
   "source": [
    "terms = get_sent('rapid',sentences)"
   ]
  },
  {
   "cell_type": "code",
   "execution_count": null,
   "id": "703f68ab",
   "metadata": {
    "ExecuteTime": {
     "end_time": "2022-11-03T08:33:09.673102Z",
     "start_time": "2022-11-03T08:33:09.659087Z"
    },
    "hidden": true
   },
   "outputs": [],
   "source": [
    "terms"
   ]
  },
  {
   "cell_type": "code",
   "execution_count": null,
   "id": "af5db815",
   "metadata": {
    "ExecuteTime": {
     "end_time": "2022-11-06T10:21:49.452457Z",
     "start_time": "2022-11-06T10:21:49.448328Z"
    },
    "hidden": true
   },
   "outputs": [],
   "source": [
    "def get_output(terms):\n",
    "    for term in terms:\n",
    "        #get_score('river','current',sentences)\n",
    "        if term in word_desc:\n",
    "            print(term,':')\n",
    "            print('***********')\n",
    "            for words,onto in word_desc[term]:\n",
    "                print(words,onto)\n",
    "                odd_ones(words,sentences,True)\n",
    "                print('-------------')\n",
    "        return\n",
    "        print('============')"
   ]
  },
  {
   "cell_type": "code",
   "execution_count": null,
   "id": "b73d432b",
   "metadata": {
    "ExecuteTime": {
     "end_time": "2022-11-06T10:21:50.708238Z",
     "start_time": "2022-11-06T10:21:50.604255Z"
    },
    "hidden": true
   },
   "outputs": [],
   "source": [
    "get_output(tokens)"
   ]
  },
  {
   "cell_type": "code",
   "execution_count": null,
   "id": "be344620",
   "metadata": {
    "ExecuteTime": {
     "end_time": "2022-11-05T03:55:57.472018Z",
     "start_time": "2022-11-05T03:55:57.467878Z"
    },
    "hidden": true
   },
   "outputs": [],
   "source": [
    "tokens"
   ]
  },
  {
   "cell_type": "code",
   "execution_count": null,
   "id": "f81796cb",
   "metadata": {
    "ExecuteTime": {
     "end_time": "2022-11-05T04:41:30.360211Z",
     "start_time": "2022-11-05T04:41:30.354537Z"
    },
    "hidden": true
   },
   "outputs": [],
   "source": [
    "word2desc['fast']"
   ]
  },
  {
   "cell_type": "markdown",
   "id": "7aced4fe",
   "metadata": {
    "heading_collapsed": true
   },
   "source": [
    "# word2vec"
   ]
  },
  {
   "cell_type": "code",
   "execution_count": null,
   "id": "de1919de",
   "metadata": {
    "ExecuteTime": {
     "end_time": "2022-11-05T09:20:36.553358Z",
     "start_time": "2022-11-05T09:20:36.551003Z"
    },
    "hidden": true
   },
   "outputs": [],
   "source": [
    "from gensim.models import KeyedVectors"
   ]
  },
  {
   "cell_type": "code",
   "execution_count": null,
   "id": "e2f5cafa",
   "metadata": {
    "ExecuteTime": {
     "end_time": "2022-11-05T09:22:58.522165Z",
     "start_time": "2022-11-05T09:22:49.038767Z"
    },
    "hidden": true
   },
   "outputs": [],
   "source": [
    "model_path = '/home/manni/embs/w2v.model'\n",
    "w2v_model = KeyedVectors.load(model_path)"
   ]
  },
  {
   "cell_type": "code",
   "execution_count": null,
   "id": "67f7d3cd",
   "metadata": {
    "ExecuteTime": {
     "end_time": "2022-11-05T09:25:25.320516Z",
     "start_time": "2022-11-05T09:25:20.594821Z"
    },
    "hidden": true
   },
   "outputs": [],
   "source": [
    "w2v_model.doesnt_match(tokens)"
   ]
  },
  {
   "cell_type": "code",
   "execution_count": null,
   "id": "7fd3bf6e",
   "metadata": {
    "ExecuteTime": {
     "end_time": "2022-11-05T10:15:46.033404Z",
     "start_time": "2022-11-05T10:15:46.029801Z"
    },
    "hidden": true
   },
   "outputs": [],
   "source": [
    "vecs = np.zeros((len(tokens),w2v_model.vector_size),dtype=np.float32)\n",
    "for i,word in enumerate(tokens):\n",
    "    vecs[i]=w2v_model.get_vector(word)"
   ]
  },
  {
   "cell_type": "code",
   "execution_count": null,
   "id": "646e09ce",
   "metadata": {
    "ExecuteTime": {
     "end_time": "2022-11-05T10:21:18.770379Z",
     "start_time": "2022-11-05T10:20:46.032565Z"
    },
    "hidden": true
   },
   "outputs": [],
   "source": [
    "for i,vec in enumerate(vecs):\n",
    "    avec = np.zeros(w2v_model.vector_size)\n",
    "    for j,_vec in enumerate(vecs):\n",
    "        if i==j:\n",
    "            continue\n",
    "        print(tokens[i],tokens[j],w2v_model.cosine_similarities(vec,[_vec]))\n",
    "        avec = np.add(avec,_vec)\n",
    "    print(tokens[i],w2v_model.cosine_similarities(vec,[avec]))   \n",
    "    print('--------')\n",
    "    input()"
   ]
  },
  {
   "cell_type": "code",
   "execution_count": null,
   "id": "2b9cca8c",
   "metadata": {
    "ExecuteTime": {
     "end_time": "2022-11-05T10:21:55.777146Z",
     "start_time": "2022-11-05T10:21:55.773353Z"
    },
    "hidden": true
   },
   "outputs": [],
   "source": [
    "tokens.index('current')"
   ]
  },
  {
   "cell_type": "code",
   "execution_count": null,
   "id": "95d8c999",
   "metadata": {
    "ExecuteTime": {
     "end_time": "2022-11-05T10:23:31.673036Z",
     "start_time": "2022-11-05T10:23:31.668030Z"
    },
    "hidden": true
   },
   "outputs": [],
   "source": [
    "vec = vecs[2]\n",
    "avec = np.add(vecs[0],vecs[1])\n",
    "w2v_model.cosine_similarities(vec,[avec])"
   ]
  },
  {
   "cell_type": "code",
   "execution_count": null,
   "id": "02eb23f9",
   "metadata": {
    "ExecuteTime": {
     "end_time": "2022-11-05T10:23:41.547423Z",
     "start_time": "2022-11-05T10:23:41.543748Z"
    },
    "hidden": true
   },
   "outputs": [],
   "source": [
    "tokens"
   ]
  },
  {
   "cell_type": "markdown",
   "id": "5fbb288c",
   "metadata": {},
   "source": [
    "# w2v based embs"
   ]
  },
  {
   "cell_type": "code",
   "execution_count": null,
   "id": "dfc40c1c",
   "metadata": {
    "ExecuteTime": {
     "end_time": "2022-11-12T04:51:11.419167Z",
     "start_time": "2022-11-12T04:51:11.416344Z"
    }
   },
   "outputs": [],
   "source": [
    "from gensim.models import KeyedVectors"
   ]
  },
  {
   "cell_type": "code",
   "execution_count": null,
   "id": "c15d1321",
   "metadata": {
    "ExecuteTime": {
     "end_time": "2022-11-12T04:51:26.889454Z",
     "start_time": "2022-11-12T04:51:11.936434Z"
    }
   },
   "outputs": [],
   "source": [
    "model_path = '/home/manni/embs/w2v.model'\n",
    "w2v_model = KeyedVectors.load(model_path)"
   ]
  },
  {
   "cell_type": "code",
   "execution_count": null,
   "id": "f42ec544",
   "metadata": {
    "ExecuteTime": {
     "end_time": "2022-11-16T08:54:44.213410Z",
     "start_time": "2022-11-16T08:54:32.792322Z"
    }
   },
   "outputs": [],
   "source": [
    "syndef = dict()\n",
    "for synset in tqdm(list(wn.all_synsets()),position=0):\n",
    "    text=synset.definition()\n",
    "    text = re.sub(r'[^\\w\\s]', '', text)\n",
    "    words = [word for word in text.split() if word not in stopwords]\n",
    "    words = set([lemmatizer.lemmatize(word) for word in words])\n",
    "    syndef[synset.name()]=words"
   ]
  },
  {
   "cell_type": "code",
   "execution_count": null,
   "id": "82b8d12a",
   "metadata": {
    "ExecuteTime": {
     "end_time": "2022-11-16T11:06:49.562015Z",
     "start_time": "2022-11-16T11:06:48.986890Z"
    }
   },
   "outputs": [],
   "source": [
    "sv.save(syndef,'syndef')"
   ]
  },
  {
   "cell_type": "code",
   "execution_count": 14,
   "id": "3e3abc52",
   "metadata": {
    "ExecuteTime": {
     "end_time": "2022-11-16T11:49:16.315602Z",
     "start_time": "2022-11-16T11:49:16.047463Z"
    }
   },
   "outputs": [],
   "source": [
    "syndef = sv.load('syndef')"
   ]
  },
  {
   "cell_type": "code",
   "execution_count": 15,
   "id": "d5bff474",
   "metadata": {
    "ExecuteTime": {
     "end_time": "2022-11-16T11:49:17.517133Z",
     "start_time": "2022-11-16T11:49:17.500601Z"
    }
   },
   "outputs": [],
   "source": [
    "def get_blist():\n",
    "    bias_list = dict()\n",
    "    for synset in tqdm(list(wn.all_synsets()),position=0):\n",
    "        nodes = [l.name() for l in synset.lemmas()]\n",
    "        hypo = [l.name() for h in synset.hyponyms() for l in h.lemmas()]\n",
    "        nodes = nodes+hypo\n",
    "        #hyper = lambda s: s.hypernyms()\n",
    "        #hyper = list(synset.closure(hyper, depth=3))\n",
    "        #if hyper:\n",
    "        #    hyper = [l.name() for h in hyper for l in h.lemmas()]\n",
    "        #    nodes = nodes+hyper\n",
    "        nodes = set([lemmatizer.lemmatize(node) for node in nodes])\n",
    "        #text=synset.definition()\n",
    "        #name = synset.name().split('.')[0]\n",
    "        #if name not in text:\n",
    "        #    continue\n",
    "        for synset_,words in syndef.items(): \n",
    "            overlap = words & nodes\n",
    "            if overlap:\n",
    "                rem = words-overlap\n",
    "                ss = [wn.synsets(word) for word in rem]\n",
    "                ss = [_s for s in ss for _s in s]\n",
    "                for s in ss:\n",
    "                    if s.lowest_common_hypernyms(synset):\n",
    "                    #if synset in ss:\n",
    "                        names = set([lemma.name() for lemma in wn.synset(synset_).lemmas()])\n",
    "                        nodes.update(names)\n",
    "        hyper = [l.name() for h in synset.hypernyms() for l in h.lemmas()]\n",
    "        nodes.update(set(hyper))\n",
    "        bias_list[synset.name()]=nodes\n",
    "    return bias_list"
   ]
  },
  {
   "cell_type": "code",
   "execution_count": null,
   "id": "975324a3",
   "metadata": {
    "ExecuteTime": {
     "start_time": "2022-11-16T11:49:38.463Z"
    }
   },
   "outputs": [
    {
     "name": "stderr",
     "output_type": "stream",
     "text": [
      " 13%|██████████████████▉                                                                                                                                    | 14735/117659 [11:55<1:05:11, 26.31it/s]"
     ]
    }
   ],
   "source": [
    "bias_list = get_blist()"
   ]
  },
  {
   "cell_type": "code",
   "execution_count": null,
   "id": "97ffd89e",
   "metadata": {
    "ExecuteTime": {
     "end_time": "2022-11-16T11:49:05.869729Z",
     "start_time": "2022-11-16T11:47:48.241708Z"
    }
   },
   "outputs": [],
   "source": [
    "results = list()\n",
    "if __name__ == \"__main__\":\n",
    "    with Pool(processes=10) as pool:\n",
    "        results = list(pool.apply_async(workers.getBlist, args=(synset)) \\\n",
    "                       for synset in tqdm(list(wn.all_synsets()),position=0))\n",
    "        results = [r.get() for r in results if r.get()]  "
   ]
  },
  {
   "cell_type": "code",
   "execution_count": null,
   "id": "2c2f07f9",
   "metadata": {
    "ExecuteTime": {
     "end_time": "2022-11-16T11:47:42.248316Z",
     "start_time": "2022-11-16T11:47:42.248297Z"
    }
   },
   "outputs": [],
   "source": [
    "bias_dict = dict()\n",
    "for i, synset in enumerate(list(wn.all_synsets())):\n",
    "    bias_dict[synset.name()]=results[i]"
   ]
  },
  {
   "cell_type": "code",
   "execution_count": null,
   "id": "7e534d00",
   "metadata": {
    "ExecuteTime": {
     "end_time": "2022-11-12T05:45:41.847208Z",
     "start_time": "2022-11-12T05:45:41.843606Z"
    }
   },
   "outputs": [],
   "source": [
    "def sum_vec(lst):\n",
    "    vec = np.zeros(300)\n",
    "    for word in lst:\n",
    "        if word in w2v_model.vocab:\n",
    "            vec = np.add(vec,w2v_model.get_vector(word))\n",
    "    return vec"
   ]
  },
  {
   "cell_type": "code",
   "execution_count": null,
   "id": "0bf6655d",
   "metadata": {
    "ExecuteTime": {
     "end_time": "2022-11-12T05:47:58.017358Z",
     "start_time": "2022-11-12T05:47:54.278745Z"
    }
   },
   "outputs": [],
   "source": [
    "vecs = dict()\n",
    "for word,lst in bias_list.items():\n",
    "    vecs[word]=sum_vec(lst)"
   ]
  },
  {
   "cell_type": "code",
   "execution_count": null,
   "id": "c869cc88",
   "metadata": {
    "ExecuteTime": {
     "end_time": "2022-11-12T05:48:59.525619Z",
     "start_time": "2022-11-12T05:48:59.521647Z"
    }
   },
   "outputs": [],
   "source": [
    "0"
   ]
  },
  {
   "cell_type": "code",
   "execution_count": null,
   "id": "5191577b",
   "metadata": {
    "ExecuteTime": {
     "end_time": "2022-11-12T05:52:13.380932Z",
     "start_time": "2022-11-12T05:52:08.810323Z"
    }
   },
   "outputs": [],
   "source": [
    "sv.save(vecs,\"wnet_vecs\")"
   ]
  },
  {
   "cell_type": "code",
   "execution_count": null,
   "id": "5beab51a",
   "metadata": {
    "ExecuteTime": {
     "end_time": "2022-11-16T07:25:27.639438Z",
     "start_time": "2022-11-16T07:25:27.630522Z"
    }
   },
   "outputs": [],
   "source": [
    "display('able')"
   ]
  },
  {
   "cell_type": "code",
   "execution_count": null,
   "id": "e4119f98",
   "metadata": {
    "ExecuteTime": {
     "end_time": "2022-11-15T08:58:29.690646Z",
     "start_time": "2022-11-15T08:58:29.685857Z"
    }
   },
   "outputs": [],
   "source": [
    "wn.synset('aerobic.a.02').lowest_common_hypernyms(wn.synset('principle.n.01'))"
   ]
  },
  {
   "cell_type": "code",
   "execution_count": null,
   "id": "d0ae35f6",
   "metadata": {
    "ExecuteTime": {
     "end_time": "2022-11-15T09:09:48.114136Z",
     "start_time": "2022-11-15T09:09:48.110656Z"
    }
   },
   "outputs": [],
   "source": [
    "from pprint import pprint\n",
    "pprint(wn.synset('aerobic.a.02').mst(lambda s:s.also_sees()))"
   ]
  },
  {
   "cell_type": "code",
   "execution_count": null,
   "id": "42397e24",
   "metadata": {
    "ExecuteTime": {
     "end_time": "2022-11-15T09:10:39.425797Z",
     "start_time": "2022-11-15T09:10:39.421599Z"
    }
   },
   "outputs": [],
   "source": [
    "wn.synset('aerobic.a.02').topic_domains()"
   ]
  },
  {
   "cell_type": "code",
   "execution_count": null,
   "id": "d2d6844e",
   "metadata": {},
   "outputs": [],
   "source": []
  }
 ],
 "metadata": {
  "kernelspec": {
   "display_name": "Python 3 (ipykernel)",
   "language": "python",
   "name": "python3"
  },
  "language_info": {
   "codemirror_mode": {
    "name": "ipython",
    "version": 3
   },
   "file_extension": ".py",
   "mimetype": "text/x-python",
   "name": "python",
   "nbconvert_exporter": "python",
   "pygments_lexer": "ipython3",
   "version": "3.8.0"
  }
 },
 "nbformat": 4,
 "nbformat_minor": 5
}
