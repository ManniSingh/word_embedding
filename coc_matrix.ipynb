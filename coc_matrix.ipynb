{
 "cells": [
  {
   "cell_type": "code",
   "execution_count": 11,
   "id": "89977ff0",
   "metadata": {
    "ExecuteTime": {
     "end_time": "2022-10-17T12:10:59.759844Z",
     "start_time": "2022-10-17T12:10:59.756685Z"
    }
   },
   "outputs": [],
   "source": [
    "import logging\n",
    "import os\n",
    "\n",
    "import wiki as w # changed wiki to include '[]'\n",
    "import traceback"
   ]
  },
  {
   "cell_type": "code",
   "execution_count": 2,
   "id": "97ff4684",
   "metadata": {
    "ExecuteTime": {
     "end_time": "2022-10-17T11:42:03.409977Z",
     "start_time": "2022-10-17T11:42:03.406435Z"
    }
   },
   "outputs": [
    {
     "name": "stdout",
     "output_type": "stream",
     "text": [
      "/home/manni/ner-s2s/word_embedding/wiki.py\n"
     ]
    }
   ],
   "source": [
    "print(w.__file__)"
   ]
  },
  {
   "cell_type": "code",
   "execution_count": 3,
   "id": "61cdda14",
   "metadata": {
    "ExecuteTime": {
     "end_time": "2022-10-17T11:42:03.422059Z",
     "start_time": "2022-10-17T11:42:03.411366Z"
    }
   },
   "outputs": [],
   "source": [
    "WIKIXML = '/home/manni/data/wiki/enwiki-latest-pages-articles-multistream1.xml-p1p41242.bz2'"
   ]
  },
  {
   "cell_type": "code",
   "execution_count": 4,
   "id": "4e3cd5b7",
   "metadata": {
    "ExecuteTime": {
     "end_time": "2022-10-17T11:42:03.608898Z",
     "start_time": "2022-10-17T11:42:03.603606Z"
    }
   },
   "outputs": [],
   "source": [
    "import sys\n",
    "sys.path.append(\"../../imports/\")\n",
    "import saver as sv"
   ]
  },
  {
   "cell_type": "code",
   "execution_count": 5,
   "id": "6152907e",
   "metadata": {
    "ExecuteTime": {
     "end_time": "2022-10-17T11:42:05.094366Z",
     "start_time": "2022-10-17T11:42:05.091093Z"
    }
   },
   "outputs": [],
   "source": [
    "logging.basicConfig(format='[%(asctime)s] %(message)s', level=logging.INFO)\n",
    "os.makedirs('data/', exist_ok=True)"
   ]
  },
  {
   "cell_type": "code",
   "execution_count": 6,
   "id": "f51e8530",
   "metadata": {
    "ExecuteTime": {
     "end_time": "2022-10-17T11:43:46.494413Z",
     "start_time": "2022-10-17T11:42:05.550017Z"
    }
   },
   "outputs": [
    {
     "name": "stderr",
     "output_type": "stream",
     "text": [
      "[2022-10-17 12:42:05,550] Parsing wiki corpus Altered...\n",
      "[2022-10-17 12:42:05,551] utils.py line 55, Pattern altered to include [ and ] ...\n",
      "[2022-10-17 12:42:07,518] adding document #0 to Dictionary(0 unique tokens: [])\n",
      "[2022-10-17 12:42:58,850] adding document #10000 to Dictionary(468295 unique tokens: ['ability', 'able', 'abolish', 'abolition', 'abstentionism']...)\n",
      "[2022-10-17 12:43:45,222] adding document #20000 to Dictionary(672446 unique tokens: ['ability', 'able', 'abolish', 'abolition', 'abstentionism']...)\n",
      "[2022-10-17 12:43:46,454] finished iterating over Wikipedia corpus of 20488 documents with 41906122 positions (total 27382 articles, 41941717 positions before pruning articles shorter than 50 words)\n",
      "[2022-10-17 12:43:46,491] built Dictionary(675231 unique tokens: ['ability', 'able', 'abolish', 'abolition', 'abstentionism']...) from 20488 documents (total 41906122 corpus positions)\n"
     ]
    }
   ],
   "source": [
    "wiki_sentences = w.WikiSentences(WIKIXML, 'en',lower=True)"
   ]
  },
  {
   "cell_type": "code",
   "execution_count": 7,
   "id": "7415160b",
   "metadata": {
    "ExecuteTime": {
     "end_time": "2022-10-17T11:43:48.848153Z",
     "start_time": "2022-10-17T11:43:46.497178Z"
    }
   },
   "outputs": [
    {
     "name": "stdout",
     "output_type": "stream",
     "text": [
      "['anarchism', 'political', 'philosophy', 'movement', 'skeptical', 'justifications', 'authority', 'seeks', 'abolish', 'institutions', 'claim', 'maintain', 'unnecessary', 'coercion', 'hierarchy', 'typically', 'including', 'though', 'necessarily', 'limited', 'state', 'capitalism', 'anarchism', 'advocates', 'replacement', 'state', 'stateless', 'societies', 'forms', 'free', 'associations', 'historically', 'left', 'wing', 'movement', 'usually', 'placed', 'farthest', 'left', 'political', 'spectrum', 'usually', 'described', 'alongside', 'communalism', 'libertarian', 'marxism', 'libertarian', 'wing', 'libertarian', 'socialism', 'socialist', 'movement', 'humans', 'lived', 'societies', 'without', 'formal', 'hierarchies', 'long', 'establishment', 'formal', 'states', 'realms', 'empires', 'rise', 'organised', 'hierarchical', 'bodies', 'scepticism', 'toward', 'authority', 'also', 'rose', 'although', 'traces', 'anarchist', 'thought', 'found', 'throughout', 'history', 'modern', 'anarchism', 'emerged', 'enlightenment', 'latter', 'half', 'th', 'first', 'decades', 'th', 'century', 'anarchist', 'movement', 'flourished', 'parts', 'world', 'significant', 'role', 'workers']\n"
     ]
    }
   ],
   "source": [
    "for sent in wiki_sentences:\n",
    "    print(sent[:100])\n",
    "    break"
   ]
  },
  {
   "cell_type": "code",
   "execution_count": 8,
   "id": "b6fdac83",
   "metadata": {
    "ExecuteTime": {
     "end_time": "2022-10-17T11:50:21.006690Z",
     "start_time": "2022-10-17T11:50:20.319908Z"
    }
   },
   "outputs": [
    {
     "name": "stdout",
     "output_type": "stream",
     "text": [
      "Saved the data\n"
     ]
    }
   ],
   "source": [
    "sv.save(wiki_sentences,'sentences')"
   ]
  },
  {
   "cell_type": "code",
   "execution_count": 10,
   "id": "5424aadd",
   "metadata": {
    "ExecuteTime": {
     "end_time": "2022-10-17T11:50:48.666807Z",
     "start_time": "2022-10-17T11:50:48.122394Z"
    }
   },
   "outputs": [],
   "source": [
    "sentences = sv.load('sentences')"
   ]
  },
  {
   "cell_type": "code",
   "execution_count": 19,
   "id": "6ca1c8e0",
   "metadata": {
    "ExecuteTime": {
     "end_time": "2022-10-17T12:32:10.645080Z",
     "start_time": "2022-10-17T12:32:10.634481Z"
    }
   },
   "outputs": [],
   "source": [
    "def cooccur_window(sentences,WINDOW):\n",
    "    '''\n",
    "    computes vocabulary and co-occurances of terms in a window.\n",
    "\n",
    "    Parameters\n",
    "    ----------\n",
    "    sentences : list of str\n",
    "                e.g. ['aa','bb','cc'].\n",
    "    WINDOW : int \n",
    "             symmetric context window size.\n",
    "\n",
    "    Returns\n",
    "    ----------\n",
    "    vocab : list of str\n",
    "    coc : dict of co-occurances of type, dict[(int i,int j)]=int n,\n",
    "          where i and j are sorted vocab indexes,\n",
    "          n is the count.\n",
    "    goc : dict of global occurances, dict[str] = n\n",
    "    '''\n",
    "    vocab = list()\n",
    "    coc = dict()\n",
    "    goc = dict()\n",
    "    for sent in sentences:\n",
    "        try:\n",
    "            for i,target in enumerate(sent):\n",
    "                if target not in vocab:\n",
    "                    vocab.append(target)\n",
    "                if target not in goc:\n",
    "                    goc[target]=1\n",
    "                else:\n",
    "                    goc[target]+=1\n",
    "                left = sent[i-WINDOW:i]\n",
    "                right = sent[i+1:i+WINDOW+1]\n",
    "                for con in left:\n",
    "                    if con not in vocab:\n",
    "                        vocab.append(con)                    \n",
    "                    tup = [vocab.index(con),vocab.index(target)]\n",
    "                    tup = tup.sort()\n",
    "                    if tup in coc:\n",
    "                        coc[tup]+=1\n",
    "                    else:\n",
    "                        coc[tup]=1\n",
    "                for con in right:\n",
    "                    if con not in vocab:\n",
    "                        vocab.append(con)                    \n",
    "                    tup = [vocab.index(con),vocab.index(target)]\n",
    "                    tup = tup.sort()\n",
    "                    if tup in coc:\n",
    "                        coc[tup]+=1\n",
    "                    else:\n",
    "                        coc[tup]=1\n",
    "        except:\n",
    "            traceback.print_exc()\n",
    "            sys.exit(1) \n",
    "    return vocab,coc,goc "
   ]
  },
  {
   "cell_type": "code",
   "execution_count": null,
   "id": "9b2cc998",
   "metadata": {
    "ExecuteTime": {
     "start_time": "2022-10-17T12:32:11.355Z"
    }
   },
   "outputs": [],
   "source": [
    "vocab,coc,goc = cooccur_window(sentences,3)"
   ]
  },
  {
   "cell_type": "code",
   "execution_count": null,
   "id": "88695aa5",
   "metadata": {
    "ExecuteTime": {
     "start_time": "2022-10-17T12:33:42.352Z"
    }
   },
   "outputs": [],
   "source": [
    "sv.save(vocab,'wiki_vocab')\n",
    "sv.save(coc,'wiki_coc_w3')\n",
    "sv.save(goc,'wiki_goc')"
   ]
  },
  {
   "cell_type": "code",
   "execution_count": null,
   "id": "484f07d5",
   "metadata": {},
   "outputs": [],
   "source": []
  }
 ],
 "metadata": {
  "kernelspec": {
   "display_name": "Python 3 (ipykernel)",
   "language": "python",
   "name": "python3"
  },
  "language_info": {
   "codemirror_mode": {
    "name": "ipython",
    "version": 3
   },
   "file_extension": ".py",
   "mimetype": "text/x-python",
   "name": "python",
   "nbconvert_exporter": "python",
   "pygments_lexer": "ipython3",
   "version": "3.8.0"
  }
 },
 "nbformat": 4,
 "nbformat_minor": 5
}
