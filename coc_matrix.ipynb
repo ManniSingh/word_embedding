{
 "cells": [
  {
   "cell_type": "code",
   "execution_count": 1,
   "id": "0c6888aa",
   "metadata": {
    "ExecuteTime": {
     "end_time": "2022-10-19T11:12:41.255136Z",
     "start_time": "2022-10-19T11:12:38.802100Z"
    }
   },
   "outputs": [],
   "source": [
    "import logging\n",
    "import os\n",
    "\n",
    "import wiki as w # changed wiki to include '[]'\n",
    "import traceback\n",
    "from tqdm import tqdm"
   ]
  },
  {
   "cell_type": "code",
   "execution_count": 2,
   "id": "51b68a66",
   "metadata": {
    "ExecuteTime": {
     "end_time": "2022-10-19T11:12:41.260279Z",
     "start_time": "2022-10-19T11:12:41.257024Z"
    }
   },
   "outputs": [
    {
     "name": "stdout",
     "output_type": "stream",
     "text": [
      "/home/manni/ner-s2s/word_embedding/wiki.py\n"
     ]
    }
   ],
   "source": [
    "print(w.__file__)"
   ]
  },
  {
   "cell_type": "code",
   "execution_count": 3,
   "id": "282ee596",
   "metadata": {
    "ExecuteTime": {
     "end_time": "2022-10-19T11:12:41.270331Z",
     "start_time": "2022-10-19T11:12:41.261656Z"
    }
   },
   "outputs": [],
   "source": [
    "#WIKIXML = '/home/manni/data/wiki/enwiki-latest-pages-articles-multistream1.xml-p1p41242.bz2'\n",
    "WIKIXML = '/home/manni/data/wiki/en-28102022.bz2'"
   ]
  },
  {
   "cell_type": "code",
   "execution_count": 4,
   "id": "d6d9550a",
   "metadata": {
    "ExecuteTime": {
     "end_time": "2022-10-19T11:12:41.397654Z",
     "start_time": "2022-10-19T11:12:41.391353Z"
    }
   },
   "outputs": [],
   "source": [
    "import sys\n",
    "sys.path.append(\"../../imports/\")\n",
    "import saver as sv"
   ]
  },
  {
   "cell_type": "code",
   "execution_count": 5,
   "id": "6c8ce247",
   "metadata": {
    "ExecuteTime": {
     "end_time": "2022-10-19T11:12:42.054953Z",
     "start_time": "2022-10-19T11:12:42.051679Z"
    }
   },
   "outputs": [],
   "source": [
    "logging.basicConfig(format='[%(asctime)s] %(message)s', level=logging.INFO)\n",
    "os.makedirs('data/', exist_ok=True)"
   ]
  },
  {
   "cell_type": "code",
   "execution_count": null,
   "id": "e307d888",
   "metadata": {
    "ExecuteTime": {
     "end_time": "2022-10-18T16:03:14.115276Z",
     "start_time": "2022-10-18T12:30:35.669913Z"
    }
   },
   "outputs": [],
   "source": [
    "wiki_sentences = w.WikiSentences(WIKIXML, 'en',lower=True)"
   ]
  },
  {
   "cell_type": "code",
   "execution_count": null,
   "id": "786bf096",
   "metadata": {
    "ExecuteTime": {
     "end_time": "2022-10-18T16:03:16.955374Z",
     "start_time": "2022-10-18T16:03:14.118268Z"
    }
   },
   "outputs": [],
   "source": [
    "for sent in wiki_sentences:\n",
    "    print(sent[:100])\n",
    "    break"
   ]
  },
  {
   "cell_type": "code",
   "execution_count": null,
   "id": "5d5512af",
   "metadata": {
    "ExecuteTime": {
     "end_time": "2022-10-18T16:03:19.126106Z",
     "start_time": "2022-10-18T16:03:16.957731Z"
    }
   },
   "outputs": [],
   "source": [
    "sv.save(wiki_sentences,'sentences')"
   ]
  },
  {
   "cell_type": "code",
   "execution_count": 6,
   "id": "ea5bc21a",
   "metadata": {
    "ExecuteTime": {
     "end_time": "2022-10-19T11:12:50.172818Z",
     "start_time": "2022-10-19T11:12:48.211321Z"
    }
   },
   "outputs": [],
   "source": [
    "sentences = sv.load('sentences')"
   ]
  },
  {
   "cell_type": "code",
   "execution_count": null,
   "id": "702fe029",
   "metadata": {
    "ExecuteTime": {
     "end_time": "2022-10-18T16:03:20.531666Z",
     "start_time": "2022-10-18T16:03:20.518422Z"
    }
   },
   "outputs": [],
   "source": [
    "from multiprocessing import Pool\n",
    "import workers\n",
    "from collections import Counter"
   ]
  },
  {
   "cell_type": "code",
   "execution_count": null,
   "id": "58a25fba",
   "metadata": {
    "ExecuteTime": {
     "end_time": "2022-10-18T16:03:20.535601Z",
     "start_time": "2022-10-18T16:03:20.533211Z"
    }
   },
   "outputs": [],
   "source": [
    "WINDOW = 3\n",
    "TOTAL = sentences.wiki.length"
   ]
  },
  {
   "cell_type": "code",
   "execution_count": null,
   "id": "48fda8d3",
   "metadata": {},
   "outputs": [],
   "source": [
    "#https://gist.github.com/nwjlyons/621fabfc0d4c1119b2ad338f615ce4ef\n",
    "def chunks(generator, chunk_size):\n",
    "    \"\"\"Yield successive chunks from a generator\"\"\"\n",
    "    chunk = []\n",
    "\n",
    "    for item in generator:\n",
    "        if len(chunk) >= chunk_size:\n",
    "            yield chunk\n",
    "            chunk = [item]\n",
    "        else:\n",
    "            chunk.append(item)\n",
    "\n",
    "    if chunk:\n",
    "        yield chunk"
   ]
  },
  {
   "cell_type": "code",
   "execution_count": null,
   "id": "46054efa",
   "metadata": {
    "ExecuteTime": {
     "start_time": "2022-10-18T12:30:55.035Z"
    }
   },
   "outputs": [],
   "source": [
    "results = list()\n",
    "if __name__ == \"__main__\":\n",
    "    with Pool(processes=40) as pool:\n",
    "        results = list(pool.apply_async(workers.getTuples, args=(sent,WINDOW)) \\\n",
    "                       for sent in tqdm(sentences,position=0,total=TOTAL))\n",
    "        results = [r.get() for r in results if r.get()]"
   ]
  },
  {
   "cell_type": "code",
   "execution_count": null,
   "id": "29bb2ab8",
   "metadata": {
    "ExecuteTime": {
     "start_time": "2022-10-18T12:30:57.937Z"
    }
   },
   "outputs": [],
   "source": [
    "results = [item for sublist in results for item in sublist]"
   ]
  },
  {
   "cell_type": "code",
   "execution_count": null,
   "id": "fcb4da5f",
   "metadata": {
    "ExecuteTime": {
     "start_time": "2022-10-18T12:30:59.280Z"
    }
   },
   "outputs": [],
   "source": [
    "c = Counter(results)\n",
    "sv.save(dict(c),'PairFreqs')"
   ]
  },
  {
   "cell_type": "code",
   "execution_count": null,
   "id": "2befebc8",
   "metadata": {},
   "outputs": [],
   "source": []
  }
 ],
 "metadata": {
  "kernelspec": {
   "display_name": "Python 3 (ipykernel)",
   "language": "python",
   "name": "python3"
  },
  "language_info": {
   "codemirror_mode": {
    "name": "ipython",
    "version": 3
   },
   "file_extension": ".py",
   "mimetype": "text/x-python",
   "name": "python",
   "nbconvert_exporter": "python",
   "pygments_lexer": "ipython3",
   "version": "3.8.0"
  }
 },
 "nbformat": 4,
 "nbformat_minor": 5
}
