{
 "cells": [
  {
   "cell_type": "code",
   "execution_count": 1,
   "id": "fa2ed6fe",
   "metadata": {
    "ExecuteTime": {
     "end_time": "2023-03-02T07:52:34.360360Z",
     "start_time": "2023-03-02T07:52:28.867549Z"
    }
   },
   "outputs": [],
   "source": [
    "from nltk.corpus import wordnet as wn\n",
    "from nltk.corpus import stopwords\n",
    "from nltk.stem import WordNetLemmatizer\n",
    "lemmatizer = WordNetLemmatizer()\n",
    "stops = set(stopwords.words('english'))\n",
    "from tqdm import tqdm\n",
    "import re\n",
    "import numpy as np\n",
    "import scipy.sparse as sprs\n",
    "import math\n",
    "from multiprocessing import Pool\n",
    "import os\n",
    "import gzip"
   ]
  },
  {
   "cell_type": "code",
   "execution_count": 2,
   "id": "41799fc4",
   "metadata": {
    "ExecuteTime": {
     "end_time": "2023-03-02T07:52:34.372879Z",
     "start_time": "2023-03-02T07:52:34.363232Z"
    }
   },
   "outputs": [],
   "source": [
    "import sys\n",
    "sys.path.append(\"../../imports/\")\n",
    "import saver as sv"
   ]
  },
  {
   "cell_type": "markdown",
   "id": "1662cec9",
   "metadata": {
    "heading_collapsed": true
   },
   "source": [
    "# parse gloss links"
   ]
  },
  {
   "cell_type": "code",
   "execution_count": null,
   "id": "2def118b",
   "metadata": {
    "ExecuteTime": {
     "end_time": "2023-01-19T06:50:00.434404Z",
     "start_time": "2023-01-19T06:50:00.179036Z"
    },
    "hidden": true
   },
   "outputs": [],
   "source": [
    "import csv\n",
    "import requests\n",
    "import xml.etree.ElementTree as ET"
   ]
  },
  {
   "cell_type": "code",
   "execution_count": null,
   "id": "79191dd5",
   "metadata": {
    "ExecuteTime": {
     "end_time": "2023-01-19T06:50:00.439871Z",
     "start_time": "2023-01-19T06:50:00.436906Z"
    },
    "hidden": true
   },
   "outputs": [],
   "source": [
    "files = ['/home/manni/data/glosstag/merged/adj.xml','/home/manni/data/glosstag/merged/adv.xml',\n",
    "         '/home/manni/data/glosstag/merged/noun.xml','/home/manni/data/glosstag/merged/verb.xml']"
   ]
  },
  {
   "cell_type": "code",
   "execution_count": null,
   "id": "3c437c4c",
   "metadata": {
    "ExecuteTime": {
     "end_time": "2023-01-19T07:10:03.869905Z",
     "start_time": "2023-01-19T07:02:53.184596Z"
    },
    "hidden": true
   },
   "outputs": [],
   "source": [
    "id2ssn = dict()\n",
    "for path in files:\n",
    "    tree = ET.parse(path)\n",
    "    root = tree.getroot()\n",
    "    for synset in tqdm(root,position=0,leave=True):\n",
    "        conns = set()\n",
    "        for sc in synset:\n",
    "            if sc.tag == 'keys':\n",
    "                for ssc in sc:\n",
    "                    if ssc.tag == 'sk':\n",
    "                        sk = ssc.text\n",
    "                        try:\n",
    "                            id_ = wn.synset_from_sense_key(sk).name()\n",
    "                        except:\n",
    "                            sk = sk.replace('%3','%5')\n",
    "                            id_ = wn.synset_from_sense_key(sk).name() \n",
    "                continue\n",
    "            if sc.tag == 'gloss' and sc.attrib['desc']=='wsd':\n",
    "                for ssc in sc:\n",
    "                    if ssc.tag == 'def':\n",
    "                        for sssc in ssc.findall(\"./wf/id\"):\n",
    "                            sk = sssc.attrib['sk']\n",
    "                            try:\n",
    "                                ss = wn.synset_from_sense_key(sk)\n",
    "                                conns.add(ss.name())\n",
    "                            except:\n",
    "                                if 'purposefully_ignored' in sk:\n",
    "                                    continue\n",
    "                                else:\n",
    "                                    sk = sk.replace('%3','%5')\n",
    "                                    conns.add(wn.synset_from_sense_key(sk).name())\n",
    "        assert id_ not in id2ssn, id_\n",
    "        id2ssn[id_] = conns"
   ]
  },
  {
   "cell_type": "code",
   "execution_count": null,
   "id": "ddddbbb1",
   "metadata": {
    "ExecuteTime": {
     "end_time": "2023-01-19T07:18:20.668198Z",
     "start_time": "2023-01-19T07:18:20.427247Z"
    },
    "hidden": true
   },
   "outputs": [],
   "source": [
    "sv.save(id2ssn,'synglink')"
   ]
  },
  {
   "cell_type": "markdown",
   "id": "847b9a5d",
   "metadata": {
    "heading_collapsed": true
   },
   "source": [
    "# make variables"
   ]
  },
  {
   "cell_type": "code",
   "execution_count": 3,
   "id": "88d7e235",
   "metadata": {
    "ExecuteTime": {
     "end_time": "2023-03-02T07:52:45.163569Z",
     "start_time": "2023-03-02T07:52:34.374662Z"
    },
    "hidden": true
   },
   "outputs": [],
   "source": [
    "vocab = list(wn.all_synsets())"
   ]
  },
  {
   "cell_type": "code",
   "execution_count": 4,
   "id": "3a8831b7",
   "metadata": {
    "ExecuteTime": {
     "end_time": "2023-03-02T07:52:45.637413Z",
     "start_time": "2023-03-02T07:52:45.167005Z"
    },
    "hidden": true
   },
   "outputs": [],
   "source": [
    "synset2index=dict()\n",
    "index2synset=dict()\n",
    "of2index=dict()\n",
    "for i,ss in enumerate(vocab):\n",
    "    synset2index[ss.name()]=i\n",
    "    index2synset[i]=ss.name()\n",
    "    of2index[wn.ss2of(ss)]=i"
   ]
  },
  {
   "cell_type": "markdown",
   "id": "d8dcfb05",
   "metadata": {
    "heading_collapsed": true
   },
   "source": [
    "# get connections"
   ]
  },
  {
   "cell_type": "code",
   "execution_count": 5,
   "id": "449a237f",
   "metadata": {
    "ExecuteTime": {
     "end_time": "2023-03-02T07:52:45.643042Z",
     "start_time": "2023-03-02T07:52:45.639836Z"
    },
    "hidden": true
   },
   "outputs": [],
   "source": [
    "glosses = '/home/manni/data/wnet30_eng/wnet30g_rels.txt'\n",
    "rels = '/home/manni/data/wnet30_eng/wnet30_rels.txt'"
   ]
  },
  {
   "cell_type": "code",
   "execution_count": 6,
   "id": "6113d0d6",
   "metadata": {
    "ExecuteTime": {
     "end_time": "2023-03-02T07:52:47.548085Z",
     "start_time": "2023-03-02T07:52:45.645055Z"
    },
    "hidden": true
   },
   "outputs": [],
   "source": [
    "connections = set()\n",
    "with open(glosses) as fin:\n",
    "    lines = fin.readlines()\n",
    "    for line in lines:\n",
    "        line = line.split()\n",
    "        a = line[0].split(':')[-1]\n",
    "        b = line[1].split(':')[-1]\n",
    "        #if a.split('-')[-1] != b.split('-')[-1]:\n",
    "        #    continue\n",
    "        connections.add((of2index[a],of2index[b]))\n",
    "with open(rels) as fin:\n",
    "    lines = fin.readlines()\n",
    "    for line in lines:\n",
    "        line = line.split()\n",
    "        a = line[0].split(':')[-1]\n",
    "        b = line[1].split(':')[-1]\n",
    "        if a.split('-')[-1] != b.split('-')[-1]:\n",
    "            continue\n",
    "        connections.add((of2index[a],of2index[b]))"
   ]
  },
  {
   "cell_type": "markdown",
   "id": "ff30c739",
   "metadata": {},
   "source": [
    "# testsets"
   ]
  },
  {
   "cell_type": "code",
   "execution_count": 7,
   "id": "074dd1c2",
   "metadata": {
    "ExecuteTime": {
     "end_time": "2023-03-02T07:52:47.554565Z",
     "start_time": "2023-03-02T07:52:47.550347Z"
    }
   },
   "outputs": [],
   "source": [
    "ws353A = '/home/manni/data/wordsim/EN-WS353.out'\n",
    "ws353R = '/home/manni/data/wordsim/EN-WSR353.out'\n",
    "ws353S = '/home/manni/data/wordsim/EN-WSS353.out'\n",
    "rw = '/home/manni/data/wordsim/rw.out'\n",
    "sim999 = '/home/manni/data/wordsim/EN-SIM999.out'\n",
    "turk = '/home/manni/data/wordsim/EN_TRUK.txt'\n",
    "mturk = '/home/manni/data/wordsim/MTURK-771.out'\n",
    "rg = '/home/manni/data/wordsim/EN-RG-65.txt'\n",
    "men = '/home/manni/data/wordsim/EN-MEN-LEM.out'"
   ]
  },
  {
   "cell_type": "code",
   "execution_count": 8,
   "id": "310c4402",
   "metadata": {
    "ExecuteTime": {
     "end_time": "2023-03-02T07:52:47.571076Z",
     "start_time": "2023-03-02T07:52:47.556660Z"
    }
   },
   "outputs": [],
   "source": [
    "datasets = [ws353A,sim999,rg,men]"
   ]
  },
  {
   "cell_type": "code",
   "execution_count": 9,
   "id": "66aad8ce",
   "metadata": {
    "ExecuteTime": {
     "end_time": "2023-03-02T07:52:47.624706Z",
     "start_time": "2023-03-02T07:52:47.573198Z"
    }
   },
   "outputs": [],
   "source": [
    "vocab = set()\n",
    "for ds in datasets:\n",
    "    with open(ds) as fin:\n",
    "        lines = fin.readlines()\n",
    "        for line in lines:\n",
    "            line=line.split()\n",
    "            if len(line)!=3:\n",
    "                continue\n",
    "            vocab.add(line[0].lower())\n",
    "            vocab.add(line[1].lower())"
   ]
  },
  {
   "cell_type": "markdown",
   "id": "348ce455",
   "metadata": {
    "ExecuteTime": {
     "end_time": "2022-12-12T07:24:23.645161Z",
     "start_time": "2022-12-12T07:24:23.642042Z"
    },
    "heading_collapsed": true
   },
   "source": [
    "# matrix"
   ]
  },
  {
   "cell_type": "code",
   "execution_count": null,
   "id": "94becf7a",
   "metadata": {
    "ExecuteTime": {
     "end_time": "2023-02-26T10:08:17.027489Z",
     "start_time": "2023-02-26T10:08:16.690295Z"
    },
    "hidden": true
   },
   "outputs": [],
   "source": [
    "synset_descs = dict()\n",
    "for synset in tqdm(vocab,position=0):\n",
    "    txt = synset.definition().lower()\n",
    "    txt = re.sub(r'\\W+', ' ', txt)\n",
    "    words = [w for w in txt.split()]\n",
    "    words = set([lemmatizer.lemmatize(w) for w in words if w not in stops])\n",
    "    words = set([w for w in words if w not in stops])\n",
    "    #synset = synset.name()\n",
    "    synset = synset.id\n",
    "    self_index = synset2index[synset]\n",
    "    synset_descs[self_index]=words"
   ]
  },
  {
   "cell_type": "code",
   "execution_count": null,
   "id": "9eca30d8",
   "metadata": {
    "ExecuteTime": {
     "end_time": "2023-02-26T13:11:36.028157Z",
     "start_time": "2023-02-26T13:11:35.845440Z"
    },
    "hidden": true
   },
   "outputs": [],
   "source": [
    "synglink = sv.load('synglink')"
   ]
  },
  {
   "cell_type": "code",
   "execution_count": null,
   "id": "63b6564c",
   "metadata": {
    "ExecuteTime": {
     "end_time": "2023-02-26T13:16:18.763356Z",
     "start_time": "2023-02-26T13:11:38.541209Z"
    },
    "hidden": true
   },
   "outputs": [],
   "source": [
    "from parallelbar import progress_imap\n",
    "import workers\n",
    "if __name__ == \"__main__\":\n",
    "    result = progress_imap(workers.getMvector,range(len(vocab)), n_cpu=20, \\\n",
    "                           initializer=workers.init_ss,\\\n",
    "                           initargs=(synset2index,synglink)) \n",
    "M = np.asarray(result,dtype=np.int8)"
   ]
  },
  {
   "cell_type": "code",
   "execution_count": null,
   "id": "8b5b318e",
   "metadata": {
    "ExecuteTime": {
     "end_time": "2023-01-27T06:18:48.452300Z",
     "start_time": "2023-01-27T06:18:04.032373Z"
    },
    "code_folding": [],
    "hidden": true
   },
   "outputs": [],
   "source": [
    "# reverse assignment for symmetry\n",
    "for i in range(len(M)):\n",
    "    for j in np.nonzero(M[i])[0]:\n",
    "        M[j][i]=1"
   ]
  },
  {
   "cell_type": "code",
   "execution_count": null,
   "id": "aec4de18",
   "metadata": {
    "ExecuteTime": {
     "end_time": "2023-01-27T06:24:34.016330Z",
     "start_time": "2023-01-27T06:23:13.921622Z"
    },
    "hidden": true
   },
   "outputs": [],
   "source": [
    "(M==M.T).all() #test symmetry"
   ]
  },
  {
   "cell_type": "code",
   "execution_count": null,
   "id": "5940c9ce",
   "metadata": {
    "ExecuteTime": {
     "end_time": "2023-01-27T06:33:26.305793Z",
     "start_time": "2023-01-27T06:32:11.503073Z"
    },
    "hidden": true
   },
   "outputs": [],
   "source": [
    "M = M/M.sum(axis=1, keepdims=True) # make row stochastic"
   ]
  },
  {
   "cell_type": "code",
   "execution_count": null,
   "id": "6ad6396a",
   "metadata": {
    "ExecuteTime": {
     "end_time": "2023-02-26T10:15:19.843871Z",
     "start_time": "2023-02-26T10:15:16.627919Z"
    },
    "hidden": true
   },
   "outputs": [],
   "source": [
    "del result"
   ]
  },
  {
   "cell_type": "code",
   "execution_count": null,
   "id": "7222b7ea",
   "metadata": {
    "ExecuteTime": {
     "end_time": "2023-02-26T13:18:31.909396Z",
     "start_time": "2023-02-26T13:17:12.026967Z"
    },
    "hidden": true
   },
   "outputs": [],
   "source": [
    "M = sprs.csr_matrix(M) #make sparse matrix to save space"
   ]
  },
  {
   "cell_type": "code",
   "execution_count": null,
   "id": "2192fec2",
   "metadata": {
    "ExecuteTime": {
     "end_time": "2023-01-27T06:45:43.913479Z",
     "start_time": "2023-01-27T06:45:43.704247Z"
    },
    "hidden": true
   },
   "outputs": [],
   "source": [
    "sv.save(M,'M2')"
   ]
  },
  {
   "cell_type": "markdown",
   "id": "89f8cbfa",
   "metadata": {
    "heading_collapsed": true
   },
   "source": [
    "# load Matrix"
   ]
  },
  {
   "cell_type": "code",
   "execution_count": null,
   "id": "618c953a",
   "metadata": {
    "ExecuteTime": {
     "end_time": "2023-02-25T12:21:05.387413Z",
     "start_time": "2023-02-25T12:21:05.373054Z"
    },
    "hidden": true
   },
   "outputs": [],
   "source": [
    "M = sv.load('M2')"
   ]
  },
  {
   "cell_type": "code",
   "execution_count": null,
   "id": "304ee2dd",
   "metadata": {
    "ExecuteTime": {
     "end_time": "2023-02-24T09:49:42.516287Z",
     "start_time": "2023-02-24T09:49:42.513290Z"
    },
    "hidden": true
   },
   "outputs": [],
   "source": [
    "alpha = 0.85\n",
    "iters = 30"
   ]
  },
  {
   "cell_type": "code",
   "execution_count": null,
   "id": "87765675",
   "metadata": {
    "ExecuteTime": {
     "end_time": "2023-02-24T09:49:48.768912Z",
     "start_time": "2023-02-24T09:49:43.502152Z"
    },
    "hidden": true
   },
   "outputs": [],
   "source": [
    "P_0 = np.eye(M.shape[0],dtype=np.int8)\n",
    "P = np.ones(M.shape,dtype=np.int8)"
   ]
  },
  {
   "cell_type": "markdown",
   "id": "d6ca8e1b",
   "metadata": {},
   "source": [
    "# Network X"
   ]
  },
  {
   "cell_type": "code",
   "execution_count": 10,
   "id": "1ceb59a0",
   "metadata": {
    "ExecuteTime": {
     "end_time": "2023-03-02T07:53:13.394336Z",
     "start_time": "2023-03-02T07:53:10.784090Z"
    }
   },
   "outputs": [],
   "source": [
    "import networkx as nx\n",
    "G = nx.Graph()\n",
    "[G.add_node(k) for k in range(len(synset2index))]\n",
    "for i,j in connections:\n",
    "    G.add_edge(i,j)"
   ]
  },
  {
   "cell_type": "code",
   "execution_count": null,
   "id": "67b7b059",
   "metadata": {
    "ExecuteTime": {
     "end_time": "2023-02-28T21:17:20.238953Z",
     "start_time": "2023-02-28T19:00:27.135288Z"
    }
   },
   "outputs": [],
   "source": [
    "nodelist = list(G)\n",
    "for i in tqdm(range(len(synset2index)),position=0,leave=True):\n",
    "    #personalization = dict(enumerate(map(int, P_0[i])))\n",
    "    personalization = dict(enumerate(P_0[i]))\n",
    "    p = np.array([personalization.get(n, 0) for n in nodelist], dtype=float)\n",
    "    if p.sum() == 0:\n",
    "        raise ZeroDivisionError"
   ]
  },
  {
   "cell_type": "code",
   "execution_count": null,
   "id": "ad2eed83",
   "metadata": {
    "ExecuteTime": {
     "end_time": "2023-02-28T16:16:26.042825Z",
     "start_time": "2023-02-28T16:16:24.101759Z"
    }
   },
   "outputs": [],
   "source": [
    "PPR = getPPR(14423)"
   ]
  },
  {
   "cell_type": "code",
   "execution_count": null,
   "id": "fa572416",
   "metadata": {
    "ExecuteTime": {
     "end_time": "2023-02-28T16:17:02.368802Z",
     "start_time": "2023-02-28T16:16:52.509197Z"
    }
   },
   "outputs": [],
   "source": [
    "PPR = list()\n",
    "for i in tqdm(range(len(synset2index))):\n",
    "    try:\n",
    "        pr = getPPR(i)\n",
    "        PPR.append(pr)\n",
    "    except:\n",
    "        print(i)\n",
    "        break"
   ]
  },
  {
   "cell_type": "code",
   "execution_count": null,
   "id": "61366f84",
   "metadata": {
    "ExecuteTime": {
     "end_time": "2023-03-01T07:49:36.409512Z",
     "start_time": "2023-03-01T07:49:36.375355Z"
    }
   },
   "outputs": [],
   "source": [
    "nodelist = list(G)\n",
    "personalization = {14430:1}\n",
    "print(personalization.get(14430, 0))\n",
    "p = np.array([personalization.get(n, 0) for n in nodelist], dtype=float)\n",
    "print(p.sum())"
   ]
  },
  {
   "cell_type": "code",
   "execution_count": null,
   "id": "03e172f6",
   "metadata": {
    "ExecuteTime": {
     "end_time": "2023-03-02T07:49:19.015829Z",
     "start_time": "2023-03-01T08:13:41.368272Z"
    }
   },
   "outputs": [],
   "source": [
    "from parallelbar import progress_imap\n",
    "import workers\n",
    "if __name__ == \"__main__\":\n",
    "    result = progress_imap(workers.getPPR,range(len(synset2index)), n_cpu=30, initializer=workers.init_graph,\\\n",
    "                           initargs=(G,)) \n",
    "PPR = np.asarray(result,dtype=np.float16)"
   ]
  },
  {
   "cell_type": "code",
   "execution_count": null,
   "id": "fb5983fb",
   "metadata": {
    "ExecuteTime": {
     "end_time": "2023-03-02T07:49:19.027011Z",
     "start_time": "2023-03-02T07:49:19.026990Z"
    }
   },
   "outputs": [],
   "source": [
    "del result"
   ]
  },
  {
   "cell_type": "code",
   "execution_count": null,
   "id": "2fe58078",
   "metadata": {
    "ExecuteTime": {
     "end_time": "2023-03-02T07:49:19.034750Z",
     "start_time": "2023-03-02T07:49:19.034731Z"
    }
   },
   "outputs": [],
   "source": [
    "sv.save(PPR,'PPR_NX')"
   ]
  },
  {
   "cell_type": "markdown",
   "id": "fe905738",
   "metadata": {},
   "source": [
    "# verbose"
   ]
  },
  {
   "cell_type": "code",
   "execution_count": null,
   "id": "cbc0210d",
   "metadata": {
    "ExecuteTime": {
     "end_time": "2023-02-28T16:07:29.043602Z",
     "start_time": "2023-02-28T16:07:29.036064Z"
    }
   },
   "outputs": [],
   "source": [
    "def display(target):\n",
    "    target_senses = wn.synsets(target)\n",
    "    for target in target_senses:\n",
    "        print(target)\n",
    "        #print(target.lexname())\n",
    "        print([(l.name(),l.synset()) for l in target.lemmas()])\n",
    "        print(target.definition())\n",
    "        print('Hyponyms:',[(lemma.name(),lemma.synset()) for _target in target.hyponyms() for lemma in _target.lemmas()])\n",
    "        print('Hypernyms:',[(lemma.name(),lemma.synset()) for _target in target.hypernyms() for lemma in _target.lemmas()])\n",
    "        print('Holonyms:',target.member_holonyms())\n",
    "        print('Derivation:',[(lemma.name(),lemma.synset()) for lemma in target.lemmas() for lname in lemma.derivationally_related_forms()])\n",
    "        print('Pertainyms:',[(lemma.name(),lemma.synset()) for lemma in target.lemmas() for lname in lemma.pertainyms()])\n",
    "        print('___________')"
   ]
  },
  {
   "cell_type": "code",
   "execution_count": null,
   "id": "c5579a7f",
   "metadata": {
    "ExecuteTime": {
     "end_time": "2023-02-27T10:24:13.895400Z",
     "start_time": "2023-02-27T10:24:13.883504Z"
    }
   },
   "outputs": [],
   "source": [
    "display('digit')"
   ]
  },
  {
   "cell_type": "code",
   "execution_count": null,
   "id": "7696f1b6",
   "metadata": {
    "ExecuteTime": {
     "end_time": "2023-01-08T09:04:33.375528Z",
     "start_time": "2023-01-08T09:04:33.367671Z"
    }
   },
   "outputs": [],
   "source": [
    "def get_pairs(index):\n",
    "    desc = synset_descs[index]\n",
    "    print(desc)\n",
    "    synsets = set()\n",
    "    for word in desc:\n",
    "        _synsets = wn.synsets(word)\n",
    "        synsets.update(_synsets)\n",
    "    synsets = list(synsets)\n",
    "    total = len(synsets)\n",
    "    pairs = set()\n",
    "    for i in range(total):\n",
    "        for j in range(total):\n",
    "            if i == j:\n",
    "                continue\n",
    "            sa = synsets[i]\n",
    "            sb = synsets[j]\n",
    "            rels = list()\n",
    "            rels.extend(sa.hypernyms())\n",
    "            rels.extend(sa.hyponyms())\n",
    "            if not rels:\n",
    "                continue\n",
    "            if sb in rels:\n",
    "                pairs.update({sa,sb})  \n",
    "    return pairs"
   ]
  },
  {
   "cell_type": "code",
   "execution_count": null,
   "id": "b1e68433",
   "metadata": {
    "ExecuteTime": {
     "end_time": "2023-01-08T09:04:34.256804Z",
     "start_time": "2023-01-08T09:04:34.220167Z"
    }
   },
   "outputs": [],
   "source": [
    "get_pairs(index)"
   ]
  },
  {
   "cell_type": "code",
   "execution_count": null,
   "id": "861359b1",
   "metadata": {
    "ExecuteTime": {
     "end_time": "2023-01-10T10:56:12.189911Z",
     "start_time": "2023-01-10T10:56:12.186447Z"
    }
   },
   "outputs": [],
   "source": [
    "from collections import Counter"
   ]
  },
  {
   "cell_type": "code",
   "execution_count": null,
   "id": "1d41464d",
   "metadata": {
    "ExecuteTime": {
     "end_time": "2023-01-10T11:08:06.977379Z",
     "start_time": "2023-01-10T11:08:06.970151Z"
    }
   },
   "outputs": [],
   "source": [
    "def mcom(worda,wordb,verbose=False):\n",
    "    sa = wn.synsets(worda)\n",
    "    sb = wn.synsets(wordb)\n",
    "    roots = list()\n",
    "    for _sa in sa:\n",
    "        for _sb in sb:\n",
    "            if _sa.name() == _sb.name():\n",
    "                continue\n",
    "            sim = _sa.wup_similarity(_sb, simulate_root=False)\n",
    "            if sim:\n",
    "                root = _sa.lowest_common_hypernyms(_sb)\n",
    "                roots.extend(root)\n",
    "                if verbose:\n",
    "                    print(root)\n",
    "                    print(_sa.name(),_sb.name(),sim)\n",
    "    counts =  Counter(roots)\n",
    "    if counts:\n",
    "        mcom = counts.most_common(1)[0][0]\n",
    "    else:\n",
    "        mcom = None\n",
    "    return mcom"
   ]
  },
  {
   "cell_type": "code",
   "execution_count": null,
   "id": "a2ed5595",
   "metadata": {
    "ExecuteTime": {
     "end_time": "2023-01-09T07:08:11.776192Z",
     "start_time": "2023-01-09T07:08:11.296140Z"
    }
   },
   "outputs": [],
   "source": [
    "desc = synset_descs[index]\n",
    "print(desc)\n",
    "_desc = set()\n",
    "for worda in desc:\n",
    "    for wordb in desc:\n",
    "        if worda == wordb:\n",
    "            continue\n",
    "        if graph_sim(worda,wordb):\n",
    "            _desc.update({worda,wordb})\n",
    "print(_desc)"
   ]
  },
  {
   "cell_type": "code",
   "execution_count": null,
   "id": "6985de0c",
   "metadata": {
    "ExecuteTime": {
     "end_time": "2023-01-27T06:01:39.079178Z",
     "start_time": "2023-01-27T06:01:39.071347Z"
    }
   },
   "outputs": [],
   "source": [
    "def getMvector(index):\n",
    "    '''\n",
    "    parameters:\n",
    "    -----------\n",
    "    index : int \n",
    "    \n",
    "    returns:\n",
    "    --------\n",
    "    vector: numpy vector\n",
    "    '''\n",
    "    synset = vocab[index]\n",
    "    vector = np.zeros(len(synset2index))\n",
    "    connections = list()\n",
    "    connections.extend([l.synset().name() for l in synset.lemmas()])\n",
    "    connections.extend([lemma.synset().name() for _target in synset.hyponyms() for lemma in _target.lemmas()])\n",
    "    connections.extend([lemma.synset().name() for _target in synset.hypernyms() for lemma in _target.lemmas()])\n",
    "    #connections.extend([lemma.synset().name() for _target in synset.root_hypernyms() for lemma in _target.lemmas()])\n",
    "    connections.extend(s.name() for s in synset.member_holonyms())\n",
    "    #connections.extend([lname.synset().name() for lemma in synset.lemmas() for lname in lemma.derivationally_related_forms()])\n",
    "    #connections.extend([lname.synset().name() for lemma in synset.lemmas() for lname in lemma.pertainyms()])\n",
    "    #connections.extend([lname.synset().name() for lemma in synset.lemmas() for lname in lemma.antonyms()])\n",
    "    print(connections)\n",
    "    slinks = synglink[synset.name()]\n",
    "    print(slinks)\n",
    "    connections.extend(list(slinks))\n",
    "    connections=set([synset2index[ss] for ss in connections])\n",
    "    #connections.remove(index)\n",
    "    #n = len(connections)\n",
    "    for i in connections:\n",
    "        vector[i]=1\n",
    "    return vector\n",
    "    "
   ]
  },
  {
   "cell_type": "code",
   "execution_count": null,
   "id": "33e19667",
   "metadata": {
    "ExecuteTime": {
     "end_time": "2023-02-28T16:11:37.864683Z",
     "start_time": "2023-02-28T16:11:37.862220Z"
    }
   },
   "outputs": [],
   "source": [
    "index = 52392 # 'digit.n.03'\n",
    "#index = 14380 # 'webbed.a.01'\n",
    "#index = 35053 # 'tarsier.n.01'"
   ]
  },
  {
   "cell_type": "code",
   "execution_count": null,
   "id": "47cbe11f",
   "metadata": {
    "ExecuteTime": {
     "end_time": "2023-01-27T06:01:41.157462Z",
     "start_time": "2023-01-27T06:01:41.153361Z"
    }
   },
   "outputs": [],
   "source": [
    "v = getMvector(52392)"
   ]
  },
  {
   "cell_type": "code",
   "execution_count": null,
   "id": "267a4fd0",
   "metadata": {
    "ExecuteTime": {
     "end_time": "2023-01-06T08:23:00.685906Z",
     "start_time": "2023-01-06T08:23:00.681861Z"
    }
   },
   "outputs": [],
   "source": [
    "def get_vec(index,iters=30):\n",
    "    '''\n",
    "    Executes power equation and returns the vector.\n",
    "    '''\n",
    "    P_t = P[index]\n",
    "    for _ in range(iters):\n",
    "        P_t = (1-alpha)*P_0[index]+alpha*M*P_t\n",
    "        P_t = P_t/P_t.sum()\n",
    "    return P_t"
   ]
  },
  {
   "cell_type": "code",
   "execution_count": null,
   "id": "d418dc09",
   "metadata": {
    "ExecuteTime": {
     "end_time": "2023-01-06T08:24:21.940442Z",
     "start_time": "2023-01-06T08:24:17.449152Z"
    }
   },
   "outputs": [],
   "source": [
    "vec = get_vec(index,200)"
   ]
  },
  {
   "cell_type": "code",
   "execution_count": null,
   "id": "cd987991",
   "metadata": {
    "ExecuteTime": {
     "end_time": "2023-02-28T16:15:26.206666Z",
     "start_time": "2023-02-28T16:15:26.185033Z"
    }
   },
   "outputs": [],
   "source": [
    "#sanity check\n",
    "\n",
    "for i in np.flip(np.argsort(PPR))[:20]:\n",
    "    print(i,index2synset[i])"
   ]
  },
  {
   "cell_type": "code",
   "execution_count": null,
   "id": "bbe544fe",
   "metadata": {
    "ExecuteTime": {
     "end_time": "2023-02-27T11:01:50.403393Z",
     "start_time": "2023-02-27T11:01:50.386570Z"
    }
   },
   "outputs": [],
   "source": [
    "_top_k = np.flip(np.argsort(PPR))[:25]\n",
    "#_top_k = [wn.synset(index2synset[_i]) for _i in _top_k] # synsets\n",
    "_top_k = [l.name() for _i in _top_k for l in wn.synset(index2synset[_i]).lemmas()] # lemmas\n",
    "#top_k = [word for word in _top_k if word.lower() in model.vocab]\n",
    "print(_top_k)"
   ]
  },
  {
   "cell_type": "code",
   "execution_count": null,
   "id": "e19ae91d",
   "metadata": {
    "ExecuteTime": {
     "end_time": "2023-02-26T13:18:47.071106Z",
     "start_time": "2023-02-26T13:18:47.062299Z"
    }
   },
   "outputs": [],
   "source": [
    "for indexes,score in zip(M[index].indices,M[index].data):\n",
    "    print(index2synset[indexes],score)"
   ]
  },
  {
   "cell_type": "code",
   "execution_count": null,
   "id": "baec8e22",
   "metadata": {
    "ExecuteTime": {
     "end_time": "2023-01-06T08:23:17.934541Z",
     "start_time": "2023-01-06T08:23:17.930655Z"
    }
   },
   "outputs": [],
   "source": [
    "def get_argmax(vec,k):\n",
    "    for i in np.flip(np.argsort(vec))[:k+1]:\n",
    "        print(i,index2synset[i])"
   ]
  },
  {
   "cell_type": "code",
   "execution_count": null,
   "id": "fc1f31c9",
   "metadata": {
    "ExecuteTime": {
     "end_time": "2023-01-06T08:24:27.789107Z",
     "start_time": "2023-01-06T08:24:27.763761Z"
    }
   },
   "outputs": [],
   "source": [
    "get_argmax(vec,27)"
   ]
  },
  {
   "cell_type": "markdown",
   "id": "bd3cc632",
   "metadata": {
    "heading_collapsed": true
   },
   "source": [
    "# pre-made"
   ]
  },
  {
   "cell_type": "code",
   "execution_count": null,
   "id": "f459168f",
   "metadata": {
    "ExecuteTime": {
     "end_time": "2022-12-08T05:34:29.673589Z",
     "start_time": "2022-12-08T05:34:29.665696Z"
    },
    "hidden": true
   },
   "outputs": [],
   "source": [
    "def pagerank(A, p=0.85, personalize=None, reverse=False):\n",
    "    \"\"\" Calculates PageRank given a csr graph\n",
    "\n",
    "    Inputs:\n",
    "    -------\n",
    "\n",
    "    G: a csr graph.\n",
    "    p: damping factor\n",
    "    personlize: if not None, should be an array with the size of the nodes\n",
    "                containing probability distributions.\n",
    "                It will be normalized automatically\n",
    "    reverse: If true, returns the reversed-PageRank\n",
    "\n",
    "    outputs\n",
    "    -------\n",
    "\n",
    "    PageRank Scores for the nodes\n",
    "\n",
    "    \"\"\"\n",
    "    # In Moler's algorithm, $A_{ij}$ represents the existences of an edge\n",
    "    # from node $j$ to $i$, while we have assumed the opposite!\n",
    "    if reverse:\n",
    "        A = A.T\n",
    "\n",
    "    n, _ = A.shape\n",
    "    \n",
    "    r = np.asarray(A.sum(axis=1)).reshape(-1)\n",
    "\n",
    "    k = r.nonzero()[0]\n",
    "\n",
    "    D_1 = sprs.csr_matrix((1 / r[k], (k, k)), shape=(n, n))\n",
    "\n",
    "    if personalize is None:\n",
    "        personalize = np.ones(n)\n",
    "    personalize = personalize.reshape(n, 1)\n",
    "    s = (personalize / personalize.sum()) * n\n",
    "\n",
    "    I = sprs.eye(n)\n",
    "    x = sprs.linalg.spsolve((I - p * A.T @ D_1), s)\n",
    "    x = x / x.sum()\n",
    "    return x"
   ]
  },
  {
   "cell_type": "code",
   "execution_count": null,
   "id": "847f200d",
   "metadata": {
    "ExecuteTime": {
     "end_time": "2022-12-08T05:34:32.291705Z",
     "start_time": "2022-12-08T05:34:31.854319Z"
    },
    "hidden": true
   },
   "outputs": [],
   "source": [
    "result = pagerank(M, personalize=P_0[0])"
   ]
  },
  {
   "cell_type": "markdown",
   "id": "d806be4a",
   "metadata": {
    "heading_collapsed": true
   },
   "source": [
    "# organic compute"
   ]
  },
  {
   "cell_type": "code",
   "execution_count": null,
   "id": "3d4dfb16",
   "metadata": {
    "ExecuteTime": {
     "end_time": "2023-01-06T07:46:22.062637Z",
     "start_time": "2023-01-06T07:46:22.057340Z"
    },
    "hidden": true
   },
   "outputs": [],
   "source": [
    "def get_vec(index,iters=30):\n",
    "    '''\n",
    "    Executes power equation and returns the vector.\n",
    "    '''\n",
    "    P_t = P[index]\n",
    "    for _ in range(iters):\n",
    "        P_t = (1-alpha)*P_0[index]+alpha*M*P_t\n",
    "        P_t = P_t/P_t.sum()\n",
    "    return P_t"
   ]
  },
  {
   "cell_type": "code",
   "execution_count": null,
   "id": "ef6673c3",
   "metadata": {
    "ExecuteTime": {
     "end_time": "2022-12-18T09:40:05.370470Z",
     "start_time": "2022-12-18T09:39:57.375776Z"
    },
    "hidden": true
   },
   "outputs": [],
   "source": [
    "PPR = np.zeros(M.shape)\n",
    "for i in tqdm(range(P.shape[0]),position=0):\n",
    "    P_t = get_vec(i)\n",
    "    PPR[i]=P_t"
   ]
  },
  {
   "cell_type": "code",
   "execution_count": null,
   "id": "93a74f40",
   "metadata": {
    "ExecuteTime": {
     "end_time": "2023-01-27T07:54:50.283461Z",
     "start_time": "2023-01-27T06:47:43.044425Z"
    },
    "hidden": true
   },
   "outputs": [],
   "source": [
    "from parallelbar import progress_imap\n",
    "import workers\n",
    "if __name__ == \"__main__\":\n",
    "    result = progress_imap(workers.getVec,range(P.shape[0]),initializer=workers.init_worker,\\\n",
    "                            initargs=(alpha,iters,P,P_0,M)) "
   ]
  },
  {
   "cell_type": "code",
   "execution_count": null,
   "id": "c7541586",
   "metadata": {
    "ExecuteTime": {
     "end_time": "2023-01-27T07:54:50.376637Z",
     "start_time": "2023-01-27T07:54:50.287207Z"
    },
    "hidden": true
   },
   "outputs": [],
   "source": [
    "del P_0, P"
   ]
  },
  {
   "cell_type": "code",
   "execution_count": null,
   "id": "fee3ae14",
   "metadata": {
    "ExecuteTime": {
     "end_time": "2023-01-27T08:18:24.424073Z",
     "start_time": "2023-01-27T07:54:50.378411Z"
    },
    "hidden": true
   },
   "outputs": [],
   "source": [
    "PPR = np.asarray(result,dtype=np.float16)"
   ]
  },
  {
   "cell_type": "code",
   "execution_count": null,
   "id": "a6302bad",
   "metadata": {
    "ExecuteTime": {
     "end_time": "2023-01-27T08:18:24.677297Z",
     "start_time": "2023-01-27T08:18:24.427795Z"
    },
    "hidden": true
   },
   "outputs": [],
   "source": [
    "del result"
   ]
  },
  {
   "cell_type": "code",
   "execution_count": null,
   "id": "a6bc9fe6",
   "metadata": {
    "ExecuteTime": {
     "end_time": "2023-01-27T08:23:19.930337Z",
     "start_time": "2023-01-27T08:18:24.679301Z"
    },
    "hidden": true
   },
   "outputs": [],
   "source": [
    "sv.save(PPR,'PPR2')"
   ]
  },
  {
   "cell_type": "markdown",
   "id": "4caf530a",
   "metadata": {
    "heading_collapsed": true
   },
   "source": [
    "# load PPR"
   ]
  },
  {
   "cell_type": "code",
   "execution_count": null,
   "id": "8865ba05",
   "metadata": {
    "ExecuteTime": {
     "end_time": "2023-01-19T09:01:32.100304Z",
     "start_time": "2023-01-19T09:01:15.087637Z"
    },
    "hidden": true
   },
   "outputs": [],
   "source": [
    "PPR = sv.load('PPR2')"
   ]
  },
  {
   "cell_type": "markdown",
   "id": "9bc3b9c1",
   "metadata": {},
   "source": [
    "# word embs loading"
   ]
  },
  {
   "cell_type": "code",
   "execution_count": null,
   "id": "3313d020",
   "metadata": {
    "ExecuteTime": {
     "end_time": "2023-01-27T09:10:49.925043Z",
     "start_time": "2023-01-27T09:10:09.479068Z"
    }
   },
   "outputs": [],
   "source": [
    "from gensim.models import KeyedVectors\n",
    "\n",
    "w2v = '/home/manni/embs/w2v.model'\n",
    "model = KeyedVectors.load(w2v)"
   ]
  },
  {
   "cell_type": "markdown",
   "id": "58cc23dc",
   "metadata": {},
   "source": [
    "# embeddings computations"
   ]
  },
  {
   "cell_type": "code",
   "execution_count": null,
   "id": "8a2616c4",
   "metadata": {
    "ExecuteTime": {
     "end_time": "2023-02-12T11:06:52.442686Z",
     "start_time": "2023-02-12T11:06:52.432501Z"
    }
   },
   "outputs": [],
   "source": [
    "def get_lambdas(k=25,lamda=0.2):\n",
    "    '''\n",
    "    Returns list of lamdas\n",
    "    '''\n",
    "    lamdas = list()\n",
    "    for i in range(1,k+1):\n",
    "        l = 1/(math.exp(lamda*i)*k)\n",
    "        lamdas.append(l)\n",
    "    return lamdas\n",
    "\n",
    "lamdas = get_lambdas(k=100)\n",
    "\n",
    "def get_vector(i,k=25,beta=1):\n",
    "    '''\n",
    "    return lemmas vector\n",
    "    '''\n",
    "    _top_k = np.flip(np.argsort(PPR[i]))[:k]\n",
    "    _top_k = [l.name().lower() for _i in _top_k for l in wn.synset(index2synset[_i]).lemmas()]\n",
    "    top_k = list()\n",
    "    [top_k.append(x) for x in _top_k if x not in top_k] # unique list because the set is un-ordered\n",
    "    top_k = [top_k_ for top_k_ in top_k if top_k_ in model.vocab]# exclude oov\n",
    "    top_k = top_k[:k] # fixed limit\n",
    "    targets = set([l.name().lower() for l in wn.synset(index2synset[i]).lemmas()]) # lemmas (V_si) of the sense\n",
    "    vecs = dict()\n",
    "    V_si = np.zeros(model.vector_size)\n",
    "    for target in targets:\n",
    "        if target in model.vocab:\n",
    "            V_si = np.add(V_si,model.get_vector(target))     \n",
    "    V_si = beta*V_si \n",
    "    V_sum = np.zeros(model.vector_size)\n",
    "    _lamdas = lamdas[:len(top_k)]\n",
    "    for j,lamda in enumerate(_lamdas):\n",
    "        word = top_k[j]\n",
    "        _V = lamda*model.get_vector(word)\n",
    "        V_sum = np.add(V_sum,_V)\n",
    "    num = V_si+V_sum # numerator\n",
    "    den = beta + sum(_lamdas)\n",
    "    return num/den"
   ]
  },
  {
   "cell_type": "code",
   "execution_count": null,
   "id": "ae5c6988",
   "metadata": {
    "ExecuteTime": {
     "end_time": "2023-02-12T11:27:26.385800Z",
     "start_time": "2023-02-12T11:08:33.293237Z"
    }
   },
   "outputs": [],
   "source": [
    "vocab = list()\n",
    "vectors = dict()\n",
    "for i,synset in tqdm(index2synset.items(),position=0):\n",
    "    vec = get_vector(i)\n",
    "    if sum(vec) == 0:\n",
    "        continue\n",
    "    vectors[synset]=vec"
   ]
  },
  {
   "cell_type": "code",
   "execution_count": null,
   "id": "a0cf3304",
   "metadata": {
    "ExecuteTime": {
     "end_time": "2023-02-12T11:30:46.503856Z",
     "start_time": "2023-02-12T11:27:26.389067Z"
    }
   },
   "outputs": [],
   "source": [
    "emb_file = '/home/manni/embs/dconf5.txt.gz'\n",
    "with gzip.open(emb_file, 'wt', encoding='utf-8') as f:\n",
    "    f.write('%d %d\\n' % (len(vectors), 300))\n",
    "    for word,vector in tqdm(vectors.items(), position=0):\n",
    "        f.write('%s %s\\n' % (word, ' '.join([str(v) for v in vector])))"
   ]
  },
  {
   "cell_type": "code",
   "execution_count": null,
   "id": "7e8d262d",
   "metadata": {},
   "outputs": [],
   "source": [
    "# lemmatize "
   ]
  }
 ],
 "metadata": {
  "kernelspec": {
   "display_name": "Python 3 (ipykernel)",
   "language": "python",
   "name": "python3"
  },
  "language_info": {
   "codemirror_mode": {
    "name": "ipython",
    "version": 3
   },
   "file_extension": ".py",
   "mimetype": "text/x-python",
   "name": "python",
   "nbconvert_exporter": "python",
   "pygments_lexer": "ipython3",
   "version": "3.8.0"
  }
 },
 "nbformat": 4,
 "nbformat_minor": 5
}
