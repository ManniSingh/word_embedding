{
 "cells": [
  {
   "cell_type": "code",
   "execution_count": 1,
   "metadata": {
    "ExecuteTime": {
     "end_time": "2022-03-02T14:44:15.293321Z",
     "start_time": "2022-03-02T14:44:15.271542Z"
    }
   },
   "outputs": [],
   "source": [
    "import re\n",
    "from flashtext import KeywordProcessor\n",
    "keyword_processor = KeywordProcessor()\n",
    "from multiprocessing import Pool\n",
    "import sys\n",
    "sys.path.append(\"../../imports/\")\n",
    "import saver as sv\n",
    "from tqdm import tqdm"
   ]
  },
  {
   "cell_type": "code",
   "execution_count": 2,
   "metadata": {
    "ExecuteTime": {
     "end_time": "2022-03-02T14:44:20.331166Z",
     "start_time": "2022-03-02T14:44:16.253919Z"
    }
   },
   "outputs": [
    {
     "name": "stdout",
     "output_type": "stream",
     "text": [
      "Importing word2vec_inner...\n",
      "CYTHON IMPORTED SUCCESSFULLY!! (Normal)\n",
      "cbound : False\n",
      "tbound : False\n"
     ]
    }
   ],
   "source": [
    "wiki_sentences = sv.load(\"wiki_sentences\")"
   ]
  },
  {
   "cell_type": "code",
   "execution_count": null,
   "metadata": {},
   "outputs": [],
   "source": [
    "def get_results(sent):\n",
    "    sent = ' '.join(sent)\n",
    "    ents = set(re.findall(r'\\[\\s[\\w\\s]+\\]',sent))\n",
    "    _ents = [ent.replace(' ','#E ') for ent in ents]\n",
    "    ents_ = [ent.replace('[#E','[') for ent in _ents]\n",
    "    res = list()\n",
    "    for i,ent in enumerate(ents):\n",
    "        res.append((ent, ents_[i]))\n",
    "    return res"
   ]
  },
  {
   "cell_type": "code",
   "execution_count": null,
   "metadata": {},
   "outputs": [],
   "source": [
    "results = list()\n",
    "with Pool(40) as pool:\n",
    "    for tup_list in tqdm(pool.imap_unordered(get_results, wiki_sentences), total=wiki_sentences.wiki.length):\n",
    "        if tup_list:\n",
    "            for tup in tup_list:\n",
    "                keyword_processor.add_keyword(tup[0], tup[1])\n",
    "pool.close()\n",
    "pool.join()"
   ]
  },
  {
   "cell_type": "code",
   "execution_count": null,
   "metadata": {},
   "outputs": [],
   "source": [
    "sv.save(keyword_processor,\"keyword_processor_EM\")"
   ]
  }
 ],
 "metadata": {
  "kernelspec": {
   "display_name": "Python 3",
   "language": "python",
   "name": "python3"
  },
  "language_info": {
   "codemirror_mode": {
    "name": "ipython",
    "version": 3
   },
   "file_extension": ".py",
   "mimetype": "text/x-python",
   "name": "python",
   "nbconvert_exporter": "python",
   "pygments_lexer": "ipython3",
   "version": "3.7.6"
  }
 },
 "nbformat": 4,
 "nbformat_minor": 4
}
