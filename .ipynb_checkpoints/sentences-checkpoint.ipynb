{
 "cells": [
  {
   "cell_type": "code",
   "execution_count": 32,
   "id": "6e2a1e3b",
   "metadata": {
    "ExecuteTime": {
     "end_time": "2022-09-30T09:23:25.387510Z",
     "start_time": "2022-09-30T09:23:25.383728Z"
    }
   },
   "outputs": [],
   "source": [
    "import logging\n",
    "import os\n",
    "\n",
    "import wiki as w \n",
    " \n",
    "from localgensim.gensim2.models import word2vec \n",
    "from gensim.models import KeyedVectors\n",
    "\n",
    "import numpy as np\n",
    "import sys\n",
    "\n",
    "from tqdm import tqdm"
   ]
  },
  {
   "cell_type": "code",
   "execution_count": 9,
   "id": "6b2de514",
   "metadata": {
    "ExecuteTime": {
     "end_time": "2022-09-28T13:01:17.154259Z",
     "start_time": "2022-09-28T11:48:57.563966Z"
    }
   },
   "outputs": [
    {
     "name": "stderr",
     "output_type": "stream",
     "text": [
      "[2022-09-28 12:48:57,898] Downloading https://dumps.wikimedia.org/enwiki/latest/enwiki-latest-pages-articles-multistream.xml.bz2 to /home/manni/data/wiki/en-28102022.bz2\n",
      " 63%|██████████████████████████████████████████████████████████████████████████████████████████████████▏                                                        | 13.1M/20.7M [46:22<26:27, 4.78kKB/s]IOPub message rate exceeded.\n",
      "The notebook server will temporarily stop sending output\n",
      "to the client in order to avoid crashing it.\n",
      "To change this limit, set the config variable\n",
      "`--NotebookApp.iopub_msg_rate_limit`.\n",
      "\n",
      "Current values:\n",
      "NotebookApp.iopub_msg_rate_limit=1000.0 (msgs/sec)\n",
      "NotebookApp.rate_limit_window=3.0 (secs)\n",
      "\n",
      " 79%|██████████████████████████████████████████████████████████████████████████████████████████████████████████████████████████▋                                | 16.4M/20.7M [57:36<15:12, 4.73kKB/s]IOPub message rate exceeded.\n",
      "The notebook server will temporarily stop sending output\n",
      "to the client in order to avoid crashing it.\n",
      "To change this limit, set the config variable\n",
      "`--NotebookApp.iopub_msg_rate_limit`.\n",
      "\n",
      "Current values:\n",
      "NotebookApp.iopub_msg_rate_limit=1000.0 (msgs/sec)\n",
      "NotebookApp.rate_limit_window=3.0 (secs)\n",
      "\n",
      " 96%|███████████████████████████████████████████████████████████████████████████████████████████████████████████████████████████████████████████████████▍     | 20.0M/20.7M [1:09:44<02:37, 4.83kKB/s]IOPub data rate exceeded.\n",
      "The notebook server will temporarily stop sending output\n",
      "to the client in order to avoid crashing it.\n",
      "To change this limit, set the config variable\n",
      "`--NotebookApp.iopub_data_rate_limit`.\n",
      "\n",
      "Current values:\n",
      "NotebookApp.iopub_data_rate_limit=1000000.0 (bytes/sec)\n",
      "NotebookApp.rate_limit_window=3.0 (secs)\n",
      "\n"
     ]
    }
   ],
   "source": [
    "w.download_wiki_dump('en', '/home/manni/data/wiki/en-28102022.bz2')"
   ]
  },
  {
   "cell_type": "code",
   "execution_count": 105,
   "id": "58c6797e",
   "metadata": {
    "ExecuteTime": {
     "end_time": "2022-09-30T11:27:50.015901Z",
     "start_time": "2022-09-30T11:27:50.013111Z"
    }
   },
   "outputs": [],
   "source": [
    "import sys\n",
    "sys.path.append(\"../../imports/\")\n",
    "import saver as sv"
   ]
  },
  {
   "cell_type": "code",
   "execution_count": 11,
   "id": "6fe6026d",
   "metadata": {
    "ExecuteTime": {
     "end_time": "2022-09-29T10:35:51.803354Z",
     "start_time": "2022-09-29T10:35:51.797572Z"
    }
   },
   "outputs": [],
   "source": [
    "logging.basicConfig(format='[%(asctime)s] %(message)s', level=logging.INFO)\n",
    "os.makedirs('data/', exist_ok=True)"
   ]
  },
  {
   "cell_type": "code",
   "execution_count": 14,
   "id": "7a22b810",
   "metadata": {
    "ExecuteTime": {
     "end_time": "2022-09-30T04:47:06.160256Z",
     "start_time": "2022-09-30T04:47:04.348394Z"
    }
   },
   "outputs": [],
   "source": [
    "sentences = sv.load(\"wiki_sentences_wnet_noun\") #New"
   ]
  },
  {
   "cell_type": "code",
   "execution_count": 23,
   "id": "25f1acde",
   "metadata": {
    "ExecuteTime": {
     "end_time": "2022-09-30T05:29:08.686452Z",
     "start_time": "2022-09-30T05:29:08.681482Z"
    }
   },
   "outputs": [],
   "source": [
    "def get_sents(word,n):\n",
    "    sents = list()\n",
    "    _n = 1\n",
    "    for sent in sentences:\n",
    "        for i,_word in enumerate(sent):\n",
    "            if word == _word or word+'#' in _word or word+'§' in _word:\n",
    "                sents.append(' '.join(sent[i-10:i]+sent[i:i+11]))\n",
    "                _n+=1\n",
    "                if _n>n:\n",
    "                    return sents"
   ]
  },
  {
   "cell_type": "code",
   "execution_count": 24,
   "id": "e3151df3",
   "metadata": {
    "ExecuteTime": {
     "end_time": "2022-09-30T05:29:25.717892Z",
     "start_time": "2022-09-30T05:29:09.380863Z"
    }
   },
   "outputs": [],
   "source": [
    "sents=get_sents('rapid',20)"
   ]
  },
  {
   "cell_type": "code",
   "execution_count": 27,
   "id": "6210cf7b",
   "metadata": {
    "ExecuteTime": {
     "end_time": "2022-09-30T06:59:00.114559Z",
     "start_time": "2022-09-30T06:59:00.107846Z"
    }
   },
   "outputs": [
    {
     "name": "stdout",
     "output_type": "stream",
     "text": [
      "1 people§ migrated city#2§ birmingham work new#7 industrial job birmingham experienced rapid growth wa called magic city§ birmingham wa th largest city\n",
      "2 temperature§ hot#0 year round sunset however clear#5 dry#1 air§ permit§ rapid loss heat§ night cool#0 chilly enormous daily range temperature#1§ recorded\n",
      "3 beta movement#6§ exact#3 neurological cause#2 still#11 uncertain illusion§ motion#6 caused rapid succession§ image minimally differ unnoticeable interruption stroboscopic effect§ animator traditionally\n",
      "4 figure#12§ throughout digitally created environment#1§ analog mechanical animation medium#1§ rely rapid display sequential image§ include phénakisticope zoetrope flip#8 book§ praxinoscope film#0§\n",
      "5 slower growth§ development#1 rate compared vertebrate another reason size associated rapid metamorphosis seems evolved ancestor lissamphibia known line#9 development§ wa much\n",
      "6 cannibalistic younger tadpole#0 attacking larger developed tadpole#0 undergoing metamorphosis metamorphosis rapid change#12§ body§ take#6§ place lifestyle frog change#12§ completely spiral#2 shaped#2\n",
      "7 explosive#1 behavior alkali§ metal#0 water§ driven coulomb explosion#0§ rather solely rapid#0 generation hydrogen alkali§ metal#0§ melt#0 part§ reaction water water molecule\n",
      "8 two filament staggered type muscle#1§ found earthworm extend#7 slowly make rapid contraction#0 higher animal#0§ striated§ muscle#1§ occur bundle attached bone provide§\n",
      "9 boa writes progress#0 anatomy§ sixteenth century#0§ mysteriously slow development§ startlingly rapid anatomist#0 mondino de luzzi alessandro achillini antonio benivieni bologna carried\n",
      "10 within africa derived single small population#0§ coincided emergence behavioral complexity rapid mi environmental change§ group#0 people§ expanded#6 whole africa also started\n",
      "11 initial settlement along european north§ atlantic#0 coast retreat mediterranean following rapid climate change#10§ end#15§ lgm region wa repopulated magdalenian culture hunter\n",
      "12 trade#8 also strengthened position merchant#0 group#1 expense monarch growth wa rapid non absolutist country§ britain netherlands#0 limited absolutist monarchy#0§ portugal spain#0\n",
      "13 withdrawal#0 seize various strategic position#3§ acquire arm#2§ enlarge militant force rapid influx weapon#0§ numerous external source#1 especially soviet union§ united state#1§\n",
      "14 transport#0 investigation#0 inspection economic activity§ taxation#0 frontier supervision riot police#0§ rapid intervention police#0§ national police#0§ process§ standing air wing§ provide helicopter#0\n",
      "15 rose instead marketed produce§ angolan farmer wake world§ war#0 ii rapid growth§ industrialization worldwide#0 parallel requirement raw§ material#0§ led portugal develop#9\n",
      "16 life expectance country§ outside#8 africa along factor returning refugee caused rapid population#3§ growth#2 ha recently started slow gini coefficient wa ethnicity\n",
      "17 compose janissary ottoman§ conquest wa also accompanied gradual process islamisation rapid construction mosque consequently modified religious picture albania prosperous longstanding revolution\n",
      "18 others people§ republic#0 china#0 period§ country#0§ experienced increasing industrialisation urbanisation rapid#1 collectivisation economic growth§ led higher standard living government#2§ called development#1\n",
      "19 spread#13 albania march#4 june government§ declared state§ emergency#1 measure limit rapid spread#13 pandemic country#0 country#0 covid vaccination campaign started january however\n",
      "20 ha large steadily growing#1§ internet sector mostly uninfluenced financial§ crisis rapid growth forecast#0 least five year azerbaijan wa ranked th global\n"
     ]
    }
   ],
   "source": [
    "for i,sent in enumerate(sents):\n",
    "    print(i+1,sent)"
   ]
  },
  {
   "cell_type": "code",
   "execution_count": 34,
   "id": "bf34eb41",
   "metadata": {
    "ExecuteTime": {
     "end_time": "2022-09-30T09:31:18.696765Z",
     "start_time": "2022-09-30T09:25:57.619536Z"
    }
   },
   "outputs": [
    {
     "name": "stderr",
     "output_type": "stream",
     "text": [
      "[2022-09-30 10:25:57,635] Creating /home/manni/gensim-data\n"
     ]
    },
    {
     "name": "stdout",
     "output_type": "stream",
     "text": [
      "[--------------------------------------------------] 1.4% 23.4/1662.8MB downloaded"
     ]
    },
    {
     "name": "stderr",
     "output_type": "stream",
     "text": [
      "IOPub message rate exceeded.\n",
      "The notebook server will temporarily stop sending output\n",
      "to the client in order to avoid crashing it.\n",
      "To change this limit, set the config variable\n",
      "`--NotebookApp.iopub_msg_rate_limit`.\n",
      "\n",
      "Current values:\n",
      "NotebookApp.iopub_msg_rate_limit=1000.0 (msgs/sec)\n",
      "NotebookApp.rate_limit_window=3.0 (secs)\n",
      "\n"
     ]
    },
    {
     "name": "stdout",
     "output_type": "stream",
     "text": [
      "[=-------------------------------------------------] 3.4% 55.9/1662.8MB downloaded"
     ]
    },
    {
     "name": "stderr",
     "output_type": "stream",
     "text": [
      "IOPub message rate exceeded.\n",
      "The notebook server will temporarily stop sending output\n",
      "to the client in order to avoid crashing it.\n",
      "To change this limit, set the config variable\n",
      "`--NotebookApp.iopub_msg_rate_limit`.\n",
      "\n",
      "Current values:\n",
      "NotebookApp.iopub_msg_rate_limit=1000.0 (msgs/sec)\n",
      "NotebookApp.rate_limit_window=3.0 (secs)\n",
      "\n"
     ]
    },
    {
     "name": "stdout",
     "output_type": "stream",
     "text": [
      "[==------------------------------------------------] 5.3% 88.7/1662.8MB downloaded"
     ]
    },
    {
     "name": "stderr",
     "output_type": "stream",
     "text": [
      "IOPub message rate exceeded.\n",
      "The notebook server will temporarily stop sending output\n",
      "to the client in order to avoid crashing it.\n",
      "To change this limit, set the config variable\n",
      "`--NotebookApp.iopub_msg_rate_limit`.\n",
      "\n",
      "Current values:\n",
      "NotebookApp.iopub_msg_rate_limit=1000.0 (msgs/sec)\n",
      "NotebookApp.rate_limit_window=3.0 (secs)\n",
      "\n"
     ]
    },
    {
     "name": "stdout",
     "output_type": "stream",
     "text": [
      "[===-----------------------------------------------] 7.3% 120.6/1662.8MB downloaded"
     ]
    },
    {
     "name": "stderr",
     "output_type": "stream",
     "text": [
      "IOPub message rate exceeded.\n",
      "The notebook server will temporarily stop sending output\n",
      "to the client in order to avoid crashing it.\n",
      "To change this limit, set the config variable\n",
      "`--NotebookApp.iopub_msg_rate_limit`.\n",
      "\n",
      "Current values:\n",
      "NotebookApp.iopub_msg_rate_limit=1000.0 (msgs/sec)\n",
      "NotebookApp.rate_limit_window=3.0 (secs)\n",
      "\n"
     ]
    },
    {
     "name": "stdout",
     "output_type": "stream",
     "text": [
      "[====----------------------------------------------] 9.2% 152.4/1662.8MB downloaded"
     ]
    },
    {
     "name": "stderr",
     "output_type": "stream",
     "text": [
      "IOPub message rate exceeded.\n",
      "The notebook server will temporarily stop sending output\n",
      "to the client in order to avoid crashing it.\n",
      "To change this limit, set the config variable\n",
      "`--NotebookApp.iopub_msg_rate_limit`.\n",
      "\n",
      "Current values:\n",
      "NotebookApp.iopub_msg_rate_limit=1000.0 (msgs/sec)\n",
      "NotebookApp.rate_limit_window=3.0 (secs)\n",
      "\n"
     ]
    },
    {
     "name": "stdout",
     "output_type": "stream",
     "text": [
      "[=====---------------------------------------------] 11.2% 185.5/1662.8MB downloaded"
     ]
    },
    {
     "name": "stderr",
     "output_type": "stream",
     "text": [
      "IOPub message rate exceeded.\n",
      "The notebook server will temporarily stop sending output\n",
      "to the client in order to avoid crashing it.\n",
      "To change this limit, set the config variable\n",
      "`--NotebookApp.iopub_msg_rate_limit`.\n",
      "\n",
      "Current values:\n",
      "NotebookApp.iopub_msg_rate_limit=1000.0 (msgs/sec)\n",
      "NotebookApp.rate_limit_window=3.0 (secs)\n",
      "\n"
     ]
    },
    {
     "name": "stdout",
     "output_type": "stream",
     "text": [
      "[======--------------------------------------------] 13.1% 218.6/1662.8MB downloaded"
     ]
    },
    {
     "name": "stderr",
     "output_type": "stream",
     "text": [
      "IOPub message rate exceeded.\n",
      "The notebook server will temporarily stop sending output\n",
      "to the client in order to avoid crashing it.\n",
      "To change this limit, set the config variable\n",
      "`--NotebookApp.iopub_msg_rate_limit`.\n",
      "\n",
      "Current values:\n",
      "NotebookApp.iopub_msg_rate_limit=1000.0 (msgs/sec)\n",
      "NotebookApp.rate_limit_window=3.0 (secs)\n",
      "\n"
     ]
    },
    {
     "name": "stdout",
     "output_type": "stream",
     "text": [
      "[=======-------------------------------------------] 15.2% 252.1/1662.8MB downloaded"
     ]
    },
    {
     "name": "stderr",
     "output_type": "stream",
     "text": [
      "IOPub message rate exceeded.\n",
      "The notebook server will temporarily stop sending output\n",
      "to the client in order to avoid crashing it.\n",
      "To change this limit, set the config variable\n",
      "`--NotebookApp.iopub_msg_rate_limit`.\n",
      "\n",
      "Current values:\n",
      "NotebookApp.iopub_msg_rate_limit=1000.0 (msgs/sec)\n",
      "NotebookApp.rate_limit_window=3.0 (secs)\n",
      "\n"
     ]
    },
    {
     "name": "stdout",
     "output_type": "stream",
     "text": [
      "[========------------------------------------------] 17.1% 284.9/1662.8MB downloaded"
     ]
    },
    {
     "name": "stderr",
     "output_type": "stream",
     "text": [
      "IOPub message rate exceeded.\n",
      "The notebook server will temporarily stop sending output\n",
      "to the client in order to avoid crashing it.\n",
      "To change this limit, set the config variable\n",
      "`--NotebookApp.iopub_msg_rate_limit`.\n",
      "\n",
      "Current values:\n",
      "NotebookApp.iopub_msg_rate_limit=1000.0 (msgs/sec)\n",
      "NotebookApp.rate_limit_window=3.0 (secs)\n",
      "\n"
     ]
    },
    {
     "name": "stdout",
     "output_type": "stream",
     "text": [
      "[=========-----------------------------------------] 19.0% 316.6/1662.8MB downloaded"
     ]
    },
    {
     "name": "stderr",
     "output_type": "stream",
     "text": [
      "IOPub message rate exceeded.\n",
      "The notebook server will temporarily stop sending output\n",
      "to the client in order to avoid crashing it.\n",
      "To change this limit, set the config variable\n",
      "`--NotebookApp.iopub_msg_rate_limit`.\n",
      "\n",
      "Current values:\n",
      "NotebookApp.iopub_msg_rate_limit=1000.0 (msgs/sec)\n",
      "NotebookApp.rate_limit_window=3.0 (secs)\n",
      "\n"
     ]
    },
    {
     "name": "stdout",
     "output_type": "stream",
     "text": [
      "[==========----------------------------------------] 21.0% 348.8/1662.8MB downloaded"
     ]
    },
    {
     "name": "stderr",
     "output_type": "stream",
     "text": [
      "IOPub message rate exceeded.\n",
      "The notebook server will temporarily stop sending output\n",
      "to the client in order to avoid crashing it.\n",
      "To change this limit, set the config variable\n",
      "`--NotebookApp.iopub_msg_rate_limit`.\n",
      "\n",
      "Current values:\n",
      "NotebookApp.iopub_msg_rate_limit=1000.0 (msgs/sec)\n",
      "NotebookApp.rate_limit_window=3.0 (secs)\n",
      "\n"
     ]
    },
    {
     "name": "stdout",
     "output_type": "stream",
     "text": [
      "[===========---------------------------------------] 22.9% 381.5/1662.8MB downloaded"
     ]
    },
    {
     "name": "stderr",
     "output_type": "stream",
     "text": [
      "IOPub message rate exceeded.\n",
      "The notebook server will temporarily stop sending output\n",
      "to the client in order to avoid crashing it.\n",
      "To change this limit, set the config variable\n",
      "`--NotebookApp.iopub_msg_rate_limit`.\n",
      "\n",
      "Current values:\n",
      "NotebookApp.iopub_msg_rate_limit=1000.0 (msgs/sec)\n",
      "NotebookApp.rate_limit_window=3.0 (secs)\n",
      "\n"
     ]
    },
    {
     "name": "stdout",
     "output_type": "stream",
     "text": [
      "[============--------------------------------------] 25.0% 414.9/1662.8MB downloaded"
     ]
    },
    {
     "name": "stderr",
     "output_type": "stream",
     "text": [
      "IOPub message rate exceeded.\n",
      "The notebook server will temporarily stop sending output\n",
      "to the client in order to avoid crashing it.\n",
      "To change this limit, set the config variable\n",
      "`--NotebookApp.iopub_msg_rate_limit`.\n",
      "\n",
      "Current values:\n",
      "NotebookApp.iopub_msg_rate_limit=1000.0 (msgs/sec)\n",
      "NotebookApp.rate_limit_window=3.0 (secs)\n",
      "\n"
     ]
    },
    {
     "name": "stdout",
     "output_type": "stream",
     "text": [
      "[==============------------------------------------] 28.3% 470.6/1662.8MB downloaded"
     ]
    },
    {
     "name": "stderr",
     "output_type": "stream",
     "text": [
      "IOPub message rate exceeded.\n",
      "The notebook server will temporarily stop sending output\n",
      "to the client in order to avoid crashing it.\n",
      "To change this limit, set the config variable\n",
      "`--NotebookApp.iopub_msg_rate_limit`.\n",
      "\n",
      "Current values:\n",
      "NotebookApp.iopub_msg_rate_limit=1000.0 (msgs/sec)\n",
      "NotebookApp.rate_limit_window=3.0 (secs)\n",
      "\n"
     ]
    },
    {
     "name": "stdout",
     "output_type": "stream",
     "text": [
      "[===============-----------------------------------] 30.3% 503.6/1662.8MB downloaded"
     ]
    },
    {
     "name": "stderr",
     "output_type": "stream",
     "text": [
      "IOPub message rate exceeded.\n",
      "The notebook server will temporarily stop sending output\n",
      "to the client in order to avoid crashing it.\n",
      "To change this limit, set the config variable\n",
      "`--NotebookApp.iopub_msg_rate_limit`.\n",
      "\n",
      "Current values:\n",
      "NotebookApp.iopub_msg_rate_limit=1000.0 (msgs/sec)\n",
      "NotebookApp.rate_limit_window=3.0 (secs)\n",
      "\n"
     ]
    },
    {
     "name": "stdout",
     "output_type": "stream",
     "text": [
      "[================----------------------------------] 33.3% 554.2/1662.8MB downloaded"
     ]
    },
    {
     "name": "stderr",
     "output_type": "stream",
     "text": [
      "IOPub message rate exceeded.\n",
      "The notebook server will temporarily stop sending output\n",
      "to the client in order to avoid crashing it.\n",
      "To change this limit, set the config variable\n",
      "`--NotebookApp.iopub_msg_rate_limit`.\n",
      "\n",
      "Current values:\n",
      "NotebookApp.iopub_msg_rate_limit=1000.0 (msgs/sec)\n",
      "NotebookApp.rate_limit_window=3.0 (secs)\n",
      "\n"
     ]
    },
    {
     "name": "stdout",
     "output_type": "stream",
     "text": [
      "[=================---------------------------------] 35.7% 593.9/1662.8MB downloaded"
     ]
    },
    {
     "name": "stderr",
     "output_type": "stream",
     "text": [
      "IOPub message rate exceeded.\n",
      "The notebook server will temporarily stop sending output\n",
      "to the client in order to avoid crashing it.\n",
      "To change this limit, set the config variable\n",
      "`--NotebookApp.iopub_msg_rate_limit`.\n",
      "\n",
      "Current values:\n",
      "NotebookApp.iopub_msg_rate_limit=1000.0 (msgs/sec)\n",
      "NotebookApp.rate_limit_window=3.0 (secs)\n",
      "\n"
     ]
    },
    {
     "name": "stdout",
     "output_type": "stream",
     "text": [
      "[==================--------------------------------] 37.7% 626.8/1662.8MB downloaded"
     ]
    },
    {
     "name": "stderr",
     "output_type": "stream",
     "text": [
      "IOPub message rate exceeded.\n",
      "The notebook server will temporarily stop sending output\n",
      "to the client in order to avoid crashing it.\n",
      "To change this limit, set the config variable\n",
      "`--NotebookApp.iopub_msg_rate_limit`.\n",
      "\n",
      "Current values:\n",
      "NotebookApp.iopub_msg_rate_limit=1000.0 (msgs/sec)\n",
      "NotebookApp.rate_limit_window=3.0 (secs)\n",
      "\n"
     ]
    },
    {
     "name": "stdout",
     "output_type": "stream",
     "text": [
      "[====================------------------------------] 40.9% 680.4/1662.8MB downloaded"
     ]
    },
    {
     "name": "stderr",
     "output_type": "stream",
     "text": [
      "IOPub message rate exceeded.\n",
      "The notebook server will temporarily stop sending output\n",
      "to the client in order to avoid crashing it.\n",
      "To change this limit, set the config variable\n",
      "`--NotebookApp.iopub_msg_rate_limit`.\n",
      "\n",
      "Current values:\n",
      "NotebookApp.iopub_msg_rate_limit=1000.0 (msgs/sec)\n",
      "NotebookApp.rate_limit_window=3.0 (secs)\n",
      "\n"
     ]
    },
    {
     "name": "stdout",
     "output_type": "stream",
     "text": [
      "[=====================-----------------------------] 43.5% 723.6/1662.8MB downloaded"
     ]
    },
    {
     "name": "stderr",
     "output_type": "stream",
     "text": [
      "IOPub message rate exceeded.\n",
      "The notebook server will temporarily stop sending output\n",
      "to the client in order to avoid crashing it.\n",
      "To change this limit, set the config variable\n",
      "`--NotebookApp.iopub_msg_rate_limit`.\n",
      "\n",
      "Current values:\n",
      "NotebookApp.iopub_msg_rate_limit=1000.0 (msgs/sec)\n",
      "NotebookApp.rate_limit_window=3.0 (secs)\n",
      "\n"
     ]
    },
    {
     "name": "stdout",
     "output_type": "stream",
     "text": [
      "[======================----------------------------] 45.5% 756.6/1662.8MB downloaded"
     ]
    },
    {
     "name": "stderr",
     "output_type": "stream",
     "text": [
      "IOPub message rate exceeded.\n",
      "The notebook server will temporarily stop sending output\n",
      "to the client in order to avoid crashing it.\n",
      "To change this limit, set the config variable\n",
      "`--NotebookApp.iopub_msg_rate_limit`.\n",
      "\n",
      "Current values:\n",
      "NotebookApp.iopub_msg_rate_limit=1000.0 (msgs/sec)\n",
      "NotebookApp.rate_limit_window=3.0 (secs)\n",
      "\n"
     ]
    },
    {
     "name": "stdout",
     "output_type": "stream",
     "text": [
      "[========================--------------------------] 48.8% 811.6/1662.8MB downloaded"
     ]
    },
    {
     "name": "stderr",
     "output_type": "stream",
     "text": [
      "IOPub message rate exceeded.\n",
      "The notebook server will temporarily stop sending output\n",
      "to the client in order to avoid crashing it.\n",
      "To change this limit, set the config variable\n",
      "`--NotebookApp.iopub_msg_rate_limit`.\n",
      "\n",
      "Current values:\n",
      "NotebookApp.iopub_msg_rate_limit=1000.0 (msgs/sec)\n",
      "NotebookApp.rate_limit_window=3.0 (secs)\n",
      "\n"
     ]
    },
    {
     "name": "stdout",
     "output_type": "stream",
     "text": [
      "[=========================-------------------------] 51.4% 854.3/1662.8MB downloaded"
     ]
    },
    {
     "name": "stderr",
     "output_type": "stream",
     "text": [
      "IOPub message rate exceeded.\n",
      "The notebook server will temporarily stop sending output\n",
      "to the client in order to avoid crashing it.\n",
      "To change this limit, set the config variable\n",
      "`--NotebookApp.iopub_msg_rate_limit`.\n",
      "\n",
      "Current values:\n",
      "NotebookApp.iopub_msg_rate_limit=1000.0 (msgs/sec)\n",
      "NotebookApp.rate_limit_window=3.0 (secs)\n",
      "\n"
     ]
    },
    {
     "name": "stdout",
     "output_type": "stream",
     "text": [
      "[==========================------------------------] 53.4% 887.3/1662.8MB downloaded"
     ]
    },
    {
     "name": "stderr",
     "output_type": "stream",
     "text": [
      "IOPub message rate exceeded.\n",
      "The notebook server will temporarily stop sending output\n",
      "to the client in order to avoid crashing it.\n",
      "To change this limit, set the config variable\n",
      "`--NotebookApp.iopub_msg_rate_limit`.\n",
      "\n",
      "Current values:\n",
      "NotebookApp.iopub_msg_rate_limit=1000.0 (msgs/sec)\n",
      "NotebookApp.rate_limit_window=3.0 (secs)\n",
      "\n"
     ]
    },
    {
     "name": "stdout",
     "output_type": "stream",
     "text": [
      "[============================----------------------] 56.5% 940.0/1662.8MB downloaded"
     ]
    },
    {
     "name": "stderr",
     "output_type": "stream",
     "text": [
      "IOPub message rate exceeded.\n",
      "The notebook server will temporarily stop sending output\n",
      "to the client in order to avoid crashing it.\n",
      "To change this limit, set the config variable\n",
      "`--NotebookApp.iopub_msg_rate_limit`.\n",
      "\n",
      "Current values:\n",
      "NotebookApp.iopub_msg_rate_limit=1000.0 (msgs/sec)\n",
      "NotebookApp.rate_limit_window=3.0 (secs)\n",
      "\n"
     ]
    },
    {
     "name": "stdout",
     "output_type": "stream",
     "text": [
      "[=============================---------------------] 59.5% 988.6/1662.8MB downloaded"
     ]
    },
    {
     "name": "stderr",
     "output_type": "stream",
     "text": [
      "IOPub message rate exceeded.\n",
      "The notebook server will temporarily stop sending output\n",
      "to the client in order to avoid crashing it.\n",
      "To change this limit, set the config variable\n",
      "`--NotebookApp.iopub_msg_rate_limit`.\n",
      "\n",
      "Current values:\n",
      "NotebookApp.iopub_msg_rate_limit=1000.0 (msgs/sec)\n",
      "NotebookApp.rate_limit_window=3.0 (secs)\n",
      "\n"
     ]
    },
    {
     "name": "stdout",
     "output_type": "stream",
     "text": [
      "[==============================--------------------] 61.6% 1024.7/1662.8MB downloaded"
     ]
    },
    {
     "name": "stderr",
     "output_type": "stream",
     "text": [
      "IOPub message rate exceeded.\n",
      "The notebook server will temporarily stop sending output\n",
      "to the client in order to avoid crashing it.\n",
      "To change this limit, set the config variable\n",
      "`--NotebookApp.iopub_msg_rate_limit`.\n",
      "\n",
      "Current values:\n",
      "NotebookApp.iopub_msg_rate_limit=1000.0 (msgs/sec)\n",
      "NotebookApp.rate_limit_window=3.0 (secs)\n",
      "\n"
     ]
    },
    {
     "name": "stdout",
     "output_type": "stream",
     "text": [
      "[================================------------------] 64.7% 1076.6/1662.8MB downloaded"
     ]
    },
    {
     "name": "stderr",
     "output_type": "stream",
     "text": [
      "IOPub message rate exceeded.\n",
      "The notebook server will temporarily stop sending output\n",
      "to the client in order to avoid crashing it.\n",
      "To change this limit, set the config variable\n",
      "`--NotebookApp.iopub_msg_rate_limit`.\n",
      "\n",
      "Current values:\n",
      "NotebookApp.iopub_msg_rate_limit=1000.0 (msgs/sec)\n",
      "NotebookApp.rate_limit_window=3.0 (secs)\n",
      "\n"
     ]
    },
    {
     "name": "stdout",
     "output_type": "stream",
     "text": [
      "[=================================-----------------] 66.8% 1110.6/1662.8MB downloaded"
     ]
    },
    {
     "name": "stderr",
     "output_type": "stream",
     "text": [
      "IOPub message rate exceeded.\n",
      "The notebook server will temporarily stop sending output\n",
      "to the client in order to avoid crashing it.\n",
      "To change this limit, set the config variable\n",
      "`--NotebookApp.iopub_msg_rate_limit`.\n",
      "\n",
      "Current values:\n",
      "NotebookApp.iopub_msg_rate_limit=1000.0 (msgs/sec)\n",
      "NotebookApp.rate_limit_window=3.0 (secs)\n",
      "\n"
     ]
    },
    {
     "name": "stdout",
     "output_type": "stream",
     "text": [
      "[===================================---------------] 70.1% 1164.8/1662.8MB downloaded"
     ]
    },
    {
     "name": "stderr",
     "output_type": "stream",
     "text": [
      "IOPub message rate exceeded.\n",
      "The notebook server will temporarily stop sending output\n",
      "to the client in order to avoid crashing it.\n",
      "To change this limit, set the config variable\n",
      "`--NotebookApp.iopub_msg_rate_limit`.\n",
      "\n",
      "Current values:\n",
      "NotebookApp.iopub_msg_rate_limit=1000.0 (msgs/sec)\n",
      "NotebookApp.rate_limit_window=3.0 (secs)\n",
      "\n"
     ]
    },
    {
     "name": "stdout",
     "output_type": "stream",
     "text": [
      "[====================================--------------] 72.1% 1199.2/1662.8MB downloaded"
     ]
    },
    {
     "name": "stderr",
     "output_type": "stream",
     "text": [
      "IOPub message rate exceeded.\n",
      "The notebook server will temporarily stop sending output\n",
      "to the client in order to avoid crashing it.\n",
      "To change this limit, set the config variable\n",
      "`--NotebookApp.iopub_msg_rate_limit`.\n",
      "\n",
      "Current values:\n",
      "NotebookApp.iopub_msg_rate_limit=1000.0 (msgs/sec)\n",
      "NotebookApp.rate_limit_window=3.0 (secs)\n",
      "\n"
     ]
    },
    {
     "name": "stdout",
     "output_type": "stream",
     "text": [
      "[=====================================-------------] 75.2% 1250.3/1662.8MB downloaded"
     ]
    },
    {
     "name": "stderr",
     "output_type": "stream",
     "text": [
      "IOPub message rate exceeded.\n",
      "The notebook server will temporarily stop sending output\n",
      "to the client in order to avoid crashing it.\n",
      "To change this limit, set the config variable\n",
      "`--NotebookApp.iopub_msg_rate_limit`.\n",
      "\n",
      "Current values:\n",
      "NotebookApp.iopub_msg_rate_limit=1000.0 (msgs/sec)\n",
      "NotebookApp.rate_limit_window=3.0 (secs)\n",
      "\n"
     ]
    },
    {
     "name": "stdout",
     "output_type": "stream",
     "text": [
      "[======================================------------] 77.1% 1282.8/1662.8MB downloaded"
     ]
    },
    {
     "name": "stderr",
     "output_type": "stream",
     "text": [
      "IOPub message rate exceeded.\n",
      "The notebook server will temporarily stop sending output\n",
      "to the client in order to avoid crashing it.\n",
      "To change this limit, set the config variable\n",
      "`--NotebookApp.iopub_msg_rate_limit`.\n",
      "\n",
      "Current values:\n",
      "NotebookApp.iopub_msg_rate_limit=1000.0 (msgs/sec)\n",
      "NotebookApp.rate_limit_window=3.0 (secs)\n",
      "\n"
     ]
    },
    {
     "name": "stdout",
     "output_type": "stream",
     "text": [
      "[========================================----------] 80.3% 1334.7/1662.8MB downloaded"
     ]
    },
    {
     "name": "stderr",
     "output_type": "stream",
     "text": [
      "IOPub message rate exceeded.\n",
      "The notebook server will temporarily stop sending output\n",
      "to the client in order to avoid crashing it.\n",
      "To change this limit, set the config variable\n",
      "`--NotebookApp.iopub_msg_rate_limit`.\n",
      "\n",
      "Current values:\n",
      "NotebookApp.iopub_msg_rate_limit=1000.0 (msgs/sec)\n",
      "NotebookApp.rate_limit_window=3.0 (secs)\n",
      "\n"
     ]
    },
    {
     "name": "stdout",
     "output_type": "stream",
     "text": [
      "[=========================================---------] 82.3% 1367.7/1662.8MB downloaded"
     ]
    },
    {
     "name": "stderr",
     "output_type": "stream",
     "text": [
      "IOPub message rate exceeded.\n",
      "The notebook server will temporarily stop sending output\n",
      "to the client in order to avoid crashing it.\n",
      "To change this limit, set the config variable\n",
      "`--NotebookApp.iopub_msg_rate_limit`.\n",
      "\n",
      "Current values:\n",
      "NotebookApp.iopub_msg_rate_limit=1000.0 (msgs/sec)\n",
      "NotebookApp.rate_limit_window=3.0 (secs)\n",
      "\n"
     ]
    },
    {
     "name": "stdout",
     "output_type": "stream",
     "text": [
      "[==========================================--------] 85.4% 1420.4/1662.8MB downloaded"
     ]
    },
    {
     "name": "stderr",
     "output_type": "stream",
     "text": [
      "IOPub message rate exceeded.\n",
      "The notebook server will temporarily stop sending output\n",
      "to the client in order to avoid crashing it.\n",
      "To change this limit, set the config variable\n",
      "`--NotebookApp.iopub_msg_rate_limit`.\n",
      "\n",
      "Current values:\n",
      "NotebookApp.iopub_msg_rate_limit=1000.0 (msgs/sec)\n",
      "NotebookApp.rate_limit_window=3.0 (secs)\n",
      "\n"
     ]
    },
    {
     "name": "stdout",
     "output_type": "stream",
     "text": [
      "[============================================------] 88.2% 1467.2/1662.8MB downloaded"
     ]
    },
    {
     "name": "stderr",
     "output_type": "stream",
     "text": [
      "IOPub message rate exceeded.\n",
      "The notebook server will temporarily stop sending output\n",
      "to the client in order to avoid crashing it.\n",
      "To change this limit, set the config variable\n",
      "`--NotebookApp.iopub_msg_rate_limit`.\n",
      "\n",
      "Current values:\n",
      "NotebookApp.iopub_msg_rate_limit=1000.0 (msgs/sec)\n",
      "NotebookApp.rate_limit_window=3.0 (secs)\n",
      "\n"
     ]
    },
    {
     "name": "stdout",
     "output_type": "stream",
     "text": [
      "[=============================================-----] 90.4% 1503.8/1662.8MB downloaded"
     ]
    },
    {
     "name": "stderr",
     "output_type": "stream",
     "text": [
      "IOPub message rate exceeded.\n",
      "The notebook server will temporarily stop sending output\n",
      "to the client in order to avoid crashing it.\n",
      "To change this limit, set the config variable\n",
      "`--NotebookApp.iopub_msg_rate_limit`.\n",
      "\n",
      "Current values:\n",
      "NotebookApp.iopub_msg_rate_limit=1000.0 (msgs/sec)\n",
      "NotebookApp.rate_limit_window=3.0 (secs)\n",
      "\n"
     ]
    },
    {
     "name": "stdout",
     "output_type": "stream",
     "text": [
      "[==============================================----] 92.4% 1536.9/1662.8MB downloaded"
     ]
    },
    {
     "name": "stderr",
     "output_type": "stream",
     "text": [
      "IOPub message rate exceeded.\n",
      "The notebook server will temporarily stop sending output\n",
      "to the client in order to avoid crashing it.\n",
      "To change this limit, set the config variable\n",
      "`--NotebookApp.iopub_msg_rate_limit`.\n",
      "\n",
      "Current values:\n",
      "NotebookApp.iopub_msg_rate_limit=1000.0 (msgs/sec)\n",
      "NotebookApp.rate_limit_window=3.0 (secs)\n",
      "\n"
     ]
    },
    {
     "name": "stdout",
     "output_type": "stream",
     "text": [
      "[================================================--] 96.1% 1597.5/1662.8MB downloaded"
     ]
    },
    {
     "name": "stderr",
     "output_type": "stream",
     "text": [
      "IOPub message rate exceeded.\n",
      "The notebook server will temporarily stop sending output\n",
      "to the client in order to avoid crashing it.\n",
      "To change this limit, set the config variable\n",
      "`--NotebookApp.iopub_msg_rate_limit`.\n",
      "\n",
      "Current values:\n",
      "NotebookApp.iopub_msg_rate_limit=1000.0 (msgs/sec)\n",
      "NotebookApp.rate_limit_window=3.0 (secs)\n",
      "\n"
     ]
    },
    {
     "name": "stdout",
     "output_type": "stream",
     "text": [
      "[=================================================-] 98.1% 1631.0/1662.8MB downloaded"
     ]
    },
    {
     "name": "stderr",
     "output_type": "stream",
     "text": [
      "IOPub message rate exceeded.\n",
      "The notebook server will temporarily stop sending output\n",
      "to the client in order to avoid crashing it.\n",
      "To change this limit, set the config variable\n",
      "`--NotebookApp.iopub_msg_rate_limit`.\n",
      "\n",
      "Current values:\n",
      "NotebookApp.iopub_msg_rate_limit=1000.0 (msgs/sec)\n",
      "NotebookApp.rate_limit_window=3.0 (secs)\n",
      "\n"
     ]
    },
    {
     "name": "stdout",
     "output_type": "stream",
     "text": [
      "[=================================================-] 99.5% 1654.7/1662.8MB downloaded\n"
     ]
    },
    {
     "name": "stderr",
     "output_type": "stream",
     "text": [
      "[2022-09-30 10:28:17,113] word2vec-google-news-300 downloaded\n",
      "[2022-09-30 10:28:35,265] loading projection weights from /home/manni/gensim-data/word2vec-google-news-300/word2vec-google-news-300.gz\n",
      "[2022-09-30 10:31:18,694] loaded (3000000, 300) matrix from /home/manni/gensim-data/word2vec-google-news-300/word2vec-google-news-300.gz\n"
     ]
    }
   ],
   "source": [
    "#w2v = '/home/manni/embs/w2v.bin.gz'\n",
    "import gensim.downloader as api\n",
    "\n",
    "w2v = api.load('word2vec-google-news-300')"
   ]
  },
  {
   "cell_type": "code",
   "execution_count": 35,
   "id": "5a316c16",
   "metadata": {
    "ExecuteTime": {
     "end_time": "2022-09-30T09:42:45.446007Z",
     "start_time": "2022-09-30T09:42:45.443058Z"
    }
   },
   "outputs": [],
   "source": [
    "model  = w2v\n",
    "vocab = model.vocab"
   ]
  },
  {
   "cell_type": "code",
   "execution_count": 106,
   "id": "b4a60b49",
   "metadata": {
    "ExecuteTime": {
     "end_time": "2022-09-30T11:27:58.150040Z",
     "start_time": "2022-09-30T11:27:56.231470Z"
    }
   },
   "outputs": [],
   "source": [
    "word2desc = sv.load('word2desc')"
   ]
  },
  {
   "cell_type": "code",
   "execution_count": 129,
   "id": "aaf50ba6",
   "metadata": {
    "ExecuteTime": {
     "end_time": "2022-09-30T12:23:03.922716Z",
     "start_time": "2022-09-30T12:23:03.917989Z"
    }
   },
   "outputs": [],
   "source": [
    "def sense_vec(word,model):\n",
    "    v = list()\n",
    "    if word not in word2desc:\n",
    "        return [np.zeros(300)]\n",
    "    for words in word2desc[word]:\n",
    "        if not words:\n",
    "            continue\n",
    "        _v = list()\n",
    "        for _word in words:\n",
    "            if _word in model.vocab:\n",
    "                _v.append(model.get_vector(_word))\n",
    "        _v = np.sum(_v,axis=0)\n",
    "        assert len(_v)>0, _v\n",
    "        v.append(_v)\n",
    "    return v"
   ]
  },
  {
   "cell_type": "code",
   "execution_count": null,
   "id": "9203c62f",
   "metadata": {
    "ExecuteTime": {
     "end_time": "2022-09-30T12:19:57.557347Z",
     "start_time": "2022-09-30T12:19:57.524968Z"
    }
   },
   "outputs": [],
   "source": [
    "sense_vec('growth',model)"
   ]
  },
  {
   "cell_type": "code",
   "execution_count": 109,
   "id": "b6d4583f",
   "metadata": {
    "ExecuteTime": {
     "end_time": "2022-09-30T11:28:14.403575Z",
     "start_time": "2022-09-30T11:28:14.399170Z"
    }
   },
   "outputs": [],
   "source": [
    "def tag_sense(word,sents):\n",
    "    tgs = list()\n",
    "    for sent in sents:\n",
    "        sent = [word.split('#')[0].split('§')[0] for word in sent.split()]\n",
    "        i = sent.index(word)\n",
    "        target = sent[i]\n",
    "        context = sent[i-3:i]+sent[i+1:i+4]\n",
    "        tgs.append((target,context))\n",
    "    return tgs"
   ]
  },
  {
   "cell_type": "code",
   "execution_count": 110,
   "id": "ea10156f",
   "metadata": {
    "ExecuteTime": {
     "end_time": "2022-09-30T11:28:14.700789Z",
     "start_time": "2022-09-30T11:28:14.698154Z"
    }
   },
   "outputs": [],
   "source": [
    "tgs = tag_sense('rapid',sents)"
   ]
  },
  {
   "cell_type": "code",
   "execution_count": 128,
   "id": "5707774a",
   "metadata": {
    "ExecuteTime": {
     "end_time": "2022-09-30T12:22:30.841072Z",
     "start_time": "2022-09-30T12:22:30.760303Z"
    }
   },
   "outputs": [
    {
     "name": "stdout",
     "output_type": "stream",
     "text": [
      "rapid ['job', 'birmingham', 'experienced', 'growth', 'wa', 'called']\n",
      "------------\n",
      "(1, 'growth', 3)\n",
      "------------\n",
      "rapid ['dry', 'air', 'permit', 'loss', 'heat', 'night']\n",
      "------------\n",
      "(0, 'permit', 2)\n",
      "------------\n",
      "rapid ['illusion', 'motion', 'caused', 'succession', 'image', 'minimally']\n",
      "------------\n",
      "(2, 'motion', 6)\n",
      "------------\n",
      "rapid ['animation', 'medium', 'rely', 'display', 'sequential', 'image']\n",
      "------------\n",
      "(2, 'image', 6)\n",
      "------------\n",
      "rapid ['reason', 'size', 'associated', 'metamorphosis', 'seems', 'evolved']\n",
      "------------\n",
      "(1, 'reason', 4)\n",
      "------------\n",
      "rapid ['undergoing', 'metamorphosis', 'metamorphosis', 'change', 'body', 'take']\n",
      "------------\n"
     ]
    },
    {
     "ename": "TypeError",
     "evalue": "object of type 'numpy.float64' has no len()",
     "output_type": "error",
     "traceback": [
      "\u001b[0;31m---------------------------------------------------------------------------\u001b[0m",
      "\u001b[0;31mTypeError\u001b[0m                                 Traceback (most recent call last)",
      "\u001b[0;32m/tmp/ipykernel_48292/2536484851.py\u001b[0m in \u001b[0;36m<module>\u001b[0;34m\u001b[0m\n\u001b[1;32m      9\u001b[0m             \u001b[0;32mif\u001b[0m \u001b[0mcon\u001b[0m \u001b[0;34m==\u001b[0m \u001b[0mtarget\u001b[0m\u001b[0;34m:\u001b[0m\u001b[0;34m\u001b[0m\u001b[0;34m\u001b[0m\u001b[0m\n\u001b[1;32m     10\u001b[0m                 \u001b[0;32mcontinue\u001b[0m\u001b[0;34m\u001b[0m\u001b[0;34m\u001b[0m\u001b[0m\n\u001b[0;32m---> 11\u001b[0;31m             \u001b[0m_svec\u001b[0m \u001b[0;34m=\u001b[0m \u001b[0msense_vec\u001b[0m\u001b[0;34m(\u001b[0m\u001b[0mcon\u001b[0m\u001b[0;34m,\u001b[0m\u001b[0mmodel\u001b[0m\u001b[0;34m)\u001b[0m\u001b[0;34m\u001b[0m\u001b[0;34m\u001b[0m\u001b[0m\n\u001b[0m\u001b[1;32m     12\u001b[0m             \u001b[0;32mfor\u001b[0m \u001b[0mj\u001b[0m\u001b[0;34m,\u001b[0m\u001b[0m_v\u001b[0m \u001b[0;32min\u001b[0m \u001b[0menumerate\u001b[0m\u001b[0;34m(\u001b[0m\u001b[0m_svec\u001b[0m\u001b[0;34m)\u001b[0m\u001b[0;34m:\u001b[0m\u001b[0;34m\u001b[0m\u001b[0;34m\u001b[0m\u001b[0m\n\u001b[1;32m     13\u001b[0m                 \u001b[0msim\u001b[0m \u001b[0;34m=\u001b[0m \u001b[0mmodel\u001b[0m\u001b[0;34m.\u001b[0m\u001b[0mcosine_similarities\u001b[0m\u001b[0;34m(\u001b[0m\u001b[0mv\u001b[0m\u001b[0;34m,\u001b[0m \u001b[0;34m[\u001b[0m\u001b[0m_v\u001b[0m\u001b[0;34m]\u001b[0m\u001b[0;34m)\u001b[0m\u001b[0;34m[\u001b[0m\u001b[0;36m0\u001b[0m\u001b[0;34m]\u001b[0m\u001b[0;34m\u001b[0m\u001b[0;34m\u001b[0m\u001b[0m\n",
      "\u001b[0;32m/tmp/ipykernel_48292/2324600396.py\u001b[0m in \u001b[0;36msense_vec\u001b[0;34m(word, model)\u001b[0m\n\u001b[1;32m     11\u001b[0m                 \u001b[0m_v\u001b[0m\u001b[0;34m.\u001b[0m\u001b[0mappend\u001b[0m\u001b[0;34m(\u001b[0m\u001b[0mmodel\u001b[0m\u001b[0;34m.\u001b[0m\u001b[0mget_vector\u001b[0m\u001b[0;34m(\u001b[0m\u001b[0m_word\u001b[0m\u001b[0;34m)\u001b[0m\u001b[0;34m)\u001b[0m\u001b[0;34m\u001b[0m\u001b[0;34m\u001b[0m\u001b[0m\n\u001b[1;32m     12\u001b[0m         \u001b[0m_v\u001b[0m \u001b[0;34m=\u001b[0m \u001b[0mnp\u001b[0m\u001b[0;34m.\u001b[0m\u001b[0msum\u001b[0m\u001b[0;34m(\u001b[0m\u001b[0m_v\u001b[0m\u001b[0;34m,\u001b[0m\u001b[0maxis\u001b[0m\u001b[0;34m=\u001b[0m\u001b[0;36m0\u001b[0m\u001b[0;34m)\u001b[0m\u001b[0;34m\u001b[0m\u001b[0;34m\u001b[0m\u001b[0m\n\u001b[0;32m---> 13\u001b[0;31m         \u001b[0;32massert\u001b[0m \u001b[0mlen\u001b[0m\u001b[0;34m(\u001b[0m\u001b[0m_v\u001b[0m\u001b[0;34m)\u001b[0m\u001b[0;34m>\u001b[0m\u001b[0;36m0\u001b[0m\u001b[0;34m,\u001b[0m \u001b[0mword\u001b[0m\u001b[0;34m\u001b[0m\u001b[0;34m\u001b[0m\u001b[0m\n\u001b[0m\u001b[1;32m     14\u001b[0m         \u001b[0mv\u001b[0m\u001b[0;34m.\u001b[0m\u001b[0mappend\u001b[0m\u001b[0;34m(\u001b[0m\u001b[0m_v\u001b[0m\u001b[0;34m)\u001b[0m\u001b[0;34m\u001b[0m\u001b[0;34m\u001b[0m\u001b[0m\n\u001b[1;32m     15\u001b[0m     \u001b[0;32mreturn\u001b[0m \u001b[0mv\u001b[0m\u001b[0;34m\u001b[0m\u001b[0;34m\u001b[0m\u001b[0m\n",
      "\u001b[0;31mTypeError\u001b[0m: object of type 'numpy.float64' has no len()"
     ]
    }
   ],
   "source": [
    "for target,context in tgs:\n",
    "    print(target,context)\n",
    "    print('------------')\n",
    "    svec = sense_vec(target,model)\n",
    "    maxi = 0\n",
    "    res = None\n",
    "    for i,v in enumerate(svec):\n",
    "        for con in context:\n",
    "            if con == target:\n",
    "                continue\n",
    "            _svec = sense_vec(con,model)\n",
    "            for j,_v in enumerate(_svec):\n",
    "                sim = model.cosine_similarities(v, [_v])[0]\n",
    "                if sim>maxi:\n",
    "                    maxi = sim\n",
    "                    res = (i,con,j)\n",
    "    print(res)\n",
    "    print('------------')"
   ]
  },
  {
   "cell_type": "code",
   "execution_count": 28,
   "id": "d1a2fab0",
   "metadata": {
    "ExecuteTime": {
     "end_time": "2022-09-30T09:07:22.515513Z",
     "start_time": "2022-09-30T09:07:22.026152Z"
    },
    "collapsed": true
   },
   "outputs": [],
   "source": []
  },
  {
   "cell_type": "code",
   "execution_count": 119,
   "id": "68bd65af",
   "metadata": {
    "ExecuteTime": {
     "end_time": "2022-09-30T12:07:54.015966Z",
     "start_time": "2022-09-30T12:07:54.010839Z"
    }
   },
   "outputs": [
    {
     "data": {
      "text/plain": [
       "[{'amelogenesis',\n",
       "  'angiogenesis',\n",
       "  'apposition',\n",
       "  'auxesis',\n",
       "  'biological',\n",
       "  'biology',\n",
       "  'blossoming',\n",
       "  'cenogenesis',\n",
       "  'changing',\n",
       "  'cohesion',\n",
       "  'cultivation',\n",
       "  'culture',\n",
       "  'cycle',\n",
       "  'cytogenesis',\n",
       "  'event',\n",
       "  'foliation',\n",
       "  'fructification',\n",
       "  'gametogenesis',\n",
       "  'germination',\n",
       "  'gradually',\n",
       "  'habit',\n",
       "  'individual',\n",
       "  'infructescence',\n",
       "  'intussusception',\n",
       "  'involved',\n",
       "  'juvenescence',\n",
       "  'level',\n",
       "  'life',\n",
       "  'masculinization',\n",
       "  'morphogenesis',\n",
       "  'myelinization',\n",
       "  'neurogenesis',\n",
       "  'organic',\n",
       "  'organically',\n",
       "  'organism',\n",
       "  'palingenesis',\n",
       "  'psychogenesis',\n",
       "  'psychomotor',\n",
       "  'psychosexual',\n",
       "  'purely',\n",
       "  'rooting',\n",
       "  'simple',\n",
       "  'suppression',\n",
       "  'teething',\n",
       "  'teratogenesis',\n",
       "  'unfolding'},\n",
       " {'form', 'progression', 'simpler'},\n",
       " {'accession',\n",
       "  'accretion',\n",
       "  'becoming',\n",
       "  'growth',\n",
       "  'important',\n",
       "  'larger',\n",
       "  'longer',\n",
       "  'multiplication',\n",
       "  'numerous',\n",
       "  'population',\n",
       "  'pullulation',\n",
       "  'relaxation',\n",
       "  'widening'},\n",
       " set(),\n",
       " {'beginning', 'coming', 'forth', 'gradual', 'rise'},\n",
       " {'abnormal',\n",
       "  'excrescence',\n",
       "  'exostosis',\n",
       "  'hamartoma',\n",
       "  'illness',\n",
       "  'pathology',\n",
       "  'peduncle',\n",
       "  'polyp',\n",
       "  'tissue',\n",
       "  'tumor'},\n",
       " {'ingrowth', 'object', 'something'}]"
      ]
     },
     "execution_count": 119,
     "metadata": {},
     "output_type": "execute_result"
    }
   ],
   "source": [
    "word2desc['growth']"
   ]
  },
  {
   "cell_type": "code",
   "execution_count": null,
   "id": "b9cfa555",
   "metadata": {
    "ExecuteTime": {
     "end_time": "2022-09-23T02:33:38.515599Z",
     "start_time": "2022-09-23T02:33:38.511332Z"
    }
   },
   "outputs": [],
   "source": [
    "word2desc['rapid']"
   ]
  },
  {
   "cell_type": "code",
   "execution_count": null,
   "id": "ff12bcac",
   "metadata": {
    "ExecuteTime": {
     "end_time": "2022-09-23T02:35:21.004235Z",
     "start_time": "2022-09-23T02:35:21.001518Z"
    }
   },
   "outputs": [],
   "source": [
    "from nltk.corpus import wordnet as wn"
   ]
  },
  {
   "cell_type": "code",
   "execution_count": null,
   "id": "067e66cd",
   "metadata": {
    "ExecuteTime": {
     "end_time": "2022-09-23T02:37:22.519439Z",
     "start_time": "2022-09-23T02:37:22.516537Z"
    }
   },
   "outputs": [],
   "source": [
    "rapid = wn.synsets('rapid')\n",
    "print(rapid)"
   ]
  },
  {
   "cell_type": "code",
   "execution_count": null,
   "id": "98f23dd2",
   "metadata": {
    "ExecuteTime": {
     "end_time": "2022-09-23T02:37:17.844310Z",
     "start_time": "2022-09-23T02:37:17.831196Z"
    }
   },
   "outputs": [],
   "source": [
    "for i in rapid:\n",
    "    print(i.hyponyms())"
   ]
  },
  {
   "cell_type": "code",
   "execution_count": null,
   "id": "279f3df1",
   "metadata": {
    "ExecuteTime": {
     "end_time": "2022-09-23T02:37:49.547073Z",
     "start_time": "2022-09-23T02:37:49.543827Z"
    }
   },
   "outputs": [],
   "source": [
    "for i in rapid:\n",
    "    print(i.hypernyms())"
   ]
  },
  {
   "cell_type": "code",
   "execution_count": null,
   "id": "fe3c0772",
   "metadata": {
    "ExecuteTime": {
     "end_time": "2022-09-23T02:42:53.389247Z",
     "start_time": "2022-09-23T02:42:51.937327Z"
    }
   },
   "outputs": [],
   "source": [
    "from sklearn.cluster import DBSCAN\n",
    "import numpy as np\n",
    "from collections import Counter"
   ]
  },
  {
   "cell_type": "code",
   "execution_count": null,
   "id": "5d79871d",
   "metadata": {
    "ExecuteTime": {
     "end_time": "2022-09-23T02:45:00.479001Z",
     "start_time": "2022-09-23T02:45:00.476005Z"
    }
   },
   "outputs": [],
   "source": [
    "from gensim.models import KeyedVectors"
   ]
  },
  {
   "cell_type": "code",
   "execution_count": null,
   "id": "5946a1d7",
   "metadata": {
    "ExecuteTime": {
     "end_time": "2022-09-26T10:40:21.621206Z",
     "start_time": "2022-09-26T10:40:21.618377Z"
    }
   },
   "outputs": [],
   "source": [
    "glove = '/home/manni/embs/gloveW2V.6B.300d.txt'\n",
    "w2v = '/home/manni/embs/w2v.bin.gz'\n",
    "spx = '/home/manni/embs/en_wiki_spx_mc100_epoch5_300_mixture.txt'\n",
    "wnet ='/home/manni/embs/en_wiki_wnet_epoch5_300_w10_exclusive.txt'"
   ]
  },
  {
   "cell_type": "code",
   "execution_count": null,
   "id": "5746c49f",
   "metadata": {
    "ExecuteTime": {
     "end_time": "2022-09-23T02:48:12.427546Z",
     "start_time": "2022-09-23T02:45:32.122532Z"
    }
   },
   "outputs": [],
   "source": [
    "w2v_model = KeyedVectors.load_word2vec_format(w2v, binary=True)"
   ]
  },
  {
   "cell_type": "code",
   "execution_count": null,
   "id": "6ec1483b",
   "metadata": {
    "ExecuteTime": {
     "end_time": "2022-09-23T03:09:33.141474Z",
     "start_time": "2022-09-23T03:07:40.559827Z"
    }
   },
   "outputs": [],
   "source": [
    "glove_model = KeyedVectors.load_word2vec_format(glove, binary=False)"
   ]
  },
  {
   "cell_type": "code",
   "execution_count": null,
   "id": "c4fe8317",
   "metadata": {
    "ExecuteTime": {
     "end_time": "2022-09-25T10:32:55.765777Z",
     "start_time": "2022-09-25T10:30:41.054340Z"
    }
   },
   "outputs": [],
   "source": [
    "spx_model = KeyedVectors.load_word2vec_format(spx, binary=False)"
   ]
  },
  {
   "cell_type": "code",
   "execution_count": null,
   "id": "5a69a554",
   "metadata": {
    "ExecuteTime": {
     "end_time": "2022-09-26T11:01:31.378494Z",
     "start_time": "2022-09-26T10:40:48.025925Z"
    }
   },
   "outputs": [],
   "source": [
    "wnet_model = KeyedVectors.load_word2vec_format(wnet, binary=False)"
   ]
  },
  {
   "cell_type": "code",
   "execution_count": null,
   "id": "1e683343",
   "metadata": {
    "ExecuteTime": {
     "end_time": "2022-09-24T11:44:48.444897Z",
     "start_time": "2022-09-24T11:44:48.442622Z"
    }
   },
   "outputs": [],
   "source": [
    "#model = glove_model"
   ]
  },
  {
   "cell_type": "code",
   "execution_count": null,
   "id": "ca3f7759",
   "metadata": {
    "ExecuteTime": {
     "end_time": "2022-09-24T11:45:09.951422Z",
     "start_time": "2022-09-24T11:45:09.949048Z"
    }
   },
   "outputs": [],
   "source": [
    "#model = w2v_model"
   ]
  },
  {
   "cell_type": "code",
   "execution_count": null,
   "id": "f6c889b8",
   "metadata": {
    "ExecuteTime": {
     "end_time": "2022-09-25T10:36:04.612971Z",
     "start_time": "2022-09-25T10:36:04.609753Z"
    }
   },
   "outputs": [],
   "source": [
    "#model = spx_model"
   ]
  },
  {
   "cell_type": "code",
   "execution_count": null,
   "id": "b10ad9fb",
   "metadata": {
    "ExecuteTime": {
     "end_time": "2022-09-26T11:01:31.384225Z",
     "start_time": "2022-09-26T11:01:31.380980Z"
    }
   },
   "outputs": [],
   "source": [
    "model = wnet_model"
   ]
  },
  {
   "cell_type": "code",
   "execution_count": null,
   "id": "98cdd724",
   "metadata": {
    "ExecuteTime": {
     "end_time": "2022-09-23T02:54:07.772501Z",
     "start_time": "2022-09-23T02:54:07.768885Z"
    }
   },
   "outputs": [],
   "source": [
    "def get_matrix(model,vocab):\n",
    "    matrix = list()\n",
    "    for word in vocab:\n",
    "        if word in model.vocab:\n",
    "            vec = model.get_vector(word)\n",
    "        else:\n",
    "            vec = np.zeros(model.vector_size)\n",
    "        matrix.append(vec)\n",
    "    return np.asarray(matrix)"
   ]
  },
  {
   "cell_type": "code",
   "execution_count": null,
   "id": "e8b8b5e4",
   "metadata": {
    "ExecuteTime": {
     "end_time": "2022-09-23T03:16:13.376978Z",
     "start_time": "2022-09-23T03:16:13.369486Z"
    }
   },
   "outputs": [],
   "source": [
    "def get_clusters(model,word):\n",
    "    sets = word2desc[word]\n",
    "    clusters_ = list()\n",
    "    n_clusters_ = list()\n",
    "    for words in sets:\n",
    "        vocab = list(words)\n",
    "        matrix = get_matrix(model,vocab)\n",
    "        db = DBSCAN(eps=0.4,min_samples=2,metric='cosine').fit(matrix)\n",
    "        labels = db.labels_\n",
    "        clusters = dict()\n",
    "        for i,c in enumerate(labels):\n",
    "            if c == -1:\n",
    "                continue\n",
    "            if c in clusters:\n",
    "                clusters[c].append(vocab[i])\n",
    "            else:\n",
    "                clusters[c] = [vocab[i]]\n",
    "        n_clusters = len(set(labels)) - (1 if -1 in labels else 0)\n",
    "        clusters_.append(clusters)\n",
    "        n_clusters_.append(n_clusters)\n",
    "    return clusters_,n_clusters_"
   ]
  },
  {
   "cell_type": "code",
   "execution_count": null,
   "id": "6a145394",
   "metadata": {
    "ExecuteTime": {
     "end_time": "2022-09-23T03:16:44.046318Z",
     "start_time": "2022-09-23T03:16:44.038698Z"
    }
   },
   "outputs": [],
   "source": [
    "get_clusters(model,'rapid')"
   ]
  },
  {
   "cell_type": "code",
   "execution_count": null,
   "id": "35ea4ed1",
   "metadata": {
    "ExecuteTime": {
     "end_time": "2022-09-25T10:36:27.970968Z",
     "start_time": "2022-09-25T10:36:27.921518Z"
    }
   },
   "outputs": [],
   "source": [
    "for words in word2desc['rapid']:\n",
    "    words = list(words)\n",
    "    for i in range(len(words)):\n",
    "        for j in range(i+1,len(words)):\n",
    "            print(words[i],words[j],model.similarity(words[i],words[j]))\n",
    "    print('------')"
   ]
  },
  {
   "cell_type": "code",
   "execution_count": null,
   "id": "8ac84c4a",
   "metadata": {
    "ExecuteTime": {
     "end_time": "2022-09-25T08:36:39.759121Z",
     "start_time": "2022-09-25T08:36:39.753185Z"
    }
   },
   "outputs": [],
   "source": [
    "model.similarity(['waterway','river'],'current')"
   ]
  },
  {
   "cell_type": "code",
   "execution_count": null,
   "id": "ff768b3a",
   "metadata": {
    "ExecuteTime": {
     "end_time": "2022-09-25T08:40:54.959413Z",
     "start_time": "2022-09-25T08:40:46.604684Z"
    }
   },
   "outputs": [],
   "source": [
    "model.doesnt_match({'current', 'fast', 'part', 'river', 'waterway'})"
   ]
  },
  {
   "cell_type": "code",
   "execution_count": null,
   "id": "6ba1f5d2",
   "metadata": {
    "ExecuteTime": {
     "end_time": "2022-09-25T08:42:59.483677Z",
     "start_time": "2022-09-25T08:42:59.480998Z"
    }
   },
   "outputs": [],
   "source": [
    "v = model.get_vector('waterway')+model.get_vector('river')"
   ]
  },
  {
   "cell_type": "code",
   "execution_count": null,
   "id": "684c00bc",
   "metadata": {},
   "outputs": [],
   "source": []
  },
  {
   "cell_type": "code",
   "execution_count": null,
   "id": "8d81eabc",
   "metadata": {
    "ExecuteTime": {
     "end_time": "2022-09-25T08:43:49.515788Z",
     "start_time": "2022-09-25T08:43:49.510358Z"
    }
   },
   "outputs": [],
   "source": [
    "model.cosine_similarities(v,[model.get_vector('current')])"
   ]
  },
  {
   "cell_type": "code",
   "execution_count": null,
   "id": "4438bc9c",
   "metadata": {},
   "outputs": [],
   "source": [
    "model"
   ]
  },
  {
   "cell_type": "code",
   "execution_count": null,
   "id": "014dd2c3",
   "metadata": {
    "ExecuteTime": {
     "end_time": "2022-09-26T11:15:10.967293Z",
     "start_time": "2022-09-26T11:15:10.964204Z"
    }
   },
   "outputs": [],
   "source": [
    "a = ['current#3','current#2','current#1','current','current#0']\n",
    "b = ['river','river#0']\n",
    "c = ['waterway','waterway#0','waterway#1']"
   ]
  },
  {
   "cell_type": "code",
   "execution_count": null,
   "id": "e955ba3f",
   "metadata": {
    "ExecuteTime": {
     "end_time": "2022-09-26T11:16:27.700427Z",
     "start_time": "2022-09-26T11:16:27.687429Z"
    }
   },
   "outputs": [],
   "source": [
    "for word in a:\n",
    "    for _word in b:\n",
    "        print(word,_word,model.similarity(word,_word))\n",
    "    print('-------')"
   ]
  },
  {
   "cell_type": "code",
   "execution_count": null,
   "id": "8a70d975",
   "metadata": {
    "ExecuteTime": {
     "end_time": "2022-09-26T11:23:10.778213Z",
     "start_time": "2022-09-26T11:23:10.770661Z"
    }
   },
   "outputs": [],
   "source": [
    "def avg_sim(w1,w2,model,verbose=False,maxsim=False):\n",
    "    range_ = list()\n",
    "    vocab = model.vocab\n",
    "    a = list()\n",
    "    for word in vocab:\n",
    "        if word.startswith(w1+'#'):\n",
    "            a.append(word)\n",
    "    if w1 in vocab:\n",
    "        a.append(w1)\n",
    "    b = list()\n",
    "    for word in vocab:\n",
    "        if word.startswith(w2+'#'):\n",
    "            b.append(word)\n",
    "    if w2 in vocab:\n",
    "        b.append(w2)\n",
    "    div = len(a)*len(b)\n",
    "    if div == 0:\n",
    "        return 0, range_\n",
    "    sims = list()\n",
    "    for i in a:\n",
    "        for j in b:\n",
    "            sim = model.similarity(i,j)\n",
    "            range_.append(sim)\n",
    "            if verbose:\n",
    "                print(i,j,sim)\n",
    "            sims+=[sim]\n",
    "    if maxsim:\n",
    "        return max(sims), range_\n",
    "    else:\n",
    "        return sum(sims)/div, range_"
   ]
  },
  {
   "cell_type": "code",
   "execution_count": null,
   "id": "9f3c1ee8",
   "metadata": {
    "ExecuteTime": {
     "end_time": "2022-09-26T11:24:18.485521Z",
     "start_time": "2022-09-26T11:24:16.559815Z"
    }
   },
   "outputs": [],
   "source": [
    "avg_sim('rapid','fast',model,verbose=True,maxsim=True)"
   ]
  },
  {
   "cell_type": "markdown",
   "id": "bda9916d",
   "metadata": {
    "heading_collapsed": true
   },
   "source": [
    "# tags"
   ]
  },
  {
   "cell_type": "code",
   "execution_count": null,
   "id": "5a7ae091",
   "metadata": {
    "ExecuteTime": {
     "end_time": "2022-09-26T10:32:42.739043Z",
     "start_time": "2022-09-26T10:32:38.026551Z"
    },
    "hidden": true
   },
   "outputs": [],
   "source": [
    "import spacy\n",
    "\n",
    "nlp = spacy.load(\"en_core_web_sm\")"
   ]
  },
  {
   "cell_type": "code",
   "execution_count": null,
   "id": "04b0cc45",
   "metadata": {
    "ExecuteTime": {
     "end_time": "2022-09-26T11:41:22.101672Z",
     "start_time": "2022-09-26T11:41:22.088538Z"
    },
    "hidden": true
   },
   "outputs": [],
   "source": [
    "doc = nlp(\"the raft floated downstream on the current\")\n",
    "for token in doc:\n",
    "    #print(token.text, token.lemma_, token.pos_, token.tag_, token.dep_,token.shape_, token.is_alpha, token.is_stop)\n",
    "    print(token.pos_)"
   ]
  },
  {
   "cell_type": "markdown",
   "id": "f9f8cb7a",
   "metadata": {
    "heading_collapsed": true
   },
   "source": [
    "# contexts"
   ]
  },
  {
   "cell_type": "code",
   "execution_count": 4,
   "id": "a9caabcd",
   "metadata": {
    "ExecuteTime": {
     "end_time": "2022-09-28T11:39:07.809991Z",
     "start_time": "2022-09-28T11:39:05.959510Z"
    },
    "hidden": true
   },
   "outputs": [],
   "source": [
    "sentences = sv.load(\"wiki_sentences_wnet\")"
   ]
  },
  {
   "cell_type": "code",
   "execution_count": 5,
   "id": "0d94956c",
   "metadata": {
    "ExecuteTime": {
     "end_time": "2022-09-28T11:39:08.049078Z",
     "start_time": "2022-09-28T11:39:07.814644Z"
    },
    "hidden": true
   },
   "outputs": [
    {
     "ename": "FileNotFoundError",
     "evalue": "[Errno 2] No such file or directory: '/home/manni/data/wiki/enwiki-20211120-pages-articles-multistream.xml.bz2'",
     "output_type": "error",
     "traceback": [
      "\u001b[0;31m---------------------------------------------------------------------------\u001b[0m",
      "\u001b[0;31mFileNotFoundError\u001b[0m                         Traceback (most recent call last)",
      "\u001b[0;32m/tmp/ipykernel_48292/3947423125.py\u001b[0m in \u001b[0;36m<module>\u001b[0;34m\u001b[0m\n\u001b[0;32m----> 1\u001b[0;31m \u001b[0;32mfor\u001b[0m \u001b[0msent\u001b[0m \u001b[0;32min\u001b[0m \u001b[0msentences\u001b[0m\u001b[0;34m:\u001b[0m\u001b[0;34m\u001b[0m\u001b[0;34m\u001b[0m\u001b[0m\n\u001b[0m\u001b[1;32m      2\u001b[0m     \u001b[0mprint\u001b[0m\u001b[0;34m(\u001b[0m\u001b[0msent\u001b[0m\u001b[0;34m[\u001b[0m\u001b[0;34m:\u001b[0m\u001b[0;36m100\u001b[0m\u001b[0;34m]\u001b[0m\u001b[0;34m)\u001b[0m\u001b[0;34m\u001b[0m\u001b[0;34m\u001b[0m\u001b[0m\n\u001b[1;32m      3\u001b[0m     \u001b[0;32mbreak\u001b[0m\u001b[0;34m\u001b[0m\u001b[0;34m\u001b[0m\u001b[0m\n",
      "\u001b[0;32m~/ner-s2s/word_embedding/wiki.py\u001b[0m in \u001b[0;36m__iter__\u001b[0;34m(self)\u001b[0m\n\u001b[1;32m     49\u001b[0m         \u001b[0mself\u001b[0m\u001b[0;34m.\u001b[0m\u001b[0mlang\u001b[0m \u001b[0;34m=\u001b[0m \u001b[0mlang\u001b[0m\u001b[0;34m\u001b[0m\u001b[0;34m\u001b[0m\u001b[0m\n\u001b[1;32m     50\u001b[0m     \u001b[0;32mdef\u001b[0m \u001b[0m__iter__\u001b[0m\u001b[0;34m(\u001b[0m\u001b[0mself\u001b[0m\u001b[0;34m)\u001b[0m\u001b[0;34m:\u001b[0m\u001b[0;34m\u001b[0m\u001b[0;34m\u001b[0m\u001b[0m\n\u001b[0;32m---> 51\u001b[0;31m         \u001b[0;32mfor\u001b[0m \u001b[0msentence\u001b[0m \u001b[0;32min\u001b[0m \u001b[0mself\u001b[0m\u001b[0;34m.\u001b[0m\u001b[0mwiki\u001b[0m\u001b[0;34m.\u001b[0m\u001b[0mget_texts\u001b[0m\u001b[0;34m(\u001b[0m\u001b[0;34m)\u001b[0m\u001b[0;34m:\u001b[0m\u001b[0;34m\u001b[0m\u001b[0;34m\u001b[0m\u001b[0m\n\u001b[0m\u001b[1;32m     52\u001b[0m             \u001b[0;32mif\u001b[0m \u001b[0mself\u001b[0m\u001b[0;34m.\u001b[0m\u001b[0mlang\u001b[0m \u001b[0;34m==\u001b[0m \u001b[0;34m'zh'\u001b[0m\u001b[0;34m:\u001b[0m\u001b[0;34m\u001b[0m\u001b[0;34m\u001b[0m\u001b[0m\n\u001b[1;32m     53\u001b[0m                 \u001b[0;32myield\u001b[0m \u001b[0mlist\u001b[0m\u001b[0;34m(\u001b[0m\u001b[0mjieba\u001b[0m\u001b[0;34m.\u001b[0m\u001b[0mcut\u001b[0m\u001b[0;34m(\u001b[0m\u001b[0;34m''\u001b[0m\u001b[0;34m.\u001b[0m\u001b[0mjoin\u001b[0m\u001b[0;34m(\u001b[0m\u001b[0msentence\u001b[0m\u001b[0;34m)\u001b[0m\u001b[0;34m,\u001b[0m \u001b[0mcut_all\u001b[0m\u001b[0;34m=\u001b[0m\u001b[0;32mFalse\u001b[0m\u001b[0;34m)\u001b[0m\u001b[0;34m)\u001b[0m\u001b[0;34m\u001b[0m\u001b[0;34m\u001b[0m\u001b[0m\n",
      "\u001b[0;32m~/ner-s2s/word_embedding/localgensim/gensim2/corpora/wikicorpus.py\u001b[0m in \u001b[0;36mget_texts\u001b[0;34m(self)\u001b[0m\n\u001b[1;32m    728\u001b[0m             ((text, self.lemmatize, title, pageid, tokenization_params)\n\u001b[1;32m    729\u001b[0m              \u001b[0;32mfor\u001b[0m \u001b[0mtitle\u001b[0m\u001b[0;34m,\u001b[0m \u001b[0mtext\u001b[0m\u001b[0;34m,\u001b[0m \u001b[0mpageid\u001b[0m\u001b[0;34m\u001b[0m\u001b[0;34m\u001b[0m\u001b[0m\n\u001b[0;32m--> 730\u001b[0;31m              in extract_pages(bz2.BZ2File(self.fname), self.filter_namespaces, self.filter_articles))\n\u001b[0m\u001b[1;32m    731\u001b[0m         \u001b[0mpool\u001b[0m \u001b[0;34m=\u001b[0m \u001b[0mmultiprocessing\u001b[0m\u001b[0;34m.\u001b[0m\u001b[0mPool\u001b[0m\u001b[0;34m(\u001b[0m\u001b[0mself\u001b[0m\u001b[0;34m.\u001b[0m\u001b[0mprocesses\u001b[0m\u001b[0;34m,\u001b[0m \u001b[0minit_to_ignore_interrupt\u001b[0m\u001b[0;34m)\u001b[0m\u001b[0;34m\u001b[0m\u001b[0;34m\u001b[0m\u001b[0m\n\u001b[1;32m    732\u001b[0m \u001b[0;34m\u001b[0m\u001b[0m\n",
      "\u001b[0;32m/usr/lib/python3.8/bz2.py\u001b[0m in \u001b[0;36m__init__\u001b[0;34m(self, filename, mode, buffering, compresslevel)\u001b[0m\n\u001b[1;32m     94\u001b[0m \u001b[0;34m\u001b[0m\u001b[0m\n\u001b[1;32m     95\u001b[0m         \u001b[0;32mif\u001b[0m \u001b[0misinstance\u001b[0m\u001b[0;34m(\u001b[0m\u001b[0mfilename\u001b[0m\u001b[0;34m,\u001b[0m \u001b[0;34m(\u001b[0m\u001b[0mstr\u001b[0m\u001b[0;34m,\u001b[0m \u001b[0mbytes\u001b[0m\u001b[0;34m,\u001b[0m \u001b[0mos\u001b[0m\u001b[0;34m.\u001b[0m\u001b[0mPathLike\u001b[0m\u001b[0;34m)\u001b[0m\u001b[0;34m)\u001b[0m\u001b[0;34m:\u001b[0m\u001b[0;34m\u001b[0m\u001b[0;34m\u001b[0m\u001b[0m\n\u001b[0;32m---> 96\u001b[0;31m             \u001b[0mself\u001b[0m\u001b[0;34m.\u001b[0m\u001b[0m_fp\u001b[0m \u001b[0;34m=\u001b[0m \u001b[0m_builtin_open\u001b[0m\u001b[0;34m(\u001b[0m\u001b[0mfilename\u001b[0m\u001b[0;34m,\u001b[0m \u001b[0mmode\u001b[0m\u001b[0;34m)\u001b[0m\u001b[0;34m\u001b[0m\u001b[0;34m\u001b[0m\u001b[0m\n\u001b[0m\u001b[1;32m     97\u001b[0m             \u001b[0mself\u001b[0m\u001b[0;34m.\u001b[0m\u001b[0m_closefp\u001b[0m \u001b[0;34m=\u001b[0m \u001b[0;32mTrue\u001b[0m\u001b[0;34m\u001b[0m\u001b[0;34m\u001b[0m\u001b[0m\n\u001b[1;32m     98\u001b[0m             \u001b[0mself\u001b[0m\u001b[0;34m.\u001b[0m\u001b[0m_mode\u001b[0m \u001b[0;34m=\u001b[0m \u001b[0mmode_code\u001b[0m\u001b[0;34m\u001b[0m\u001b[0;34m\u001b[0m\u001b[0m\n",
      "\u001b[0;31mFileNotFoundError\u001b[0m: [Errno 2] No such file or directory: '/home/manni/data/wiki/enwiki-20211120-pages-articles-multistream.xml.bz2'"
     ]
    }
   ],
   "source": [
    "for sent in sentences:\n",
    "    print(sent[:100])\n",
    "    break"
   ]
  },
  {
   "cell_type": "code",
   "execution_count": null,
   "id": "3d00fe55",
   "metadata": {
    "ExecuteTime": {
     "end_time": "2022-09-27T07:23:45.245958Z",
     "start_time": "2022-09-27T07:23:45.238104Z"
    },
    "hidden": true
   },
   "outputs": [],
   "source": [
    "examples = list()\n",
    "def get_contexts(word,sentences):\n",
    "    i = 1\n",
    "    for sent in sentences:\n",
    "        for j,_word in enumerate(sent):\n",
    "            if word == _word.split('#'):\n",
    "                examples.append(sent[j-10:j]+sent[j:j+11])\n",
    "                i+=1\n",
    "            elif word == _word.split('§'):\n",
    "                examples.append(sent[j-10:j]+sent[j:j+11])\n",
    "                i+=1\n",
    "            if i>10:\n",
    "                break\n",
    "        if i>10:\n",
    "                break\n",
    "    return examples"
   ]
  },
  {
   "cell_type": "code",
   "execution_count": null,
   "id": "9ba21e89",
   "metadata": {
    "ExecuteTime": {
     "end_time": "2022-09-27T07:23:36.356096Z",
     "start_time": "2022-09-27T07:21:52.994303Z"
    },
    "hidden": true
   },
   "outputs": [],
   "source": [
    "get_contexts('rapid',sentences)"
   ]
  },
  {
   "cell_type": "code",
   "execution_count": null,
   "id": "c20cdd39",
   "metadata": {
    "hidden": true
   },
   "outputs": [],
   "source": []
  }
 ],
 "metadata": {
  "kernelspec": {
   "display_name": "Python 3 (ipykernel)",
   "language": "python",
   "name": "python3"
  },
  "language_info": {
   "codemirror_mode": {
    "name": "ipython",
    "version": 3
   },
   "file_extension": ".py",
   "mimetype": "text/x-python",
   "name": "python",
   "nbconvert_exporter": "python",
   "pygments_lexer": "ipython3",
   "version": "3.8.0"
  }
 },
 "nbformat": 4,
 "nbformat_minor": 5
}
