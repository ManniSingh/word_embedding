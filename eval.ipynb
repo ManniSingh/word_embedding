{
 "cells": [
  {
   "cell_type": "code",
   "execution_count": 1,
   "metadata": {
    "ExecuteTime": {
     "end_time": "2022-05-27T09:49:43.494986Z",
     "start_time": "2022-05-27T09:49:41.734415Z"
    }
   },
   "outputs": [],
   "source": [
    "from gensim.models import KeyedVectors\n",
    "from tqdm import tqdm\n",
    "from scipy.stats import pearsonr\n",
    "from scipy.stats import spearmanr\n",
    "import re\n",
    "import numpy as np\n",
    "import pandas as pd"
   ]
  },
  {
   "cell_type": "code",
   "execution_count": null,
   "metadata": {
    "ExecuteTime": {
     "end_time": "2022-05-16T09:28:19.168537Z",
     "start_time": "2022-05-16T09:18:51.784570Z"
    }
   },
   "outputs": [],
   "source": [
    "spxEM = '/home/manni/embs/en_wiki_spx_mc100_epoch5_300_em.txt'\n",
    "#spxEM = '/home/manni/embs/en_wiki_spx_mc100_epoch5_300_em_w5_2.txt'\n",
    "spxEM_model = KeyedVectors.load_word2vec_format(spxEM, binary=False)\n",
    "w2v = '/home/manni/embs/en_wiki_w2v_mc100_epoch5_300.txt'\n",
    "#w2v = '/home/manni/embs/en_wiki_w2v_mc100_epoch5_300_w5_2.txt'\n",
    "w2v_model = KeyedVectors.load_word2vec_format(w2v, binary=False)\n",
    "spx = '/home/manni/embs/en_wiki_spx_mc100_epoch5_300.txt'\n",
    "spx_model = KeyedVectors.load_word2vec_format(spx, binary=False)\n",
    "spxPEM = '/home/manni/embs/en_wiki_spx_mc100_epoch5_300_pem.txt'\n",
    "spxPEM_model = KeyedVectors.load_word2vec_format(spxPEM, binary=False)\n",
    "spxNEM = '/home/manni/embs/en_wiki_spx_mc100_epoch5_300_nem.txt'\n",
    "spxNEM_model = KeyedVectors.load_word2vec_format(spxNEM, binary=False)"
   ]
  },
  {
   "cell_type": "code",
   "execution_count": null,
   "metadata": {
    "ExecuteTime": {
     "end_time": "2022-05-16T09:28:19.298761Z",
     "start_time": "2022-05-16T09:28:19.295882Z"
    }
   },
   "outputs": [],
   "source": [
    "models = [w2v_model,spx_model,spxEM_model,spxPEM_model,spxNEM_model]\n",
    "model_names = ['Word2vec','EWEM-MIX','EWEM','EWEM-3',\"EWEM-NULL\"]"
   ]
  },
  {
   "cell_type": "code",
   "execution_count": null,
   "metadata": {
    "ExecuteTime": {
     "end_time": "2022-04-26T10:21:06.046153Z",
     "start_time": "2022-04-26T10:21:06.046141Z"
    }
   },
   "outputs": [],
   "source": [
    "spxEM = '/home/manni/embs/en_wiki_spx_mc100_epoch5_300_em_w1.txt'\n",
    "spxEM_model = KeyedVectors.load_word2vec_format(spxEM, binary=False)\n",
    "w2v = '/home/manni/embs/en_wiki_w2v_mc100_epoch5_300_w1.txt'\n",
    "w2v_model = KeyedVectors.load_word2vec_format(w2v, binary=False)"
   ]
  },
  {
   "cell_type": "code",
   "execution_count": null,
   "metadata": {
    "ExecuteTime": {
     "end_time": "2022-04-26T06:50:25.871025Z",
     "start_time": "2022-04-26T06:50:25.870996Z"
    }
   },
   "outputs": [],
   "source": [
    "models = [w2v_model,spxEM_model]\n",
    "model_names = ['Word2vec','EWEM']"
   ]
  },
  {
   "cell_type": "markdown",
   "metadata": {
    "heading_collapsed": true
   },
   "source": [
    "# SCWS"
   ]
  },
  {
   "cell_type": "code",
   "execution_count": null,
   "metadata": {
    "ExecuteTime": {
     "end_time": "2022-05-03T07:23:51.868977Z",
     "start_time": "2022-05-03T07:23:51.864321Z"
    },
    "hidden": true
   },
   "outputs": [],
   "source": [
    "scws_file = '/home/manni/data/wordsim/SCWS/ratings.txt'"
   ]
  },
  {
   "cell_type": "code",
   "execution_count": null,
   "metadata": {
    "ExecuteTime": {
     "end_time": "2022-05-03T07:23:52.114857Z",
     "start_time": "2022-05-03T07:23:52.083607Z"
    },
    "hidden": true
   },
   "outputs": [],
   "source": [
    "data = list()\n",
    "with open(scws_file) as fin:\n",
    "    lines = fin.readlines()\n",
    "    for l in lines:\n",
    "        l = l.lower().split('\\t')\n",
    "        w1 = l[1]\n",
    "        w2 = l[3]\n",
    "        c1 = l[5]\n",
    "        c2 = l[6]\n",
    "        score = float(l[7])\n",
    "        data.append([w1,w2,c1,c2,score])"
   ]
  },
  {
   "cell_type": "code",
   "execution_count": null,
   "metadata": {
    "ExecuteTime": {
     "end_time": "2022-05-03T07:23:53.195153Z",
     "start_time": "2022-05-03T07:23:53.188236Z"
    },
    "hidden": true
   },
   "outputs": [],
   "source": [
    "data[6]"
   ]
  },
  {
   "cell_type": "code",
   "execution_count": null,
   "metadata": {
    "hidden": true
   },
   "outputs": [],
   "source": []
  },
  {
   "cell_type": "code",
   "execution_count": null,
   "metadata": {
    "ExecuteTime": {
     "end_time": "2022-04-26T11:34:08.208988Z",
     "start_time": "2022-04-26T11:34:08.180604Z"
    },
    "hidden": true
   },
   "outputs": [],
   "source": [
    "from nltk.corpus import stopwords\n",
    "stop_words = set(stopwords.words('english'))\n",
    "\n",
    "def clean_sent(sent):\n",
    "    '''\n",
    "    parameters:\n",
    "        sent: str\n",
    "    returns:\n",
    "        tokens: list(str)     \n",
    "    '''\n",
    "    return [word for word in sent.split() if word not in stop_words]\n",
    "\n",
    "def sent_words(sent):\n",
    "    '''\n",
    "    parameters:\n",
    "        sent: str\n",
    "    returns:\n",
    "        tokens: list(str) \n",
    "    '''\n",
    "    sent = re.sub(r'[^\\w\\s]', '', sent)\n",
    "    left = sent.split('<b>')[0]\n",
    "    right = sent.split('</b>')[-1]\n",
    "    sentA = clean_sent(left)[-10:]\n",
    "    sentB = clean_sent(right)[:10]\n",
    "    return sentA+sentB\n",
    "\n",
    "def reducer(wrd,lst,model):\n",
    "    out = set()\n",
    "    for word in lst:\n",
    "        top = [tup[0] for tup in model.most_similar(word,topn=100)]\n",
    "        out.update(set(top)&set(lst))\n",
    "    out.add(wrd)\n",
    "    if wrd+'#E' in model.vocab:\n",
    "        out.add(wrd+'#E')\n",
    "    return out\n",
    "\n",
    "def avgsim(w1,w2,c1,c2,score,model,reduce=False,verbose=False):\n",
    "    '''\n",
    "    Computes average similarity score.\n",
    "\n",
    "    parameters:\n",
    "        w1 : str\n",
    "        w2 : str\n",
    "        c1 : str\n",
    "        c2 : str\n",
    "        model : gensim.keyedvectors\n",
    "    returns:\n",
    "        score : float\n",
    "    '''\n",
    "    if w1 not in model.vocab or w2 not in model.vocab:\n",
    "        return None\n",
    "    a = [w1] + sent_words(c1)\n",
    "    _a = [word+'#E' for word in a] \n",
    "    a+=_a\n",
    "    b = [w2] + sent_words(c2)\n",
    "    _b = [word+'#E' for word in b] \n",
    "    b+=_b\n",
    "    a = [word for word in a if word in model.vocab]\n",
    "    b = [word for word in b if word in model.vocab]\n",
    "    if reduce:\n",
    "        a = reducer(w1,a,model)\n",
    "        b = reducer(w2,b,model)    \n",
    "    if verbose:\n",
    "        print(a)\n",
    "        print(b)\n",
    "    div = len(a)*len(b)\n",
    "    sims = 0\n",
    "    for i in a:\n",
    "        for j in b:\n",
    "            sim = model.similarity(i,j)\n",
    "            if verbose:\n",
    "                print(i,j,sim)\n",
    "            sims+= sim\n",
    "    return (sims/div,score)\n",
    "\n",
    "def _avgvec(lst,model):\n",
    "    vec = np.zeros(model.vector_size)\n",
    "    for word in lst:\n",
    "        if word in model:\n",
    "            vec = np.add(vec,model.get_vector(word))\n",
    "    return vec  \n",
    "    \n",
    "def avgvec(w1,w2,c1,c2,score,model,reduce=False,verbose=False):\n",
    "    if w1 not in model.vocab or w2 not in model.vocab:\n",
    "        return None\n",
    "    a = [w1] + sent_words(c1)\n",
    "    _a = [word+'#E' for word in a] \n",
    "    a+=_a\n",
    "    b = [w2] + sent_words(c2)\n",
    "    _b = [word+'#E' for word in b] \n",
    "    b+=_b\n",
    "    a = [word for word in a if word in model.vocab]\n",
    "    b = [word for word in b if word in model.vocab]\n",
    "    if reduce:\n",
    "        a = reducer(w1,a,model)\n",
    "        b = reducer(w2,b,model) \n",
    "    if verbose:\n",
    "        print(a)\n",
    "        print(b) \n",
    "    v1 = _avgvec(a,model)\n",
    "    v2 = _avgvec(b,model)\n",
    "    return (model.cosine_similarities(v1,[v2])[0],score)"
   ]
  },
  {
   "cell_type": "code",
   "execution_count": null,
   "metadata": {
    "ExecuteTime": {
     "end_time": "2022-04-26T10:43:47.329164Z",
     "start_time": "2022-04-26T10:43:47.315676Z"
    },
    "hidden": true
   },
   "outputs": [],
   "source": [
    "def get_corr(model,method='asim',reduce=False):\n",
    "    sims = list()\n",
    "    scores = list()\n",
    "    for dat in tqdm(data,position=0):\n",
    "        if method == 'asim':\n",
    "            sim = avgsim(dat[0],dat[1],dat[2],dat[3],dat[4],model,reduce=reduce)\n",
    "        if method == 'avg':\n",
    "            sim = avgvec(dat[0],dat[1],dat[2],dat[3],dat[4],model,reduce=reduce)\n",
    "        if sim:\n",
    "            sims.append(sim[0])\n",
    "            scores.append(sim[1])\n",
    "    corr, _ = pearsonr(sims, scores)\n",
    "    print('%.2f &' % (corr*100),end=' ')\n",
    "    corr, _ = spearmanr(sims, scores)\n",
    "    print('%.2f' % (corr*100))   "
   ]
  },
  {
   "cell_type": "code",
   "execution_count": null,
   "metadata": {
    "ExecuteTime": {
     "end_time": "2022-04-26T10:43:48.291949Z",
     "start_time": "2022-04-26T10:43:47.889954Z"
    },
    "hidden": true
   },
   "outputs": [],
   "source": [
    "get_corr(spxPEM_model)\n",
    "get_corr(spxEM_model)\n",
    "get_corr(spx_model)\n",
    "get_corr(w2v_model)"
   ]
  },
  {
   "cell_type": "code",
   "execution_count": null,
   "metadata": {
    "ExecuteTime": {
     "end_time": "2022-04-26T10:43:48.805736Z",
     "start_time": "2022-04-26T10:43:48.369657Z"
    },
    "hidden": true
   },
   "outputs": [],
   "source": [
    "get_corr(spxPEM_model,method='avg')\n",
    "get_corr(spxEM_model,method='avg')\n",
    "get_corr(spx_model,method='avg')\n",
    "get_corr(w2v_model,method='avg')"
   ]
  },
  {
   "cell_type": "code",
   "execution_count": null,
   "metadata": {
    "ExecuteTime": {
     "end_time": "2022-04-26T10:06:16.604452Z",
     "start_time": "2022-04-26T10:06:16.589679Z"
    },
    "hidden": true
   },
   "outputs": [],
   "source": [
    "from multiprocessing import Pool\n",
    "\n",
    "def get_corr_parallel(model,method='asim',reduce=False):\n",
    "    if __name__==\"__main__\":\n",
    "        pool = Pool(processes=40)\n",
    "        sims = list()\n",
    "        scores = list()\n",
    "        for dat in tqdm(data,position=0):\n",
    "            if method == 'asim':\n",
    "                sim = pool.apply_async(func=avgsim, args=(dat[0],dat[1],dat[2],dat[3],dat[4],model,reduce)) \n",
    "            if method == 'avg':\n",
    "                sim = pool.apply_async(func=avgvec, args=(dat[0],dat[1],dat[2],dat[3],dat[4],model,reduce)) \n",
    "            sim = sim.get()\n",
    "            if sim:\n",
    "                sims.append(sim[0])\n",
    "                scores.append(sim[1])\n",
    "        pool.close()\n",
    "        pool.join()\n",
    "        corr, _ = pearsonr(sims, scores)\n",
    "        print('Pearsons correlation: %.2f' % (corr*100))\n",
    "        corr, _ = spearmanr(sims, scores)\n",
    "        print('Spearmans correlation: %.2f' % (corr*100)) "
   ]
  },
  {
   "cell_type": "code",
   "execution_count": null,
   "metadata": {
    "ExecuteTime": {
     "end_time": "2022-04-26T10:07:14.087876Z",
     "start_time": "2022-04-26T10:06:17.633469Z"
    },
    "hidden": true
   },
   "outputs": [],
   "source": [
    "get_corr_parallel(spxEM_model,reduce=True)\n",
    "get_corr_parallel(spx_model,reduce=True)\n",
    "get_corr_parallel(w2v_model,reduce=True)"
   ]
  },
  {
   "cell_type": "code",
   "execution_count": null,
   "metadata": {
    "ExecuteTime": {
     "end_time": "2022-04-26T12:50:26.071467Z",
     "start_time": "2022-04-26T11:34:16.000631Z"
    },
    "hidden": true
   },
   "outputs": [],
   "source": [
    "get_corr(spxEM_model,reduce=True)\n",
    "get_corr(spx_model,reduce=True)\n",
    "get_corr(w2v_model,reduce=True)"
   ]
  },
  {
   "cell_type": "code",
   "execution_count": null,
   "metadata": {
    "ExecuteTime": {
     "end_time": "2022-04-26T14:05:15.215153Z",
     "start_time": "2022-04-26T12:50:26.075990Z"
    },
    "hidden": true
   },
   "outputs": [],
   "source": [
    "get_corr(spxEM_model,method='avg',reduce=True)\n",
    "get_corr(spx_model,method='avg',reduce=True)\n",
    "get_corr(w2v_model,method='avg',reduce=True)"
   ]
  },
  {
   "cell_type": "code",
   "execution_count": null,
   "metadata": {
    "ExecuteTime": {
     "end_time": "2022-04-26T07:02:16.448562Z",
     "start_time": "2022-04-26T07:02:16.440159Z"
    },
    "hidden": true
   },
   "outputs": [],
   "source": [
    "print(w2v_model.similarity('brazil','nut'))\n",
    "print(spx_model.similarity('brazil','nut'))\n",
    "print(spxEM_model.similarity('brazil','nut'))\n",
    "print(spxEM_model.similarity('brazil#E','nut#E'))"
   ]
  },
  {
   "cell_type": "code",
   "execution_count": null,
   "metadata": {
    "ExecuteTime": {
     "end_time": "2022-04-26T07:02:17.568594Z",
     "start_time": "2022-04-26T07:02:17.559976Z"
    },
    "hidden": true
   },
   "outputs": [],
   "source": [
    "print(spx_model.similarity('new','york'))\n",
    "print(w2v_model.similarity('new','york'))\n",
    "print(spxEM_model.similarity('new','york'))\n",
    "print(spxEM_model.similarity('new#E','york#E'))"
   ]
  },
  {
   "cell_type": "code",
   "execution_count": null,
   "metadata": {
    "ExecuteTime": {
     "end_time": "2022-04-26T07:02:27.519284Z",
     "start_time": "2022-04-26T07:02:27.469994Z"
    },
    "hidden": true
   },
   "outputs": [],
   "source": [
    "avgsim(data[0][0],data[0][1],data[0][2],data[0][3],w2v_model,verbose=True)"
   ]
  },
  {
   "cell_type": "code",
   "execution_count": null,
   "metadata": {
    "ExecuteTime": {
     "end_time": "2022-04-26T07:32:19.076265Z",
     "start_time": "2022-04-26T07:32:19.070050Z"
    },
    "hidden": true
   },
   "outputs": [],
   "source": [
    "x = ['brazil', 'bahia', 'instance', 'never', 'gap', 'income', 'blacks', 'nonwhites', 'relatively', 'brazil#E', 'bahia#E', 'instance#E', 'never#E', 'gap#E', 'income#E', 'blacks#E', 'relatively#E']\n",
    "y = ['nut', 'player', 'turns', 'change', 'string', 'tension', 'neck', 'bridge', 'pickups', 'features', 'found', 'nut#E', 'player#E', 'turns#E', 'change#E', 'string#E', 'tension#E', 'neck#E', 'bridge#E', 'pickups#E', 'features#E', 'found#E']"
   ]
  },
  {
   "cell_type": "code",
   "execution_count": null,
   "metadata": {
    "ExecuteTime": {
     "end_time": "2022-04-26T07:41:22.883729Z",
     "start_time": "2022-04-26T07:41:22.875463Z"
    },
    "hidden": true
   },
   "outputs": [],
   "source": [
    "x = ['brazil', 'population', 'black', 'politicians', 'city', 'salvador', 'bahia', 'instance', 'never', 'gap', 'income', 'blacks', 'nonwhites', 'relatively', 'small', 'compared', 'large', 'gap', 'whites', 'brazil#E', 'population#E', 'black#E', 'politicians#E', 'city#E', 'salvador#E', 'bahia#E', 'instance#E', 'never#E', 'gap#E', 'income#E', 'blacks#E', 'relatively#E', 'small#E', 'compared#E', 'large#E', 'gap#E', 'whites#E']\n",
    "y = ['nut', 'machine', 'heads', 'worm', 'gears', 'player', 'turns', 'change', 'string', 'tension', 'neck', 'bridge', 'pickups', 'features', 'found', 'almost', 'every', 'guitar', 'photo', 'shows', 'nut#E', 'machine#E', 'heads#E', 'worm#E', 'gears#E', 'player#E', 'turns#E', 'change#E', 'string#E', 'tension#E', 'neck#E', 'bridge#E', 'pickups#E', 'features#E', 'found#E', 'almost#E', 'every#E', 'guitar#E', 'photo#E', 'shows#E']"
   ]
  },
  {
   "cell_type": "code",
   "execution_count": null,
   "metadata": {
    "ExecuteTime": {
     "end_time": "2022-04-26T07:32:50.036474Z",
     "start_time": "2022-04-26T07:32:50.029886Z"
    },
    "hidden": true
   },
   "outputs": [],
   "source": [
    "x = ['israel', 'case', 'incorporates', 'fiber', 'optics', 'list', 'pathogens', 'attached', 'silver', 'gold', 'nanowires', 'israel#E', 'case#E', 'fiber#E', 'optics#E', 'list#E', 'pathogens#E', 'attached#E', 'silver#E', 'gold#E']\n",
    "y = ['israeli', 'policy', 'territories', 'song', 'banned', 'radio', 'israeli', 'folk', 'singer', 'miri', 'israeli#E', 'policy#E', 'territories#E', 'song#E', 'banned#E', 'radio#E', 'israeli#E', 'folk#E', 'singer#E', 'miri#E']"
   ]
  },
  {
   "cell_type": "code",
   "execution_count": null,
   "metadata": {
    "ExecuteTime": {
     "end_time": "2022-04-26T07:43:42.944207Z",
     "start_time": "2022-04-26T07:43:42.935182Z"
    },
    "hidden": true
   },
   "outputs": [],
   "source": [
    "x = ['israel', 'similar', 'widely', 'employed', 'immunological', 'technique', 'case', 'incorporates', 'fiber', 'optics', 'list', 'pathogens', 'attached', 'silver', 'gold', 'nanowires', 'netherlands', 'company', 'tno', 'designed', 'israel#E', 'similar#E', 'widely#E', 'employed#E', 'immunological#E', 'technique#E', 'case#E', 'fiber#E', 'optics#E', 'list#E', 'pathogens#E', 'attached#E', 'silver#E', 'gold#E', 'netherlands#E', 'company#E', 'tno#E', 'designed#E']\n",
    "y = ['israeli', 'written', 'shalom', 'hanoch', 'protest', 'israeli', 'policy', 'territories', 'song', 'banned', 'radio', 'israeli', 'folk', 'singer', 'miri', 'aloni', 'sang', 'israeli', 'pop', 'song', 'israeli#E', 'written#E', 'shalom#E', 'hanoch#E', 'protest#E', 'israeli#E', 'policy#E', 'territories#E', 'song#E', 'banned#E', 'radio#E', 'israeli#E', 'folk#E', 'singer#E', 'miri#E', 'aloni#E', 'sang#E', 'israeli#E', 'pop#E', 'song#E']"
   ]
  },
  {
   "cell_type": "code",
   "execution_count": null,
   "metadata": {
    "ExecuteTime": {
     "end_time": "2022-04-26T07:32:50.510282Z",
     "start_time": "2022-04-26T07:32:50.504728Z"
    },
    "hidden": true
   },
   "outputs": [],
   "source": [
    "         "
   ]
  },
  {
   "cell_type": "code",
   "execution_count": null,
   "metadata": {
    "ExecuteTime": {
     "end_time": "2022-04-26T07:43:45.023898Z",
     "start_time": "2022-04-26T07:43:45.015302Z"
    },
    "hidden": true
   },
   "outputs": [],
   "source": [
    "v1 = get_avgvec(x,w2v_model)\n",
    "v2 = get_avgvec(y,w2v_model)\n",
    "\n",
    "w2v_model.cosine_similarities(v1,[v2])"
   ]
  },
  {
   "cell_type": "code",
   "execution_count": null,
   "metadata": {
    "ExecuteTime": {
     "end_time": "2022-04-26T07:43:45.338440Z",
     "start_time": "2022-04-26T07:43:45.330079Z"
    },
    "hidden": true
   },
   "outputs": [],
   "source": [
    "v1 = get_avgvec(x,spx_model)\n",
    "v2 = get_avgvec(y,spx_model)\n",
    "\n",
    "spx_model.cosine_similarities(v1,[v2])"
   ]
  },
  {
   "cell_type": "code",
   "execution_count": null,
   "metadata": {
    "ExecuteTime": {
     "end_time": "2022-04-26T07:43:45.719545Z",
     "start_time": "2022-04-26T07:43:45.709758Z"
    },
    "hidden": true
   },
   "outputs": [],
   "source": [
    "v1 = get_avgvec(x,spxEM_model)\n",
    "v2 = get_avgvec(y,spxEM_model)\n",
    "\n",
    "spxEM_model.cosine_similarities(v1,[v2])"
   ]
  },
  {
   "cell_type": "code",
   "execution_count": null,
   "metadata": {
    "ExecuteTime": {
     "end_time": "2022-04-26T07:07:05.748858Z",
     "start_time": "2022-04-26T07:07:05.690365Z"
    },
    "hidden": true
   },
   "outputs": [],
   "source": [
    "avgsim(data[0][0],data[0][1],data[0][2],data[0][3],spx_model,verbose=True)"
   ]
  },
  {
   "cell_type": "code",
   "execution_count": null,
   "metadata": {
    "ExecuteTime": {
     "end_time": "2022-04-26T07:40:06.287516Z",
     "start_time": "2022-04-26T07:40:05.429860Z"
    },
    "hidden": true
   },
   "outputs": [],
   "source": [
    "avgsim(data[0][0],data[0][1],data[0][2],data[0][3],spxEM_model,verbose=True)"
   ]
  },
  {
   "cell_type": "code",
   "execution_count": null,
   "metadata": {
    "ExecuteTime": {
     "end_time": "2022-04-26T07:37:37.625444Z",
     "start_time": "2022-04-26T07:37:37.175029Z"
    },
    "hidden": true
   },
   "outputs": [],
   "source": [
    "avgsim(data[6][0],data[6][1],data[6][2],data[6][3],spxEM_model,verbose=True)"
   ]
  },
  {
   "cell_type": "code",
   "execution_count": null,
   "metadata": {
    "hidden": true
   },
   "outputs": [],
   "source": [
    "for w in model.vocab:\n",
    "    if '#' in w:\n",
    "        print(w)\n",
    "        break"
   ]
  },
  {
   "cell_type": "code",
   "execution_count": null,
   "metadata": {
    "hidden": true
   },
   "outputs": [],
   "source": [
    "import wiki as w\n",
    "import sys\n",
    "sys.path.append(\"../../imports/\")\n",
    "import saver as sv"
   ]
  },
  {
   "cell_type": "code",
   "execution_count": null,
   "metadata": {
    "hidden": true
   },
   "outputs": [],
   "source": [
    "sentences = sv.load(\"wiki_sentences_spx\")"
   ]
  },
  {
   "cell_type": "code",
   "execution_count": null,
   "metadata": {
    "hidden": true
   },
   "outputs": [],
   "source": [
    "for sent in sentences:\n",
    "    print(sent[:105])\n",
    "    break"
   ]
  },
  {
   "cell_type": "code",
   "execution_count": null,
   "metadata": {
    "hidden": true
   },
   "outputs": [],
   "source": [
    "print(data[0][0])\n",
    "print(sent_words(data[0][2]))\n",
    "print(data[0][1])\n",
    "print(sent_words(data[0][3]))"
   ]
  },
  {
   "cell_type": "code",
   "execution_count": null,
   "metadata": {
    "hidden": true
   },
   "outputs": [],
   "source": [
    "spxEM_model.similarity('brazil','nut')"
   ]
  },
  {
   "cell_type": "code",
   "execution_count": null,
   "metadata": {
    "hidden": true
   },
   "outputs": [],
   "source": [
    "spxEM_model.similarity('brazil#E','nut#E')"
   ]
  },
  {
   "cell_type": "code",
   "execution_count": null,
   "metadata": {
    "hidden": true
   },
   "outputs": [],
   "source": [
    "w2v_model.similarity('brazil','nut')"
   ]
  },
  {
   "cell_type": "code",
   "execution_count": null,
   "metadata": {
    "hidden": true
   },
   "outputs": [],
   "source": [
    "sent_words(c1)"
   ]
  },
  {
   "cell_type": "markdown",
   "metadata": {},
   "source": [
    "# non-context similarities"
   ]
  },
  {
   "cell_type": "code",
   "execution_count": null,
   "metadata": {
    "ExecuteTime": {
     "end_time": "2022-05-12T07:59:29.070472Z",
     "start_time": "2022-05-12T07:59:29.064441Z"
    }
   },
   "outputs": [],
   "source": [
    "ws353A = '/home/manni/data/wordsim/EN-WS353.txt'\n",
    "ws353R = '/home/manni/data/wordsim/EN-WSR353.txt'\n",
    "ws353S = '/home/manni/data/wordsim/EN-WSS353.txt'\n",
    "rw = '/home/manni/data/wordsim/rw.txt'\n",
    "sim999 = '/home/manni/data/wordsim/EN-SIM999.txt'\n",
    "turk = '/home/manni/data/wordsim/EN_TRUK.txt'\n",
    "mturk = '/home/manni/data/wordsim/MTURK-771.csv'\n",
    "rg = '/home/manni/data/wordsim/EN-RG-65.txt'\n",
    "men = '/home/manni/data/wordsim/EN-MEN-LEM.txt'"
   ]
  },
  {
   "cell_type": "code",
   "execution_count": null,
   "metadata": {
    "ExecuteTime": {
     "end_time": "2022-05-12T07:59:34.504424Z",
     "start_time": "2022-05-12T07:59:34.478527Z"
    }
   },
   "outputs": [],
   "source": [
    "with open(sim999) as fin:\n",
    "    lines = fin.readlines()\n",
    "    with open(sim999+'_new','w') as fout:\n",
    "        for line in lines:\n",
    "            line = line.split('\\t')\n",
    "            try:\n",
    "                float(line[3])\n",
    "                fout.write(\"{} {} {} \\n\".format(line[0],line[1],line[3])) \n",
    "            except:\n",
    "                continue   \n",
    "sim999 = sim999+'_new'"
   ]
  },
  {
   "cell_type": "code",
   "execution_count": null,
   "metadata": {
    "ExecuteTime": {
     "end_time": "2022-05-12T07:59:35.006829Z",
     "start_time": "2022-05-12T07:59:34.988638Z"
    }
   },
   "outputs": [],
   "source": [
    "with open(mturk) as fin:\n",
    "    lines = fin.readlines()\n",
    "    with open(mturk+'_new','w') as fout:\n",
    "        for line in lines:\n",
    "            line = line.split(',')\n",
    "            try:\n",
    "                fout.write(\"{} {} {} \\n\".format(line[0],line[1],line[2])) \n",
    "            except:\n",
    "                continue   \n",
    "mturk = mturk+'_new'"
   ]
  },
  {
   "cell_type": "code",
   "execution_count": null,
   "metadata": {
    "ExecuteTime": {
     "end_time": "2022-05-12T07:59:35.571164Z",
     "start_time": "2022-05-12T07:59:35.539448Z"
    }
   },
   "outputs": [],
   "source": [
    "with open(men) as fin:\n",
    "    lines = fin.readlines()\n",
    "    with open(men+'_new','w') as fout:\n",
    "        for line in lines:\n",
    "            line = line.split()\n",
    "            try:\n",
    "                fout.write(\"{} {} {} \\n\".format(line[0].split('-')[0],line[1].split('-')[0],line[2])) \n",
    "            except:\n",
    "                continue   \n",
    "men = men+'_new'"
   ]
  },
  {
   "cell_type": "code",
   "execution_count": null,
   "metadata": {
    "ExecuteTime": {
     "end_time": "2022-05-12T07:59:37.000519Z",
     "start_time": "2022-05-12T07:59:36.840930Z"
    }
   },
   "outputs": [],
   "source": [
    "# debug\n",
    "with open(mturk) as fin:\n",
    "    lines = fin.readlines()\n",
    "    for line in lines:\n",
    "        line= line.split()\n",
    "        print(line)\n",
    "        continue\n",
    "        try:\n",
    "            if line[0] in model.vocab and line[1] in model.vocab:\n",
    "                continue\n",
    "        except:\n",
    "            print(line)"
   ]
  },
  {
   "cell_type": "code",
   "execution_count": null,
   "metadata": {
    "ExecuteTime": {
     "end_time": "2022-05-12T07:59:42.670465Z",
     "start_time": "2022-05-12T07:59:42.664469Z"
    }
   },
   "outputs": [],
   "source": [
    "datasets = [ws353A,ws353R,ws353S,rw,sim999,turk,mturk,rg,men]"
   ]
  },
  {
   "cell_type": "code",
   "execution_count": null,
   "metadata": {
    "ExecuteTime": {
     "end_time": "2022-05-12T07:59:44.255090Z",
     "start_time": "2022-05-12T07:59:44.245383Z"
    }
   },
   "outputs": [],
   "source": [
    "def avg_sim(w1,w2,model):\n",
    "    s1 = [w1,w1+'#E',w1+'#P']\n",
    "    s2 = [w2,w2+'#E',w1+'#P']\n",
    "    a = [w for w in s1 if w in model.vocab]\n",
    "    b = [w for w in s2 if w in model.vocab]\n",
    "    div = len(a)*len(b)\n",
    "    sims = 0\n",
    "    for i in a:\n",
    "        for j in b:\n",
    "            sims+=model.similarity(i,j)\n",
    "    return sims/div"
   ]
  },
  {
   "cell_type": "code",
   "execution_count": null,
   "metadata": {
    "ExecuteTime": {
     "end_time": "2022-05-12T08:00:05.517212Z",
     "start_time": "2022-05-12T08:00:05.508658Z"
    }
   },
   "outputs": [],
   "source": [
    "import numpy as np\n",
    "import scipy.stats\n",
    "\n",
    "\n",
    "def mean_confidence_interval(data, confidence=0.95):\n",
    "    a = 1.0 * np.array(data)\n",
    "    n = len(a)\n",
    "    m, se = np.mean(a), scipy.stats.sem(a)\n",
    "    h = se * scipy.stats.t.ppf((1 + confidence) / 2., n-1)\n",
    "    return m, h"
   ]
  },
  {
   "cell_type": "code",
   "execution_count": null,
   "metadata": {
    "ExecuteTime": {
     "end_time": "2022-05-12T08:00:05.805823Z",
     "start_time": "2022-05-12T08:00:05.785812Z"
    }
   },
   "outputs": [],
   "source": [
    "def get_corrs(lines,bs=False):\n",
    "    if bs:\n",
    "        p_corrs = list()\n",
    "        s_corrs = list()\n",
    "        for _ in range(100):\n",
    "            sims = list()\n",
    "            scores = list()\n",
    "            sidx  = np.random.choice(idx,replace=True,size=b_size)\n",
    "            lines = pd.Series(lines)\n",
    "            lines = list(lines[sidx])\n",
    "            for line in lines:\n",
    "                line = line.split()\n",
    "                if not line:\n",
    "                    continue\n",
    "                if line[0] in model.vocab and line[1] in model.vocab:\n",
    "                    sim = avg_sim(line[0],line[1],model) \n",
    "                else:\n",
    "                    continue\n",
    "                if sim:\n",
    "                    score = float(line[2])\n",
    "                    sims.append(sim)\n",
    "                    scores.append(score)\n",
    "            corr, _ = pearsonr(sims, scores)\n",
    "            p_corrs.append(corr)\n",
    "            corr, _ = spearmanr(sims, scores)\n",
    "            s_corrs.append(corr)\n",
    "        return mean_confidence_interval(p_corrs),mean_confidence_interval(s_corrs)\n",
    "    else:\n",
    "        sims = list()\n",
    "        scores = list()\n",
    "        for line in lines:\n",
    "            line = line.split()\n",
    "            if not line:\n",
    "                continue\n",
    "            if line[0] in model.vocab and line[1] in model.vocab:\n",
    "                sim = avg_sim(line[0],line[1],model) \n",
    "            else:\n",
    "                continue\n",
    "            if sim:\n",
    "                score = float(line[2])\n",
    "                sims.append(sim)\n",
    "                scores.append(score)\n",
    "        pcorr, _ = pearsonr(sims, scores)\n",
    "        scorr, _ = spearmanr(sims, scores)\n",
    "        return '%.2f' % (pcorr*100),'%.2f' % (scorr*100)"
   ]
  },
  {
   "cell_type": "code",
   "execution_count": null,
   "metadata": {
    "ExecuteTime": {
     "end_time": "2022-05-12T08:00:10.000313Z",
     "start_time": "2022-05-12T08:00:06.664701Z"
    }
   },
   "outputs": [],
   "source": [
    "for ds in datasets:\n",
    "    name = ds.split('/')[-1].split('.')[0]\n",
    "    print(r'\\begin{subsection}{'+name+r'}')\n",
    "    print(r'\\begin{table}[!h]')\n",
    "    print(r'\\begin{tabular}{|l|c|c|}')\n",
    "    print('\\hline')\n",
    "    print(\"Model & Pearsons & Spearmans\"+r\"\\\\\")\n",
    "    print('\\hline')\n",
    "    with open(ds) as fin:\n",
    "        lines = fin.readlines()\n",
    "        b_size = len(lines)\n",
    "        idx = [i for i in range(b_size)]\n",
    "        for i, model in enumerate(models):\n",
    "            print(model_names[i],end=' & ')\n",
    "            pcorr,scorr=get_corrs(lines)\n",
    "            print(pcorr,end=' & ')\n",
    "            print(scorr,end=r'\\\\') \n",
    "            print()\n",
    "    print('\\hline')\n",
    "    print('\\end{tabular}')\n",
    "    print('\\end{table}')\n",
    "    print(r'\\end{subsection}')\n",
    "    print()"
   ]
  },
  {
   "cell_type": "code",
   "execution_count": null,
   "metadata": {
    "ExecuteTime": {
     "end_time": "2022-05-12T07:59:09.695622Z",
     "start_time": "2022-05-12T07:59:09.659923Z"
    }
   },
   "outputs": [],
   "source": [
    "phrases = ['new york','new zealand']\n",
    "markers = ['#E','#P']\n",
    "print(r'\\begin{table}[!h]')\n",
    "print(r'\\begin{tabular}{|l|c|c|}')\n",
    "print('\\hline')\n",
    "print(\"Model & Phrase & Similarity\"+r\"\\\\\")\n",
    "print('\\hline')\n",
    "for phrase in phrases:\n",
    "    words = phrase.split()\n",
    "    s1 = [word+'#E' for word in words]\n",
    "    s2 = [word+'#P' for word in words]\n",
    "    senses = [s1,s2]\n",
    "    for i,model in enumerate(models):\n",
    "        sim = model.similarity(words[0],words[1])\n",
    "        print(model_names[i],end=' & ')\n",
    "        print(phrase,end=' & ')\n",
    "        print('%.2f' % (sim),end=r'\\\\')\n",
    "        print()\n",
    "        for sense in senses:\n",
    "            if sense[0] in model.vocab and sense[1] in model.vocab:\n",
    "                sim = model.similarity(sense[0],sense[1])\n",
    "                print(model_names[i],end=' & ')\n",
    "                print(' '.join(sense),end=' & ')\n",
    "                print('%.2f' % (sim),end=r'\\\\')\n",
    "                print()\n",
    "    print('\\hline')\n",
    "print('\\end{tabular}')\n",
    "print('\\end{table}')"
   ]
  },
  {
   "cell_type": "code",
   "execution_count": null,
   "metadata": {
    "ExecuteTime": {
     "start_time": "2022-05-12T07:42:53.813Z"
    }
   },
   "outputs": [],
   "source": [
    "import scipy\n",
    "print(scipy.__version__)"
   ]
  },
  {
   "cell_type": "code",
   "execution_count": null,
   "metadata": {
    "ExecuteTime": {
     "end_time": "2022-05-03T08:12:22.308534Z",
     "start_time": "2022-05-03T08:12:22.302326Z"
    }
   },
   "outputs": [],
   "source": [
    "from scipy.stats import bootstrap"
   ]
  },
  {
   "cell_type": "code",
   "execution_count": null,
   "metadata": {
    "ExecuteTime": {
     "end_time": "2022-05-16T08:30:35.585064Z",
     "start_time": "2022-05-16T08:30:35.562936Z"
    }
   },
   "outputs": [],
   "source": [
    "def viterbi_algorithm(observations, states, start_p, trans_p, emit_p):\n",
    "    V = [{}]\n",
    "    for st in states:\n",
    "         V[0][st] = {\"prob\": start_p[st] * emit_p[st][observations[0]], \"prev\": None}\n",
    "\n",
    "    for t in range(1, len(observations)):\n",
    "        V.append({})\n",
    "        for st in states:\n",
    "            max_tr_prob = V[t - 1][states[0]][\"prob\"] * trans_p[states[0]][st]\n",
    "            prev_st_selected = states[0]\n",
    "            for prev_st in states[1:]:\n",
    "                tr_prob = V[t - 1][prev_st][\"prob\"] * trans_p[prev_st][st]\n",
    "                if tr_prob > max_tr_prob:\n",
    "                    max_tr_prob = tr_prob\n",
    "                    prev_st_selected = prev_st\n",
    "\n",
    "            max_prob = max_tr_prob * emit_p[st][observations[t]]\n",
    "            V[t][st] = {\"prob\": max_prob, \"prev\": prev_st_selected}\n",
    "    for line in dptable(V):\n",
    "        print(line)\n",
    "\n",
    "    opt = []\n",
    "    max_prob = 0.0\n",
    "    best_st = None\n",
    "\n",
    "    for st, data in V[-1].items():\n",
    "        if data[\"prob\"] > max_prob:\n",
    "            max_prob = data[\"prob\"]\n",
    "            best_st = st\n",
    "    opt.append(best_st)\n",
    "    previous = best_st\n",
    "\n",
    "    for t in range(len(V) - 2, -1, -1):\n",
    "        opt.insert(0, V[t + 1][previous][\"prev\"])\n",
    "        previous = V[t + 1][previous][\"prev\"]\n",
    "\n",
    "    print (\"The steps of states are \" + \" \".join(opt) + \" with highest probability of %s\" % max_prob)\n",
    "\n",
    "def dptable(V):\n",
    "     \n",
    "    yield \" \".join((\"%12d\" % i) for i in range(len(V)))\n",
    "    for state in V[0]:\n",
    "        yield \"%.7s: \" % state + \" \".join(\"%.7s\" % (\"%f\" % v[state][\"prob\"]) for v in V)"
   ]
  },
  {
   "cell_type": "code",
   "execution_count": null,
   "metadata": {
    "ExecuteTime": {
     "end_time": "2022-05-16T08:45:37.276827Z",
     "start_time": "2022-05-16T08:45:37.268040Z"
    }
   },
   "outputs": [],
   "source": [
    "observations = (\"normal\", \"cold\", \"dizzy\")\n",
    "states = (\"Healthy\", \"Fever\")\n",
    "start_p = {\"Healthy\": 1, \"Fever\": 1}\n",
    "trans_p = {\n",
    "    \"Healthy\": {\"Healthy\": 1, \"Fever\": 1},\n",
    "    \"Fever\": {\"Healthy\": 1, \"Fever\": 1},\n",
    "}\n",
    "emit_p = {\n",
    "    \"Healthy\": {\"normal\": 0.5, \"cold\": 0.4, \"dizzy\": 0.1},\n",
    "    \"Fever\": {\"normal\": 0.1, \"cold\": 0.3, \"dizzy\": 0.6},\n",
    "}"
   ]
  },
  {
   "cell_type": "code",
   "execution_count": null,
   "metadata": {
    "ExecuteTime": {
     "end_time": "2022-05-16T08:45:37.959811Z",
     "start_time": "2022-05-16T08:45:37.953759Z"
    }
   },
   "outputs": [],
   "source": [
    "viterbi_algorithm(observations, states, start_p, trans_p, emit_p)"
   ]
  },
  {
   "cell_type": "code",
   "execution_count": null,
   "metadata": {
    "ExecuteTime": {
     "end_time": "2022-05-19T10:07:38.090912Z",
     "start_time": "2022-05-19T10:07:38.085961Z"
    }
   },
   "outputs": [],
   "source": [
    "model = spxEM_model"
   ]
  },
  {
   "cell_type": "code",
   "execution_count": null,
   "metadata": {
    "ExecuteTime": {
     "end_time": "2022-05-18T10:27:26.790003Z",
     "start_time": "2022-05-18T10:27:26.784081Z"
    }
   },
   "outputs": [],
   "source": [
    "\n",
    "        \n",
    "        "
   ]
  },
  {
   "cell_type": "code",
   "execution_count": null,
   "metadata": {},
   "outputs": [],
   "source": [
    "P = list()\n",
    "w = list()\n",
    "mat = {}\n",
    "\n",
    "        "
   ]
  },
  {
   "cell_type": "code",
   "execution_count": null,
   "metadata": {},
   "outputs": [],
   "source": [
    "import numpy as np\n",
    "\n",
    "def viterbi(y, A, B, initial_probs = None):\n",
    "    K = A.shape[0]\n",
    "    initial_probs = initial_probs if initial_probs is not None else np.full(K, 1 / K)\n",
    "    T = len(y)\n",
    "    T1 = np.empty((K, T), 'd')\n",
    "    T2 = np.empty((K, T), 'B')\n",
    "    T1[:, 0] = initial_probs * B[:, y[0]]\n",
    "    T2[:, 0] = 0\n",
    "    \n",
    "    for i in range(1, T):\n",
    "        T1[:, i] = np.max(T1[:, i - 1] * A.T * B[np.newaxis, :, y[i]].T, 1)\n",
    "        T2[:, i] = np.argmax(T1[:, i - 1] * A.T, 1)\n",
    "\n",
    "    x = np.empty(T, 'B')\n",
    "    x[-1] = np.argmax(T1[:, T - 1])\n",
    "    \n",
    "    for i in reversed(range(1, T)):\n",
    "        x[i - 1] = T2[x[i], i]\n",
    "\n",
    "    return x, T1, T2\n"
   ]
  },
  {
   "cell_type": "code",
   "execution_count": null,
   "metadata": {
    "ExecuteTime": {
     "end_time": "2022-05-26T06:15:30.613759Z",
     "start_time": "2022-05-26T06:15:30.603197Z"
    }
   },
   "outputs": [],
   "source": [
    "print(spxEM_model.similarity('new#E','york#E'))\n",
    "print(spxEM_model.similarity('new#E','york'))\n",
    "print(spxEM_model.similarity('new','york#E'))\n",
    "print(spxEM_model.similarity('new','york'))"
   ]
  },
  {
   "cell_type": "code",
   "execution_count": null,
   "metadata": {
    "ExecuteTime": {
     "end_time": "2022-05-26T06:15:32.016393Z",
     "start_time": "2022-05-26T06:15:31.542134Z"
    }
   },
   "outputs": [],
   "source": [
    "print(spxPEM_model.similarity('new#E','york#E'))\n",
    "print(spxPEM_model.similarity('new#E','york'))\n",
    "print(spxPEM_model.similarity('new','york#E'))\n",
    "print(spxPEM_model.similarity('new','york'))"
   ]
  },
  {
   "cell_type": "markdown",
   "metadata": {},
   "source": [
    "# HMM"
   ]
  },
  {
   "cell_type": "code",
   "execution_count": 53,
   "metadata": {
    "ExecuteTime": {
     "end_time": "2022-05-31T13:41:59.085402Z",
     "start_time": "2022-05-31T13:41:59.081743Z"
    }
   },
   "outputs": [],
   "source": [
    "model = spxEM_model\n",
    "#model = w2v_model"
   ]
  },
  {
   "cell_type": "code",
   "execution_count": 18,
   "metadata": {
    "ExecuteTime": {
     "end_time": "2022-05-27T14:56:27.842881Z",
     "start_time": "2022-05-27T14:56:27.836368Z"
    }
   },
   "outputs": [],
   "source": [
    "sentence = 'new york city is composed of five boroughs'\n",
    "sentence = sentence.split()\n",
    "sentence_E = [word+'#E' for word in sentence]\n",
    "sentence_P = [word+'#P' for word in sentence]\n",
    "#sentences = [sentence,sentence_E,sentence_P]\n",
    "sentences = [sentence,sentence_E]"
   ]
  },
  {
   "cell_type": "code",
   "execution_count": 34,
   "metadata": {
    "ExecuteTime": {
     "end_time": "2022-05-29T06:03:51.881770Z",
     "start_time": "2022-05-29T06:03:51.862292Z"
    }
   },
   "outputs": [
    {
     "name": "stdout",
     "output_type": "stream",
     "text": [
      "[0.5302377, 0.28975484, 0.49186322, 0.862124] ('new#E', 'york#E')\n",
      "\n",
      "[0.38330087, 0.330131, 0.20029005, 0.5829354] ('york#E', 'city#E')\n",
      "\n",
      "[0.21510811, 0.112545684, 0.16010503, 0.24233986] ('city#E', 'is#E')\n",
      "\n",
      "[0.1830385, 0.07866019, 0.20058198, 0.2881142] ('is#E', 'composed#E')\n",
      "\n",
      "[0.1950385, 0.16179606, 0.08870192, 0.18681721] ('composed', 'of')\n",
      "\n",
      "[0.37493145, 0.18115063, 0.24392094, 0.35853893] ('of', 'five')\n",
      "\n",
      "[0.15485162, 0.19954851, 0.17588222, 0.22568594] ('five#E', 'boroughs#E')\n",
      "\n"
     ]
    }
   ],
   "source": [
    "best_tuples = list()\n",
    "z = 1\n",
    "path = list()\n",
    "for i in range(len(sentence)-1):\n",
    "    scores = list()\n",
    "    candidates = list()\n",
    "    for j in range(len(sentences)):\n",
    "        for k in range(len(sentences)):\n",
    "            edge = model.similarity(sentences[j][i],sentences[k][i+1])\n",
    "            scores.append(edge)\n",
    "            candidates.append([sentences[j][i],sentences[k][i+1]])\n",
    "    z = max(scores)\n",
    "    _best = tuple(candidates[np.argmax(scores)])\n",
    "    print(scores,_best)\n",
    "    print()\n",
    "    best_tuples.append(_best)"
   ]
  },
  {
   "cell_type": "code",
   "execution_count": null,
   "metadata": {
    "ExecuteTime": {
     "end_time": "2022-05-27T08:27:39.693769Z",
     "start_time": "2022-05-27T08:27:39.686527Z"
    }
   },
   "outputs": [],
   "source": [
    "mat.shape"
   ]
  },
  {
   "cell_type": "code",
   "execution_count": 26,
   "metadata": {
    "ExecuteTime": {
     "end_time": "2022-05-29T05:40:52.838093Z",
     "start_time": "2022-05-29T05:40:52.779163Z"
    }
   },
   "outputs": [
    {
     "name": "stdout",
     "output_type": "stream",
     "text": [
      "['new', 'york', 'city', 'is', 'composed', 'of', 'five', 'boroughs'] 2.036506727337837\n",
      "['new', 'york', 'city', 'is', 'composed', 'of', 'five', 'boroughs#E'] 2.0812036246061325\n",
      "['new', 'york', 'city', 'is#E', 'composed#E', 'of#E', 'five#E', 'boroughs#E'] 2.0852404981851578\n",
      "['new', 'york', 'city#E', 'is#E', 'composed#E', 'of#E', 'five#E', 'boroughs'] 2.112061083316803\n",
      "['new', 'york', 'city#E', 'is#E', 'composed#E', 'of#E', 'five#E', 'boroughs#E'] 2.1618648022413254\n",
      "['new', 'york#E', 'city#E', 'is#E', 'composed#E', 'of#E', 'five#E', 'boroughs#E'] 2.1741863638162613\n",
      "['new#E', 'york#E', 'city', 'is', 'composed', 'of', 'five', 'boroughs'] 2.1853822618722916\n",
      "['new#E', 'york#E', 'city', 'is', 'composed', 'of', 'five', 'boroughs#E'] 2.230079159140587\n",
      "['new#E', 'york#E', 'city', 'is#E', 'composed#E', 'of#E', 'five#E', 'boroughs#E'] 2.234116032719612\n",
      "['new#E', 'york#E', 'city#E', 'is', 'composed', 'of', 'five', 'boroughs'] 2.5130245238542557\n",
      "['new#E', 'york#E', 'city#E', 'is', 'composed', 'of', 'five', 'boroughs#E'] 2.557721421122551\n",
      "['new#E', 'york#E', 'city#E', 'is#E', 'composed', 'of', 'five', 'boroughs'] 2.6128028333187103\n",
      "['new#E', 'york#E', 'city#E', 'is#E', 'composed', 'of', 'five', 'boroughs#E'] 2.6574997305870056\n",
      "['new#E', 'york#E', 'city#E', 'is#E', 'composed#E', 'of#E', 'five#E', 'boroughs'] 2.696751832962036\n",
      "['new#E', 'york#E', 'city#E', 'is#E', 'composed#E', 'of#E', 'five#E', 'boroughs#E'] 2.7465555518865585\n"
     ]
    }
   ],
   "source": [
    "import itertools\n",
    "sequences = [seq for seq in itertools.product([0,1], repeat=len(sentence))]\n",
    "best = None\n",
    "m_score = 0\n",
    "for seq in sequences:\n",
    "    sent = list()\n",
    "    score = 0\n",
    "    for i,j in zip(seq,range(len(sentence))):\n",
    "        sent.append(sentences[i][j])\n",
    "    for i in range(len(sent)-1): \n",
    "        score+=model.similarity(sent[i],sent[i+1])\n",
    "    if score>m_score:\n",
    "        m_score=score\n",
    "        best=sent\n",
    "        print(best,score)"
   ]
  },
  {
   "cell_type": "code",
   "execution_count": 43,
   "metadata": {
    "ExecuteTime": {
     "end_time": "2022-05-31T12:57:47.335421Z",
     "start_time": "2022-05-31T12:57:47.313580Z"
    }
   },
   "outputs": [
    {
     "name": "stdout",
     "output_type": "stream",
     "text": [
      "['new', 'york', 'city', 'is', 'composed', 'of', 'five', 'boroughs'] 4\n",
      "['new', 'york', 'city#E', 'is#E', 'composed', 'of', 'five', 'boroughs'] 6\n",
      "['new', 'york#E', 'city#E', 'is#E', 'composed', 'of', 'five', 'boroughs'] 8\n",
      "['new#E', 'york#E', 'city#E', 'is#E', 'composed', 'of', 'five', 'boroughs'] 9\n"
     ]
    }
   ],
   "source": [
    "#Binary sequence\n",
    "\n",
    "import itertools\n",
    "sequences = [seq for seq in itertools.product([0,1], repeat=len(sentence))]\n",
    "best = None\n",
    "m_score = 0\n",
    "for seq in sequences:\n",
    "    sent = list()\n",
    "    score = 0\n",
    "    for i,j in zip(seq,range(len(sentence))):\n",
    "        sent.append(sentences[i][j])\n",
    "    for i in range(len(sent)-1):\n",
    "        if (sent[i],sent[i+1]) in best_tuples:\n",
    "            score+=1\n",
    "    for i in range(len(sent)-1,1,-1):\n",
    "        if (sent[i-1],sent[i]) in best_tuples:\n",
    "            score+=1\n",
    "    if score>m_score:\n",
    "        m_score=score\n",
    "        best=sent\n",
    "        print(best,score)"
   ]
  },
  {
   "cell_type": "code",
   "execution_count": 36,
   "metadata": {
    "ExecuteTime": {
     "end_time": "2022-05-29T06:04:50.353047Z",
     "start_time": "2022-05-29T06:04:50.346990Z"
    }
   },
   "outputs": [
    {
     "data": {
      "text/plain": [
       "['new#E', 'york#E', 'city#E', 'is#E', 'composed', 'of', 'five', 'boroughs']"
      ]
     },
     "execution_count": 36,
     "metadata": {},
     "output_type": "execute_result"
    }
   ],
   "source": [
    "best"
   ]
  },
  {
   "cell_type": "code",
   "execution_count": 11,
   "metadata": {
    "ExecuteTime": {
     "end_time": "2022-05-27T10:04:16.274954Z",
     "start_time": "2022-05-27T10:04:16.258257Z"
    }
   },
   "outputs": [
    {
     "name": "stdout",
     "output_type": "stream",
     "text": [
      "2.557721421122551\n"
     ]
    }
   ],
   "source": [
    "truth = ['new#E', 'york#E', 'city#E', 'is', 'composed', 'of', 'five', 'boroughs#E']\n",
    "score = 0\n",
    "for i in range(len(truth)-1): \n",
    "    score+=model.similarity(truth[i],truth[i+1])\n",
    "print(score)"
   ]
  },
  {
   "cell_type": "code",
   "execution_count": 27,
   "metadata": {
    "ExecuteTime": {
     "end_time": "2022-05-29T05:41:05.072329Z",
     "start_time": "2022-05-29T05:41:05.057254Z"
    }
   },
   "outputs": [],
   "source": [
    "import pickle\n",
    "\n",
    "a = dict()\n",
    "\n",
    "for sent in sentences:\n",
    "    for word in sent:\n",
    "        if word in model.vocab:\n",
    "            a[word]=model.get_vector(word)\n",
    "\n",
    "with open('spx.pkl', 'wb') as handle:\n",
    "    pickle.dump(a, handle, protocol=pickle.HIGHEST_PROTOCOL)"
   ]
  },
  {
   "cell_type": "code",
   "execution_count": null,
   "metadata": {
    "ExecuteTime": {
     "end_time": "2022-05-29T05:44:56.815524Z",
     "start_time": "2022-05-29T05:44:56.752467Z"
    }
   },
   "outputs": [],
   "source": [
    "with open('spx.pkl', 'rb') as handle:\n",
    "    b = pickle.load(handle)\n",
    "    print(b)"
   ]
  },
  {
   "cell_type": "code",
   "execution_count": 54,
   "metadata": {
    "ExecuteTime": {
     "end_time": "2022-05-31T13:42:31.873688Z",
     "start_time": "2022-05-31T13:42:31.867256Z"
    }
   },
   "outputs": [],
   "source": [
    "data = [['bookcase','fridge','wood',1],['bucket','mug','round',0],['angle','curve','sharp',1],\\\n",
    "        ['pelican','turtle','water',0],['wire','coil','metal',0],['apple','banana','red',1]]"
   ]
  },
  {
   "cell_type": "code",
   "execution_count": 57,
   "metadata": {
    "ExecuteTime": {
     "end_time": "2022-05-31T14:36:47.255770Z",
     "start_time": "2022-05-31T14:36:47.230322Z"
    }
   },
   "outputs": [
    {
     "name": "stdout",
     "output_type": "stream",
     "text": [
      "NE: 0.3058291 0.18865623 1\n",
      "E: 0 0.29928586 1\n",
      "\n",
      "NE: 0.11041794 0.0500729 0\n",
      "E: 0.11949739 0.12153117 0\n",
      "\n",
      "NE: 0.40792596 0.39381152 1\n",
      "E: 0.19719705 0.28119615 1\n",
      "\n",
      "NE: 0.21382351 0.32552668 0\n",
      "E: 0.30226216 0.39326108 0\n",
      "\n",
      "NE: 0.50295186 0.38081402 0\n",
      "E: 0.42521927 0.45205674 0\n",
      "\n",
      "NE: 0.26313502 0.26002082 1\n",
      "E: 0.23832269 0.27724728 1\n",
      "\n"
     ]
    }
   ],
   "source": [
    "model = spxEM_model\n",
    "\n",
    "for items in data:\n",
    "    s1 = model.similarity(items[0],items[2])\n",
    "    s2 = model.similarity(items[1],items[2])\n",
    "    print('NE:',s1,s2,items[3])\n",
    "    if items[0]+'#E' in model.vocab and items[2]+'#E' in model.vocab:\n",
    "        s1 = model.similarity(items[0]+'#E',items[2]+'#E')\n",
    "    else:\n",
    "        s1 = 0\n",
    "    if items[1]+'#E' in model.vocab and items[2]+'#E' in model.vocab:\n",
    "        s2 = model.similarity(items[1]+'#E',items[2]+'#E')\n",
    "    else:\n",
    "        s2 = 0\n",
    "    print('E:',s1,s2,items[3])\n",
    "    print()"
   ]
  },
  {
   "cell_type": "code",
   "execution_count": 58,
   "metadata": {
    "ExecuteTime": {
     "end_time": "2022-05-31T14:37:13.461666Z",
     "start_time": "2022-05-31T14:37:13.444208Z"
    }
   },
   "outputs": [
    {
     "name": "stdout",
     "output_type": "stream",
     "text": [
      "NE: 0.25981387 0.15935534 1\n",
      "0 0 1\n",
      "\n",
      "NE: 0.11115408 0.13547464 0\n",
      "0 0 0\n",
      "\n",
      "NE: 0.3331629 0.37625045 1\n",
      "0 0 1\n",
      "\n",
      "NE: 0.20982693 0.2429899 0\n",
      "0 0 0\n",
      "\n",
      "NE: 0.47389236 0.33841693 0\n",
      "0 0 0\n",
      "\n",
      "NE: 0.16752617 0.17206126 1\n",
      "0 0 1\n",
      "\n"
     ]
    }
   ],
   "source": [
    "model = w2v_model\n",
    "\n",
    "for items in data:\n",
    "    s1 = model.similarity(items[0],items[2])\n",
    "    s2 = model.similarity(items[1],items[2])\n",
    "    print('NE:',s1,s2,items[3])\n",
    "    if items[0]+'#E' in model.vocab and items[2]+'#E' in model.vocab:\n",
    "        s1 = model.similarity(items[0]+'#E',items[2]+'#E')\n",
    "    else:\n",
    "        s1 = 0\n",
    "    if items[1]+'#E' in model.vocab and items[2]+'#E' in model.vocab:\n",
    "        s2 = model.similarity(items[1]+'#E',items[2]+'#E')\n",
    "    else:\n",
    "        s2 = 0\n",
    "    print(s1,s2,items[3])\n",
    "    print()"
   ]
  },
  {
   "cell_type": "code",
   "execution_count": null,
   "metadata": {},
   "outputs": [],
   "source": []
  }
 ],
 "metadata": {
  "interpreter": {
   "hash": "e774977668b7c0ae8309835a5187aa7fbf7669e7d0bb59755bc63e573643edcd"
  },
  "kernelspec": {
   "display_name": "Python 3",
   "language": "python",
   "name": "python3"
  },
  "language_info": {
   "codemirror_mode": {
    "name": "ipython",
    "version": 3
   },
   "file_extension": ".py",
   "mimetype": "text/x-python",
   "name": "python",
   "nbconvert_exporter": "python",
   "pygments_lexer": "ipython3",
   "version": "3.7.6"
  }
 },
 "nbformat": 4,
 "nbformat_minor": 2
}
