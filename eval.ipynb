{
 "cells": [
  {
   "cell_type": "code",
   "execution_count": 1,
   "metadata": {
    "ExecuteTime": {
     "end_time": "2022-09-19T05:52:01.677204Z",
     "start_time": "2022-09-19T05:52:00.426986Z"
    }
   },
   "outputs": [],
   "source": [
    "from gensim.models import KeyedVectors\n",
    "from tqdm import tqdm\n",
    "from scipy.stats import pearsonr\n",
    "from scipy.stats import spearmanr\n",
    "import re\n",
    "import numpy as np\n",
    "import pandas as pd\n",
    "import multiprocessing"
   ]
  },
  {
   "cell_type": "code",
   "execution_count": null,
   "metadata": {
    "ExecuteTime": {
     "end_time": "2022-08-19T10:42:04.784659Z",
     "start_time": "2022-08-19T10:32:04.651229Z"
    }
   },
   "outputs": [],
   "source": [
    "spxEM = '/home/manni/embs/en_wiki_spx_mc100_epoch5_300_em.txt'\n",
    "#spxEM = '/home/manni/embs/en_wiki_spx_mc100_epoch5_300_em_w5_2.txt'\n",
    "spxEM_model = KeyedVectors.load_word2vec_format(spxEM, binary=False)\n",
    "w2v = '/home/manni/embs/en_wiki_w2v_mc100_epoch5_300.txt'\n",
    "#w2v = '/home/manni/embs/en_wiki_w2v_mc100_epoch5_300_w5_2.txt'\n",
    "w2v_model = KeyedVectors.load_word2vec_format(w2v, binary=False)\n",
    "spx = '/home/manni/embs/en_wiki_spx_mc100_epoch5_300.txt'\n",
    "spx_model = KeyedVectors.load_word2vec_format(spx, binary=False)\n",
    "spxPEM = '/home/manni/embs/en_wiki_spx_mc100_epoch5_300_pem.txt'\n",
    "spxPEM_model = KeyedVectors.load_word2vec_format(spxPEM, binary=False)\n",
    "#spxNEM = '/home/manni/embs/en_wiki_spx_mc100_epoch5_300_nem.txt'\n",
    "#spxNEM_model = KeyedVectors.load_word2vec_format(spxNEM, binary=False)"
   ]
  },
  {
   "cell_type": "code",
   "execution_count": 10,
   "metadata": {
    "ExecuteTime": {
     "end_time": "2022-09-19T05:55:29.779960Z",
     "start_time": "2022-09-19T05:55:17.814647Z"
    }
   },
   "outputs": [],
   "source": [
    "wnet = '/home/manni/embs/en_wiki_wnet_epoch5_300_w10_explicit.txt_trimed'\n",
    "wnet_model = KeyedVectors.load_word2vec_format(wnet, binary=False)"
   ]
  },
  {
   "cell_type": "code",
   "execution_count": 11,
   "metadata": {
    "ExecuteTime": {
     "end_time": "2022-09-19T05:55:39.538693Z",
     "start_time": "2022-09-19T05:55:29.782060Z"
    }
   },
   "outputs": [],
   "source": [
    "dconf = '/home/manni/wn3.0_sense_vectors.txt_trimed'\n",
    "dconf_model = KeyedVectors.load_word2vec_format(dconf, binary=False)"
   ]
  },
  {
   "cell_type": "code",
   "execution_count": null,
   "metadata": {
    "ExecuteTime": {
     "end_time": "2022-05-16T09:28:19.298761Z",
     "start_time": "2022-05-16T09:28:19.295882Z"
    }
   },
   "outputs": [],
   "source": [
    "models = [w2v_model,spx_model,spxEM_model,spxPEM_model,spxNEM_model]\n",
    "model_names = ['Word2vec','EWEM-MIX','EWEM','EWEM-3',\"EWEM-NULL\"]"
   ]
  },
  {
   "cell_type": "code",
   "execution_count": null,
   "metadata": {
    "ExecuteTime": {
     "end_time": "2022-04-26T10:21:06.046153Z",
     "start_time": "2022-04-26T10:21:06.046141Z"
    }
   },
   "outputs": [],
   "source": [
    "spxEM = '/home/manni/embs/en_wiki_spx_mc100_epoch5_300_em_w1.txt'\n",
    "spxEM_model = KeyedVectors.load_word2vec_format(spxEM, binary=False)\n",
    "w2v = '/home/manni/embs/en_wiki_w2v_mc100_epoch5_300_w1.txt'\n",
    "w2v_model = KeyedVectors.load_word2vec_format(w2v, binary=False)"
   ]
  },
  {
   "cell_type": "code",
   "execution_count": 12,
   "metadata": {
    "ExecuteTime": {
     "end_time": "2022-09-19T05:55:39.543554Z",
     "start_time": "2022-09-19T05:55:39.540655Z"
    }
   },
   "outputs": [],
   "source": [
    "models = [wnet_model,dconf_model]\n",
    "model_names = ['wnet','dconf']"
   ]
  },
  {
   "cell_type": "code",
   "execution_count": 13,
   "metadata": {
    "ExecuteTime": {
     "end_time": "2022-09-19T05:55:39.560283Z",
     "start_time": "2022-09-19T05:55:39.545030Z"
    }
   },
   "outputs": [
    {
     "name": "stdout",
     "output_type": "stream",
     "text": [
      "True\n",
      "True\n"
     ]
    }
   ],
   "source": [
    "print('cut#1' in dconf_model)\n",
    "print('cut#2' in dconf_model)"
   ]
  },
  {
   "cell_type": "markdown",
   "metadata": {
    "heading_collapsed": true
   },
   "source": [
    "# SCWS"
   ]
  },
  {
   "cell_type": "code",
   "execution_count": null,
   "metadata": {
    "ExecuteTime": {
     "end_time": "2022-08-15T11:13:18.720988Z",
     "start_time": "2022-08-15T11:13:18.716270Z"
    },
    "hidden": true
   },
   "outputs": [],
   "source": [
    "scws_file = '/home/manni/data/wordsim/SCWS/ratings.txt'"
   ]
  },
  {
   "cell_type": "code",
   "execution_count": null,
   "metadata": {
    "ExecuteTime": {
     "end_time": "2022-08-15T11:13:18.957248Z",
     "start_time": "2022-08-15T11:13:18.911935Z"
    },
    "hidden": true
   },
   "outputs": [],
   "source": [
    "data = list()\n",
    "with open(scws_file) as fin:\n",
    "    lines = fin.readlines()\n",
    "    for l in lines:\n",
    "        l = l.lower().split('\\t')\n",
    "        w1 = l[1]\n",
    "        w2 = l[3]\n",
    "        c1 = l[5]\n",
    "        c2 = l[6]\n",
    "        score = float(l[7])\n",
    "        data.append([w1,w2,c1,c2,score])"
   ]
  },
  {
   "cell_type": "code",
   "execution_count": null,
   "metadata": {
    "ExecuteTime": {
     "end_time": "2022-08-05T12:48:51.651763Z",
     "start_time": "2022-08-05T12:46:21.489449Z"
    },
    "hidden": true
   },
   "outputs": [],
   "source": [
    "total = len(data)\n",
    "missing = 0\n",
    "model = dconf_model\n",
    "scores = list()\n",
    "truths = list()\n",
    "for d in tqdm(data,position=0):\n",
    "    score=avg_sim(d[0],d[1],model)\n",
    "    if score:\n",
    "        scores.append(score)\n",
    "        truths.append(float(d[-1]))\n",
    "    else:\n",
    "        missing+=1\n",
    "coverage = ((total-missing)/total)*100\n",
    "print(round(coverage,2))\n",
    "print(spearmanr(truths, scores))"
   ]
  },
  {
   "cell_type": "code",
   "execution_count": null,
   "metadata": {
    "ExecuteTime": {
     "end_time": "2022-08-05T12:58:36.604595Z",
     "start_time": "2022-08-05T12:48:51.653888Z"
    },
    "hidden": true
   },
   "outputs": [],
   "source": [
    "total = len(data)\n",
    "missing = 0\n",
    "model = spxPEM_model\n",
    "scores = list()\n",
    "truths = list()\n",
    "for d in tqdm(data,position=0):\n",
    "    score=avg_sim(d[0],d[1],model)\n",
    "    if score:\n",
    "        scores.append(score)\n",
    "        truths.append(float(d[-1]))\n",
    "    else:\n",
    "        missing+=1\n",
    "coverage = ((total-missing)/total)*100\n",
    "print(round(coverage,2))\n",
    "print(spearmanr(truths, scores))"
   ]
  },
  {
   "cell_type": "code",
   "execution_count": null,
   "metadata": {
    "ExecuteTime": {
     "end_time": "2022-08-15T11:20:03.292848Z",
     "start_time": "2022-08-15T11:20:03.285602Z"
    },
    "hidden": true
   },
   "outputs": [],
   "source": [
    "d = data[37]\n",
    "d"
   ]
  },
  {
   "cell_type": "code",
   "execution_count": null,
   "metadata": {
    "ExecuteTime": {
     "end_time": "2022-08-15T11:20:05.197016Z",
     "start_time": "2022-08-15T11:20:04.386721Z"
    },
    "hidden": true
   },
   "outputs": [],
   "source": [
    "print(avg_sim(d[0],d[1],dconf_model))\n",
    "print(avg_sim(d[0],d[1],spxPEM_model))\n",
    "print(avg_sim(d[0],d[1],w2v_model))"
   ]
  },
  {
   "cell_type": "code",
   "execution_count": null,
   "metadata": {
    "hidden": true
   },
   "outputs": [],
   "source": []
  },
  {
   "cell_type": "code",
   "execution_count": null,
   "metadata": {
    "ExecuteTime": {
     "end_time": "2022-04-26T11:34:08.208988Z",
     "start_time": "2022-04-26T11:34:08.180604Z"
    },
    "hidden": true
   },
   "outputs": [],
   "source": [
    "from nltk.corpus import stopwords\n",
    "stop_words = set(stopwords.words('english'))\n",
    "\n",
    "def clean_sent(sent):\n",
    "    '''\n",
    "    parameters:\n",
    "        sent: str\n",
    "    returns:\n",
    "        tokens: list(str)     \n",
    "    '''\n",
    "    return [word for word in sent.split() if word not in stop_words]\n",
    "\n",
    "def sent_words(sent):\n",
    "    '''\n",
    "    parameters:\n",
    "        sent: str\n",
    "    returns:\n",
    "        tokens: list(str) \n",
    "    '''\n",
    "    sent = re.sub(r'[^\\w\\s]', '', sent)\n",
    "    left = sent.split('<b>')[0]\n",
    "    right = sent.split('</b>')[-1]\n",
    "    sentA = clean_sent(left)[-10:]\n",
    "    sentB = clean_sent(right)[:10]\n",
    "    return sentA+sentB\n",
    "\n",
    "def reducer(wrd,lst,model):\n",
    "    out = set()\n",
    "    for word in lst:\n",
    "        top = [tup[0] for tup in model.most_similar(word,topn=100)]\n",
    "        out.update(set(top)&set(lst))\n",
    "    out.add(wrd)\n",
    "    if wrd+'#E' in model.vocab:\n",
    "        out.add(wrd+'#E')\n",
    "    return out\n",
    "\n",
    "def avgsim(w1,w2,c1,c2,score,model,reduce=False,verbose=False):\n",
    "    '''\n",
    "    Computes average similarity score.\n",
    "\n",
    "    parameters:\n",
    "        w1 : str\n",
    "        w2 : str\n",
    "        c1 : str\n",
    "        c2 : str\n",
    "        model : gensim.keyedvectors\n",
    "    returns:\n",
    "        score : float\n",
    "    '''\n",
    "    if w1 not in model.vocab or w2 not in model.vocab:\n",
    "        return None\n",
    "    a = [w1] + sent_words(c1)\n",
    "    _a = [word+'#E' for word in a] \n",
    "    a+=_a\n",
    "    b = [w2] + sent_words(c2)\n",
    "    _b = [word+'#E' for word in b] \n",
    "    b+=_b\n",
    "    a = [word for word in a if word in model.vocab]\n",
    "    b = [word for word in b if word in model.vocab]\n",
    "    if reduce:\n",
    "        a = reducer(w1,a,model)\n",
    "        b = reducer(w2,b,model)    \n",
    "    if verbose:\n",
    "        print(a)\n",
    "        print(b)\n",
    "    div = len(a)*len(b)\n",
    "    sims = 0\n",
    "    for i in a:\n",
    "        for j in b:\n",
    "            sim = model.similarity(i,j)\n",
    "            if verbose:\n",
    "                print(i,j,sim)\n",
    "            sims+= sim\n",
    "    return (sims/div,score)\n",
    "\n",
    "def _avgvec(lst,model):\n",
    "    vec = np.zeros(model.vector_size)\n",
    "    for word in lst:\n",
    "        if word in model:\n",
    "            vec = np.add(vec,model.get_vector(word))\n",
    "    return vec  \n",
    "    \n",
    "def avgvec(w1,w2,c1,c2,score,model,reduce=False,verbose=False):\n",
    "    if w1 not in model.vocab or w2 not in model.vocab:\n",
    "        return None\n",
    "    a = [w1] + sent_words(c1)\n",
    "    _a = [word+'#E' for word in a] \n",
    "    a+=_a\n",
    "    b = [w2] + sent_words(c2)\n",
    "    _b = [word+'#E' for word in b] \n",
    "    b+=_b\n",
    "    a = [word for word in a if word in model.vocab]\n",
    "    b = [word for word in b if word in model.vocab]\n",
    "    if reduce:\n",
    "        a = reducer(w1,a,model)\n",
    "        b = reducer(w2,b,model) \n",
    "    if verbose:\n",
    "        print(a)\n",
    "        print(b) \n",
    "    v1 = _avgvec(a,model)\n",
    "    v2 = _avgvec(b,model)\n",
    "    return (model.cosine_similarities(v1,[v2])[0],score)"
   ]
  },
  {
   "cell_type": "code",
   "execution_count": null,
   "metadata": {
    "ExecuteTime": {
     "end_time": "2022-04-26T10:43:47.329164Z",
     "start_time": "2022-04-26T10:43:47.315676Z"
    },
    "hidden": true
   },
   "outputs": [],
   "source": [
    "def get_corr(model,method='asim',reduce=False):\n",
    "    sims = list()\n",
    "    scores = list()\n",
    "    for dat in tqdm(data,position=0):\n",
    "        if method == 'asim':\n",
    "            sim = avgsim(dat[0],dat[1],dat[2],dat[3],dat[4],model,reduce=reduce)\n",
    "        if method == 'avg':\n",
    "            sim = avgvec(dat[0],dat[1],dat[2],dat[3],dat[4],model,reduce=reduce)\n",
    "        if sim:\n",
    "            sims.append(sim[0])\n",
    "            scores.append(sim[1])\n",
    "    corr, _ = pearsonr(sims, scores)\n",
    "    print('%.2f &' % (corr*100),end=' ')\n",
    "    corr, _ = spearmanr(sims, scores)\n",
    "    print('%.2f' % (corr*100))   "
   ]
  },
  {
   "cell_type": "code",
   "execution_count": null,
   "metadata": {
    "ExecuteTime": {
     "end_time": "2022-04-26T10:43:48.291949Z",
     "start_time": "2022-04-26T10:43:47.889954Z"
    },
    "hidden": true
   },
   "outputs": [],
   "source": [
    "get_corr(spxPEM_model)\n",
    "get_corr(spxEM_model)\n",
    "get_corr(spx_model)\n",
    "get_corr(w2v_model)"
   ]
  },
  {
   "cell_type": "code",
   "execution_count": null,
   "metadata": {
    "ExecuteTime": {
     "end_time": "2022-04-26T10:43:48.805736Z",
     "start_time": "2022-04-26T10:43:48.369657Z"
    },
    "hidden": true
   },
   "outputs": [],
   "source": [
    "get_corr(spxPEM_model,method='avg')\n",
    "get_corr(spxEM_model,method='avg')\n",
    "get_corr(spx_model,method='avg')\n",
    "get_corr(w2v_model,method='avg')"
   ]
  },
  {
   "cell_type": "code",
   "execution_count": null,
   "metadata": {
    "ExecuteTime": {
     "end_time": "2022-04-26T10:06:16.604452Z",
     "start_time": "2022-04-26T10:06:16.589679Z"
    },
    "hidden": true
   },
   "outputs": [],
   "source": [
    "from multiprocessing import Pool\n",
    "\n",
    "def get_corr_parallel(model,method='asim',reduce=False):\n",
    "    if __name__==\"__main__\":\n",
    "        pool = Pool(processes=40)\n",
    "        sims = list()\n",
    "        scores = list()\n",
    "        for dat in tqdm(data,position=0):\n",
    "            if method == 'asim':\n",
    "                sim = pool.apply_async(func=avgsim, args=(dat[0],dat[1],dat[2],dat[3],dat[4],model,reduce)) \n",
    "            if method == 'avg':\n",
    "                sim = pool.apply_async(func=avgvec, args=(dat[0],dat[1],dat[2],dat[3],dat[4],model,reduce)) \n",
    "            sim = sim.get()\n",
    "            if sim:\n",
    "                sims.append(sim[0])\n",
    "                scores.append(sim[1])\n",
    "        pool.close()\n",
    "        pool.join()\n",
    "        corr, _ = pearsonr(sims, scores)\n",
    "        print('Pearsons correlation: %.2f' % (corr*100))\n",
    "        corr, _ = spearmanr(sims, scores)\n",
    "        print('Spearmans correlation: %.2f' % (corr*100)) "
   ]
  },
  {
   "cell_type": "code",
   "execution_count": null,
   "metadata": {
    "ExecuteTime": {
     "end_time": "2022-04-26T10:07:14.087876Z",
     "start_time": "2022-04-26T10:06:17.633469Z"
    },
    "hidden": true
   },
   "outputs": [],
   "source": [
    "get_corr_parallel(spxEM_model,reduce=True)\n",
    "get_corr_parallel(spx_model,reduce=True)\n",
    "get_corr_parallel(w2v_model,reduce=True)"
   ]
  },
  {
   "cell_type": "code",
   "execution_count": null,
   "metadata": {
    "ExecuteTime": {
     "end_time": "2022-04-26T12:50:26.071467Z",
     "start_time": "2022-04-26T11:34:16.000631Z"
    },
    "hidden": true
   },
   "outputs": [],
   "source": [
    "get_corr(spxEM_model,reduce=True)\n",
    "get_corr(spx_model,reduce=True)\n",
    "get_corr(w2v_model,reduce=True)"
   ]
  },
  {
   "cell_type": "code",
   "execution_count": null,
   "metadata": {
    "ExecuteTime": {
     "end_time": "2022-04-26T14:05:15.215153Z",
     "start_time": "2022-04-26T12:50:26.075990Z"
    },
    "hidden": true
   },
   "outputs": [],
   "source": [
    "get_corr(spxEM_model,method='avg',reduce=True)\n",
    "get_corr(spx_model,method='avg',reduce=True)\n",
    "get_corr(w2v_model,method='avg',reduce=True)"
   ]
  },
  {
   "cell_type": "code",
   "execution_count": null,
   "metadata": {
    "ExecuteTime": {
     "end_time": "2022-04-26T07:02:16.448562Z",
     "start_time": "2022-04-26T07:02:16.440159Z"
    },
    "hidden": true
   },
   "outputs": [],
   "source": [
    "print(w2v_model.similarity('brazil','nut'))\n",
    "print(spx_model.similarity('brazil','nut'))\n",
    "print(spxEM_model.similarity('brazil','nut'))\n",
    "print(spxEM_model.similarity('brazil#E','nut#E'))"
   ]
  },
  {
   "cell_type": "code",
   "execution_count": null,
   "metadata": {
    "ExecuteTime": {
     "end_time": "2022-04-26T07:02:17.568594Z",
     "start_time": "2022-04-26T07:02:17.559976Z"
    },
    "hidden": true
   },
   "outputs": [],
   "source": [
    "print(spx_model.similarity('new','york'))\n",
    "print(w2v_model.similarity('new','york'))\n",
    "print(spxEM_model.similarity('new','york'))\n",
    "print(spxEM_model.similarity('new#E','york#E'))"
   ]
  },
  {
   "cell_type": "code",
   "execution_count": null,
   "metadata": {
    "ExecuteTime": {
     "end_time": "2022-04-26T07:02:27.519284Z",
     "start_time": "2022-04-26T07:02:27.469994Z"
    },
    "hidden": true
   },
   "outputs": [],
   "source": [
    "avgsim(data[0][0],data[0][1],data[0][2],data[0][3],w2v_model,verbose=True)"
   ]
  },
  {
   "cell_type": "code",
   "execution_count": null,
   "metadata": {
    "ExecuteTime": {
     "end_time": "2022-04-26T07:32:19.076265Z",
     "start_time": "2022-04-26T07:32:19.070050Z"
    },
    "hidden": true
   },
   "outputs": [],
   "source": [
    "x = ['brazil', 'bahia', 'instance', 'never', 'gap', 'income', 'blacks', 'nonwhites', 'relatively', 'brazil#E', 'bahia#E', 'instance#E', 'never#E', 'gap#E', 'income#E', 'blacks#E', 'relatively#E']\n",
    "y = ['nut', 'player', 'turns', 'change', 'string', 'tension', 'neck', 'bridge', 'pickups', 'features', 'found', 'nut#E', 'player#E', 'turns#E', 'change#E', 'string#E', 'tension#E', 'neck#E', 'bridge#E', 'pickups#E', 'features#E', 'found#E']"
   ]
  },
  {
   "cell_type": "code",
   "execution_count": null,
   "metadata": {
    "ExecuteTime": {
     "end_time": "2022-04-26T07:41:22.883729Z",
     "start_time": "2022-04-26T07:41:22.875463Z"
    },
    "hidden": true
   },
   "outputs": [],
   "source": [
    "x = ['brazil', 'population', 'black', 'politicians', 'city', 'salvador', 'bahia', 'instance', 'never', 'gap', 'income', 'blacks', 'nonwhites', 'relatively', 'small', 'compared', 'large', 'gap', 'whites', 'brazil#E', 'population#E', 'black#E', 'politicians#E', 'city#E', 'salvador#E', 'bahia#E', 'instance#E', 'never#E', 'gap#E', 'income#E', 'blacks#E', 'relatively#E', 'small#E', 'compared#E', 'large#E', 'gap#E', 'whites#E']\n",
    "y = ['nut', 'machine', 'heads', 'worm', 'gears', 'player', 'turns', 'change', 'string', 'tension', 'neck', 'bridge', 'pickups', 'features', 'found', 'almost', 'every', 'guitar', 'photo', 'shows', 'nut#E', 'machine#E', 'heads#E', 'worm#E', 'gears#E', 'player#E', 'turns#E', 'change#E', 'string#E', 'tension#E', 'neck#E', 'bridge#E', 'pickups#E', 'features#E', 'found#E', 'almost#E', 'every#E', 'guitar#E', 'photo#E', 'shows#E']"
   ]
  },
  {
   "cell_type": "code",
   "execution_count": null,
   "metadata": {
    "ExecuteTime": {
     "end_time": "2022-04-26T07:32:50.036474Z",
     "start_time": "2022-04-26T07:32:50.029886Z"
    },
    "hidden": true
   },
   "outputs": [],
   "source": [
    "x = ['israel', 'case', 'incorporates', 'fiber', 'optics', 'list', 'pathogens', 'attached', 'silver', 'gold', 'nanowires', 'israel#E', 'case#E', 'fiber#E', 'optics#E', 'list#E', 'pathogens#E', 'attached#E', 'silver#E', 'gold#E']\n",
    "y = ['israeli', 'policy', 'territories', 'song', 'banned', 'radio', 'israeli', 'folk', 'singer', 'miri', 'israeli#E', 'policy#E', 'territories#E', 'song#E', 'banned#E', 'radio#E', 'israeli#E', 'folk#E', 'singer#E', 'miri#E']"
   ]
  },
  {
   "cell_type": "code",
   "execution_count": null,
   "metadata": {
    "ExecuteTime": {
     "end_time": "2022-04-26T07:43:42.944207Z",
     "start_time": "2022-04-26T07:43:42.935182Z"
    },
    "hidden": true
   },
   "outputs": [],
   "source": [
    "x = ['israel', 'similar', 'widely', 'employed', 'immunological', 'technique', 'case', 'incorporates', 'fiber', 'optics', 'list', 'pathogens', 'attached', 'silver', 'gold', 'nanowires', 'netherlands', 'company', 'tno', 'designed', 'israel#E', 'similar#E', 'widely#E', 'employed#E', 'immunological#E', 'technique#E', 'case#E', 'fiber#E', 'optics#E', 'list#E', 'pathogens#E', 'attached#E', 'silver#E', 'gold#E', 'netherlands#E', 'company#E', 'tno#E', 'designed#E']\n",
    "y = ['israeli', 'written', 'shalom', 'hanoch', 'protest', 'israeli', 'policy', 'territories', 'song', 'banned', 'radio', 'israeli', 'folk', 'singer', 'miri', 'aloni', 'sang', 'israeli', 'pop', 'song', 'israeli#E', 'written#E', 'shalom#E', 'hanoch#E', 'protest#E', 'israeli#E', 'policy#E', 'territories#E', 'song#E', 'banned#E', 'radio#E', 'israeli#E', 'folk#E', 'singer#E', 'miri#E', 'aloni#E', 'sang#E', 'israeli#E', 'pop#E', 'song#E']"
   ]
  },
  {
   "cell_type": "code",
   "execution_count": null,
   "metadata": {
    "ExecuteTime": {
     "end_time": "2022-04-26T07:32:50.510282Z",
     "start_time": "2022-04-26T07:32:50.504728Z"
    },
    "hidden": true
   },
   "outputs": [],
   "source": [
    "         "
   ]
  },
  {
   "cell_type": "code",
   "execution_count": null,
   "metadata": {
    "ExecuteTime": {
     "end_time": "2022-04-26T07:43:45.023898Z",
     "start_time": "2022-04-26T07:43:45.015302Z"
    },
    "hidden": true
   },
   "outputs": [],
   "source": [
    "v1 = get_avgvec(x,w2v_model)\n",
    "v2 = get_avgvec(y,w2v_model)\n",
    "\n",
    "w2v_model.cosine_similarities(v1,[v2])"
   ]
  },
  {
   "cell_type": "code",
   "execution_count": null,
   "metadata": {
    "ExecuteTime": {
     "end_time": "2022-04-26T07:43:45.338440Z",
     "start_time": "2022-04-26T07:43:45.330079Z"
    },
    "hidden": true
   },
   "outputs": [],
   "source": [
    "v1 = get_avgvec(x,spx_model)\n",
    "v2 = get_avgvec(y,spx_model)\n",
    "\n",
    "spx_model.cosine_similarities(v1,[v2])"
   ]
  },
  {
   "cell_type": "code",
   "execution_count": null,
   "metadata": {
    "ExecuteTime": {
     "end_time": "2022-04-26T07:43:45.719545Z",
     "start_time": "2022-04-26T07:43:45.709758Z"
    },
    "hidden": true
   },
   "outputs": [],
   "source": [
    "v1 = get_avgvec(x,spxEM_model)\n",
    "v2 = get_avgvec(y,spxEM_model)\n",
    "\n",
    "spxEM_model.cosine_similarities(v1,[v2])"
   ]
  },
  {
   "cell_type": "code",
   "execution_count": null,
   "metadata": {
    "ExecuteTime": {
     "end_time": "2022-04-26T07:07:05.748858Z",
     "start_time": "2022-04-26T07:07:05.690365Z"
    },
    "hidden": true
   },
   "outputs": [],
   "source": [
    "avgsim(data[0][0],data[0][1],data[0][2],data[0][3],spx_model,verbose=True)"
   ]
  },
  {
   "cell_type": "code",
   "execution_count": null,
   "metadata": {
    "ExecuteTime": {
     "end_time": "2022-04-26T07:40:06.287516Z",
     "start_time": "2022-04-26T07:40:05.429860Z"
    },
    "hidden": true
   },
   "outputs": [],
   "source": [
    "avgsim(data[0][0],data[0][1],data[0][2],data[0][3],spxEM_model,verbose=True)"
   ]
  },
  {
   "cell_type": "code",
   "execution_count": null,
   "metadata": {
    "ExecuteTime": {
     "end_time": "2022-04-26T07:37:37.625444Z",
     "start_time": "2022-04-26T07:37:37.175029Z"
    },
    "hidden": true
   },
   "outputs": [],
   "source": [
    "avgsim(data[6][0],data[6][1],data[6][2],data[6][3],spxEM_model,verbose=True)"
   ]
  },
  {
   "cell_type": "code",
   "execution_count": null,
   "metadata": {
    "hidden": true
   },
   "outputs": [],
   "source": [
    "for w in model.vocab:\n",
    "    if '#' in w:\n",
    "        print(w)\n",
    "        break"
   ]
  },
  {
   "cell_type": "code",
   "execution_count": null,
   "metadata": {
    "hidden": true
   },
   "outputs": [],
   "source": [
    "import wiki as w\n",
    "import sys\n",
    "sys.path.append(\"../../imports/\")\n",
    "import saver as sv"
   ]
  },
  {
   "cell_type": "code",
   "execution_count": null,
   "metadata": {
    "hidden": true
   },
   "outputs": [],
   "source": [
    "sentences = sv.load(\"wiki_sentences_spx\")"
   ]
  },
  {
   "cell_type": "code",
   "execution_count": null,
   "metadata": {
    "hidden": true
   },
   "outputs": [],
   "source": [
    "for sent in sentences:\n",
    "    print(sent[:105])\n",
    "    break"
   ]
  },
  {
   "cell_type": "code",
   "execution_count": null,
   "metadata": {
    "hidden": true
   },
   "outputs": [],
   "source": [
    "print(data[0][0])\n",
    "print(sent_words(data[0][2]))\n",
    "print(data[0][1])\n",
    "print(sent_words(data[0][3]))"
   ]
  },
  {
   "cell_type": "code",
   "execution_count": null,
   "metadata": {
    "hidden": true
   },
   "outputs": [],
   "source": [
    "spxEM_model.similarity('brazil','nut')"
   ]
  },
  {
   "cell_type": "code",
   "execution_count": null,
   "metadata": {
    "hidden": true
   },
   "outputs": [],
   "source": [
    "spxEM_model.similarity('brazil#E','nut#E')"
   ]
  },
  {
   "cell_type": "code",
   "execution_count": null,
   "metadata": {
    "hidden": true
   },
   "outputs": [],
   "source": [
    "w2v_model.similarity('brazil','nut')"
   ]
  },
  {
   "cell_type": "code",
   "execution_count": null,
   "metadata": {
    "hidden": true
   },
   "outputs": [],
   "source": [
    "sent_words(c1)"
   ]
  },
  {
   "cell_type": "markdown",
   "metadata": {},
   "source": [
    "# non-context similarities"
   ]
  },
  {
   "cell_type": "code",
   "execution_count": 4,
   "metadata": {
    "ExecuteTime": {
     "end_time": "2022-09-19T05:52:17.757264Z",
     "start_time": "2022-09-19T05:52:17.753840Z"
    }
   },
   "outputs": [],
   "source": [
    "ws353A = '/home/manni/data/wordsim/EN-WS353.out'\n",
    "ws353R = '/home/manni/data/wordsim/EN-WSR353.out'\n",
    "ws353S = '/home/manni/data/wordsim/EN-WSS353.out'\n",
    "rw = '/home/manni/data/wordsim/rw.out'\n",
    "sim999 = '/home/manni/data/wordsim/EN-SIM999.out'\n",
    "turk = '/home/manni/data/wordsim/EN_TRUK.txt'\n",
    "mturk = '/home/manni/data/wordsim/MTURK-771.out'\n",
    "rg = '/home/manni/data/wordsim/EN-RG-65.txt'\n",
    "men = '/home/manni/data/wordsim/EN-MEN-LEM.out'"
   ]
  },
  {
   "cell_type": "code",
   "execution_count": null,
   "metadata": {
    "ExecuteTime": {
     "end_time": "2022-08-01T09:43:44.837864Z",
     "start_time": "2022-08-01T09:43:44.814048Z"
    }
   },
   "outputs": [],
   "source": [
    "'''\n",
    "dat = rw\n",
    "with open(dat) as fin:\n",
    "    lines = fin.readlines()\n",
    "    with open(dat.split('.')[0]+'.out','w') as fout:\n",
    "        for line in lines:\n",
    "            line = line.split()\n",
    "            try:\n",
    "                float(line[2])\n",
    "                fout.write(\"{} {} {} \\n\".format(line[0],line[1],line[2])) \n",
    "            except:\n",
    "                continue \n",
    "'''"
   ]
  },
  {
   "cell_type": "code",
   "execution_count": null,
   "metadata": {
    "ExecuteTime": {
     "end_time": "2022-08-01T10:01:29.655887Z",
     "start_time": "2022-08-01T10:01:29.626768Z"
    }
   },
   "outputs": [],
   "source": [
    "'''\n",
    "dat = men\n",
    "with open(dat) as fin:\n",
    "    lines = fin.readlines()\n",
    "    with open(dat.split('.')[0]+'.out','w') as fout:\n",
    "        for line in lines:\n",
    "            line = line.strip().split()\n",
    "            try:\n",
    "                float(line[2])\n",
    "                w1 = line[0].split('-')[0]\n",
    "                w2 = line[1].split('-')[0]\n",
    "                fout.write(\"{} {} {} \\n\".format(w1,w2,line[2])) \n",
    "            except:\n",
    "                continue \n",
    "'''"
   ]
  },
  {
   "cell_type": "code",
   "execution_count": null,
   "metadata": {
    "ExecuteTime": {
     "end_time": "2022-08-01T09:24:53.443225Z",
     "start_time": "2022-08-01T09:24:53.433376Z"
    }
   },
   "outputs": [],
   "source": [
    "# debug\n",
    "model = dconf_model\n",
    "with open(sim999) as fin:\n",
    "    lines = fin.readlines()\n",
    "    for line in lines:\n",
    "        line= line.split()\n",
    "        print(line,avg_sim(line[0],line[1],model))\n",
    "        continue\n",
    "        try:\n",
    "            if line[0] in model.vocab and line[1] in model.vocab:\n",
    "                continue\n",
    "        except:\n",
    "            print(line,avg_sim(line[0],line[1],model))"
   ]
  },
  {
   "cell_type": "code",
   "execution_count": 17,
   "metadata": {
    "ExecuteTime": {
     "end_time": "2022-09-19T05:58:55.802923Z",
     "start_time": "2022-09-19T05:58:55.799827Z"
    }
   },
   "outputs": [],
   "source": [
    "datasets = [ws353A,rw,sim999,turk,mturk,rg,men]"
   ]
  },
  {
   "cell_type": "code",
   "execution_count": 6,
   "metadata": {
    "ExecuteTime": {
     "end_time": "2022-09-19T05:52:35.061009Z",
     "start_time": "2022-09-19T05:52:35.033968Z"
    }
   },
   "outputs": [],
   "source": [
    "vocab = set()\n",
    "for ds in datasets:\n",
    "    with open(ds) as fin:\n",
    "        lines = fin.readlines()\n",
    "        for line in lines:\n",
    "            line=line.split()\n",
    "            if len(line)!=3:\n",
    "                continue\n",
    "            vocab.add(line[0])\n",
    "            vocab.add(line[1])"
   ]
  },
  {
   "cell_type": "code",
   "execution_count": 7,
   "metadata": {
    "ExecuteTime": {
     "end_time": "2022-09-19T05:52:39.113933Z",
     "start_time": "2022-09-19T05:52:39.108696Z"
    }
   },
   "outputs": [],
   "source": [
    "from gensim.models import KeyedVectors\n",
    "from gensim.scripts.glove2word2vec import glove2word2vec\n",
    "def trimmer(file):\n",
    "    out_file_ = file+'_trim'\n",
    "    with open(out_file_,'w') as fout:\n",
    "        with open(file) as fin:\n",
    "            lines = fin.readlines()\n",
    "            for line in tqdm(lines,position=0):\n",
    "                _line=line.split()\n",
    "                if not _line:\n",
    "                    continue\n",
    "                if _line[0].split('#')[0] in vocab:\n",
    "                    fout.write(line.strip()+'\\n')\n",
    "    out_file = out_file_+'ed'\n",
    "    _ = glove2word2vec(out_file_, out_file)\n",
    "    print('written:'+out_file)"
   ]
  },
  {
   "cell_type": "code",
   "execution_count": 8,
   "metadata": {
    "ExecuteTime": {
     "end_time": "2022-09-19T05:54:22.294767Z",
     "start_time": "2022-09-19T05:52:41.252915Z"
    }
   },
   "outputs": [
    {
     "name": "stderr",
     "output_type": "stream",
     "text": [
      "100%|████████████████████████████████████████████████████████████████████████████████████████████████████████████████████████████████████████████████████| 2614119/2614119 [01:16<00:00, 34388.31it/s]\n"
     ]
    },
    {
     "name": "stdout",
     "output_type": "stream",
     "text": [
      "written:/home/manni/embs/en_wiki_wnet_epoch5_300_w10_explicit.txt_trim\n"
     ]
    }
   ],
   "source": [
    "trimmer(wnet)"
   ]
  },
  {
   "cell_type": "code",
   "execution_count": 9,
   "metadata": {
    "ExecuteTime": {
     "end_time": "2022-09-19T05:54:31.081158Z",
     "start_time": "2022-09-19T05:54:22.297418Z"
    }
   },
   "outputs": [
    {
     "name": "stderr",
     "output_type": "stream",
     "text": [
      "100%|██████████████████████████████████████████████████████████████████████████████████████████████████████████████████████████████████████████████████████| 207018/207018 [00:05<00:00, 34548.98it/s]\n"
     ]
    },
    {
     "name": "stdout",
     "output_type": "stream",
     "text": [
      "written:/home/manni/wn3.0_sense_vectors.txt_trim\n"
     ]
    }
   ],
   "source": [
    "trimmer(dconf)"
   ]
  },
  {
   "cell_type": "code",
   "execution_count": null,
   "metadata": {
    "ExecuteTime": {
     "end_time": "2022-09-19T04:31:55.911103Z",
     "start_time": "2022-09-19T04:31:55.901777Z"
    }
   },
   "outputs": [],
   "source": [
    "with open(sim999) as fin:\n",
    "    lines = fin.readlines()\n",
    "    for l in lines[:10]:\n",
    "        print(l)"
   ]
  },
  {
   "cell_type": "code",
   "execution_count": 14,
   "metadata": {
    "ExecuteTime": {
     "end_time": "2022-09-19T05:55:50.094956Z",
     "start_time": "2022-09-19T05:55:50.084183Z"
    }
   },
   "outputs": [],
   "source": [
    "def avg_sim(w1,w2,model,verbose=False,maxsim=False):\n",
    "    range_ = list()\n",
    "    vocab = model.vocab\n",
    "    a = list()\n",
    "    for word in vocab:\n",
    "        if word.startswith(w1+'#'):\n",
    "            a.append(word)\n",
    "    if w1 in vocab:\n",
    "        a.append(w1)\n",
    "    b = list()\n",
    "    for word in vocab:\n",
    "        if word.startswith(w2+'#'):\n",
    "            b.append(word)\n",
    "    if w2 in vocab:\n",
    "        b.append(w2)\n",
    "    div = len(a)*len(b)\n",
    "    if div == 0:\n",
    "        return 0, range_\n",
    "    sims = list()\n",
    "    for i in a:\n",
    "        for j in b:\n",
    "            sim = model.similarity(i,j)\n",
    "            range_.append(sim)\n",
    "            if verbose:\n",
    "                print(i,j,sim)\n",
    "            sims+=[sim]\n",
    "    if maxsim:\n",
    "        return max(sims), range_\n",
    "    else:\n",
    "        return sum(sims)/div, range_\n",
    "    \n",
    "def get_corrs(lines,model):\n",
    "    sims = list()\n",
    "    scores = list()\n",
    "    for line in lines:\n",
    "        line = line.split()\n",
    "        if not line or len(line)>3:\n",
    "            continue\n",
    "        sim,_ = avg_sim(line[0],line[1],model)\n",
    "        if sim:\n",
    "            score = float(line[2])\n",
    "            sims.append(sim)\n",
    "            scores.append(score)\n",
    "    assert len(sims)==len(scores) and len(sims)>0, sims\n",
    "    coverage = round((len(sims)/len(lines))*100,2)\n",
    "    pcorr, _ = pearsonr(sims, scores)\n",
    "    scorr, _ = spearmanr(sims, scores)\n",
    "    return '%.2f' % (pcorr*100),'%.2f' % (scorr*100), '%.2f' % (coverage)"
   ]
  },
  {
   "cell_type": "code",
   "execution_count": 18,
   "metadata": {
    "ExecuteTime": {
     "end_time": "2022-09-19T06:02:20.157355Z",
     "start_time": "2022-09-19T05:59:03.676017Z"
    }
   },
   "outputs": [
    {
     "name": "stdout",
     "output_type": "stream",
     "text": [
      "\\begin{subsection}{EN-WS353}\n",
      "\\begin{table}[H]\n",
      "\\begin{tabular}{|l|c|c|c|}\n",
      "\\hline\n",
      "Model & Pearsons & Spearmans & Coverage\\\\\n",
      "\\hline\n",
      "wnet &  58.07 &  59.29 &  92.92 \\\\\n",
      "dconf &  70.31 &  74.63 &  98.02 \\\\\n",
      "\\hline\n",
      "\\end{tabular}\n",
      "\\end{table}\n",
      "\\end{subsection}\n",
      "\n",
      "\\begin{subsection}{rw}\n",
      "\\begin{table}[H]\n",
      "\\begin{tabular}{|l|c|c|c|}\n",
      "\\hline\n",
      "Model & Pearsons & Spearmans & Coverage\\\\\n",
      "\\hline\n",
      "wnet &  14.82 &  17.83 &  80.38 \\\\\n",
      "dconf &  52.48 &  52.58 &  67.65 \\\\\n",
      "\\hline\n",
      "\\end{tabular}\n",
      "\\end{table}\n",
      "\\end{subsection}\n",
      "\n",
      "\\begin{subsection}{EN-SIM999}\n",
      "\\begin{table}[H]\n",
      "\\begin{tabular}{|l|c|c|c|}\n",
      "\\hline\n",
      "Model & Pearsons & Spearmans & Coverage\\\\\n",
      "\\hline\n",
      "wnet &  31.74 &  32.28 &  99.40 \\\\\n",
      "dconf &  52.60 &  50.62 &  100.00 \\\\\n",
      "\\hline\n",
      "\\end{tabular}\n",
      "\\end{table}\n",
      "\\end{subsection}\n",
      "\n",
      "\\begin{subsection}{EN_TRUK}\n",
      "\\begin{table}[H]\n",
      "\\begin{tabular}{|l|c|c|c|}\n",
      "\\hline\n",
      "Model & Pearsons & Spearmans & Coverage\\\\\n",
      "\\hline\n",
      "wnet &  59.69 &  60.21 &  81.53 \\\\\n",
      "dconf &  74.99 &  75.55 &  58.89 \\\\\n",
      "\\hline\n",
      "\\end{tabular}\n",
      "\\end{table}\n",
      "\\end{subsection}\n",
      "\n",
      "\\begin{subsection}{MTURK-771}\n",
      "\\begin{table}[H]\n",
      "\\begin{tabular}{|l|c|c|c|}\n",
      "\\hline\n",
      "Model & Pearsons & Spearmans & Coverage\\\\\n",
      "\\hline\n",
      "wnet &  57.56 &  59.39 &  98.44 \\\\\n",
      "dconf &  68.78 &  70.15 &  99.74 \\\\\n",
      "\\hline\n",
      "\\end{tabular}\n",
      "\\end{table}\n",
      "\\end{subsection}\n",
      "\n",
      "\\begin{subsection}{EN-RG-65}\n",
      "\\begin{table}[H]\n",
      "\\begin{tabular}{|l|c|c|c|}\n",
      "\\hline\n",
      "Model & Pearsons & Spearmans & Coverage\\\\\n",
      "\\hline\n",
      "wnet &  64.91 &  62.56 &  100.00 \\\\\n",
      "dconf &  82.67 &  83.54 &  100.00 \\\\\n",
      "\\hline\n",
      "\\end{tabular}\n",
      "\\end{table}\n",
      "\\end{subsection}\n",
      "\n",
      "\\begin{subsection}{EN-MEN-LEM}\n",
      "\\begin{table}[H]\n",
      "\\begin{tabular}{|l|c|c|c|}\n",
      "\\hline\n",
      "Model & Pearsons & Spearmans & Coverage\\\\\n",
      "\\hline\n",
      "wnet &  64.95 &  66.41 &  99.83 \\\\\n",
      "dconf &  77.10 &  78.19 &  99.50 \\\\\n",
      "\\hline\n",
      "\\end{tabular}\n",
      "\\end{table}\n",
      "\\end{subsection}\n",
      "\n"
     ]
    }
   ],
   "source": [
    "for ds in datasets:\n",
    "    with open(ds) as fin:\n",
    "        name = ds.split('/')[-1].split('.')[0]\n",
    "        lines = fin.readlines()\n",
    "        print(r'\\begin{subsection}{'+name+r'}')\n",
    "        print(r'\\begin{table}[H]')\n",
    "        print(r'\\begin{tabular}{|l|c|c|c|}')\n",
    "        print(r'\\hline')\n",
    "        print(\"Model & Pearsons & Spearmans & Coverage\"+r\"\\\\\")\n",
    "        print(r'\\hline')\n",
    "        for i,model in enumerate(models):\n",
    "            result = get_corrs(lines,model)\n",
    "            print(model_names[i],'& ',result[0],'& ',result[1],'& ',result[2],r'\\\\')\n",
    "        print(r'\\hline')\n",
    "        print('\\end{tabular}')\n",
    "        print('\\end{table}')\n",
    "        print(r'\\end{subsection}')\n",
    "        print()"
   ]
  },
  {
   "cell_type": "code",
   "execution_count": null,
   "metadata": {
    "ExecuteTime": {
     "end_time": "2022-07-31T11:20:17.164816Z",
     "start_time": "2022-07-31T11:20:17.156409Z"
    }
   },
   "outputs": [],
   "source": [
    "import numpy as np\n",
    "import scipy.stats\n",
    "()\n",
    "\n",
    "def mean_confidence_interval(data, confidence=0.95):\n",
    "    a = 1.0 * np.array(data)\n",
    "    n = len(a)\n",
    "    m, se = np.mean(a), scipy.stats.sem(a)\n",
    "    h = se * scipy.stats.t.ppf((1 + confidence) / 2., n-1)\n",
    "    return m, h"
   ]
  },
  {
   "cell_type": "code",
   "execution_count": null,
   "metadata": {
    "ExecuteTime": {
     "end_time": "2022-08-01T11:36:08.833921Z",
     "start_time": "2022-08-01T11:36:08.810309Z"
    }
   },
   "outputs": [],
   "source": []
  },
  {
   "cell_type": "code",
   "execution_count": null,
   "metadata": {
    "ExecuteTime": {
     "end_time": "2022-08-01T12:08:39.045370Z",
     "start_time": "2022-08-01T11:36:09.686364Z"
    }
   },
   "outputs": [],
   "source": [
    "from multiprocessing import Pool\n",
    "import workers\n",
    "output = dict()\n",
    "if __name__ == \"__main__\":\n",
    "    for ds in tqdm(datasets,position=0):\n",
    "        with open(ds) as fin:\n",
    "            name = ds.split('/')[-1].split('.')[0]\n",
    "            lines = fin.readlines()\n",
    "            with Pool(processes=len(models)) as pool:\n",
    "                results = list(pool.apply_async(workers.get_corrs, args=(lines,model)) for model in models)\n",
    "                results = [r.get() for r in results]\n",
    "                output[name]=results"
   ]
  },
  {
   "cell_type": "code",
   "execution_count": null,
   "metadata": {
    "ExecuteTime": {
     "end_time": "2022-08-02T07:33:34.437785Z",
     "start_time": "2022-08-02T07:33:34.396051Z"
    }
   },
   "outputs": [],
   "source": [
    "for name,v in output.items():\n",
    "    print(r'\\begin{subsection}{'+name+r'}')\n",
    "    print(r'\\begin{table}[H]')\n",
    "    print(r'\\begin{tabular}{|l|c|c|c|}')\n",
    "    print('\\hline')\n",
    "    print(\"Model & Pearsons & Spearmans & Coverage\"+r\"\\\\\")\n",
    "    print('\\hline')\n",
    "    for i,scores in enumerate(v):\n",
    "        print(model_names[i],end=' & ')\n",
    "        print(scores[0],end=' & ')\n",
    "        print(scores[1],end=' & ')\n",
    "        print(str(scores[2]),end=r'\\\\')\n",
    "        print()\n",
    "    print('\\hline')\n",
    "    print('\\end{tabular}')\n",
    "    print('\\end{table}')\n",
    "    print(r'\\end{subsection}')\n",
    "    print()"
   ]
  },
  {
   "cell_type": "code",
   "execution_count": null,
   "metadata": {},
   "outputs": [],
   "source": [
    "avg_sim('fast','rapid',dconf_model,verbose=True)"
   ]
  },
  {
   "cell_type": "code",
   "execution_count": null,
   "metadata": {
    "ExecuteTime": {
     "end_time": "2022-09-19T02:38:34.586692Z",
     "start_time": "2022-09-19T02:38:34.438357Z"
    }
   },
   "outputs": [],
   "source": [
    "avg_sim('fast','rapid',wnet_model,verbose=True)"
   ]
  },
  {
   "cell_type": "code",
   "execution_count": null,
   "metadata": {
    "ExecuteTime": {
     "end_time": "2022-08-10T08:59:52.084630Z",
     "start_time": "2022-08-10T08:59:52.079814Z"
    }
   },
   "outputs": [],
   "source": [
    "# Import libraries\n",
    "import matplotlib.pyplot as plt\n",
    "import numpy as np"
   ]
  },
  {
   "cell_type": "code",
   "execution_count": null,
   "metadata": {
    "ExecuteTime": {
     "end_time": "2022-08-10T10:58:18.624251Z",
     "start_time": "2022-08-10T10:58:14.944235Z"
    }
   },
   "outputs": [],
   "source": [
    "plt.clf()\n",
    "# Creating axes instance\n",
    "print('1. dconf, 2. SPX, 3.W2V')\n",
    "with open(sim999) as fin:\n",
    "    lines = fin.readlines()\n",
    "    for line in lines[:5]:\n",
    "        print(line)\n",
    "        line = line.split()\n",
    "        a = line[0]\n",
    "        b = line[1]\n",
    "        #plt.xticks(np.arange(3), [\"DCONF\", \"SPX\", \"W2V\"],rotation='vertical')\n",
    "        sa,ra = avg_sim(a,b,dconf_model)\n",
    "        sb,rb = avg_sim(a,b,spxPEM_model)\n",
    "        sc,rc = avg_sim(a,b,w2v_model)\n",
    "        data = [ra,rb,rc]\n",
    "        bp = plt.boxplot(data)\n",
    "        plt.show()"
   ]
  },
  {
   "cell_type": "code",
   "execution_count": null,
   "metadata": {
    "ExecuteTime": {
     "end_time": "2022-08-08T11:05:42.506974Z",
     "start_time": "2022-08-08T11:05:42.333651Z"
    }
   },
   "outputs": [],
   "source": [
    "a = 'old'\n",
    "b = 'new'\n",
    "avg_sim(a,b,dconf_model,verbose=True)"
   ]
  },
  {
   "cell_type": "code",
   "execution_count": null,
   "metadata": {
    "ExecuteTime": {
     "end_time": "2022-08-08T11:06:17.837061Z",
     "start_time": "2022-08-08T11:06:17.329692Z"
    }
   },
   "outputs": [],
   "source": [
    "avg_sim(a,b,spxPEM_model,verbose=True)"
   ]
  },
  {
   "cell_type": "code",
   "execution_count": null,
   "metadata": {
    "ExecuteTime": {
     "end_time": "2022-05-12T07:59:09.695622Z",
     "start_time": "2022-05-12T07:59:09.659923Z"
    }
   },
   "outputs": [],
   "source": [
    "phrases = ['new york','new zealand']\n",
    "markers = ['#E','#P']\n",
    "print(r'\\begin{table}[!h]')\n",
    "print(r'\\begin{tabular}{|l|c|c|}')\n",
    "print('\\hline')\n",
    "print(\"Model & Phrase & Similarity\"+r\"\\\\\")\n",
    "print('\\hline')\n",
    "for phrase in phrases:\n",
    "    words = phrase.split()\n",
    "    s1 = [word+'#E' for word in words]\n",
    "    s2 = [word+'#P' for word in words]\n",
    "    senses = [s1,s2]\n",
    "    for i,model in enumerate(models):\n",
    "        sim = model.similarity(words[0],words[1])\n",
    "        print(model_names[i],end=' & ')\n",
    "        print(phrase,end=' & ')\n",
    "        print('%.2f' % (sim),end=r'\\\\')\n",
    "        print()\n",
    "        for sense in senses:\n",
    "            if sense[0] in model.vocab and sense[1] in model.vocab:\n",
    "                sim = model.similarity(sense[0],sense[1])\n",
    "                print(model_names[i],end=' & ')\n",
    "                print(' '.join(sense),end=' & ')\n",
    "                print('%.2f' % (sim),end=r'\\\\')\n",
    "                print()\n",
    "    print('\\hline')\n",
    "print('\\end{tabular}')\n",
    "print('\\end{table}')"
   ]
  },
  {
   "cell_type": "code",
   "execution_count": null,
   "metadata": {
    "ExecuteTime": {
     "start_time": "2022-05-12T07:42:53.813Z"
    }
   },
   "outputs": [],
   "source": [
    "import scipy\n",
    "print(scipy.__version__)"
   ]
  },
  {
   "cell_type": "code",
   "execution_count": null,
   "metadata": {
    "ExecuteTime": {
     "end_time": "2022-05-03T08:12:22.308534Z",
     "start_time": "2022-05-03T08:12:22.302326Z"
    }
   },
   "outputs": [],
   "source": [
    "from scipy.stats import bootstrap"
   ]
  },
  {
   "cell_type": "code",
   "execution_count": null,
   "metadata": {
    "ExecuteTime": {
     "end_time": "2022-05-16T08:30:35.585064Z",
     "start_time": "2022-05-16T08:30:35.562936Z"
    }
   },
   "outputs": [],
   "source": [
    "def viterbi_algorithm(observations, states, start_p, trans_p, emit_p):\n",
    "    V = [{}]\n",
    "    for st in states:\n",
    "         V[0][st] = {\"prob\": start_p[st] * emit_p[st][observations[0]], \"prev\": None}\n",
    "\n",
    "    for t in range(1, len(observations)):\n",
    "        V.append({})\n",
    "        for st in states:\n",
    "            max_tr_prob = V[t - 1][states[0]][\"prob\"] * trans_p[states[0]][st]\n",
    "            prev_st_selected = states[0]\n",
    "            for prev_st in states[1:]:\n",
    "                tr_prob = V[t - 1][prev_st][\"prob\"] * trans_p[prev_st][st]\n",
    "                if tr_prob > max_tr_prob:\n",
    "                    max_tr_prob = tr_prob\n",
    "                    prev_st_selected = prev_st\n",
    "\n",
    "            max_prob = max_tr_prob * emit_p[st][observations[t]]\n",
    "            V[t][st] = {\"prob\": max_prob, \"prev\": prev_st_selected}\n",
    "    for line in dptable(V):\n",
    "        print(line)\n",
    "\n",
    "    opt = []\n",
    "    max_prob = 0.0\n",
    "    best_st = None\n",
    "\n",
    "    for st, data in V[-1].items():\n",
    "        if data[\"prob\"] > max_prob:\n",
    "            max_prob = data[\"prob\"]\n",
    "            best_st = st\n",
    "    opt.append(best_st)\n",
    "    previous = best_st\n",
    "\n",
    "    for t in range(len(V) - 2, -1, -1):\n",
    "        opt.insert(0, V[t + 1][previous][\"prev\"])\n",
    "        previous = V[t + 1][previous][\"prev\"]\n",
    "\n",
    "    print (\"The steps of states are \" + \" \".join(opt) + \" with highest probability of %s\" % max_prob)\n",
    "\n",
    "def dptable(V):\n",
    "     \n",
    "    yield \" \".join((\"%12d\" % i) for i in range(len(V)))\n",
    "    for state in V[0]:\n",
    "        yield \"%.7s: \" % state + \" \".join(\"%.7s\" % (\"%f\" % v[state][\"prob\"]) for v in V)"
   ]
  },
  {
   "cell_type": "code",
   "execution_count": null,
   "metadata": {
    "ExecuteTime": {
     "end_time": "2022-05-16T08:45:37.276827Z",
     "start_time": "2022-05-16T08:45:37.268040Z"
    }
   },
   "outputs": [],
   "source": [
    "observations = (\"normal\", \"cold\", \"dizzy\")\n",
    "states = (\"Healthy\", \"Fever\")\n",
    "start_p = {\"Healthy\": 1, \"Fever\": 1}\n",
    "trans_p = {\n",
    "    \"Healthy\": {\"Healthy\": 1, \"Fever\": 1},\n",
    "    \"Fever\": {\"Healthy\": 1, \"Fever\": 1},\n",
    "}\n",
    "emit_p = {\n",
    "    \"Healthy\": {\"normal\": 0.5, \"cold\": 0.4, \"dizzy\": 0.1},\n",
    "    \"Fever\": {\"normal\": 0.1, \"cold\": 0.3, \"dizzy\": 0.6},\n",
    "}"
   ]
  },
  {
   "cell_type": "code",
   "execution_count": null,
   "metadata": {
    "ExecuteTime": {
     "end_time": "2022-05-16T08:45:37.959811Z",
     "start_time": "2022-05-16T08:45:37.953759Z"
    }
   },
   "outputs": [],
   "source": [
    "viterbi_algorithm(observations, states, start_p, trans_p, emit_p)"
   ]
  },
  {
   "cell_type": "code",
   "execution_count": null,
   "metadata": {
    "ExecuteTime": {
     "end_time": "2022-05-19T10:07:38.090912Z",
     "start_time": "2022-05-19T10:07:38.085961Z"
    }
   },
   "outputs": [],
   "source": [
    "model = spxEM_model"
   ]
  },
  {
   "cell_type": "code",
   "execution_count": null,
   "metadata": {
    "ExecuteTime": {
     "end_time": "2022-05-18T10:27:26.790003Z",
     "start_time": "2022-05-18T10:27:26.784081Z"
    }
   },
   "outputs": [],
   "source": [
    "\n",
    "        \n",
    "        "
   ]
  },
  {
   "cell_type": "code",
   "execution_count": null,
   "metadata": {},
   "outputs": [],
   "source": [
    "P = list()\n",
    "w = list()\n",
    "mat = {}\n",
    "\n",
    "        "
   ]
  },
  {
   "cell_type": "code",
   "execution_count": null,
   "metadata": {},
   "outputs": [],
   "source": [
    "import numpy as np\n",
    "\n",
    "def viterbi(y, A, B, initial_probs = None):\n",
    "    K = A.shape[0]\n",
    "    initial_probs = initial_probs if initial_probs is not None else np.full(K, 1 / K)\n",
    "    T = len(y)\n",
    "    T1 = np.empty((K, T), 'd')\n",
    "    T2 = np.empty((K, T), 'B')\n",
    "    T1[:, 0] = initial_probs * B[:, y[0]]\n",
    "    T2[:, 0] = 0\n",
    "    \n",
    "    for i in range(1, T):\n",
    "        T1[:, i] = np.max(T1[:, i - 1] * A.T * B[np.newaxis, :, y[i]].T, 1)\n",
    "        T2[:, i] = np.argmax(T1[:, i - 1] * A.T, 1)\n",
    "\n",
    "    x = np.empty(T, 'B')\n",
    "    x[-1] = np.argmax(T1[:, T - 1])\n",
    "    \n",
    "    for i in reversed(range(1, T)):\n",
    "        x[i - 1] = T2[x[i], i]\n",
    "\n",
    "    return x, T1, T2\n"
   ]
  },
  {
   "cell_type": "code",
   "execution_count": null,
   "metadata": {},
   "outputs": [],
   "source": []
  },
  {
   "cell_type": "code",
   "execution_count": null,
   "metadata": {
    "ExecuteTime": {
     "end_time": "2022-07-13T10:52:37.215037Z",
     "start_time": "2022-07-13T10:52:37.205547Z"
    }
   },
   "outputs": [],
   "source": [
    "print(spxEM_model.similarity('new#E','york#E'))\n",
    "print(spxEM_model.similarity('new#E','york'))\n",
    "print(spxEM_model.similarity('new','york#E'))\n",
    "print(spxEM_model.similarity('new','york'))"
   ]
  },
  {
   "cell_type": "code",
   "execution_count": null,
   "metadata": {
    "ExecuteTime": {
     "end_time": "2022-07-01T08:06:51.582041Z",
     "start_time": "2022-07-01T08:06:51.540369Z"
    }
   },
   "outputs": [],
   "source": [
    "print(spxPEM_model.similarity('new#E','york#E'))\n",
    "print(spxPEM_model.similarity('new#E','york'))\n",
    "print(spxPEM_model.similarity('new','york#E'))\n",
    "print(spxPEM_model.similarity('new','york'))"
   ]
  },
  {
   "cell_type": "code",
   "execution_count": null,
   "metadata": {
    "ExecuteTime": {
     "end_time": "2022-08-04T10:51:49.382700Z",
     "start_time": "2022-08-04T10:51:48.076179Z"
    }
   },
   "outputs": [],
   "source": [
    "a = list()\n",
    "b = list()\n",
    "with open(sim999) as fin:\n",
    "    name = ds.split('/')[-1].split('.')[0]\n",
    "    lines = fin.readlines()\n",
    "    for line in lines[:10]:\n",
    "        line = line.split()\n",
    "        score = avg_sim(line[0],line[1],dconf_model,maxsim=True)\n",
    "        print(line,score)\n",
    "        a.append(line[2])\n",
    "        b.append(score)\n",
    "spearmanr(a, b)"
   ]
  },
  {
   "cell_type": "code",
   "execution_count": null,
   "metadata": {
    "ExecuteTime": {
     "end_time": "2022-08-04T10:51:52.617730Z",
     "start_time": "2022-08-04T10:51:49.384752Z"
    }
   },
   "outputs": [],
   "source": [
    "a = list()\n",
    "b = list()\n",
    "with open(sim999) as fin:\n",
    "    name = ds.split('/')[-1].split('.')[0]\n",
    "    lines = fin.readlines()\n",
    "    for line in lines[:10]:\n",
    "        line = line.split()\n",
    "        score = avg_sim(line[0],line[1],spxPEM_model,maxsim=True)\n",
    "        print(line,score)\n",
    "        a.append(line[2])\n",
    "        b.append(score)\n",
    "spearmanr(a, b)"
   ]
  },
  {
   "cell_type": "markdown",
   "metadata": {
    "heading_collapsed": true
   },
   "source": [
    "# numsense"
   ]
  },
  {
   "cell_type": "code",
   "execution_count": null,
   "metadata": {
    "ExecuteTime": {
     "end_time": "2022-08-02T07:52:12.045815Z",
     "start_time": "2022-08-02T07:52:12.027671Z"
    },
    "hidden": true
   },
   "outputs": [],
   "source": [
    "def num_sim(w1,w2,model):\n",
    "    vocab = model.vocab\n",
    "    a = list()\n",
    "    for word in vocab:\n",
    "        if word.startswith(w1+'#'):\n",
    "            a.append(word)\n",
    "    if w1 in vocab:\n",
    "        a.append(w1)\n",
    "    b = list()\n",
    "    for word in vocab:\n",
    "        if word.startswith(w2+'#'):\n",
    "            b.append(word)\n",
    "    if w2 in vocab:\n",
    "        b.append(w2)\n",
    "    div = len(a)*len(b)\n",
    "    if div == 0:\n",
    "        return 0\n",
    "    return 1/div\n",
    "\n",
    "def get_ncorrs(lines,model):\n",
    "    sims = list()\n",
    "    scores = list()\n",
    "    for line in lines:\n",
    "        line = line.split()\n",
    "        if not line or len(line)>3:\n",
    "            continue\n",
    "        sim = num_sim(line[0],line[1],model)\n",
    "        if sim:\n",
    "            score = float(line[2])\n",
    "            sims.append(sim)\n",
    "            scores.append(score)\n",
    "    assert len(sims)==len(scores) and len(sims)>0\n",
    "    coverage = round((len(sims)/len(lines))*100,2)\n",
    "    pcorr, _ = pearsonr(sims, scores)\n",
    "    scorr, _ = spearmanr(sims, scores)\n",
    "    return '%.2f' % (pcorr*100),'%.2f' % (scorr*100), coverage"
   ]
  },
  {
   "cell_type": "code",
   "execution_count": null,
   "metadata": {
    "ExecuteTime": {
     "end_time": "2022-08-02T08:04:48.747868Z",
     "start_time": "2022-08-02T07:55:18.606204Z"
    },
    "hidden": true
   },
   "outputs": [],
   "source": [
    "output_ = dict()\n",
    "for ds in tqdm(datasets,position=0):\n",
    "    with open(ds) as fin:\n",
    "        name = ds.split('/')[-1].split('.')[0]\n",
    "        lines = fin.readlines()\n",
    "        results = get_ncorrs(lines,dconf_model)\n",
    "        output_[name]=results"
   ]
  },
  {
   "cell_type": "code",
   "execution_count": null,
   "metadata": {
    "ExecuteTime": {
     "end_time": "2022-08-02T08:04:53.601045Z",
     "start_time": "2022-08-02T08:04:53.583966Z"
    },
    "hidden": true
   },
   "outputs": [],
   "source": [
    "for name,v in output_.items():\n",
    "    print(r'\\begin{subsection}{'+name+r'}')\n",
    "    print(r'\\begin{table}[H]')\n",
    "    print(r'\\begin{tabular}{|l|c|c|}')\n",
    "    print('\\hline')\n",
    "    print(\"Pearsons & Spearmans & Coverage\"+r\"\\\\\")\n",
    "    print('\\hline')\n",
    "    print(v[0],end=' & ')\n",
    "    print(v[1],end=' & ')\n",
    "    print(str(v[2]),end=r'\\\\')\n",
    "    print()\n",
    "    print('\\hline')\n",
    "    print('\\end{tabular}')\n",
    "    print('\\end{table}')\n",
    "    print(r'\\end{subsection}')\n",
    "    print()"
   ]
  },
  {
   "cell_type": "markdown",
   "metadata": {
    "heading_collapsed": true
   },
   "source": [
    "# HMM"
   ]
  },
  {
   "cell_type": "code",
   "execution_count": null,
   "metadata": {
    "ExecuteTime": {
     "end_time": "2022-08-20T07:36:40.885772Z",
     "start_time": "2022-08-20T07:36:40.881579Z"
    },
    "hidden": true
   },
   "outputs": [],
   "source": [
    "model = spxPEM_model\n",
    "#model = w2v_model"
   ]
  },
  {
   "cell_type": "code",
   "execution_count": null,
   "metadata": {
    "ExecuteTime": {
     "end_time": "2022-08-20T08:28:15.157727Z",
     "start_time": "2022-08-20T08:28:15.150475Z"
    },
    "hidden": true
   },
   "outputs": [],
   "source": [
    "#sentence = 'new york city is composed of five boroughs'\n",
    "#sentence = 'the south american jaguar is a jaguar population in south america'\n",
    "sentence = 'the central bank of brazil is the central bank and the issuing authority'\n",
    "sentence = sentence.split()\n",
    "sentence_E = [word+'#E' for word in sentence]\n",
    "sentence_P = [word+'#P' for word in sentence]\n",
    "sentences = [sentence,sentence_E,sentence_P]\n",
    "#sentences = [sentence,sentence_E]"
   ]
  },
  {
   "cell_type": "code",
   "execution_count": null,
   "metadata": {
    "ExecuteTime": {
     "end_time": "2022-08-22T09:08:08.736375Z",
     "start_time": "2022-08-22T09:08:08.710481Z"
    },
    "hidden": true
   },
   "outputs": [],
   "source": [
    "best_tuples = list()\n",
    "z = 1\n",
    "path = list()\n",
    "for i in range(len(sentence)-1):\n",
    "    scores = list()\n",
    "    candidates = list()\n",
    "    for j in range(len(sentences)):\n",
    "        for k in range(len(sentences)):\n",
    "            edge = model.similarity(sentences[j][i],sentences[k][i+1])\n",
    "            scores.append(edge)\n",
    "            candidates.append([sentences[j][i],sentences[k][i+1]])\n",
    "    z = max(scores)\n",
    "    _best = tuple(candidates[np.argmax(scores)])\n",
    "    print(scores,_best)\n",
    "    print()\n",
    "    best_tuples.append(_best)"
   ]
  },
  {
   "cell_type": "code",
   "execution_count": null,
   "metadata": {
    "ExecuteTime": {
     "end_time": "2022-08-20T07:39:40.115250Z",
     "start_time": "2022-08-20T07:39:40.100911Z"
    },
    "hidden": true
   },
   "outputs": [],
   "source": [
    "mat.shape"
   ]
  },
  {
   "cell_type": "code",
   "execution_count": null,
   "metadata": {
    "ExecuteTime": {
     "end_time": "2022-08-20T08:28:20.783652Z",
     "start_time": "2022-08-20T08:28:18.859002Z"
    },
    "hidden": true
   },
   "outputs": [],
   "source": [
    "import itertools\n",
    "model = spxPEM_model\n",
    "sequences = [seq for seq in itertools.product([0,1], repeat=len(sentence))]\n",
    "best = None\n",
    "m_score = 0\n",
    "for seq in sequences:\n",
    "    sent = list()\n",
    "    score = 0\n",
    "    for i,j in zip(seq,range(len(sentence))):\n",
    "        sent.append(sentences[i][j])\n",
    "    for i in range(len(sent)-1): \n",
    "        score+=model.similarity(sent[i],sent[i+1])\n",
    "    if score>m_score:\n",
    "        m_score=score\n",
    "        best=sent\n",
    "print(best,score)"
   ]
  },
  {
   "cell_type": "code",
   "execution_count": null,
   "metadata": {
    "ExecuteTime": {
     "end_time": "2022-08-20T08:28:46.433774Z",
     "start_time": "2022-08-20T08:28:46.288785Z"
    },
    "hidden": true
   },
   "outputs": [],
   "source": [
    "#Binary sequence\n",
    "\n",
    "import itertools\n",
    "sequences = [seq for seq in itertools.product([0,1], repeat=len(sentence))]\n",
    "best = None\n",
    "m_score = 0\n",
    "for seq in sequences:\n",
    "    sent = list()\n",
    "    score = 0\n",
    "    for i,j in zip(seq,range(len(sentence))):\n",
    "        sent.append(sentences[i][j])\n",
    "    for i in range(len(sent)-1):\n",
    "        if (sent[i],sent[i+1]) in best_tuples:\n",
    "            score+=1\n",
    "    for i in range(len(sent)-1,1,-1):\n",
    "        if (sent[i-1],sent[i]) in best_tuples:\n",
    "            score+=1\n",
    "    if score>m_score:\n",
    "        m_score=score\n",
    "        best=sent\n",
    "        print(best,score)"
   ]
  },
  {
   "cell_type": "code",
   "execution_count": null,
   "metadata": {
    "ExecuteTime": {
     "end_time": "2022-08-20T07:38:22.012979Z",
     "start_time": "2022-08-20T07:38:22.006668Z"
    },
    "hidden": true
   },
   "outputs": [],
   "source": [
    "best"
   ]
  },
  {
   "cell_type": "code",
   "execution_count": null,
   "metadata": {
    "ExecuteTime": {
     "end_time": "2022-08-20T07:38:23.665269Z",
     "start_time": "2022-08-20T07:38:23.656749Z"
    },
    "hidden": true
   },
   "outputs": [],
   "source": [
    "truth = ['new#E', 'york#E', 'city#E', 'is', 'composed', 'of', 'five', 'boroughs#E']\n",
    "score = 0\n",
    "for i in range(len(truth)-1): \n",
    "    score+=model.similarity(truth[i],truth[i+1])\n",
    "print(score)"
   ]
  },
  {
   "cell_type": "code",
   "execution_count": null,
   "metadata": {
    "ExecuteTime": {
     "end_time": "2022-05-29T05:41:05.072329Z",
     "start_time": "2022-05-29T05:41:05.057254Z"
    },
    "hidden": true
   },
   "outputs": [],
   "source": [
    "import pickle\n",
    "\n",
    "a = dict()\n",
    "\n",
    "for sent in sentences:\n",
    "    for word in sent:\n",
    "        if word in model.vocab:\n",
    "            a[word]=model.get_vector(word)\n",
    "\n",
    "with open('spx.pkl', 'wb') as handle:\n",
    "    pickle.dump(a, handle, protocol=pickle.HIGHEST_PROTOCOL)"
   ]
  },
  {
   "cell_type": "code",
   "execution_count": null,
   "metadata": {
    "ExecuteTime": {
     "end_time": "2022-05-29T05:44:56.815524Z",
     "start_time": "2022-05-29T05:44:56.752467Z"
    },
    "hidden": true
   },
   "outputs": [],
   "source": [
    "with open('spx.pkl', 'rb') as handle:\n",
    "    b = pickle.load(handle)\n",
    "    print(b)"
   ]
  },
  {
   "cell_type": "code",
   "execution_count": null,
   "metadata": {
    "ExecuteTime": {
     "end_time": "2022-05-31T13:42:31.873688Z",
     "start_time": "2022-05-31T13:42:31.867256Z"
    },
    "hidden": true
   },
   "outputs": [],
   "source": [
    "data = [['bookcase','fridge','wood',1],['bucket','mug','round',0],['angle','curve','sharp',1],\\\n",
    "        ['pelican','turtle','water',0],['wire','coil','metal',0],['apple','banana','red',1]]"
   ]
  },
  {
   "cell_type": "code",
   "execution_count": null,
   "metadata": {
    "ExecuteTime": {
     "end_time": "2022-05-31T14:36:47.255770Z",
     "start_time": "2022-05-31T14:36:47.230322Z"
    },
    "hidden": true
   },
   "outputs": [],
   "source": [
    "model = spxEM_model\n",
    "\n",
    "for items in data:\n",
    "    s1 = model.similarity(items[0],items[2])\n",
    "    s2 = model.similarity(items[1],items[2])\n",
    "    print('NE:',s1,s2,items[3])\n",
    "    if items[0]+'#E' in model.vocab and items[2]+'#E' in model.vocab:\n",
    "        s1 = model.similarity(items[0]+'#E',items[2]+'#E')\n",
    "    else:\n",
    "        s1 = 0\n",
    "    if items[1]+'#E' in model.vocab and items[2]+'#E' in model.vocab:\n",
    "        s2 = model.similarity(items[1]+'#E',items[2]+'#E')\n",
    "    else:\n",
    "        s2 = 0\n",
    "    print('E:',s1,s2,items[3])\n",
    "    print()"
   ]
  },
  {
   "cell_type": "code",
   "execution_count": null,
   "metadata": {
    "ExecuteTime": {
     "end_time": "2022-05-31T14:37:13.461666Z",
     "start_time": "2022-05-31T14:37:13.444208Z"
    },
    "hidden": true
   },
   "outputs": [],
   "source": [
    "model = w2v_model\n",
    "\n",
    "for items in data:\n",
    "    s1 = model.similarity(items[0],items[2])\n",
    "    s2 = model.similarity(items[1],items[2])\n",
    "    print('NE:',s1,s2,items[3])\n",
    "    if items[0]+'#E' in model.vocab and items[2]+'#E' in model.vocab:\n",
    "        s1 = model.similarity(items[0]+'#E',items[2]+'#E')\n",
    "    else:\n",
    "        s1 = 0\n",
    "    if items[1]+'#E' in model.vocab and items[2]+'#E' in model.vocab:\n",
    "        s2 = model.similarity(items[1]+'#E',items[2]+'#E')\n",
    "    else:\n",
    "        s2 = 0\n",
    "    print(s1,s2,items[3])\n",
    "    print()"
   ]
  },
  {
   "cell_type": "markdown",
   "metadata": {
    "heading_collapsed": true
   },
   "source": [
    "# entities"
   ]
  },
  {
   "cell_type": "code",
   "execution_count": null,
   "metadata": {
    "ExecuteTime": {
     "end_time": "2022-07-21T05:45:27.210389Z",
     "start_time": "2022-07-21T05:45:27.204663Z"
    },
    "hidden": true
   },
   "outputs": [],
   "source": [
    "e_file = '/home/manni/data/entities/entities.tsv'"
   ]
  },
  {
   "cell_type": "code",
   "execution_count": null,
   "metadata": {
    "ExecuteTime": {
     "end_time": "2022-07-21T05:54:21.016192Z",
     "start_time": "2022-07-21T05:54:19.762622Z"
    },
    "hidden": true
   },
   "outputs": [],
   "source": [
    "entities = set()\n",
    "bi_ent = set()\n",
    "with open(e_file,'r') as fin:\n",
    "    lines = fin.readlines()\n",
    "    for line in lines:\n",
    "        if line.startswith('#'):\n",
    "            continue\n",
    "        ent = line.split('\\t')[0].lower()\n",
    "        entities.add(ent)\n",
    "        if len(ent.split())==2:\n",
    "            bi_ent.add(ent)"
   ]
  },
  {
   "cell_type": "code",
   "execution_count": null,
   "metadata": {
    "ExecuteTime": {
     "end_time": "2022-07-21T05:55:09.031848Z",
     "start_time": "2022-07-21T05:55:09.025060Z"
    },
    "hidden": true
   },
   "outputs": [],
   "source": [
    "print(len(bi_ent))\n",
    "print(len(entities))"
   ]
  },
  {
   "cell_type": "code",
   "execution_count": null,
   "metadata": {
    "ExecuteTime": {
     "end_time": "2022-07-21T06:14:23.213845Z",
     "start_time": "2022-07-21T06:14:22.572787Z"
    },
    "hidden": true
   },
   "outputs": [],
   "source": [
    "common_vocab = set()\n",
    "for model in models:\n",
    "    if not common_vocab:\n",
    "        common_vocab.update(set(model.vocab.keys()))\n",
    "    else:\n",
    "        common_vocab = common_vocab & set(model.vocab.keys())\n",
    "print(len(common_vocab))"
   ]
  },
  {
   "cell_type": "code",
   "execution_count": null,
   "metadata": {
    "ExecuteTime": {
     "end_time": "2022-07-21T06:27:42.638312Z",
     "start_time": "2022-07-21T06:22:32.155996Z"
    },
    "hidden": true
   },
   "outputs": [],
   "source": [
    "import random\n",
    "scores = dict()\n",
    "found = len(bi_ent)\n",
    "for i,_ in enumerate(models):\n",
    "    scores[i]=0\n",
    "for ent in tqdm(bi_ent):\n",
    "    words = ent.split()\n",
    "    if len(set(words) & common_vocab) != 2:\n",
    "        found-=1\n",
    "        continue\n",
    "    rands = random.choices(list(common_vocab), k=3)\n",
    "    for i,model in enumerate(models):\n",
    "        high=True\n",
    "        sim = model.similarity(words[0],words[1])\n",
    "        for rand in rands:\n",
    "            _sim = model.similarity(words[0],rand)\n",
    "            if _sim>sim:\n",
    "                high=False\n",
    "                break\n",
    "        if high:\n",
    "            scores[i]+=1"
   ]
  },
  {
   "cell_type": "code",
   "execution_count": null,
   "metadata": {
    "ExecuteTime": {
     "end_time": "2022-07-21T06:27:42.644828Z",
     "start_time": "2022-07-21T06:27:42.640575Z"
    },
    "hidden": true
   },
   "outputs": [],
   "source": [
    "print(scores)\n",
    "print(found)"
   ]
  },
  {
   "cell_type": "code",
   "execution_count": null,
   "metadata": {
    "ExecuteTime": {
     "end_time": "2022-07-21T07:59:08.212689Z",
     "start_time": "2022-07-21T07:59:08.198841Z"
    },
    "hidden": true
   },
   "outputs": [],
   "source": [
    "def get_score(model,anotate=''):\n",
    "    vocab = set(model.vocab.keys())\n",
    "    rands = random.choices(list(vocab), k=5)\n",
    "    score = 0\n",
    "    found = len(bi_ent)\n",
    "    for ent in tqdm(bi_ent,position=0):\n",
    "        words = ent.split()\n",
    "        words = [word+anotate for word in words]\n",
    "        if len(set(words) & vocab) != 2:\n",
    "            found-=1\n",
    "            continue\n",
    "        #rands = random.choices(list(vocab), k=3)\n",
    "        #rands = [random.choice(list(vocab))]\n",
    "        high=True\n",
    "        sim = model.similarity(words[0],words[1])\n",
    "        for rand in rands:\n",
    "            _sim = model.similarity(words[0],rand)\n",
    "            if _sim>sim:\n",
    "                high=False\n",
    "                break\n",
    "        if high:\n",
    "            score+=1\n",
    "    return round((score/found)*100,2)"
   ]
  },
  {
   "cell_type": "code",
   "execution_count": null,
   "metadata": {
    "ExecuteTime": {
     "end_time": "2022-07-21T08:32:46.556011Z",
     "start_time": "2022-07-21T08:32:42.240704Z"
    },
    "hidden": true
   },
   "outputs": [],
   "source": [
    "w_score = get_score(models[0])\n",
    "print(w_score)"
   ]
  },
  {
   "cell_type": "code",
   "execution_count": null,
   "metadata": {
    "ExecuteTime": {
     "end_time": "2022-07-21T08:32:59.346252Z",
     "start_time": "2022-07-21T08:32:55.890493Z"
    },
    "hidden": true
   },
   "outputs": [],
   "source": [
    "e_score = get_score(models[1],anotate='#E')\n",
    "print(e_score)"
   ]
  },
  {
   "cell_type": "code",
   "execution_count": null,
   "metadata": {
    "ExecuteTime": {
     "end_time": "2022-07-21T07:59:34.257305Z",
     "start_time": "2022-07-21T07:59:31.040737Z"
    },
    "hidden": true
   },
   "outputs": [],
   "source": [
    "p_score = get_score(models[2],anotate='#E')"
   ]
  },
  {
   "cell_type": "code",
   "execution_count": null,
   "metadata": {
    "ExecuteTime": {
     "end_time": "2022-07-21T07:59:39.293485Z",
     "start_time": "2022-07-21T07:59:39.287871Z"
    },
    "hidden": true
   },
   "outputs": [],
   "source": []
  },
  {
   "cell_type": "code",
   "execution_count": null,
   "metadata": {
    "ExecuteTime": {
     "end_time": "2022-07-21T07:59:43.809140Z",
     "start_time": "2022-07-21T07:59:43.804043Z"
    },
    "hidden": true
   },
   "outputs": [],
   "source": [
    "print(p_score)"
   ]
  },
  {
   "cell_type": "code",
   "execution_count": null,
   "metadata": {
    "ExecuteTime": {
     "end_time": "2022-07-21T08:03:46.143815Z",
     "start_time": "2022-07-21T08:03:42.286038Z"
    },
    "hidden": true
   },
   "outputs": [],
   "source": [
    "p_score = get_score(models[2],anotate='#P')"
   ]
  },
  {
   "cell_type": "code",
   "execution_count": null,
   "metadata": {
    "ExecuteTime": {
     "end_time": "2022-07-21T08:03:46.149757Z",
     "start_time": "2022-07-21T08:03:46.146272Z"
    },
    "hidden": true
   },
   "outputs": [],
   "source": [
    "print(p_score)"
   ]
  },
  {
   "cell_type": "code",
   "execution_count": null,
   "metadata": {
    "ExecuteTime": {
     "end_time": "2022-07-21T08:22:53.623129Z",
     "start_time": "2022-07-21T08:22:50.122797Z"
    },
    "hidden": true
   },
   "outputs": [],
   "source": [
    "e_score = get_score(models[1])\n",
    "print(e_score)"
   ]
  },
  {
   "cell_type": "markdown",
   "metadata": {
    "heading_collapsed": true
   },
   "source": [
    "# analogies"
   ]
  },
  {
   "cell_type": "code",
   "execution_count": null,
   "metadata": {
    "ExecuteTime": {
     "end_time": "2022-08-19T10:43:20.918495Z",
     "start_time": "2022-08-19T10:43:20.913589Z"
    },
    "hidden": true
   },
   "outputs": [],
   "source": [
    "file = '/home/manni/data/wordsim/google_anal.txt'"
   ]
  },
  {
   "cell_type": "code",
   "execution_count": null,
   "metadata": {
    "ExecuteTime": {
     "end_time": "2022-08-19T09:53:11.652378Z",
     "start_time": "2022-08-19T09:53:11.640057Z"
    },
    "hidden": true
   },
   "outputs": [],
   "source": [
    "import numpy as np\n",
    "def cosmul(a,b,c,model):\n",
    "    vocab = set(model.vocab.keys())\n",
    "    vocab = list(vocab-{a,b,c})\n",
    "    scores = list()\n",
    "    for v in vocab:\n",
    "        score = ((model.similarity(v,b)+1)*(model.similarity(v,c)+1))/(2*(model.similarity(v,a)+1)+0.004)\n",
    "        scores.append(score)\n",
    "    maxi = np.argmax(scores)\n",
    "    return vocab[maxi]"
   ]
  },
  {
   "cell_type": "code",
   "execution_count": null,
   "metadata": {
    "ExecuteTime": {
     "end_time": "2022-08-19T10:05:02.293006Z",
     "start_time": "2022-08-19T10:05:02.283185Z"
    },
    "hidden": true
   },
   "outputs": [],
   "source": [
    "def get_score(model):\n",
    "    total = 0\n",
    "    score = 0\n",
    "    with open(file) as fin:\n",
    "        lines = fin.readlines()[:100]\n",
    "        for line in tqdm(lines,position=0):\n",
    "            line = line.lower().split()\n",
    "            if len(line)<4:\n",
    "                continue\n",
    "            res = cosmul(line[0],line[1],line[2],model)\n",
    "            if res == line[3]:\n",
    "                score+=1\n",
    "            total+=1\n",
    "    print(round((score/total)*100,2))"
   ]
  },
  {
   "cell_type": "code",
   "execution_count": null,
   "metadata": {
    "ExecuteTime": {
     "end_time": "2022-08-19T10:28:48.059329Z",
     "start_time": "2022-08-19T10:05:02.562212Z"
    },
    "hidden": true
   },
   "outputs": [],
   "source": [
    "get_score(spxPEM_model)"
   ]
  },
  {
   "cell_type": "code",
   "execution_count": null,
   "metadata": {
    "ExecuteTime": {
     "end_time": "2022-08-19T10:43:51.641494Z",
     "start_time": "2022-08-19T10:43:51.636869Z"
    },
    "hidden": true
   },
   "outputs": [],
   "source": [
    "model = spxPEM_model"
   ]
  },
  {
   "cell_type": "code",
   "execution_count": null,
   "metadata": {
    "ExecuteTime": {
     "end_time": "2022-08-20T07:25:45.187539Z",
     "start_time": "2022-08-19T10:43:52.564842Z"
    },
    "hidden": true
   },
   "outputs": [],
   "source": [
    "from multiprocessing import Pool\n",
    "import workers\n",
    "if __name__ == \"__main__\":\n",
    "    with open(file) as fin:\n",
    "        lines = fin.readlines()\n",
    "        lines_ = list()\n",
    "        for line in tqdm(lines,position=0):\n",
    "            line = line.lower().split()\n",
    "            if len(line)<4:\n",
    "                continue\n",
    "            lines_.append(line)\n",
    "        with Pool(processes=20) as pool:\n",
    "            results = list(pool.apply_async(workers.cosmul, args=(line,model)) for line in lines_)\n",
    "            results = [r.get() for r in tqdm(results,position=0)]"
   ]
  },
  {
   "cell_type": "code",
   "execution_count": null,
   "metadata": {
    "ExecuteTime": {
     "end_time": "2022-08-20T07:26:55.158941Z",
     "start_time": "2022-08-20T07:26:55.152105Z"
    },
    "hidden": true
   },
   "outputs": [],
   "source": [
    "sum(results)/len(results)"
   ]
  },
  {
   "cell_type": "markdown",
   "metadata": {
    "heading_collapsed": true
   },
   "source": [
    "# sandbox"
   ]
  },
  {
   "cell_type": "code",
   "execution_count": null,
   "metadata": {
    "ExecuteTime": {
     "end_time": "2022-08-20T07:29:57.646923Z",
     "start_time": "2022-08-20T07:29:57.640342Z"
    },
    "hidden": true
   },
   "outputs": [],
   "source": [
    "spxPEM_model.similarity('new#E','york#E')"
   ]
  },
  {
   "cell_type": "code",
   "execution_count": null,
   "metadata": {
    "hidden": true
   },
   "outputs": [],
   "source": []
  }
 ],
 "metadata": {
  "interpreter": {
   "hash": "e774977668b7c0ae8309835a5187aa7fbf7669e7d0bb59755bc63e573643edcd"
  },
  "kernelspec": {
   "display_name": "Python 3 (ipykernel)",
   "language": "python",
   "name": "python3"
  },
  "language_info": {
   "codemirror_mode": {
    "name": "ipython",
    "version": 3
   },
   "file_extension": ".py",
   "mimetype": "text/x-python",
   "name": "python",
   "nbconvert_exporter": "python",
   "pygments_lexer": "ipython3",
   "version": "3.8.0"
  }
 },
 "nbformat": 4,
 "nbformat_minor": 2
}
