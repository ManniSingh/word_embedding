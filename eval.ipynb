{
 "cells": [
  {
   "cell_type": "code",
   "execution_count": 24,
   "metadata": {},
   "outputs": [],
   "source": [
    "from gensim.models import KeyedVectors\n",
    "from tqdm import tqdm\n",
    "from scipy.stats import pearsonr\n",
    "from scipy.stats import spearmanr"
   ]
  },
  {
   "cell_type": "code",
   "execution_count": 3,
   "metadata": {},
   "outputs": [],
   "source": [
    "spx = '/home/manni/embs/en_wiki_spx_mc100_epoch5_300_em.txt'\n",
    "model = KeyedVectors.load_word2vec_format(spx, binary=False)"
   ]
  },
  {
   "cell_type": "markdown",
   "metadata": {},
   "source": [
    "# SCWS"
   ]
  },
  {
   "cell_type": "code",
   "execution_count": 6,
   "metadata": {},
   "outputs": [],
   "source": [
    "scws_file = '/home/manni/data/SCWS/ratings.txt'"
   ]
  },
  {
   "cell_type": "code",
   "execution_count": 14,
   "metadata": {},
   "outputs": [],
   "source": [
    "data = list()\n",
    "with open(scws_file) as fin:\n",
    "    lines = fin.readlines()\n",
    "    for l in lines:\n",
    "        l = l.lower().split('\\t')\n",
    "        w1 = l[1]\n",
    "        w2 = l[3]\n",
    "        c1 = l[5]\n",
    "        c2 = l[6]\n",
    "        score = float(l[7])\n",
    "        data.append([w1,w2,c1,c2,score])"
   ]
  },
  {
   "cell_type": "code",
   "execution_count": 15,
   "metadata": {},
   "outputs": [
    {
     "data": {
      "text/plain": [
       "['brazil',\n",
       " 'nut',\n",
       " 'gap in income between blacks and other non-whites is relatively small compared to the large gap between whites and non-whites . other factors such as illiteracy and education level show the same patterns . unlike in the us where african americans were united in the civil rights struggle , in <b> brazil </b> the philosophy of whitening has helped divide blacks from other non-whites and prevented a more active civil rights movement . though afro-brazilians make up half the population there are very few black politicians . the city of salvador , bahia for instance is 80 % afro-brazilian but has never',\n",
       " 'of the neck , bridge , and pickups , there are features which are found in almost every guitar . the photo below shows the different parts of an electric guitar . the headstock ( 1 ) contains the metal machine heads , which are used for tuning ; the <b> nut </b> ( 1.4 ) , a thin fret-like strip of metal , plastic , graphite or bone which the strings pass over as they first go onto the fingerboard ; the machine heads ( 1.1 ) , which are worm gears which the player turns to change the string tension',\n",
       " 1.1]"
      ]
     },
     "execution_count": 15,
     "metadata": {},
     "output_type": "execute_result"
    }
   ],
   "source": [
    "data[0]"
   ]
  },
  {
   "cell_type": "code",
   "execution_count": null,
   "metadata": {},
   "outputs": [],
   "source": []
  },
  {
   "cell_type": "code",
   "execution_count": 37,
   "metadata": {},
   "outputs": [],
   "source": [
    "from nltk.corpus import stopwords\n",
    "stop_words = set(stopwords.words('english'))\n",
    "\n",
    "def clean_sent(sent):\n",
    "    '''\n",
    "    parameters:\n",
    "        sent: str\n",
    "    returns:\n",
    "        tokens: list(str)     \n",
    "    '''\n",
    "    return [word for word in sent.split() if word not in stop_words]\n",
    "\n",
    "def sent_words(sent):\n",
    "    '''\n",
    "    parameters:\n",
    "        sent: str\n",
    "    returns:\n",
    "        tokens: list(str) \n",
    "    '''\n",
    "    left = sent.split('<b>')[0]\n",
    "    right = sent.split('</b>')[-1]\n",
    "    sentA = clean_sent(left)[-5:]\n",
    "    sentB = clean_sent(right)[:5]\n",
    "    return sentA+sentB\n",
    "\n",
    "def avgsim(w1,w2,c1,c2,model):\n",
    "    '''\n",
    "    Computes average similarity score.\n",
    "\n",
    "    parameters:\n",
    "        w1 : str\n",
    "        w2 : str\n",
    "        c1 : str\n",
    "        c2 : str\n",
    "        model : gensim.keyedvectors\n",
    "    returns:\n",
    "        score : float\n",
    "    '''\n",
    "    if w1 not in model.vocab or w2 not in model.vocab:\n",
    "        return None\n",
    "    a = [w1]+ sent_words(c1)\n",
    "    b = [w2]+ sent_words(c2)\n",
    "    a = [word for word in a if word in model.vocab]\n",
    "    b = [word for word in b if word in model.vocab]\n",
    "    div = len(a)*len(b)\n",
    "    sims = 0\n",
    "    for i in a:\n",
    "        for j in b:\n",
    "            sims+=model.similarity(i,j)\n",
    "    return sims/div"
   ]
  },
  {
   "cell_type": "code",
   "execution_count": 38,
   "metadata": {},
   "outputs": [
    {
     "name": "stderr",
     "output_type": "stream",
     "text": [
      "100%|██████████| 2003/2003 [00:02<00:00, 836.01it/s]\n"
     ]
    }
   ],
   "source": [
    "sims = list()\n",
    "scores = list()\n",
    "for dat in tqdm(data,position=0):\n",
    "    sim = avgsim(dat[0],dat[1],dat[2],dat[3],model)\n",
    "    if sim:\n",
    "        score = dat[4]\n",
    "        sims.append(sim)\n",
    "        scores.append(score)"
   ]
  },
  {
   "cell_type": "code",
   "execution_count": 39,
   "metadata": {},
   "outputs": [
    {
     "name": "stdout",
     "output_type": "stream",
     "text": [
      "44.56\n"
     ]
    }
   ],
   "source": [
    "corr, _ = pearsonr(sims, scores)\n",
    "print(round(corr*100,2))"
   ]
  },
  {
   "cell_type": "code",
   "execution_count": null,
   "metadata": {},
   "outputs": [],
   "source": [
    "corr, _ = spearmanr(sims, scores)\n",
    "print('Spearmans correlation: %.2f' % corr)"
   ]
  },
  {
   "cell_type": "code",
   "execution_count": 52,
   "metadata": {},
   "outputs": [],
   "source": [
    "for w in model.vocab:\n",
    "    if '#' in w:\n",
    "        print(w)\n",
    "        break"
   ]
  },
  {
   "cell_type": "code",
   "execution_count": 54,
   "metadata": {},
   "outputs": [],
   "source": [
    "import wiki as w\n",
    "import sys\n",
    "sys.path.append(\"../../imports/\")\n",
    "import saver as sv"
   ]
  },
  {
   "cell_type": "code",
   "execution_count": 58,
   "metadata": {},
   "outputs": [],
   "source": [
    "sentences = sv.load(\"wiki_sentences_spx\")"
   ]
  },
  {
   "cell_type": "code",
   "execution_count": 59,
   "metadata": {},
   "outputs": [
    {
     "name": "stdout",
     "output_type": "stream",
     "text": [
      "['anarchism', 'is', 'a', '[', 'political', 'philosophy', ']', 'and', '[', 'movement', ']', 'that', 'is', 'sceptical', 'of', '[', 'authority', ']', 'and', 'rejects', 'all', 'involuntary', 'coercive', 'forms', 'of', '[', 'hierarchy', ']', 'anarchism', 'calls', 'for', 'the', 'abolition', 'of', 'the', '[', 'state', ']', 'which', 'it', 'holds', 'to', 'be', 'unnecessary', 'undesirable', 'and', 'harmful', 'as', 'a', 'historically', '[', 'left', 'wing', ']', 'movement', 'placed', 'on', 'the', 'farthest', 'left', 'of', 'the', '[', 'political', 'spectrum', ']', 'it', 'is', 'usually', 'described', 'alongside', '[', 'libertarian', 'marxism', ']', 'as', 'the', '[', 'libertarian', ']', 'wing', '[', 'libertarian', 'socialism', ']', 'of', 'the', '[', 'socialist', 'movement', ']', 'and', 'has', 'a', 'strong', 'historical', 'association', 'with', '[', 'anti', 'capitalism', ']', 'and', '[', 'socialism']\n"
     ]
    }
   ],
   "source": [
    "for sent in sentences:\n",
    "    print(sent[:105])\n",
    "    break"
   ]
  },
  {
   "cell_type": "code",
   "execution_count": null,
   "metadata": {},
   "outputs": [],
   "source": []
  }
 ],
 "metadata": {
  "interpreter": {
   "hash": "e774977668b7c0ae8309835a5187aa7fbf7669e7d0bb59755bc63e573643edcd"
  },
  "kernelspec": {
   "display_name": "Python 3.7.6 64-bit",
   "language": "python",
   "name": "python3"
  },
  "language_info": {
   "codemirror_mode": {
    "name": "ipython",
    "version": 3
   },
   "file_extension": ".py",
   "mimetype": "text/x-python",
   "name": "python",
   "nbconvert_exporter": "python",
   "pygments_lexer": "ipython3",
   "version": "3.7.6"
  },
  "orig_nbformat": 4
 },
 "nbformat": 4,
 "nbformat_minor": 2
}
