{
 "cells": [
  {
   "cell_type": "code",
   "execution_count": null,
   "id": "a3615c90",
   "metadata": {
    "ExecuteTime": {
     "end_time": "2022-09-03T04:16:27.822543Z",
     "start_time": "2022-09-03T04:16:26.888795Z"
    }
   },
   "outputs": [],
   "source": [
    "from gensim.models import KeyedVectors\n",
    "from tqdm import tqdm\n",
    "import numpy as np"
   ]
  },
  {
   "cell_type": "code",
   "execution_count": null,
   "id": "2dc861d1",
   "metadata": {
    "ExecuteTime": {
     "end_time": "2022-09-06T02:45:58.736447Z",
     "start_time": "2022-09-06T02:45:58.733366Z"
    }
   },
   "outputs": [],
   "source": [
    "glove = '/home/manni/embs/gloveW2V.6B.300d.txt'\n",
    "w2v = '/home/manni/embs/w2v.bin.gz'\n",
    "wiki2v = '/home/manni/embs/enwiki_20180420_300d.txt.bz2'\n",
    "dconf = "
   ]
  },
  {
   "cell_type": "code",
   "execution_count": null,
   "id": "d300d722",
   "metadata": {
    "ExecuteTime": {
     "end_time": "2022-09-03T04:50:42.200250Z",
     "start_time": "2022-09-03T04:47:33.538927Z"
    }
   },
   "outputs": [],
   "source": [
    "glove_model = KeyedVectors.load_word2vec_format(glove, binary=False)"
   ]
  },
  {
   "cell_type": "code",
   "execution_count": null,
   "id": "686d3459",
   "metadata": {
    "ExecuteTime": {
     "end_time": "2022-09-03T05:07:28.132813Z",
     "start_time": "2022-09-03T05:04:27.965132Z"
    }
   },
   "outputs": [],
   "source": [
    "w2v_model = KeyedVectors.load_word2vec_format(w2v, binary=True)"
   ]
  },
  {
   "cell_type": "code",
   "execution_count": null,
   "id": "bb4d3518",
   "metadata": {
    "ExecuteTime": {
     "end_time": "2022-09-06T03:30:54.721721Z",
     "start_time": "2022-09-06T02:46:26.849131Z"
    }
   },
   "outputs": [],
   "source": [
    "wiki_model = KeyedVectors.load_word2vec_format(wiki2v, binary=False)"
   ]
  },
  {
   "cell_type": "code",
   "execution_count": null,
   "id": "8e8658b2",
   "metadata": {
    "ExecuteTime": {
     "end_time": "2022-09-06T10:52:59.801518Z",
     "start_time": "2022-09-06T10:52:50.331181Z"
    }
   },
   "outputs": [],
   "source": [
    "words = wiki_model.most_similar('bank',topn=100)"
   ]
  },
  {
   "cell_type": "code",
   "execution_count": null,
   "id": "b5d0100f",
   "metadata": {
    "ExecuteTime": {
     "end_time": "2022-09-06T10:53:05.579984Z",
     "start_time": "2022-09-06T10:53:05.365775Z"
    }
   },
   "outputs": [],
   "source": [
    "wiki_model.most_similar('bank',topn=100)"
   ]
  },
  {
   "cell_type": "code",
   "execution_count": null,
   "id": "8f3e11f9",
   "metadata": {},
   "outputs": [],
   "source": [
    "#w2v_model.vocab"
   ]
  },
  {
   "cell_type": "code",
   "execution_count": null,
   "id": "f93435fe",
   "metadata": {
    "ExecuteTime": {
     "end_time": "2022-09-06T10:54:49.109053Z",
     "start_time": "2022-09-06T10:54:49.099681Z"
    }
   },
   "outputs": [],
   "source": [
    "def total_overlap(word,model,topn=100):\n",
    "    overlap_matrix = np.zeros((topn,topn),dtype=np.int8)\n",
    "    words = model.most_similar(word,topn=topn)\n",
    "    words = set([i[0] for i in words])\n",
    "    nns = dict()\n",
    "    for word in words:\n",
    "        _words = model.most_similar(word,topn=5)\n",
    "        _words = set([i[0] for i in _words])\n",
    "        nns[word]=_words\n",
    "    for i,(k,a) in enumerate(nns.items()):\n",
    "        for j,(kk,b) in enumerate(nns.items()):\n",
    "            if k == kk:\n",
    "                overlap_matrix[i][j]=1\n",
    "                continue\n",
    "            overlap = len(a & b)\n",
    "            overlap_matrix[i][j]=overlap\n",
    "    return nns,overlap_matrix"
   ]
  },
  {
   "cell_type": "code",
   "execution_count": null,
   "id": "41c1c0f3",
   "metadata": {
    "ExecuteTime": {
     "end_time": "2022-09-06T10:56:53.394146Z",
     "start_time": "2022-09-06T10:56:33.802453Z"
    }
   },
   "outputs": [],
   "source": [
    "nns,ovm = total_overlap('bank',glove_model,topn=100)"
   ]
  },
  {
   "cell_type": "code",
   "execution_count": null,
   "id": "22597047",
   "metadata": {
    "ExecuteTime": {
     "end_time": "2022-09-05T11:04:30.598682Z",
     "start_time": "2022-09-05T11:04:30.593698Z"
    }
   },
   "outputs": [],
   "source": [
    "def print_closer(n):\n",
    "    print(voc[n])\n",
    "    print(':::::')\n",
    "    nn = set()\n",
    "    for i,val in enumerate(ovm[n]>0):\n",
    "        if val:\n",
    "            print(i,voc[i])\n",
    "            nn.add(voc[i])\n",
    "    return nn"
   ]
  },
  {
   "cell_type": "code",
   "execution_count": null,
   "id": "6c412a19",
   "metadata": {
    "ExecuteTime": {
     "end_time": "2022-09-05T11:07:31.737434Z",
     "start_time": "2022-09-05T11:07:31.730802Z"
    }
   },
   "outputs": [],
   "source": [
    "a = print_closer(3)\n",
    "b = print_closer(15)\n",
    "print(a&b)"
   ]
  },
  {
   "cell_type": "code",
   "execution_count": null,
   "id": "5725ca37",
   "metadata": {
    "ExecuteTime": {
     "end_time": "2022-09-06T10:57:04.205686Z",
     "start_time": "2022-09-06T10:57:03.054048Z"
    }
   },
   "outputs": [],
   "source": [
    "clusters = dict()\n",
    "voc = list(nns.keys())\n",
    "for v in voc:\n",
    "    clusters[v]=-1\n",
    "c = 0\n",
    "for i in range(len(ovm)):\n",
    "    for j in range(len(ovm)):\n",
    "        if i == j:\n",
    "            continue\n",
    "        vec = ovm[i]\n",
    "        vec = vec>0\n",
    "        vec_ = ovm[j]\n",
    "        vec_= vec_>0\n",
    "        list_a = [voc[i_] for i_,x in enumerate(vec) if x]\n",
    "        list_b = [voc[i_] for i_,x in enumerate(vec_) if x]\n",
    "        overlap = len(set(list_a) & set(list_b))\n",
    "        if overlap>3:\n",
    "            #print(i,':',voc[i],j,':',voc[j])\n",
    "            #if i == 10 or j == 10:\n",
    "            #    print(i,j,clusters[voc[i]],clusters[voc[j]])\n",
    "            if clusters[voc[i]]>-1 and clusters[voc[j]]>-1:\n",
    "                c_ = min(clusters[voc[i]],clusters[voc[j]])\n",
    "                clusters[voc[i]]=c_\n",
    "                clusters[voc[j]]=c_\n",
    "            elif clusters[voc[i]]>-1:\n",
    "                clusters[voc[j]]=clusters[voc[i]]\n",
    "            elif clusters[voc[j]]>-1:\n",
    "                clusters[voc[i]]=clusters[voc[j]]\n",
    "            else:\n",
    "                clusters[voc[i]]=c\n",
    "                clusters[voc[j]]=c\n",
    "                c+=1\n",
    "            #if i == 10 or j == 10:\n",
    "            #    print(i,j,clusters[voc[i]],clusters[voc[j]])\n",
    "        #if np.array_equal(vec,vec_):\n",
    "        #    print(i,':',voc[i],j,':',voc[j])\n",
    "    #print('***')"
   ]
  },
  {
   "cell_type": "code",
   "execution_count": null,
   "id": "d755e4dc",
   "metadata": {},
   "outputs": [],
   "source": [
    "clusters"
   ]
  },
  {
   "cell_type": "code",
   "execution_count": null,
   "id": "b62aa363",
   "metadata": {},
   "outputs": [],
   "source": [
    "clusters_ = dict()\n",
    "for i,c in enumerate(clusters.values()):\n",
    "    if c == -1:\n",
    "        continue\n",
    "    if c in clusters_:\n",
    "        clusters_[c].append(voc[i])\n",
    "    else:\n",
    "        clusters_[c] = [voc[i]]"
   ]
  },
  {
   "cell_type": "code",
   "execution_count": null,
   "id": "1a0f0949",
   "metadata": {},
   "outputs": [],
   "source": [
    "clusters_"
   ]
  },
  {
   "cell_type": "code",
   "execution_count": null,
   "id": "f8d2c6e2",
   "metadata": {
    "ExecuteTime": {
     "end_time": "2022-09-06T10:57:08.838657Z",
     "start_time": "2022-09-06T10:57:08.835017Z"
    }
   },
   "outputs": [],
   "source": [
    "def get_matrix(model,vocab):\n",
    "    matrix = list()\n",
    "    for word in vocab:\n",
    "        vec = model.get_vector(word)\n",
    "        matrix.append(vec)\n",
    "    return matrix"
   ]
  },
  {
   "cell_type": "code",
   "execution_count": null,
   "id": "8c396b90",
   "metadata": {},
   "outputs": [],
   "source": []
  },
  {
   "cell_type": "code",
   "execution_count": null,
   "id": "ce72fe17",
   "metadata": {
    "ExecuteTime": {
     "end_time": "2022-09-06T10:57:09.590216Z",
     "start_time": "2022-09-06T10:57:09.586470Z"
    }
   },
   "outputs": [],
   "source": [
    "matrix = get_matrix(glove_model,vocab)"
   ]
  },
  {
   "cell_type": "code",
   "execution_count": null,
   "id": "02783965",
   "metadata": {
    "ExecuteTime": {
     "end_time": "2022-09-06T10:57:10.202341Z",
     "start_time": "2022-09-06T10:57:10.199456Z"
    }
   },
   "outputs": [],
   "source": [
    "matrix = np.asarray(matrix)"
   ]
  },
  {
   "cell_type": "markdown",
   "id": "062d26c4",
   "metadata": {},
   "source": [
    "# validate embeddings"
   ]
  },
  {
   "cell_type": "code",
   "execution_count": null,
   "id": "3677ee7f",
   "metadata": {},
   "outputs": [],
   "source": []
  },
  {
   "cell_type": "markdown",
   "id": "d5d38942",
   "metadata": {
    "heading_collapsed": true
   },
   "source": [
    "# clustering"
   ]
  },
  {
   "cell_type": "code",
   "execution_count": null,
   "id": "61a9dec0",
   "metadata": {
    "ExecuteTime": {
     "end_time": "2022-09-04T08:57:26.230716Z",
     "start_time": "2022-09-04T08:57:26.227804Z"
    },
    "hidden": true
   },
   "outputs": [],
   "source": [
    "from sklearn.cluster import DBSCAN\n",
    "import numpy as np\n",
    "from collections import Counter"
   ]
  },
  {
   "cell_type": "code",
   "execution_count": null,
   "id": "f91eec4b",
   "metadata": {
    "ExecuteTime": {
     "end_time": "2022-09-04T08:57:53.105922Z",
     "start_time": "2022-09-04T08:57:53.101094Z"
    },
    "hidden": true
   },
   "outputs": [],
   "source": [
    "db = DBSCAN(eps=0.4,min_samples=2,metric='cosine').fit(matrix)"
   ]
  },
  {
   "cell_type": "code",
   "execution_count": null,
   "id": "fd163cfa",
   "metadata": {
    "ExecuteTime": {
     "end_time": "2022-09-04T08:57:54.152284Z",
     "start_time": "2022-09-04T08:57:54.147759Z"
    },
    "hidden": true
   },
   "outputs": [],
   "source": [
    "labels = db.labels_\n",
    "clusters = dict()\n",
    "for i,c in enumerate(labels):\n",
    "    if c == -1:\n",
    "        continue\n",
    "    if c in clusters:\n",
    "        clusters[c].append(vocab[i])\n",
    "    else:\n",
    "        clusters[c] = [vocab[i]]"
   ]
  },
  {
   "cell_type": "code",
   "execution_count": null,
   "id": "77c9b4f9",
   "metadata": {
    "ExecuteTime": {
     "end_time": "2022-09-04T08:57:54.422562Z",
     "start_time": "2022-09-04T08:57:54.416438Z"
    },
    "hidden": true
   },
   "outputs": [],
   "source": [
    "clusters"
   ]
  },
  {
   "cell_type": "code",
   "execution_count": null,
   "id": "c95f4809",
   "metadata": {
    "ExecuteTime": {
     "end_time": "2022-09-03T13:36:38.213641Z",
     "start_time": "2022-09-03T13:36:38.206152Z"
    },
    "hidden": true
   },
   "outputs": [],
   "source": [
    "n_clusters_ = len(set(labels)) - (1 if -1 in labels else 0)"
   ]
  },
  {
   "cell_type": "code",
   "execution_count": null,
   "id": "4fe464db",
   "metadata": {
    "ExecuteTime": {
     "end_time": "2022-09-04T08:34:40.641537Z",
     "start_time": "2022-09-04T08:34:40.633434Z"
    },
    "hidden": true
   },
   "outputs": [],
   "source": [
    "X = [[1, 2], [2, 2], [2, 3],[8, 7], [8, 8], [25, 80]]\n",
    "clustering = DBSCAN(eps=3, min_samples=2).fit(X)\n",
    "clustering.labels_"
   ]
  },
  {
   "cell_type": "markdown",
   "id": "ac9627e0",
   "metadata": {
    "heading_collapsed": true
   },
   "source": [
    "# wordnet"
   ]
  },
  {
   "cell_type": "code",
   "execution_count": 6,
   "id": "42953c73",
   "metadata": {
    "hidden": true
   },
   "outputs": [],
   "source": [
    "from nltk.corpus import wordnet as wn\n",
    "import nltk\n",
    "from nltk.corpus import stopwords\n",
    "from nltk.stem import WordNetLemmatizer\n",
    "#from nltk.stem import PorterStemmer\n",
    "import re\n",
    "from collections import Counter"
   ]
  },
  {
   "cell_type": "code",
   "execution_count": 7,
   "id": "dde97549",
   "metadata": {
    "hidden": true
   },
   "outputs": [
    {
     "data": {
      "text/plain": [
       "[Synset('dog.n.01'),\n",
       " Synset('frump.n.01'),\n",
       " Synset('dog.n.03'),\n",
       " Synset('cad.n.01'),\n",
       " Synset('frank.n.02'),\n",
       " Synset('pawl.n.01'),\n",
       " Synset('andiron.n.01'),\n",
       " Synset('chase.v.01')]"
      ]
     },
     "execution_count": 7,
     "metadata": {},
     "output_type": "execute_result"
    }
   ],
   "source": [
    "wn.synsets('dog')"
   ]
  },
  {
   "cell_type": "code",
   "execution_count": null,
   "id": "52286d51",
   "metadata": {
    "hidden": true
   },
   "outputs": [],
   "source": [
    "wn.synsets('dog')[0].hyponyms()"
   ]
  },
  {
   "cell_type": "code",
   "execution_count": null,
   "id": "ff8a16c7",
   "metadata": {
    "hidden": true
   },
   "outputs": [],
   "source": [
    "wn.synset('dog.n.01').definition()"
   ]
  },
  {
   "cell_type": "code",
   "execution_count": null,
   "id": "47c9e06b",
   "metadata": {
    "hidden": true
   },
   "outputs": [],
   "source": [
    "wn.synset('frump.n.01').definition()"
   ]
  },
  {
   "cell_type": "code",
   "execution_count": null,
   "id": "fdbf8e9e",
   "metadata": {
    "hidden": true
   },
   "outputs": [],
   "source": [
    "wn.synset('dog.n.03').definition()"
   ]
  },
  {
   "cell_type": "code",
   "execution_count": null,
   "id": "b551adb8",
   "metadata": {
    "hidden": true
   },
   "outputs": [],
   "source": [
    "dog = wn.synset('dog.n.01')\n",
    "dog.hypernyms()"
   ]
  },
  {
   "cell_type": "code",
   "execution_count": null,
   "id": "42ae361c",
   "metadata": {
    "hidden": true
   },
   "outputs": [],
   "source": [
    "dog.hyponyms()"
   ]
  },
  {
   "cell_type": "code",
   "execution_count": null,
   "id": "eb0b5125",
   "metadata": {
    "hidden": true
   },
   "outputs": [],
   "source": [
    "wn.synsets('bank')[9].hyponyms()"
   ]
  },
  {
   "cell_type": "code",
   "execution_count": 8,
   "id": "8f6ad014",
   "metadata": {
    "hidden": true
   },
   "outputs": [],
   "source": [
    "vocab = list(wn.all_synsets())"
   ]
  },
  {
   "cell_type": "code",
   "execution_count": 9,
   "id": "5a200e81",
   "metadata": {
    "hidden": true
   },
   "outputs": [
    {
     "data": {
      "text/plain": [
       "117659"
      ]
     },
     "execution_count": 9,
     "metadata": {},
     "output_type": "execute_result"
    }
   ],
   "source": [
    "len(vocab)"
   ]
  },
  {
   "cell_type": "code",
   "execution_count": 10,
   "id": "85ddfb46",
   "metadata": {
    "hidden": true
   },
   "outputs": [],
   "source": [
    "vocab_ = set()\n",
    "for ss in vocab:\n",
    "    word = ss.name().split('.')[0]\n",
    "    if '_' in word:\n",
    "        continue\n",
    "    vocab_.add(word)"
   ]
  },
  {
   "cell_type": "code",
   "execution_count": 11,
   "id": "ba28f8b0",
   "metadata": {
    "hidden": true
   },
   "outputs": [
    {
     "data": {
      "text/plain": [
       "58736"
      ]
     },
     "execution_count": 11,
     "metadata": {},
     "output_type": "execute_result"
    }
   ],
   "source": [
    "len(vocab_)"
   ]
  },
  {
   "cell_type": "code",
   "execution_count": 12,
   "id": "9726cc64",
   "metadata": {
    "hidden": true
   },
   "outputs": [
    {
     "data": {
      "text/plain": [
       "['',\n",
       " 'incorporation',\n",
       " 'labor-intensive',\n",
       " 'pulasan',\n",
       " 'ailurophobia',\n",
       " 'animal',\n",
       " 'skeet',\n",
       " 'tranquillity',\n",
       " 'properly',\n",
       " 'crawlspace']"
      ]
     },
     "execution_count": 12,
     "metadata": {},
     "output_type": "execute_result"
    }
   ],
   "source": [
    "list(vocab_)[:10]"
   ]
  },
  {
   "cell_type": "code",
   "execution_count": 13,
   "id": "d3e48968",
   "metadata": {
    "hidden": true
   },
   "outputs": [],
   "source": [
    "def get_uniques(input_list):\n",
    "    uniques = set()\n",
    "    for k,v in Counter(input_list).items():\n",
    "        if v>1:\n",
    "            continue\n",
    "        uniques.add(k)\n",
    "    return uniques"
   ]
  },
  {
   "cell_type": "code",
   "execution_count": 14,
   "id": "5267455b",
   "metadata": {
    "hidden": true
   },
   "outputs": [],
   "source": [
    "lemmatizer = WordNetLemmatizer()\n",
    "#ps = PorterStemmer()\n",
    "stops = set(stopwords.words('english'))\n",
    "word_desc = dict()\n",
    "for _word in vocab_:\n",
    "    word = lemmatizer.lemmatize(_word)\n",
    "    synsets = wn.synsets(word)\n",
    "    for synset in synsets:\n",
    "        txt = synset.definition().lower()\n",
    "        txt = re.sub(r'\\W+', ' ', txt)\n",
    "        words = [w for w in txt.split()]\n",
    "        #txts = synset.examples()\n",
    "        #txt = ' '.join(txts)\n",
    "        #txt = re.sub(r'\\W+', ' ', txt)\n",
    "        #words_ = [w for w in txt.split()]\n",
    "        #words = words + words_\n",
    "        hypo = synset.hyponyms()\n",
    "        hypo_words = [ss.name().split('.')[0] for ss in hypo]\n",
    "        hyper = synset.hypernyms()\n",
    "        hyper_words = [ss.name().split('.')[0] for ss in hyper]\n",
    "        _words = words+hypo_words+hyper_words\n",
    "        words = list()\n",
    "        for w in _words:\n",
    "            words.extend(w.split('_'))\n",
    "        words = [lemmatizer.lemmatize(w) for w in words if w not in stops]\n",
    "        words = set(words)\n",
    "        #add to dict\n",
    "        if word in word_desc:\n",
    "            word_desc[word].append(words)\n",
    "        else:\n",
    "            word_desc[word]=[words]"
   ]
  },
  {
   "cell_type": "code",
   "execution_count": 15,
   "id": "ced8139d",
   "metadata": {
    "hidden": true
   },
   "outputs": [
    {
     "data": {
      "text/plain": [
       "8"
      ]
     },
     "execution_count": 15,
     "metadata": {},
     "output_type": "execute_result"
    }
   ],
   "source": [
    "len(word_desc['dog'])"
   ]
  },
  {
   "cell_type": "code",
   "execution_count": 16,
   "id": "0344dbbd",
   "metadata": {
    "hidden": true
   },
   "outputs": [],
   "source": [
    "word2desc = dict()\n",
    "for k,v in word_desc.items():\n",
    "    word2desc[k] = list()\n",
    "    all_words = [item for sublist in v for item in sublist]\n",
    "    uniques = get_uniques(all_words)\n",
    "    for words in v:\n",
    "        words = set(words)\n",
    "        word2desc[k].append(words&uniques)"
   ]
  },
  {
   "cell_type": "code",
   "execution_count": 22,
   "id": "63c29f65",
   "metadata": {
    "hidden": true
   },
   "outputs": [
    {
     "data": {
      "text/plain": [
       "[{'catch', 'go', 'hound', 'intent', 'pursue', 'quest', 'run', 'tree'},\n",
       " {'indefatigable', 'pursuit', 'relentless'}]"
      ]
     },
     "execution_count": 22,
     "metadata": {},
     "output_type": "execute_result"
    }
   ],
   "source": [
    "word2desc['dogging']"
   ]
  },
  {
   "cell_type": "code",
   "execution_count": 19,
   "id": "7a89b94e",
   "metadata": {
    "hidden": true
   },
   "outputs": [],
   "source": [
    "import sys\n",
    "sys.path.append(\"../../imports/\")\n",
    "import saver as sv"
   ]
  },
  {
   "cell_type": "code",
   "execution_count": 20,
   "id": "b413aa5c",
   "metadata": {
    "hidden": true
   },
   "outputs": [
    {
     "name": "stdout",
     "output_type": "stream",
     "text": [
      "Saved the data\n"
     ]
    }
   ],
   "source": [
    "sv.save(word2desc,\"word2desc\")"
   ]
  },
  {
   "cell_type": "code",
   "execution_count": 31,
   "id": "f61b0b2f",
   "metadata": {
    "hidden": true
   },
   "outputs": [
    {
     "data": {
      "text/plain": [
       "{'abolition', 'favoring', 'government', 'orientation', 'political', 'theory'}"
      ]
     },
     "execution_count": 31,
     "metadata": {},
     "output_type": "execute_result"
    }
   ],
   "source": [
    "word2desc['anarchism'][0]"
   ]
  },
  {
   "cell_type": "code",
   "execution_count": null,
   "id": "eb25a3c5",
   "metadata": {
    "hidden": true
   },
   "outputs": [],
   "source": [
    "print(word2desc['fast'])\n",
    "print(len(word2desc['fast']))"
   ]
  },
  {
   "cell_type": "code",
   "execution_count": 24,
   "id": "869391d8",
   "metadata": {
    "hidden": true
   },
   "outputs": [],
   "source": [
    "def verbose(word):\n",
    "    synsets = wn.synsets(word)\n",
    "    for synset in synsets:\n",
    "        txt = synset.definition().lower()\n",
    "        txt = re.sub(r'\\W+', ' ', txt)\n",
    "        print(txt)\n",
    "        hyper = synset.hypernyms()\n",
    "        hyper_words = [ss.name().split('.')[0] for ss in hyper]\n",
    "        print(hyper_words)\n",
    "        hypo = synset.hyponyms()\n",
    "        hypo_words = [ss.name().split('.')[0] for ss in hypo]\n",
    "        print(hypo_words)\n",
    "        print('______')"
   ]
  },
  {
   "cell_type": "code",
   "execution_count": null,
   "id": "7e157428",
   "metadata": {
    "hidden": true
   },
   "outputs": [],
   "source": [
    "lemmatizer.lemmatize(\"faster\")"
   ]
  },
  {
   "cell_type": "code",
   "execution_count": 4,
   "id": "22aebca5",
   "metadata": {
    "hidden": true
   },
   "outputs": [],
   "source": [
    "import spacy\n",
    "nlp = spacy.load(\"en_core_web_sm\")"
   ]
  },
  {
   "cell_type": "code",
   "execution_count": 5,
   "id": "72b4580c",
   "metadata": {
    "hidden": true
   },
   "outputs": [
    {
     "name": "stdout",
     "output_type": "stream",
     "text": [
      "a a DET DT det x True True\n",
      "part part NOUN NN ROOT xxxx True True\n",
      "of of ADP IN prep xx True True\n",
      "a a DET DT det x True True\n",
      "river river NOUN NN pobj xxxx True False\n",
      "where where SCONJ WRB advmod xxxx True True\n",
      "the the DET DT det xxx True True\n",
      "current current NOUN NN nsubj xxxx True False\n",
      "is be AUX VBZ relcl xx True True\n",
      "very very ADV RB advmod xxxx True True\n",
      "fast fast ADV RB acomp xxxx True False\n"
     ]
    }
   ],
   "source": [
    "doc = nlp(\"a part of a river where the current is very fast\")\n",
    "\n",
    "for token in doc:\n",
    "    print(token.text, token.lemma_, token.pos_, token.tag_, token.dep_,\n",
    "            token.shape_, token.is_alpha, token.is_stop)"
   ]
  },
  {
   "cell_type": "code",
   "execution_count": 25,
   "id": "599aff77",
   "metadata": {
    "hidden": true
   },
   "outputs": [
    {
     "name": "stdout",
     "output_type": "stream",
     "text": [
      "go after with the intent to catch\n",
      "['pursue']\n",
      "['hound', 'quest', 'run_down', 'tree']\n",
      "______\n",
      "relentless and indefatigable in pursuit or as if in pursuit\n",
      "[]\n",
      "[]\n",
      "______\n"
     ]
    }
   ],
   "source": [
    "verbose('dogging')"
   ]
  },
  {
   "cell_type": "code",
   "execution_count": null,
   "id": "4023a36d",
   "metadata": {
    "hidden": true
   },
   "outputs": [],
   "source": [
    "verbose('rapid')"
   ]
  },
  {
   "cell_type": "code",
   "execution_count": null,
   "id": "ed804de0",
   "metadata": {
    "hidden": true
   },
   "outputs": [],
   "source": [
    "verbose('fast')"
   ]
  },
  {
   "cell_type": "code",
   "execution_count": null,
   "id": "28be8541",
   "metadata": {
    "hidden": true
   },
   "outputs": [],
   "source": [
    "word2desc['rapid']"
   ]
  },
  {
   "cell_type": "code",
   "execution_count": null,
   "id": "15b4a83c",
   "metadata": {
    "hidden": true
   },
   "outputs": [],
   "source": [
    "word2desc['fast']"
   ]
  },
  {
   "cell_type": "code",
   "execution_count": null,
   "id": "663ed08c",
   "metadata": {
    "hidden": true
   },
   "outputs": [],
   "source": [
    "def get_overlap(a,b):\n",
    "    a = word2desc[a]\n",
    "    b = word2desc[b]\n",
    "    overlap = 0\n",
    "    match = None\n",
    "    for i,x in enumerate(a):\n",
    "        for j,y in enumerate(b):\n",
    "            if len(x & y) > overlap:\n",
    "                overlap = len(x & y)\n",
    "                match = (i,j)\n",
    "    return match, overlap"
   ]
  },
  {
   "cell_type": "code",
   "execution_count": null,
   "id": "7bd32326",
   "metadata": {
    "hidden": true
   },
   "outputs": [],
   "source": [
    "get_overlap('fast','rapid')"
   ]
  },
  {
   "cell_type": "code",
   "execution_count": null,
   "id": "cb85d479",
   "metadata": {
    "hidden": true
   },
   "outputs": [],
   "source": [
    "from nltk.stem import PorterStemmer\n",
    "ps = PorterStemmer()\n",
    "print(ps.stem('moving'))\n",
    "print(lemmatizer.lemmatize('moving'))"
   ]
  },
  {
   "cell_type": "code",
   "execution_count": null,
   "id": "3218c49b",
   "metadata": {
    "hidden": true
   },
   "outputs": [],
   "source": [
    "word2desc['authority'][4]"
   ]
  },
  {
   "cell_type": "code",
   "execution_count": null,
   "id": "ef6fd815",
   "metadata": {
    "hidden": true
   },
   "outputs": [],
   "source": []
  },
  {
   "cell_type": "code",
   "execution_count": null,
   "id": "f5897f84",
   "metadata": {
    "hidden": true
   },
   "outputs": [],
   "source": []
  },
  {
   "cell_type": "code",
   "execution_count": null,
   "id": "628c2546",
   "metadata": {
    "hidden": true
   },
   "outputs": [],
   "source": [
    "len(vocab_)"
   ]
  },
  {
   "cell_type": "code",
   "execution_count": null,
   "id": "c069a49e",
   "metadata": {
    "hidden": true
   },
   "outputs": [],
   "source": [
    "list(vocab_)[:10]"
   ]
  },
  {
   "cell_type": "code",
   "execution_count": null,
   "id": "69ad3489",
   "metadata": {
    "hidden": true
   },
   "outputs": [],
   "source": [
    "dog.examples()"
   ]
  },
  {
   "cell_type": "code",
   "execution_count": null,
   "id": "8c0dd621",
   "metadata": {
    "hidden": true
   },
   "outputs": [],
   "source": []
  },
  {
   "cell_type": "code",
   "execution_count": null,
   "id": "9e3cc89b",
   "metadata": {
    "hidden": true
   },
   "outputs": [],
   "source": [
    "for i in vocab_[100:110]:\n",
    "    print(i)\n",
    "    txt = i.definition().lower()\n",
    "    print(txt)\n",
    "    txt = re.sub(r'\\W+', ' ', txt)\n",
    "    print(txt)\n",
    "    words = [word for word in txt.split() if word not in stops]\n",
    "    print(set(words))\n",
    "    word = i.name().split('.')[0]\n",
    "    print(wn.synsets(word))\n",
    "    print()"
   ]
  },
  {
   "cell_type": "code",
   "execution_count": null,
   "id": "c71712a0",
   "metadata": {
    "hidden": true
   },
   "outputs": [],
   "source": []
  }
 ],
 "metadata": {
  "kernelspec": {
   "display_name": "Python 3 (ipykernel)",
   "language": "python",
   "name": "python3"
  },
  "language_info": {
   "codemirror_mode": {
    "name": "ipython",
    "version": 3
   },
   "file_extension": ".py",
   "mimetype": "text/x-python",
   "name": "python",
   "nbconvert_exporter": "python",
   "pygments_lexer": "ipython3",
   "version": "3.8.0"
  }
 },
 "nbformat": 4,
 "nbformat_minor": 5
}
