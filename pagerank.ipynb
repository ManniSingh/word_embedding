{
 "cells": [
  {
   "cell_type": "code",
   "execution_count": 9,
   "id": "5a7072f3",
   "metadata": {
    "ExecuteTime": {
     "end_time": "2022-12-05T08:26:50.317361Z",
     "start_time": "2022-12-05T08:26:50.314634Z"
    }
   },
   "outputs": [],
   "source": [
    "from __future__ import division\n",
    "\n",
    "import numpy as np\n",
    "import scipy.sparse as sprs\n",
    "import scipy.spatial\n",
    "import scipy.sparse.linalg"
   ]
  },
  {
   "cell_type": "code",
   "execution_count": 34,
   "id": "14c2658c",
   "metadata": {
    "ExecuteTime": {
     "end_time": "2022-12-05T09:34:23.232837Z",
     "start_time": "2022-12-05T09:34:23.225082Z"
    }
   },
   "outputs": [],
   "source": [
    "def pagerank(A, p=0.85, personalize=None, reverse=False):\n",
    "    \"\"\" Calculates PageRank given a csr graph\n",
    "\n",
    "    Inputs:\n",
    "    -------\n",
    "\n",
    "    G: a csr graph.\n",
    "    p: damping factor\n",
    "    personlize: if not None, should be an array with the size of the nodes\n",
    "                containing probability distributions.\n",
    "                It will be normalized automatically\n",
    "    reverse: If true, returns the reversed-PageRank\n",
    "\n",
    "    outputs\n",
    "    -------\n",
    "\n",
    "    PageRank Scores for the nodes\n",
    "\n",
    "    \"\"\"\n",
    "    # In Moler's algorithm, $A_{ij}$ represents the existences of an edge\n",
    "    # from node $j$ to $i$, while we have assumed the opposite!\n",
    "    if reverse:\n",
    "        A = A.T\n",
    "\n",
    "    n, _ = A.shape\n",
    "    \n",
    "    r = np.asarray(A.sum(axis=1)).reshape(-1)\n",
    "\n",
    "    k = r.nonzero()[0]\n",
    "\n",
    "    D_1 = sprs.csr_matrix((1 / r[k], (k, k)), shape=(n, n))\n",
    "    \n",
    "    return D_1\n",
    "\n",
    "    if personalize is None:\n",
    "        personalize = np.ones(n)\n",
    "    personalize = personalize.reshape(n, 1)\n",
    "    s = (personalize / personalize.sum()) * n\n",
    "\n",
    "    I = sprs.eye(n)\n",
    "    x = sprs.linalg.spsolve((I - p * A.T @ D_1), s)\n",
    "\n",
    "    x = x / x.sum()\n",
    "    return x"
   ]
  },
  {
   "cell_type": "code",
   "execution_count": null,
   "id": "97b1095e",
   "metadata": {
    "ExecuteTime": {
     "start_time": "2022-12-05T10:08:37.400Z"
    }
   },
   "outputs": [],
   "source": [
    "n1 = 5\n",
    "edges1 = np.array([[0, 1],\n",
    "                   [1, 2],\n",
    "                   [2, 1],\n",
    "                   [2, 3],\n",
    "                   [2, 4],\n",
    "                   [3, 0],\n",
    "                   [3, 2],\n",
    "                   [4, 0],\n",
    "                   [4, 2],\n",
    "                   [4, 3]])\n",
    "weights1 = [0.4923,\n",
    "            0.0999,\n",
    "            0.2132,\n",
    "            0.0178,\n",
    "            0.5694,\n",
    "            0.0406,\n",
    "            0.2047,\n",
    "            0.8610,\n",
    "            0.3849,\n",
    "            0.4829]\n",
    "\n",
    "\n",
    "personalize1 = np.array([1,1,0,0,0])\n",
    "G1 = sprs.csr_matrix((weights1, (edges1[:, 0], edges1[:, 1])), shape=(n1, n1))"
   ]
  },
  {
   "cell_type": "code",
   "execution_count": null,
   "id": "9be9daf8",
   "metadata": {
    "ExecuteTime": {
     "start_time": "2022-12-05T10:08:39.952Z"
    }
   },
   "outputs": [],
   "source": [
    "calculated_pagerank = pagerank(G1,personalize=personalize1)"
   ]
  },
  {
   "cell_type": "code",
   "execution_count": null,
   "id": "c044afef",
   "metadata": {
    "ExecuteTime": {
     "start_time": "2022-12-05T10:08:40.487Z"
    }
   },
   "outputs": [],
   "source": [
    "calculated_pagerank"
   ]
  },
  {
   "cell_type": "code",
   "execution_count": 13,
   "id": "0b268a07",
   "metadata": {
    "ExecuteTime": {
     "end_time": "2022-12-05T08:28:25.984403Z",
     "start_time": "2022-12-05T08:28:25.980594Z"
    }
   },
   "outputs": [
    {
     "data": {
      "text/plain": [
       "<5x5 sparse matrix of type '<class 'numpy.float64'>'\n",
       "\twith 10 stored elements in Compressed Sparse Row format>"
      ]
     },
     "execution_count": 13,
     "metadata": {},
     "output_type": "execute_result"
    }
   ],
   "source": [
    "G1"
   ]
  },
  {
   "cell_type": "code",
   "execution_count": 14,
   "id": "c8fc5bb8",
   "metadata": {
    "ExecuteTime": {
     "end_time": "2022-12-05T08:34:33.880219Z",
     "start_time": "2022-12-05T08:34:33.876083Z"
    }
   },
   "outputs": [
    {
     "data": {
      "text/plain": [
       "array([0, 1, 2, 2, 2, 3, 3, 4, 4, 4])"
      ]
     },
     "execution_count": 14,
     "metadata": {},
     "output_type": "execute_result"
    }
   ],
   "source": []
  },
  {
   "cell_type": "code",
   "execution_count": null,
   "id": "98a8541c",
   "metadata": {},
   "outputs": [],
   "source": []
  }
 ],
 "metadata": {
  "kernelspec": {
   "display_name": "Python 3 (ipykernel)",
   "language": "python",
   "name": "python3"
  },
  "language_info": {
   "codemirror_mode": {
    "name": "ipython",
    "version": 3
   },
   "file_extension": ".py",
   "mimetype": "text/x-python",
   "name": "python",
   "nbconvert_exporter": "python",
   "pygments_lexer": "ipython3",
   "version": "3.8.0"
  }
 },
 "nbformat": 4,
 "nbformat_minor": 5
}
