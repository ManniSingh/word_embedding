{
 "cells": [
  {
   "cell_type": "code",
   "execution_count": 1,
   "id": "fa2ed6fe",
   "metadata": {
    "ExecuteTime": {
     "end_time": "2023-01-16T09:44:32.491881Z",
     "start_time": "2023-01-16T09:44:31.170072Z"
    }
   },
   "outputs": [],
   "source": [
    "#from nltk.corpus import wordnet as wn\n",
    "import wn\n",
    "en = wn.Wordnet('oewn:2021')\n",
    "from nltk.corpus import stopwords\n",
    "from nltk.stem import WordNetLemmatizer\n",
    "lemmatizer = WordNetLemmatizer()\n",
    "stops = set(stopwords.words('english'))\n",
    "from tqdm import tqdm\n",
    "import re\n",
    "import numpy as np\n",
    "import scipy.sparse as sprs\n",
    "import math\n",
    "from multiprocessing import Pool\n",
    "import os"
   ]
  },
  {
   "cell_type": "code",
   "execution_count": 2,
   "id": "80051376",
   "metadata": {
    "ExecuteTime": {
     "end_time": "2023-01-16T09:44:32.500542Z",
     "start_time": "2023-01-16T09:44:32.494595Z"
    }
   },
   "outputs": [],
   "source": [
    "import sys\n",
    "sys.path.append(\"../../imports/\")\n",
    "import saver as sv"
   ]
  },
  {
   "cell_type": "code",
   "execution_count": 3,
   "id": "88d7e235",
   "metadata": {
    "ExecuteTime": {
     "end_time": "2023-01-16T09:44:33.516523Z",
     "start_time": "2023-01-16T09:44:32.502390Z"
    }
   },
   "outputs": [],
   "source": [
    "vocab = list(en.synsets())\n",
    "#vocab = list(wn.all_synsets())"
   ]
  },
  {
   "cell_type": "code",
   "execution_count": 4,
   "id": "3a8831b7",
   "metadata": {
    "ExecuteTime": {
     "end_time": "2023-01-16T09:44:33.627396Z",
     "start_time": "2023-01-16T09:44:33.519666Z"
    }
   },
   "outputs": [],
   "source": [
    "synset2index=dict()\n",
    "index2synset=dict()\n",
    "for i,ss in enumerate(vocab):\n",
    "    #synset2index[ss.name()]=i\n",
    "    #index2synset[i]=ss.name()\n",
    "    synset2index[ss.id]=i\n",
    "    index2synset[i]=ss.id"
   ]
  },
  {
   "cell_type": "markdown",
   "id": "348ce455",
   "metadata": {
    "ExecuteTime": {
     "end_time": "2022-12-12T07:24:23.645161Z",
     "start_time": "2022-12-12T07:24:23.642042Z"
    }
   },
   "source": [
    "# matrix"
   ]
  },
  {
   "cell_type": "code",
   "execution_count": 5,
   "id": "94becf7a",
   "metadata": {
    "ExecuteTime": {
     "end_time": "2023-01-16T09:45:07.181922Z",
     "start_time": "2023-01-16T09:44:52.117825Z"
    }
   },
   "outputs": [
    {
     "name": "stderr",
     "output_type": "stream",
     "text": [
      "100%|██████████████████████████████████████████████████████████████████████████████████████████████████████████████████████████████████████████████████████| 120039/120039 [00:15<00:00, 7975.54it/s]\n"
     ]
    }
   ],
   "source": [
    "# for soft computation\n",
    "SOFT = True\n",
    "synset_descs = dict()\n",
    "for synset in tqdm(vocab,position=0):\n",
    "    txt = synset.definition().lower()\n",
    "    txt = re.sub(r'\\W+', ' ', txt)\n",
    "    words = [w for w in txt.split()]\n",
    "    words = set([lemmatizer.lemmatize(w) for w in words if w not in stops])\n",
    "    words = set([w for w in words if w not in stops])\n",
    "    #synset = synset.name()\n",
    "    synset = synset.id\n",
    "    self_index = synset2index[synset]\n",
    "    synset_descs[self_index]=words"
   ]
  },
  {
   "cell_type": "code",
   "execution_count": null,
   "id": "63b6564c",
   "metadata": {
    "ExecuteTime": {
     "end_time": "2023-01-06T08:12:03.638507Z",
     "start_time": "2023-01-06T07:57:26.970810Z"
    }
   },
   "outputs": [],
   "source": [
    "from parallelbar import progress_imap\n",
    "import workers\n",
    "if __name__ == \"__main__\":\n",
    "    result = progress_imap(workers.getMvector,range(len(vocab)), n_cpu=20, \\\n",
    "                           initializer=workers.init_ss,\\\n",
    "                           initargs=(synset2index,synset_descs,SOFT)) \n",
    "#M = np.asarray(result,dtype=np.float16)\n",
    "M = sprs.csr_matrix(result)"
   ]
  },
  {
   "cell_type": "code",
   "execution_count": null,
   "id": "6ad6396a",
   "metadata": {
    "ExecuteTime": {
     "end_time": "2023-01-06T08:12:06.174290Z",
     "start_time": "2023-01-06T08:12:03.641959Z"
    }
   },
   "outputs": [],
   "source": [
    "del result"
   ]
  },
  {
   "cell_type": "code",
   "execution_count": null,
   "id": "2192fec2",
   "metadata": {
    "ExecuteTime": {
     "end_time": "2022-12-31T08:48:34.267521Z",
     "start_time": "2022-12-31T08:48:33.789314Z"
    }
   },
   "outputs": [],
   "source": [
    "sv.save(M,'M2')"
   ]
  },
  {
   "cell_type": "code",
   "execution_count": null,
   "id": "618c953a",
   "metadata": {
    "ExecuteTime": {
     "end_time": "2023-01-06T08:22:26.230381Z",
     "start_time": "2023-01-06T08:22:26.151931Z"
    }
   },
   "outputs": [],
   "source": [
    "M = sv.load('M2')"
   ]
  },
  {
   "cell_type": "code",
   "execution_count": null,
   "id": "304ee2dd",
   "metadata": {
    "ExecuteTime": {
     "end_time": "2023-01-06T08:19:40.527187Z",
     "start_time": "2023-01-06T08:19:40.524151Z"
    }
   },
   "outputs": [],
   "source": [
    "alpha = 0.85\n",
    "iters = 30"
   ]
  },
  {
   "cell_type": "code",
   "execution_count": null,
   "id": "87765675",
   "metadata": {
    "ExecuteTime": {
     "end_time": "2023-01-06T08:19:44.533804Z",
     "start_time": "2023-01-06T08:19:40.642975Z"
    }
   },
   "outputs": [],
   "source": [
    "P_0 = np.eye(M.shape[0],dtype=np.int8)\n",
    "P = np.ones(M.shape,dtype=np.int8)"
   ]
  },
  {
   "cell_type": "markdown",
   "id": "fe905738",
   "metadata": {},
   "source": [
    "# verbose"
   ]
  },
  {
   "cell_type": "code",
   "execution_count": null,
   "id": "cbc0210d",
   "metadata": {
    "ExecuteTime": {
     "end_time": "2023-01-10T12:21:49.275665Z",
     "start_time": "2023-01-10T12:21:49.266157Z"
    }
   },
   "outputs": [],
   "source": [
    "def display(target):\n",
    "    target_senses = wn.synsets(target)\n",
    "    for target in target_senses:\n",
    "        print(target)\n",
    "        #print(target.lexname())\n",
    "        print([(l.name(),l.synset()) for l in target.lemmas()])\n",
    "        print(target.definition())\n",
    "        print('Hyponyms:',[(lemma.name(),lemma.synset()) for _target in target.hyponyms() for lemma in _target.lemmas()])\n",
    "        print('Hypernyms:',[(lemma.name(),lemma.synset()) for _target in target.hypernyms() for lemma in _target.lemmas()])\n",
    "        print('Holonyms:',target.member_holonyms())\n",
    "        print('Derivation:',[(lemma.name(),lemma.synset()) for lemma in target.lemmas() for lname in lemma.derivationally_related_forms()])\n",
    "        print('Pertainyms:',[(lemma.name(),lemma.synset()) for lemma in target.lemmas() for lname in lemma.pertainyms()])\n",
    "        print('___________')"
   ]
  },
  {
   "cell_type": "code",
   "execution_count": null,
   "id": "c5579a7f",
   "metadata": {
    "ExecuteTime": {
     "end_time": "2023-01-10T12:34:12.841691Z",
     "start_time": "2023-01-10T12:34:12.831884Z"
    }
   },
   "outputs": [],
   "source": [
    "display('webbed')"
   ]
  },
  {
   "cell_type": "code",
   "execution_count": null,
   "id": "7696f1b6",
   "metadata": {
    "ExecuteTime": {
     "end_time": "2023-01-08T09:04:33.375528Z",
     "start_time": "2023-01-08T09:04:33.367671Z"
    }
   },
   "outputs": [],
   "source": [
    "def get_pairs(index):\n",
    "    desc = synset_descs[index]\n",
    "    print(desc)\n",
    "    synsets = set()\n",
    "    for word in desc:\n",
    "        _synsets = wn.synsets(word)\n",
    "        synsets.update(_synsets)\n",
    "    synsets = list(synsets)\n",
    "    total = len(synsets)\n",
    "    pairs = set()\n",
    "    for i in range(total):\n",
    "        for j in range(total):\n",
    "            if i == j:\n",
    "                continue\n",
    "            sa = synsets[i]\n",
    "            sb = synsets[j]\n",
    "            rels = list()\n",
    "            rels.extend(sa.hypernyms())\n",
    "            rels.extend(sa.hyponyms())\n",
    "            if not rels:\n",
    "                continue\n",
    "            if sb in rels:\n",
    "                pairs.update({sa,sb})  \n",
    "    return pairs"
   ]
  },
  {
   "cell_type": "code",
   "execution_count": null,
   "id": "b1e68433",
   "metadata": {
    "ExecuteTime": {
     "end_time": "2023-01-08T09:04:34.256804Z",
     "start_time": "2023-01-08T09:04:34.220167Z"
    }
   },
   "outputs": [],
   "source": [
    "get_pairs(index)"
   ]
  },
  {
   "cell_type": "code",
   "execution_count": null,
   "id": "861359b1",
   "metadata": {
    "ExecuteTime": {
     "end_time": "2023-01-10T10:56:12.189911Z",
     "start_time": "2023-01-10T10:56:12.186447Z"
    }
   },
   "outputs": [],
   "source": [
    "from collections import Counter"
   ]
  },
  {
   "cell_type": "code",
   "execution_count": null,
   "id": "1d41464d",
   "metadata": {
    "ExecuteTime": {
     "end_time": "2023-01-10T11:08:06.977379Z",
     "start_time": "2023-01-10T11:08:06.970151Z"
    }
   },
   "outputs": [],
   "source": [
    "def mcom(worda,wordb,verbose=False):\n",
    "    sa = wn.synsets(worda)\n",
    "    sb = wn.synsets(wordb)\n",
    "    roots = list()\n",
    "    for _sa in sa:\n",
    "        for _sb in sb:\n",
    "            if _sa.name() == _sb.name():\n",
    "                continue\n",
    "            sim = _sa.wup_similarity(_sb, simulate_root=False)\n",
    "            if sim:\n",
    "                root = _sa.lowest_common_hypernyms(_sb)\n",
    "                roots.extend(root)\n",
    "                if verbose:\n",
    "                    print(root)\n",
    "                    print(_sa.name(),_sb.name(),sim)\n",
    "    counts =  Counter(roots)\n",
    "    if counts:\n",
    "        mcom = counts.most_common(1)[0][0]\n",
    "    else:\n",
    "        mcom = None\n",
    "    return mcom"
   ]
  },
  {
   "cell_type": "code",
   "execution_count": null,
   "id": "a2ed5595",
   "metadata": {
    "ExecuteTime": {
     "end_time": "2023-01-09T07:08:11.776192Z",
     "start_time": "2023-01-09T07:08:11.296140Z"
    }
   },
   "outputs": [],
   "source": [
    "desc = synset_descs[index]\n",
    "print(desc)\n",
    "_desc = set()\n",
    "for worda in desc:\n",
    "    for wordb in desc:\n",
    "        if worda == wordb:\n",
    "            continue\n",
    "        if graph_sim(worda,wordb):\n",
    "            _desc.update({worda,wordb})\n",
    "print(_desc)"
   ]
  },
  {
   "cell_type": "code",
   "execution_count": null,
   "id": "6985de0c",
   "metadata": {
    "ExecuteTime": {
     "end_time": "2022-12-31T08:06:45.434589Z",
     "start_time": "2022-12-31T08:06:45.421706Z"
    }
   },
   "outputs": [],
   "source": [
    "def getMvector(index,soft=False):\n",
    "    '''\n",
    "    parameters:\n",
    "    -----------\n",
    "    synset: nltk Wordnet Synset object\n",
    "    \n",
    "    returns:\n",
    "    --------\n",
    "    vector: numpy vector\n",
    "    '''\n",
    "    synset = vocab[index]\n",
    "    vector = np.zeros(len(synset2index))\n",
    "    connections = list()\n",
    "    connections.extend([l.synset().name() for l in synset.lemmas()])\n",
    "    connections.extend([lemma.synset().name() for _target in synset.hyponyms() for lemma in _target.lemmas()])\n",
    "    connections.extend([lemma.synset().name() for _target in synset.hypernyms() for lemma in _target.lemmas()])\n",
    "    #connections.extend([lemma.synset().name() for _target in synset.root_hypernyms() for lemma in _target.lemmas()])\n",
    "    connections.extend(s.name() for s in synset.member_holonyms())\n",
    "    #connections.extend([lname.synset().name() for lemma in synset.lemmas() for lname in lemma.derivationally_related_forms()])\n",
    "    #connections.extend([lname.synset().name() for lemma in synset.lemmas() for lname in lemma.pertainyms()])\n",
    "    #connections.extend([lname.synset().name() for lemma in synset.lemmas() for lname in lemma.antonyms()])\n",
    "    connections=set([synset2index[ss] for ss in connections])\n",
    "    connections.remove(index)\n",
    "    out = dict()\n",
    "    for i in connections:\n",
    "        out[i] = 2   \n",
    "    #return out\n",
    "    if soft:\n",
    "        connections = list()\n",
    "        for word in synset_descs[index]:\n",
    "            mentions = [key for key in synset2index if key.startswith(word+'.')]\n",
    "            connections.extend(mentions)\n",
    "        connections=set([synset2index[ss] for ss in connections])\n",
    "        if index in connections:\n",
    "            connections.remove(index)\n",
    "        for i in connections:\n",
    "            if i not in out:\n",
    "                out[i] = 1 \n",
    "    n = sum(out.values())\n",
    "    for i,v in out.items():\n",
    "        vector[i]=v/n\n",
    "    vector = sprs.csr_matrix(vector)\n",
    "    return vector\n",
    "    #return connections\n",
    "    "
   ]
  },
  {
   "cell_type": "code",
   "execution_count": null,
   "id": "33e19667",
   "metadata": {
    "ExecuteTime": {
     "end_time": "2023-01-09T07:08:05.005222Z",
     "start_time": "2023-01-09T07:08:05.002204Z"
    }
   },
   "outputs": [],
   "source": [
    "#index = 52392 # 'digit.n.03'\n",
    "#index = 14380 # 'webbed.a.01'\n",
    "index = 35053 # 'tarsier.n.01'"
   ]
  },
  {
   "cell_type": "code",
   "execution_count": null,
   "id": "47cbe11f",
   "metadata": {
    "ExecuteTime": {
     "end_time": "2022-12-29T09:22:16.673993Z",
     "start_time": "2022-12-29T09:22:16.670050Z"
    }
   },
   "outputs": [],
   "source": [
    "getMvector(15229)"
   ]
  },
  {
   "cell_type": "code",
   "execution_count": null,
   "id": "267a4fd0",
   "metadata": {
    "ExecuteTime": {
     "end_time": "2023-01-06T08:23:00.685906Z",
     "start_time": "2023-01-06T08:23:00.681861Z"
    }
   },
   "outputs": [],
   "source": [
    "def get_vec(index,iters=30):\n",
    "    '''\n",
    "    Executes power equation and returns the vector.\n",
    "    '''\n",
    "    P_t = P[index]\n",
    "    for _ in range(iters):\n",
    "        P_t = (1-alpha)*P_0[index]+alpha*M*P_t\n",
    "        P_t = P_t/P_t.sum()\n",
    "    return P_t"
   ]
  },
  {
   "cell_type": "code",
   "execution_count": null,
   "id": "d418dc09",
   "metadata": {
    "ExecuteTime": {
     "end_time": "2023-01-06T08:24:21.940442Z",
     "start_time": "2023-01-06T08:24:17.449152Z"
    }
   },
   "outputs": [],
   "source": [
    "vec = get_vec(index,200)"
   ]
  },
  {
   "cell_type": "code",
   "execution_count": null,
   "id": "cd987991",
   "metadata": {
    "ExecuteTime": {
     "end_time": "2023-01-06T06:04:39.171815Z",
     "start_time": "2023-01-06T06:04:39.150855Z"
    }
   },
   "outputs": [],
   "source": [
    "#sanity check\n",
    "\n",
    "for i in np.flip(np.argsort(PPR[index]))[:27]:\n",
    "    print(i,index2synset[i])"
   ]
  },
  {
   "cell_type": "code",
   "execution_count": null,
   "id": "e19ae91d",
   "metadata": {
    "ExecuteTime": {
     "end_time": "2023-01-06T08:22:35.165165Z",
     "start_time": "2023-01-06T08:22:35.145321Z"
    }
   },
   "outputs": [],
   "source": [
    "for indexes,score in zip(M[index].indices,M[index].data):\n",
    "    print(index2synset[indexes],score)"
   ]
  },
  {
   "cell_type": "code",
   "execution_count": null,
   "id": "baec8e22",
   "metadata": {
    "ExecuteTime": {
     "end_time": "2023-01-06T08:23:17.934541Z",
     "start_time": "2023-01-06T08:23:17.930655Z"
    }
   },
   "outputs": [],
   "source": [
    "def get_argmax(vec,k):\n",
    "    for i in np.flip(np.argsort(vec))[:k+1]:\n",
    "        print(i,index2synset[i])"
   ]
  },
  {
   "cell_type": "code",
   "execution_count": null,
   "id": "fc1f31c9",
   "metadata": {
    "ExecuteTime": {
     "end_time": "2023-01-06T08:24:27.789107Z",
     "start_time": "2023-01-06T08:24:27.763761Z"
    }
   },
   "outputs": [],
   "source": [
    "get_argmax(vec,27)"
   ]
  },
  {
   "cell_type": "markdown",
   "id": "bd3cc632",
   "metadata": {
    "heading_collapsed": true
   },
   "source": [
    "# pre-made"
   ]
  },
  {
   "cell_type": "code",
   "execution_count": null,
   "id": "f459168f",
   "metadata": {
    "ExecuteTime": {
     "end_time": "2022-12-08T05:34:29.673589Z",
     "start_time": "2022-12-08T05:34:29.665696Z"
    },
    "hidden": true
   },
   "outputs": [],
   "source": [
    "def pagerank(A, p=0.85, personalize=None, reverse=False):\n",
    "    \"\"\" Calculates PageRank given a csr graph\n",
    "\n",
    "    Inputs:\n",
    "    -------\n",
    "\n",
    "    G: a csr graph.\n",
    "    p: damping factor\n",
    "    personlize: if not None, should be an array with the size of the nodes\n",
    "                containing probability distributions.\n",
    "                It will be normalized automatically\n",
    "    reverse: If true, returns the reversed-PageRank\n",
    "\n",
    "    outputs\n",
    "    -------\n",
    "\n",
    "    PageRank Scores for the nodes\n",
    "\n",
    "    \"\"\"\n",
    "    # In Moler's algorithm, $A_{ij}$ represents the existences of an edge\n",
    "    # from node $j$ to $i$, while we have assumed the opposite!\n",
    "    if reverse:\n",
    "        A = A.T\n",
    "\n",
    "    n, _ = A.shape\n",
    "    \n",
    "    r = np.asarray(A.sum(axis=1)).reshape(-1)\n",
    "\n",
    "    k = r.nonzero()[0]\n",
    "\n",
    "    D_1 = sprs.csr_matrix((1 / r[k], (k, k)), shape=(n, n))\n",
    "\n",
    "    if personalize is None:\n",
    "        personalize = np.ones(n)\n",
    "    personalize = personalize.reshape(n, 1)\n",
    "    s = (personalize / personalize.sum()) * n\n",
    "\n",
    "    I = sprs.eye(n)\n",
    "    x = sprs.linalg.spsolve((I - p * A.T @ D_1), s)\n",
    "    x = x / x.sum()\n",
    "    return x"
   ]
  },
  {
   "cell_type": "code",
   "execution_count": null,
   "id": "847f200d",
   "metadata": {
    "ExecuteTime": {
     "end_time": "2022-12-08T05:34:32.291705Z",
     "start_time": "2022-12-08T05:34:31.854319Z"
    },
    "hidden": true
   },
   "outputs": [],
   "source": [
    "result = pagerank(M, personalize=P_0[0])"
   ]
  },
  {
   "cell_type": "markdown",
   "id": "d806be4a",
   "metadata": {},
   "source": [
    "# organic compute"
   ]
  },
  {
   "cell_type": "code",
   "execution_count": null,
   "id": "3d4dfb16",
   "metadata": {
    "ExecuteTime": {
     "end_time": "2023-01-06T07:46:22.062637Z",
     "start_time": "2023-01-06T07:46:22.057340Z"
    }
   },
   "outputs": [],
   "source": [
    "def get_vec(index,iters=30):\n",
    "    '''\n",
    "    Executes power equation and returns the vector.\n",
    "    '''\n",
    "    P_t = P[index]\n",
    "    for _ in range(iters):\n",
    "        P_t = (1-alpha)*P_0[index]+alpha*M*P_t\n",
    "        P_t = P_t/P_t.sum()\n",
    "    return P_t"
   ]
  },
  {
   "cell_type": "code",
   "execution_count": null,
   "id": "ef6673c3",
   "metadata": {
    "ExecuteTime": {
     "end_time": "2022-12-18T09:40:05.370470Z",
     "start_time": "2022-12-18T09:39:57.375776Z"
    }
   },
   "outputs": [],
   "source": [
    "PPR = np.zeros(M.shape)\n",
    "for i in tqdm(range(P.shape[0]),position=0):\n",
    "    P_t = get_vec(i)\n",
    "    PPR[i]=P_t"
   ]
  },
  {
   "cell_type": "code",
   "execution_count": null,
   "id": "93a74f40",
   "metadata": {
    "ExecuteTime": {
     "end_time": "2022-12-31T11:12:28.060177Z",
     "start_time": "2022-12-31T08:55:10.423160Z"
    }
   },
   "outputs": [],
   "source": [
    "from parallelbar import progress_imap\n",
    "import workers\n",
    "if __name__ == \"__main__\":\n",
    "    result = progress_imap(workers.getVec,range(P.shape[0]),initializer=workers.init_worker,\\\n",
    "                            initargs=(alpha,iters,P,P_0,M)) "
   ]
  },
  {
   "cell_type": "code",
   "execution_count": null,
   "id": "c7541586",
   "metadata": {
    "ExecuteTime": {
     "end_time": "2022-12-31T11:12:28.170524Z",
     "start_time": "2022-12-31T11:12:28.064566Z"
    }
   },
   "outputs": [],
   "source": [
    "del P_0, P"
   ]
  },
  {
   "cell_type": "code",
   "execution_count": null,
   "id": "fee3ae14",
   "metadata": {
    "ExecuteTime": {
     "end_time": "2022-12-31T11:36:28.742372Z",
     "start_time": "2022-12-31T11:12:28.172990Z"
    }
   },
   "outputs": [],
   "source": [
    "PPR = np.asarray(result,dtype=np.float16)"
   ]
  },
  {
   "cell_type": "code",
   "execution_count": null,
   "id": "a6302bad",
   "metadata": {
    "ExecuteTime": {
     "end_time": "2022-12-31T11:36:29.025183Z",
     "start_time": "2022-12-31T11:36:28.747577Z"
    }
   },
   "outputs": [],
   "source": [
    "del result"
   ]
  },
  {
   "cell_type": "code",
   "execution_count": null,
   "id": "a6bc9fe6",
   "metadata": {
    "ExecuteTime": {
     "end_time": "2022-12-26T10:45:36.212060Z",
     "start_time": "2022-12-26T10:41:08.765566Z"
    }
   },
   "outputs": [],
   "source": [
    "sv.save(PPR,'PPR2')"
   ]
  },
  {
   "cell_type": "markdown",
   "id": "4caf530a",
   "metadata": {
    "heading_collapsed": true
   },
   "source": [
    "# load PPR"
   ]
  },
  {
   "cell_type": "code",
   "execution_count": null,
   "id": "8865ba05",
   "metadata": {
    "ExecuteTime": {
     "end_time": "2022-12-23T07:31:49.863441Z",
     "start_time": "2022-12-23T07:15:54.429503Z"
    },
    "hidden": true
   },
   "outputs": [],
   "source": [
    "PPR = sv.load('PPR')"
   ]
  },
  {
   "cell_type": "markdown",
   "id": "9bc3b9c1",
   "metadata": {
    "heading_collapsed": true
   },
   "source": [
    "# word embs loading"
   ]
  },
  {
   "cell_type": "code",
   "execution_count": null,
   "id": "3313d020",
   "metadata": {
    "ExecuteTime": {
     "end_time": "2022-12-24T08:55:03.791422Z",
     "start_time": "2022-12-24T08:54:51.945017Z"
    },
    "hidden": true
   },
   "outputs": [],
   "source": [
    "from gensim.models import KeyedVectors\n",
    "\n",
    "w2v = '/home/manni/embs/w2v.model'\n",
    "model = KeyedVectors.load(w2v)"
   ]
  },
  {
   "cell_type": "markdown",
   "id": "58cc23dc",
   "metadata": {
    "heading_collapsed": true
   },
   "source": [
    "# embeddings computations"
   ]
  },
  {
   "cell_type": "code",
   "execution_count": null,
   "id": "8a2616c4",
   "metadata": {
    "ExecuteTime": {
     "end_time": "2022-12-23T09:38:06.752258Z",
     "start_time": "2022-12-23T09:38:06.737955Z"
    },
    "hidden": true
   },
   "outputs": [],
   "source": [
    "def get_lambdas(k=25,lamda=0.2):\n",
    "    '''\n",
    "    Returns list of lamdas\n",
    "    '''\n",
    "    lamdas = list()\n",
    "    for i in range(1,k+1):\n",
    "        l = 1/(math.exp(lamda*i)*k)\n",
    "        lamdas.append(l)\n",
    "    return lamdas\n",
    "\n",
    "lamdas = get_lambdas(k=100)\n",
    "\n",
    "def get_vector(i,k=25,beta=1):\n",
    "    _top_k = np.flip(np.argsort(PPR[i]))[1:k+1]\n",
    "    #_top_k = [l.name() for _i in _top_k for l in wn.synset(index2synset[_i]).lemmas()]\n",
    "    _top_k = [l for _i in _top_k for l in synset_descs[_i]] # orignal suggested version \n",
    "    top_k = list()\n",
    "    [top_k.append(x) for x in _top_k if x not in top_k]\n",
    "    top_k = top_k[:k+1] # fixed limit\n",
    "    targets = [l.name() for l in wn.synset(index2synset[i]).lemmas()]\n",
    "    V_si = np.zeros(model.vector_size)\n",
    "    for target in targets:\n",
    "        if target in model.vocab:\n",
    "            V_si = np.add(V_si,model.get_vector(target))\n",
    "    V_si = beta*V_si \n",
    "    V_sum = np.zeros(model.vector_size)\n",
    "    #lamdas = get_lambdas(len(top_k))\n",
    "    _lamdas = lamdas[:len(top_k)]\n",
    "    for j,lamda in enumerate(_lamdas):\n",
    "        word = top_k[j]\n",
    "        if word not in model.vocab:\n",
    "            continue\n",
    "        _V = lamda*model.get_vector(word)\n",
    "        V_sum = np.add(V_sum,_V)\n",
    "    num = V_si+V_sum # numerator\n",
    "    den = beta + sum(_lamdas)\n",
    "    return num/den"
   ]
  },
  {
   "cell_type": "code",
   "execution_count": null,
   "id": "ae5c6988",
   "metadata": {
    "ExecuteTime": {
     "end_time": "2022-12-24T09:04:58.059883Z",
     "start_time": "2022-12-24T08:55:13.922529Z"
    },
    "hidden": true
   },
   "outputs": [],
   "source": [
    "vectors = dict()\n",
    "for i,synset in tqdm(index2synset.items(),position=0):\n",
    "    vec = get_vector(i)\n",
    "    if sum(vec) == 0:\n",
    "        continue\n",
    "    vectors[synset]=vec"
   ]
  },
  {
   "cell_type": "code",
   "execution_count": null,
   "id": "a0cf3304",
   "metadata": {
    "ExecuteTime": {
     "end_time": "2022-12-24T09:06:04.537512Z",
     "start_time": "2022-12-24T09:04:58.063638Z"
    },
    "hidden": true
   },
   "outputs": [],
   "source": [
    "emb_file = '/home/manni/embs/dconf2_1.txt'\n",
    "with gzip.open(emb_file, 'w', encoding='utf-8') as f:\n",
    "    f.write('%d %d\\n' % (len(vectors), 300))\n",
    "    for word,vector in tqdm(vectors.items(), position=0):\n",
    "        f.write('%s %s\\n' % (word, ' '.join([str(v) for v in vector])))"
   ]
  },
  {
   "cell_type": "code",
   "execution_count": null,
   "id": "7e8d262d",
   "metadata": {
    "hidden": true
   },
   "outputs": [],
   "source": [
    "# lemmatize "
   ]
  }
 ],
 "metadata": {
  "kernelspec": {
   "display_name": "Python 3 (ipykernel)",
   "language": "python",
   "name": "python3"
  },
  "language_info": {
   "codemirror_mode": {
    "name": "ipython",
    "version": 3
   },
   "file_extension": ".py",
   "mimetype": "text/x-python",
   "name": "python",
   "nbconvert_exporter": "python",
   "pygments_lexer": "ipython3",
   "version": "3.8.0"
  }
 },
 "nbformat": 4,
 "nbformat_minor": 5
}
