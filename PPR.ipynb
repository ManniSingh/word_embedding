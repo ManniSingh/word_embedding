{
 "cells": [
  {
   "cell_type": "code",
   "execution_count": 1,
   "id": "fa2ed6fe",
   "metadata": {
    "ExecuteTime": {
     "end_time": "2023-01-27T06:46:57.781972Z",
     "start_time": "2023-01-27T06:46:55.292266Z"
    }
   },
   "outputs": [],
   "source": [
    "from nltk.corpus import wordnet as wn\n",
    "from nltk.corpus import stopwords\n",
    "from nltk.stem import WordNetLemmatizer\n",
    "lemmatizer = WordNetLemmatizer()\n",
    "stops = set(stopwords.words('english'))\n",
    "from tqdm import tqdm\n",
    "import re\n",
    "import numpy as np\n",
    "import scipy.sparse as sprs\n",
    "import math\n",
    "from multiprocessing import Pool\n",
    "import os\n",
    "import gzip"
   ]
  },
  {
   "cell_type": "code",
   "execution_count": 2,
   "id": "41799fc4",
   "metadata": {
    "ExecuteTime": {
     "end_time": "2023-01-27T06:46:57.793770Z",
     "start_time": "2023-01-27T06:46:57.784813Z"
    }
   },
   "outputs": [],
   "source": [
    "import sys\n",
    "sys.path.append(\"../../imports/\")\n",
    "import saver as sv"
   ]
  },
  {
   "cell_type": "markdown",
   "id": "1662cec9",
   "metadata": {
    "heading_collapsed": true
   },
   "source": [
    "# parse gloss links"
   ]
  },
  {
   "cell_type": "code",
   "execution_count": null,
   "id": "2def118b",
   "metadata": {
    "ExecuteTime": {
     "end_time": "2023-01-19T06:50:00.434404Z",
     "start_time": "2023-01-19T06:50:00.179036Z"
    },
    "hidden": true
   },
   "outputs": [],
   "source": [
    "import csv\n",
    "import requests\n",
    "import xml.etree.ElementTree as ET"
   ]
  },
  {
   "cell_type": "code",
   "execution_count": null,
   "id": "79191dd5",
   "metadata": {
    "ExecuteTime": {
     "end_time": "2023-01-19T06:50:00.439871Z",
     "start_time": "2023-01-19T06:50:00.436906Z"
    },
    "hidden": true
   },
   "outputs": [],
   "source": [
    "files = ['/home/manni/data/glosstag/merged/adj.xml','/home/manni/data/glosstag/merged/adv.xml',\n",
    "         '/home/manni/data/glosstag/merged/noun.xml','/home/manni/data/glosstag/merged/verb.xml']"
   ]
  },
  {
   "cell_type": "code",
   "execution_count": null,
   "id": "3c437c4c",
   "metadata": {
    "ExecuteTime": {
     "end_time": "2023-01-19T07:10:03.869905Z",
     "start_time": "2023-01-19T07:02:53.184596Z"
    },
    "hidden": true
   },
   "outputs": [],
   "source": [
    "id2ssn = dict()\n",
    "for path in files:\n",
    "    tree = ET.parse(path)\n",
    "    root = tree.getroot()\n",
    "    for synset in tqdm(root,position=0,leave=True):\n",
    "        conns = set()\n",
    "        for sc in synset:\n",
    "            if sc.tag == 'keys':\n",
    "                for ssc in sc:\n",
    "                    if ssc.tag == 'sk':\n",
    "                        sk = ssc.text\n",
    "                        try:\n",
    "                            id_ = wn.synset_from_sense_key(sk).name()\n",
    "                        except:\n",
    "                            sk = sk.replace('%3','%5')\n",
    "                            id_ = wn.synset_from_sense_key(sk).name() \n",
    "                continue\n",
    "            if sc.tag == 'gloss' and sc.attrib['desc']=='wsd':\n",
    "                for ssc in sc:\n",
    "                    if ssc.tag == 'def':\n",
    "                        for sssc in ssc.findall(\"./wf/id\"):\n",
    "                            sk = sssc.attrib['sk']\n",
    "                            try:\n",
    "                                ss = wn.synset_from_sense_key(sk)\n",
    "                                conns.add(ss.name())\n",
    "                            except:\n",
    "                                if 'purposefully_ignored' in sk:\n",
    "                                    continue\n",
    "                                else:\n",
    "                                    sk = sk.replace('%3','%5')\n",
    "                                    conns.add(wn.synset_from_sense_key(sk).name())\n",
    "        assert id_ not in id2ssn, id_\n",
    "        id2ssn[id_] = conns"
   ]
  },
  {
   "cell_type": "code",
   "execution_count": null,
   "id": "ddddbbb1",
   "metadata": {
    "ExecuteTime": {
     "end_time": "2023-01-19T07:18:20.668198Z",
     "start_time": "2023-01-19T07:18:20.427247Z"
    },
    "hidden": true
   },
   "outputs": [],
   "source": [
    "sv.save(id2ssn,'synglink')"
   ]
  },
  {
   "cell_type": "markdown",
   "id": "847b9a5d",
   "metadata": {},
   "source": [
    "# make variables"
   ]
  },
  {
   "cell_type": "code",
   "execution_count": 3,
   "id": "88d7e235",
   "metadata": {
    "ExecuteTime": {
     "end_time": "2023-01-27T06:47:11.906758Z",
     "start_time": "2023-01-27T06:46:59.644635Z"
    }
   },
   "outputs": [],
   "source": [
    "vocab = list(wn.all_synsets())"
   ]
  },
  {
   "cell_type": "code",
   "execution_count": 4,
   "id": "3a8831b7",
   "metadata": {
    "ExecuteTime": {
     "end_time": "2023-01-27T06:47:12.068435Z",
     "start_time": "2023-01-27T06:47:11.909667Z"
    }
   },
   "outputs": [],
   "source": [
    "synset2index=dict()\n",
    "index2synset=dict()\n",
    "for i,ss in enumerate(vocab):\n",
    "    synset2index[ss.name()]=i\n",
    "    index2synset[i]=ss.name()"
   ]
  },
  {
   "cell_type": "markdown",
   "id": "348ce455",
   "metadata": {
    "ExecuteTime": {
     "end_time": "2022-12-12T07:24:23.645161Z",
     "start_time": "2022-12-12T07:24:23.642042Z"
    },
    "heading_collapsed": true
   },
   "source": [
    "# matrix"
   ]
  },
  {
   "cell_type": "code",
   "execution_count": null,
   "id": "94becf7a",
   "metadata": {
    "ExecuteTime": {
     "end_time": "2023-01-16T09:45:07.181922Z",
     "start_time": "2023-01-16T09:44:52.117825Z"
    },
    "hidden": true
   },
   "outputs": [],
   "source": [
    "synset_descs = dict()\n",
    "for synset in tqdm(vocab,position=0):\n",
    "    txt = synset.definition().lower()\n",
    "    txt = re.sub(r'\\W+', ' ', txt)\n",
    "    words = [w for w in txt.split()]\n",
    "    words = set([lemmatizer.lemmatize(w) for w in words if w not in stops])\n",
    "    words = set([w for w in words if w not in stops])\n",
    "    #synset = synset.name()\n",
    "    synset = synset.id\n",
    "    self_index = synset2index[synset]\n",
    "    synset_descs[self_index]=words"
   ]
  },
  {
   "cell_type": "code",
   "execution_count": null,
   "id": "9eca30d8",
   "metadata": {
    "ExecuteTime": {
     "end_time": "2023-01-27T06:07:59.340819Z",
     "start_time": "2023-01-27T06:07:59.156238Z"
    },
    "hidden": true
   },
   "outputs": [],
   "source": [
    "synglink = sv.load('synglink')"
   ]
  },
  {
   "cell_type": "code",
   "execution_count": null,
   "id": "63b6564c",
   "metadata": {
    "ExecuteTime": {
     "end_time": "2023-01-27T06:13:06.802003Z",
     "start_time": "2023-01-27T06:07:59.344316Z"
    },
    "hidden": true
   },
   "outputs": [],
   "source": [
    "from parallelbar import progress_imap\n",
    "import workers\n",
    "if __name__ == \"__main__\":\n",
    "    result = progress_imap(workers.getMvector,range(len(vocab)), n_cpu=20, \\\n",
    "                           initializer=workers.init_ss,\\\n",
    "                           initargs=(synset2index,synglink)) \n",
    "M = np.asarray(result,dtype=np.int8)"
   ]
  },
  {
   "cell_type": "code",
   "execution_count": null,
   "id": "8b5b318e",
   "metadata": {
    "ExecuteTime": {
     "end_time": "2023-01-27T06:18:48.452300Z",
     "start_time": "2023-01-27T06:18:04.032373Z"
    },
    "code_folding": [],
    "hidden": true
   },
   "outputs": [],
   "source": [
    "# reverse assignment for symmetry\n",
    "for i in range(len(M)):\n",
    "    for j in np.nonzero(M[i])[0]:\n",
    "        M[j][i]=1"
   ]
  },
  {
   "cell_type": "code",
   "execution_count": null,
   "id": "aec4de18",
   "metadata": {
    "ExecuteTime": {
     "end_time": "2023-01-27T06:24:34.016330Z",
     "start_time": "2023-01-27T06:23:13.921622Z"
    },
    "hidden": true
   },
   "outputs": [],
   "source": [
    "(M==M.T).all() #test symmetry"
   ]
  },
  {
   "cell_type": "code",
   "execution_count": null,
   "id": "5940c9ce",
   "metadata": {
    "ExecuteTime": {
     "end_time": "2023-01-27T06:33:26.305793Z",
     "start_time": "2023-01-27T06:32:11.503073Z"
    },
    "hidden": true
   },
   "outputs": [],
   "source": [
    "M = M/M.sum(axis=1, keepdims=True) # make row stochastic"
   ]
  },
  {
   "cell_type": "code",
   "execution_count": null,
   "id": "6ad6396a",
   "metadata": {
    "ExecuteTime": {
     "end_time": "2023-01-27T06:34:58.493452Z",
     "start_time": "2023-01-27T06:34:55.929592Z"
    },
    "hidden": true
   },
   "outputs": [],
   "source": [
    "del result"
   ]
  },
  {
   "cell_type": "code",
   "execution_count": null,
   "id": "7222b7ea",
   "metadata": {
    "ExecuteTime": {
     "end_time": "2023-01-27T06:45:43.700218Z",
     "start_time": "2023-01-27T06:43:02.736653Z"
    },
    "hidden": true
   },
   "outputs": [],
   "source": [
    "M = sprs.csr_matrix(M) #make sparse matrix to save space"
   ]
  },
  {
   "cell_type": "code",
   "execution_count": null,
   "id": "2192fec2",
   "metadata": {
    "ExecuteTime": {
     "end_time": "2023-01-27T06:45:43.913479Z",
     "start_time": "2023-01-27T06:45:43.704247Z"
    },
    "hidden": true
   },
   "outputs": [],
   "source": [
    "sv.save(M,'M2')"
   ]
  },
  {
   "cell_type": "markdown",
   "id": "89f8cbfa",
   "metadata": {},
   "source": [
    "# load Matrix"
   ]
  },
  {
   "cell_type": "code",
   "execution_count": 5,
   "id": "618c953a",
   "metadata": {
    "ExecuteTime": {
     "end_time": "2023-01-27T06:47:34.406831Z",
     "start_time": "2023-01-27T06:47:34.381963Z"
    }
   },
   "outputs": [],
   "source": [
    "M = sv.load('M2')"
   ]
  },
  {
   "cell_type": "code",
   "execution_count": 6,
   "id": "304ee2dd",
   "metadata": {
    "ExecuteTime": {
     "end_time": "2023-01-27T06:47:35.418828Z",
     "start_time": "2023-01-27T06:47:35.415713Z"
    }
   },
   "outputs": [],
   "source": [
    "alpha = 0.85\n",
    "iters = 30"
   ]
  },
  {
   "cell_type": "code",
   "execution_count": 7,
   "id": "87765675",
   "metadata": {
    "ExecuteTime": {
     "end_time": "2023-01-27T06:47:39.544468Z",
     "start_time": "2023-01-27T06:47:35.696764Z"
    }
   },
   "outputs": [],
   "source": [
    "P_0 = np.eye(M.shape[0],dtype=np.int8)\n",
    "P = np.ones(M.shape,dtype=np.int8)"
   ]
  },
  {
   "cell_type": "markdown",
   "id": "fe905738",
   "metadata": {},
   "source": [
    "# verbose"
   ]
  },
  {
   "cell_type": "code",
   "execution_count": null,
   "id": "cbc0210d",
   "metadata": {
    "ExecuteTime": {
     "end_time": "2023-01-10T12:21:49.275665Z",
     "start_time": "2023-01-10T12:21:49.266157Z"
    }
   },
   "outputs": [],
   "source": [
    "def display(target):\n",
    "    target_senses = wn.synsets(target)\n",
    "    for target in target_senses:\n",
    "        print(target)\n",
    "        #print(target.lexname())\n",
    "        print([(l.name(),l.synset()) for l in target.lemmas()])\n",
    "        print(target.definition())\n",
    "        print('Hyponyms:',[(lemma.name(),lemma.synset()) for _target in target.hyponyms() for lemma in _target.lemmas()])\n",
    "        print('Hypernyms:',[(lemma.name(),lemma.synset()) for _target in target.hypernyms() for lemma in _target.lemmas()])\n",
    "        print('Holonyms:',target.member_holonyms())\n",
    "        print('Derivation:',[(lemma.name(),lemma.synset()) for lemma in target.lemmas() for lname in lemma.derivationally_related_forms()])\n",
    "        print('Pertainyms:',[(lemma.name(),lemma.synset()) for lemma in target.lemmas() for lname in lemma.pertainyms()])\n",
    "        print('___________')"
   ]
  },
  {
   "cell_type": "code",
   "execution_count": null,
   "id": "c5579a7f",
   "metadata": {
    "ExecuteTime": {
     "end_time": "2023-01-10T12:34:12.841691Z",
     "start_time": "2023-01-10T12:34:12.831884Z"
    }
   },
   "outputs": [],
   "source": [
    "display('webbed')"
   ]
  },
  {
   "cell_type": "code",
   "execution_count": null,
   "id": "7696f1b6",
   "metadata": {
    "ExecuteTime": {
     "end_time": "2023-01-08T09:04:33.375528Z",
     "start_time": "2023-01-08T09:04:33.367671Z"
    }
   },
   "outputs": [],
   "source": [
    "def get_pairs(index):\n",
    "    desc = synset_descs[index]\n",
    "    print(desc)\n",
    "    synsets = set()\n",
    "    for word in desc:\n",
    "        _synsets = wn.synsets(word)\n",
    "        synsets.update(_synsets)\n",
    "    synsets = list(synsets)\n",
    "    total = len(synsets)\n",
    "    pairs = set()\n",
    "    for i in range(total):\n",
    "        for j in range(total):\n",
    "            if i == j:\n",
    "                continue\n",
    "            sa = synsets[i]\n",
    "            sb = synsets[j]\n",
    "            rels = list()\n",
    "            rels.extend(sa.hypernyms())\n",
    "            rels.extend(sa.hyponyms())\n",
    "            if not rels:\n",
    "                continue\n",
    "            if sb in rels:\n",
    "                pairs.update({sa,sb})  \n",
    "    return pairs"
   ]
  },
  {
   "cell_type": "code",
   "execution_count": null,
   "id": "b1e68433",
   "metadata": {
    "ExecuteTime": {
     "end_time": "2023-01-08T09:04:34.256804Z",
     "start_time": "2023-01-08T09:04:34.220167Z"
    }
   },
   "outputs": [],
   "source": [
    "get_pairs(index)"
   ]
  },
  {
   "cell_type": "code",
   "execution_count": null,
   "id": "861359b1",
   "metadata": {
    "ExecuteTime": {
     "end_time": "2023-01-10T10:56:12.189911Z",
     "start_time": "2023-01-10T10:56:12.186447Z"
    }
   },
   "outputs": [],
   "source": [
    "from collections import Counter"
   ]
  },
  {
   "cell_type": "code",
   "execution_count": null,
   "id": "1d41464d",
   "metadata": {
    "ExecuteTime": {
     "end_time": "2023-01-10T11:08:06.977379Z",
     "start_time": "2023-01-10T11:08:06.970151Z"
    }
   },
   "outputs": [],
   "source": [
    "def mcom(worda,wordb,verbose=False):\n",
    "    sa = wn.synsets(worda)\n",
    "    sb = wn.synsets(wordb)\n",
    "    roots = list()\n",
    "    for _sa in sa:\n",
    "        for _sb in sb:\n",
    "            if _sa.name() == _sb.name():\n",
    "                continue\n",
    "            sim = _sa.wup_similarity(_sb, simulate_root=False)\n",
    "            if sim:\n",
    "                root = _sa.lowest_common_hypernyms(_sb)\n",
    "                roots.extend(root)\n",
    "                if verbose:\n",
    "                    print(root)\n",
    "                    print(_sa.name(),_sb.name(),sim)\n",
    "    counts =  Counter(roots)\n",
    "    if counts:\n",
    "        mcom = counts.most_common(1)[0][0]\n",
    "    else:\n",
    "        mcom = None\n",
    "    return mcom"
   ]
  },
  {
   "cell_type": "code",
   "execution_count": null,
   "id": "a2ed5595",
   "metadata": {
    "ExecuteTime": {
     "end_time": "2023-01-09T07:08:11.776192Z",
     "start_time": "2023-01-09T07:08:11.296140Z"
    }
   },
   "outputs": [],
   "source": [
    "desc = synset_descs[index]\n",
    "print(desc)\n",
    "_desc = set()\n",
    "for worda in desc:\n",
    "    for wordb in desc:\n",
    "        if worda == wordb:\n",
    "            continue\n",
    "        if graph_sim(worda,wordb):\n",
    "            _desc.update({worda,wordb})\n",
    "print(_desc)"
   ]
  },
  {
   "cell_type": "code",
   "execution_count": null,
   "id": "6985de0c",
   "metadata": {
    "ExecuteTime": {
     "end_time": "2023-01-27T06:01:39.079178Z",
     "start_time": "2023-01-27T06:01:39.071347Z"
    }
   },
   "outputs": [],
   "source": [
    "def getMvector(index):\n",
    "    '''\n",
    "    parameters:\n",
    "    -----------\n",
    "    index : int \n",
    "    \n",
    "    returns:\n",
    "    --------\n",
    "    vector: numpy vector\n",
    "    '''\n",
    "    synset = vocab[index]\n",
    "    vector = np.zeros(len(synset2index))\n",
    "    connections = list()\n",
    "    connections.extend([l.synset().name() for l in synset.lemmas()])\n",
    "    connections.extend([lemma.synset().name() for _target in synset.hyponyms() for lemma in _target.lemmas()])\n",
    "    connections.extend([lemma.synset().name() for _target in synset.hypernyms() for lemma in _target.lemmas()])\n",
    "    #connections.extend([lemma.synset().name() for _target in synset.root_hypernyms() for lemma in _target.lemmas()])\n",
    "    connections.extend(s.name() for s in synset.member_holonyms())\n",
    "    #connections.extend([lname.synset().name() for lemma in synset.lemmas() for lname in lemma.derivationally_related_forms()])\n",
    "    #connections.extend([lname.synset().name() for lemma in synset.lemmas() for lname in lemma.pertainyms()])\n",
    "    #connections.extend([lname.synset().name() for lemma in synset.lemmas() for lname in lemma.antonyms()])\n",
    "    print(connections)\n",
    "    slinks = synglink[synset.name()]\n",
    "    print(slinks)\n",
    "    connections.extend(list(slinks))\n",
    "    connections=set([synset2index[ss] for ss in connections])\n",
    "    #connections.remove(index)\n",
    "    #n = len(connections)\n",
    "    for i in connections:\n",
    "        vector[i]=1\n",
    "    return vector\n",
    "    "
   ]
  },
  {
   "cell_type": "code",
   "execution_count": 18,
   "id": "33e19667",
   "metadata": {
    "ExecuteTime": {
     "end_time": "2023-01-27T09:53:29.655932Z",
     "start_time": "2023-01-27T09:53:29.653070Z"
    }
   },
   "outputs": [],
   "source": [
    "index = 52392 # 'digit.n.03'\n",
    "#index = 14380 # 'webbed.a.01'\n",
    "#index = 35053 # 'tarsier.n.01'"
   ]
  },
  {
   "cell_type": "code",
   "execution_count": null,
   "id": "47cbe11f",
   "metadata": {
    "ExecuteTime": {
     "end_time": "2023-01-27T06:01:41.157462Z",
     "start_time": "2023-01-27T06:01:41.153361Z"
    }
   },
   "outputs": [],
   "source": [
    "v = getMvector(52392)"
   ]
  },
  {
   "cell_type": "code",
   "execution_count": null,
   "id": "267a4fd0",
   "metadata": {
    "ExecuteTime": {
     "end_time": "2023-01-06T08:23:00.685906Z",
     "start_time": "2023-01-06T08:23:00.681861Z"
    }
   },
   "outputs": [],
   "source": [
    "def get_vec(index,iters=30):\n",
    "    '''\n",
    "    Executes power equation and returns the vector.\n",
    "    '''\n",
    "    P_t = P[index]\n",
    "    for _ in range(iters):\n",
    "        P_t = (1-alpha)*P_0[index]+alpha*M*P_t\n",
    "        P_t = P_t/P_t.sum()\n",
    "    return P_t"
   ]
  },
  {
   "cell_type": "code",
   "execution_count": null,
   "id": "d418dc09",
   "metadata": {
    "ExecuteTime": {
     "end_time": "2023-01-06T08:24:21.940442Z",
     "start_time": "2023-01-06T08:24:17.449152Z"
    }
   },
   "outputs": [],
   "source": [
    "vec = get_vec(index,200)"
   ]
  },
  {
   "cell_type": "code",
   "execution_count": null,
   "id": "cd987991",
   "metadata": {
    "ExecuteTime": {
     "end_time": "2023-01-19T09:38:54.396218Z",
     "start_time": "2023-01-19T09:38:54.380324Z"
    }
   },
   "outputs": [],
   "source": [
    "#sanity check\n",
    "\n",
    "for i in np.flip(np.argsort(PPR[index]))[:10]:\n",
    "    print(i,index2synset[i])"
   ]
  },
  {
   "cell_type": "code",
   "execution_count": 38,
   "id": "bbe544fe",
   "metadata": {
    "ExecuteTime": {
     "end_time": "2023-02-04T06:53:21.878627Z",
     "start_time": "2023-02-04T06:53:21.865825Z"
    }
   },
   "outputs": [
    {
     "name": "stdout",
     "output_type": "stream",
     "text": [
      "[Synset('digit.n.03'), Synset('minimus.n.01'), Synset('polydactyl.a.01'), Synset('marfan's_syndrome.n.01'), Synset('bastard_wing.n.01'), Synset('chinese_alligator.n.01'), Synset('digital_plethysmograph.n.01'), Synset('archaeornis.n.01'), Synset('webbed.a.01'), Synset('hoatzin.n.01'), Synset('pterosaur.n.01'), Synset('little_finger.n.01'), Synset('little_toe.n.01'), Synset('alular.a.01'), Synset('tarsier.n.01'), Synset('comparable.s.02'), Synset('extremity.n.01'), Synset('thumb.n.01'), Synset('nail.n.01'), Synset('tarsius_glis.n.01'), Synset('tarsius_syrichta.n.01'), Synset('pterodactyl.n.01'), Synset('palmature.n.01'), Synset('opisthocomus.n.01'), Synset('unwebbed.a.01')]\n"
     ]
    }
   ],
   "source": [
    "_top_k = np.flip(np.argsort(PPR[index]))[:25]\n",
    "_top_k = [wn.synset(index2synset[_i]) for _i in _top_k] # synsets\n",
    "#_top_k = [l.name() for _i in _top_k for l in wn.synset(index2synset[_i]).lemmas()] # lemmas\n",
    "#top_k = [word for word in _top_k if word.lower() in model.vocab]\n",
    "print(_top_k)"
   ]
  },
  {
   "cell_type": "code",
   "execution_count": null,
   "id": "e19ae91d",
   "metadata": {
    "ExecuteTime": {
     "end_time": "2023-01-19T07:50:36.594112Z",
     "start_time": "2023-01-19T07:50:36.588491Z"
    }
   },
   "outputs": [],
   "source": [
    "for indexes,score in zip(M[index].indices,M[index].data):\n",
    "    print(index2synset[indexes],score)"
   ]
  },
  {
   "cell_type": "code",
   "execution_count": null,
   "id": "baec8e22",
   "metadata": {
    "ExecuteTime": {
     "end_time": "2023-01-06T08:23:17.934541Z",
     "start_time": "2023-01-06T08:23:17.930655Z"
    }
   },
   "outputs": [],
   "source": [
    "def get_argmax(vec,k):\n",
    "    for i in np.flip(np.argsort(vec))[:k+1]:\n",
    "        print(i,index2synset[i])"
   ]
  },
  {
   "cell_type": "code",
   "execution_count": null,
   "id": "fc1f31c9",
   "metadata": {
    "ExecuteTime": {
     "end_time": "2023-01-06T08:24:27.789107Z",
     "start_time": "2023-01-06T08:24:27.763761Z"
    }
   },
   "outputs": [],
   "source": [
    "get_argmax(vec,27)"
   ]
  },
  {
   "cell_type": "markdown",
   "id": "bd3cc632",
   "metadata": {
    "heading_collapsed": true
   },
   "source": [
    "# pre-made"
   ]
  },
  {
   "cell_type": "code",
   "execution_count": null,
   "id": "f459168f",
   "metadata": {
    "ExecuteTime": {
     "end_time": "2022-12-08T05:34:29.673589Z",
     "start_time": "2022-12-08T05:34:29.665696Z"
    },
    "hidden": true
   },
   "outputs": [],
   "source": [
    "def pagerank(A, p=0.85, personalize=None, reverse=False):\n",
    "    \"\"\" Calculates PageRank given a csr graph\n",
    "\n",
    "    Inputs:\n",
    "    -------\n",
    "\n",
    "    G: a csr graph.\n",
    "    p: damping factor\n",
    "    personlize: if not None, should be an array with the size of the nodes\n",
    "                containing probability distributions.\n",
    "                It will be normalized automatically\n",
    "    reverse: If true, returns the reversed-PageRank\n",
    "\n",
    "    outputs\n",
    "    -------\n",
    "\n",
    "    PageRank Scores for the nodes\n",
    "\n",
    "    \"\"\"\n",
    "    # In Moler's algorithm, $A_{ij}$ represents the existences of an edge\n",
    "    # from node $j$ to $i$, while we have assumed the opposite!\n",
    "    if reverse:\n",
    "        A = A.T\n",
    "\n",
    "    n, _ = A.shape\n",
    "    \n",
    "    r = np.asarray(A.sum(axis=1)).reshape(-1)\n",
    "\n",
    "    k = r.nonzero()[0]\n",
    "\n",
    "    D_1 = sprs.csr_matrix((1 / r[k], (k, k)), shape=(n, n))\n",
    "\n",
    "    if personalize is None:\n",
    "        personalize = np.ones(n)\n",
    "    personalize = personalize.reshape(n, 1)\n",
    "    s = (personalize / personalize.sum()) * n\n",
    "\n",
    "    I = sprs.eye(n)\n",
    "    x = sprs.linalg.spsolve((I - p * A.T @ D_1), s)\n",
    "    x = x / x.sum()\n",
    "    return x"
   ]
  },
  {
   "cell_type": "code",
   "execution_count": null,
   "id": "847f200d",
   "metadata": {
    "ExecuteTime": {
     "end_time": "2022-12-08T05:34:32.291705Z",
     "start_time": "2022-12-08T05:34:31.854319Z"
    },
    "hidden": true
   },
   "outputs": [],
   "source": [
    "result = pagerank(M, personalize=P_0[0])"
   ]
  },
  {
   "cell_type": "markdown",
   "id": "d806be4a",
   "metadata": {
    "heading_collapsed": true
   },
   "source": [
    "# organic compute"
   ]
  },
  {
   "cell_type": "code",
   "execution_count": null,
   "id": "3d4dfb16",
   "metadata": {
    "ExecuteTime": {
     "end_time": "2023-01-06T07:46:22.062637Z",
     "start_time": "2023-01-06T07:46:22.057340Z"
    },
    "hidden": true
   },
   "outputs": [],
   "source": [
    "def get_vec(index,iters=30):\n",
    "    '''\n",
    "    Executes power equation and returns the vector.\n",
    "    '''\n",
    "    P_t = P[index]\n",
    "    for _ in range(iters):\n",
    "        P_t = (1-alpha)*P_0[index]+alpha*M*P_t\n",
    "        P_t = P_t/P_t.sum()\n",
    "    return P_t"
   ]
  },
  {
   "cell_type": "code",
   "execution_count": null,
   "id": "ef6673c3",
   "metadata": {
    "ExecuteTime": {
     "end_time": "2022-12-18T09:40:05.370470Z",
     "start_time": "2022-12-18T09:39:57.375776Z"
    },
    "hidden": true
   },
   "outputs": [],
   "source": [
    "PPR = np.zeros(M.shape)\n",
    "for i in tqdm(range(P.shape[0]),position=0):\n",
    "    P_t = get_vec(i)\n",
    "    PPR[i]=P_t"
   ]
  },
  {
   "cell_type": "code",
   "execution_count": 8,
   "id": "93a74f40",
   "metadata": {
    "ExecuteTime": {
     "end_time": "2023-01-27T07:54:50.283461Z",
     "start_time": "2023-01-27T06:47:43.044425Z"
    },
    "hidden": true
   },
   "outputs": [
    {
     "data": {
      "application/vnd.jupyter.widget-view+json": {
       "model_id": "a4973ee984054491aa311d77fc47f7fb",
       "version_major": 2,
       "version_minor": 0
      },
      "text/plain": [
       "DONE:   0%|          | 0/117659 [00:00<?, ?it/s]"
      ]
     },
     "metadata": {},
     "output_type": "display_data"
    },
    {
     "name": "stderr",
     "output_type": "stream",
     "text": [
      "IOPub message rate exceeded.\n",
      "The notebook server will temporarily stop sending output\n",
      "to the client in order to avoid crashing it.\n",
      "To change this limit, set the config variable\n",
      "`--NotebookApp.iopub_msg_rate_limit`.\n",
      "\n",
      "Current values:\n",
      "NotebookApp.iopub_msg_rate_limit=1000.0 (msgs/sec)\n",
      "NotebookApp.rate_limit_window=3.0 (secs)\n",
      "\n",
      "IOPub message rate exceeded.\n",
      "The notebook server will temporarily stop sending output\n",
      "to the client in order to avoid crashing it.\n",
      "To change this limit, set the config variable\n",
      "`--NotebookApp.iopub_msg_rate_limit`.\n",
      "\n",
      "Current values:\n",
      "NotebookApp.iopub_msg_rate_limit=1000.0 (msgs/sec)\n",
      "NotebookApp.rate_limit_window=3.0 (secs)\n",
      "\n",
      "IOPub message rate exceeded.\n",
      "The notebook server will temporarily stop sending output\n",
      "to the client in order to avoid crashing it.\n",
      "To change this limit, set the config variable\n",
      "`--NotebookApp.iopub_msg_rate_limit`.\n",
      "\n",
      "Current values:\n",
      "NotebookApp.iopub_msg_rate_limit=1000.0 (msgs/sec)\n",
      "NotebookApp.rate_limit_window=3.0 (secs)\n",
      "\n",
      "IOPub message rate exceeded.\n",
      "The notebook server will temporarily stop sending output\n",
      "to the client in order to avoid crashing it.\n",
      "To change this limit, set the config variable\n",
      "`--NotebookApp.iopub_msg_rate_limit`.\n",
      "\n",
      "Current values:\n",
      "NotebookApp.iopub_msg_rate_limit=1000.0 (msgs/sec)\n",
      "NotebookApp.rate_limit_window=3.0 (secs)\n",
      "\n",
      "IOPub message rate exceeded.\n",
      "The notebook server will temporarily stop sending output\n",
      "to the client in order to avoid crashing it.\n",
      "To change this limit, set the config variable\n",
      "`--NotebookApp.iopub_msg_rate_limit`.\n",
      "\n",
      "Current values:\n",
      "NotebookApp.iopub_msg_rate_limit=1000.0 (msgs/sec)\n",
      "NotebookApp.rate_limit_window=3.0 (secs)\n",
      "\n",
      "IOPub message rate exceeded.\n",
      "The notebook server will temporarily stop sending output\n",
      "to the client in order to avoid crashing it.\n",
      "To change this limit, set the config variable\n",
      "`--NotebookApp.iopub_msg_rate_limit`.\n",
      "\n",
      "Current values:\n",
      "NotebookApp.iopub_msg_rate_limit=1000.0 (msgs/sec)\n",
      "NotebookApp.rate_limit_window=3.0 (secs)\n",
      "\n",
      "IOPub message rate exceeded.\n",
      "The notebook server will temporarily stop sending output\n",
      "to the client in order to avoid crashing it.\n",
      "To change this limit, set the config variable\n",
      "`--NotebookApp.iopub_msg_rate_limit`.\n",
      "\n",
      "Current values:\n",
      "NotebookApp.iopub_msg_rate_limit=1000.0 (msgs/sec)\n",
      "NotebookApp.rate_limit_window=3.0 (secs)\n",
      "\n"
     ]
    }
   ],
   "source": [
    "from parallelbar import progress_imap\n",
    "import workers\n",
    "if __name__ == \"__main__\":\n",
    "    result = progress_imap(workers.getVec,range(P.shape[0]),initializer=workers.init_worker,\\\n",
    "                            initargs=(alpha,iters,P,P_0,M)) "
   ]
  },
  {
   "cell_type": "code",
   "execution_count": 9,
   "id": "c7541586",
   "metadata": {
    "ExecuteTime": {
     "end_time": "2023-01-27T07:54:50.376637Z",
     "start_time": "2023-01-27T07:54:50.287207Z"
    },
    "hidden": true
   },
   "outputs": [],
   "source": [
    "del P_0, P"
   ]
  },
  {
   "cell_type": "code",
   "execution_count": 10,
   "id": "fee3ae14",
   "metadata": {
    "ExecuteTime": {
     "end_time": "2023-01-27T08:18:24.424073Z",
     "start_time": "2023-01-27T07:54:50.378411Z"
    },
    "hidden": true
   },
   "outputs": [],
   "source": [
    "PPR = np.asarray(result,dtype=np.float16)"
   ]
  },
  {
   "cell_type": "code",
   "execution_count": 11,
   "id": "a6302bad",
   "metadata": {
    "ExecuteTime": {
     "end_time": "2023-01-27T08:18:24.677297Z",
     "start_time": "2023-01-27T08:18:24.427795Z"
    },
    "hidden": true
   },
   "outputs": [],
   "source": [
    "del result"
   ]
  },
  {
   "cell_type": "code",
   "execution_count": 12,
   "id": "a6bc9fe6",
   "metadata": {
    "ExecuteTime": {
     "end_time": "2023-01-27T08:23:19.930337Z",
     "start_time": "2023-01-27T08:18:24.679301Z"
    },
    "hidden": true
   },
   "outputs": [
    {
     "name": "stdout",
     "output_type": "stream",
     "text": [
      "Saved the data\n"
     ]
    }
   ],
   "source": [
    "sv.save(PPR,'PPR2')"
   ]
  },
  {
   "cell_type": "markdown",
   "id": "4caf530a",
   "metadata": {
    "heading_collapsed": true
   },
   "source": [
    "# load PPR"
   ]
  },
  {
   "cell_type": "code",
   "execution_count": null,
   "id": "8865ba05",
   "metadata": {
    "ExecuteTime": {
     "end_time": "2023-01-19T09:01:32.100304Z",
     "start_time": "2023-01-19T09:01:15.087637Z"
    },
    "hidden": true
   },
   "outputs": [],
   "source": [
    "PPR = sv.load('PPR2')"
   ]
  },
  {
   "cell_type": "markdown",
   "id": "9bc3b9c1",
   "metadata": {
    "heading_collapsed": true
   },
   "source": [
    "# word embs loading"
   ]
  },
  {
   "cell_type": "code",
   "execution_count": 13,
   "id": "3313d020",
   "metadata": {
    "ExecuteTime": {
     "end_time": "2023-01-27T09:10:49.925043Z",
     "start_time": "2023-01-27T09:10:09.479068Z"
    },
    "hidden": true
   },
   "outputs": [],
   "source": [
    "from gensim.models import KeyedVectors\n",
    "\n",
    "w2v = '/home/manni/embs/w2v.model'\n",
    "model = KeyedVectors.load(w2v)"
   ]
  },
  {
   "cell_type": "markdown",
   "id": "58cc23dc",
   "metadata": {},
   "source": [
    "# embeddings computations"
   ]
  },
  {
   "cell_type": "code",
   "execution_count": 33,
   "id": "8a2616c4",
   "metadata": {
    "ExecuteTime": {
     "end_time": "2023-02-03T08:13:43.316716Z",
     "start_time": "2023-02-03T08:13:43.302505Z"
    }
   },
   "outputs": [],
   "source": [
    "def get_lambdas(k=25,lamda=0.2):\n",
    "    '''\n",
    "    Returns list of lamdas\n",
    "    '''\n",
    "    lamdas = list()\n",
    "    for i in range(1,k+1):\n",
    "        l = 1/(math.exp(lamda*i)*k)\n",
    "        lamdas.append(l)\n",
    "    return lamdas\n",
    "\n",
    "lamdas = get_lambdas(k=100)\n",
    "\n",
    "def get_vectors(i,k=25,beta=1):\n",
    "    '''\n",
    "    return lemma vectors\n",
    "    '''\n",
    "    _top_k = np.flip(np.argsort(PPR[i]))[:k]\n",
    "    _top_k = [l.name().lower() for _i in _top_k for l in wn.synset(index2synset[_i]).lemmas()]\n",
    "    top_k = list()\n",
    "    [top_k.append(x) for x in _top_k if x not in top_k] # unique list because the set is un-ordered\n",
    "    top_k = [top_k_ for top_k_ in top_k if top_k_ in model.vocab]# exclude oov\n",
    "    top_k = top_k[:k] # fixed limit\n",
    "    targets = set([l.name().lower() for l in wn.synset(index2synset[i]).lemmas()]) # lemmas (V_si) of the sense\n",
    "    vecs = dict()\n",
    "    for target in targets:\n",
    "        if target in model.vocab:\n",
    "            V_si = model.get_vector(target)\n",
    "            V_si = beta*V_si \n",
    "            V_sum = np.zeros(model.vector_size)\n",
    "            _lamdas = lamdas[:len(top_k)]\n",
    "            for j,lamda in enumerate(_lamdas):\n",
    "                word = top_k[j]\n",
    "                _V = lamda*model.get_vector(word)\n",
    "                V_sum = np.add(V_sum,_V)\n",
    "            num = V_si+V_sum # numerator\n",
    "            den = beta + sum(_lamdas)\n",
    "            vecs[target]=num/den\n",
    "    return vecs"
   ]
  },
  {
   "cell_type": "code",
   "execution_count": 34,
   "id": "ae5c6988",
   "metadata": {
    "ExecuteTime": {
     "end_time": "2023-02-03T08:36:07.310651Z",
     "start_time": "2023-02-03T08:14:14.859048Z"
    }
   },
   "outputs": [
    {
     "name": "stderr",
     "output_type": "stream",
     "text": [
      "100%|████████████████████████████████████████████████████████████████████████████████████████████████████████████████████████████████████████████████████████| 117659/117659 [21:52<00:00, 89.65it/s]\n"
     ]
    }
   ],
   "source": [
    "vocab = list()\n",
    "vectors = dict()\n",
    "for i,synset in tqdm(index2synset.items(),position=0):\n",
    "    vecs = get_vectors(i)\n",
    "    if not vecs:\n",
    "        continue\n",
    "    lemmas = [lemma for lemma in vecs.keys()]\n",
    "    vocab.extend(lemmas)\n",
    "    for lemma in lemmas:\n",
    "        vectors[lemma+'#'+str(vocab.count(lemma))]=vecs[lemma]"
   ]
  },
  {
   "cell_type": "code",
   "execution_count": 35,
   "id": "a0cf3304",
   "metadata": {
    "ExecuteTime": {
     "end_time": "2023-02-03T08:39:09.570706Z",
     "start_time": "2023-02-03T08:36:07.313806Z"
    }
   },
   "outputs": [
    {
     "name": "stderr",
     "output_type": "stream",
     "text": [
      "100%|███████████████████████████████████████████████████████████████████████████████████████████████████████████████████████████████████████████████████████| 106075/106075 [03:02<00:00, 582.55it/s]\n"
     ]
    }
   ],
   "source": [
    "emb_file = '/home/manni/embs/dconf4.txt.gz'\n",
    "with gzip.open(emb_file, 'wt', encoding='utf-8') as f:\n",
    "    f.write('%d %d\\n' % (len(vectors), 300))\n",
    "    for word,vector in tqdm(vectors.items(), position=0):\n",
    "        f.write('%s %s\\n' % (word, ' '.join([str(v) for v in vector])))"
   ]
  },
  {
   "cell_type": "code",
   "execution_count": null,
   "id": "7e8d262d",
   "metadata": {},
   "outputs": [],
   "source": [
    "# lemmatize "
   ]
  }
 ],
 "metadata": {
  "kernelspec": {
   "display_name": "Python 3 (ipykernel)",
   "language": "python",
   "name": "python3"
  },
  "language_info": {
   "codemirror_mode": {
    "name": "ipython",
    "version": 3
   },
   "file_extension": ".py",
   "mimetype": "text/x-python",
   "name": "python",
   "nbconvert_exporter": "python",
   "pygments_lexer": "ipython3",
   "version": "3.8.0"
  }
 },
 "nbformat": 4,
 "nbformat_minor": 5
}
